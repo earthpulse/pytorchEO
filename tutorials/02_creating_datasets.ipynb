{
 "cells": [
  {
   "cell_type": "code",
   "execution_count": 1,
   "metadata": {},
   "outputs": [],
   "source": [
    "%load_ext autoreload\n",
    "%autoreload 2"
   ]
  },
  {
   "cell_type": "markdown",
   "metadata": {},
   "source": [
    "# Creating Datasets"
   ]
  },
  {
   "cell_type": "markdown",
   "metadata": {},
   "source": [
    "The first thing that you will need to train a model is a `Dataset`: an object containing data access and preparation functionality to make it ready for training a model. In this tutorial you will learn how to make a `Dataset`."
   ]
  },
  {
   "cell_type": "markdown",
   "metadata": {},
   "source": [
    "## Creating Datasets with `LightningDataModule`"
   ]
  },
  {
   "cell_type": "markdown",
   "metadata": {},
   "source": [
    "All `Datasets` in Pytorch EO are derived from `Pytorch Lighitning`'s `LightningDataModule`. Let's create a `Dataset` for EuroSAT. "
   ]
  },
  {
   "cell_type": "code",
   "execution_count": 2,
   "metadata": {},
   "outputs": [],
   "source": [
    "import os\n",
    "from pytorch_eo.utils import download_url, unzip_file\n",
    "\n",
    "def prepare_data(path):\n",
    "\tos.makedirs(path, exist_ok=True)\n",
    "\turl = \"http://madm.dfki.de/files/sentinel/EuroSAT.zip\"\n",
    "\tcompressed_data_filename = 'EuroSAT.zip'\n",
    "\tdata_folder = '2750'\n",
    "\tcompressed_data_path = path / compressed_data_filename\n",
    "\tdownload_url(url, compressed_data_path)\n",
    "\tunzip_file(compressed_data_path, path, msg=\"extracting data ...\")\n",
    "\tuncompressed_data_path = path / data_folder\n",
    "\tclasses = sorted(os.listdir(uncompressed_data_path))\n",
    "\timages, labels = [], []\n",
    "\tfor ix, label in enumerate(classes):\n",
    "\t\t_images = os.listdir(uncompressed_data_path / label)\n",
    "\t\timages += [str(uncompressed_data_path /\n",
    "\t\t\t\t\tlabel / img) for img in _images]\n",
    "\t\tlabels += [ix]*len(_images)\n",
    "\treturn images, labels"
   ]
  },
  {
   "cell_type": "markdown",
   "metadata": {},
   "source": [
    "Following the `LightningDataModule` convention, put all the processing steps inside the `setup` function. Then, create the `train_dataloader` function to return the training dataloader."
   ]
  },
  {
   "cell_type": "code",
   "execution_count": 3,
   "metadata": {},
   "outputs": [],
   "source": [
    "from pathlib import Path\n",
    "from pytorch_eo.datasets import RGBImageDataset\n",
    "from pytorch_eo.datasets import ConcatDataset\n",
    "from torch.utils.data import DataLoader\n",
    "import pytorch_lightning as pl\n",
    "from torch.utils.data import DataLoader\n",
    "\n",
    "class EuroSATDataset(pl.LightningDataModule):\n",
    "\tdef __init__(self, path='data'):\n",
    "\t\tsuper().__init__()\n",
    "\t\tself.path = Path(path)\n",
    "\n",
    "\tdef setup(self, stage=None):\n",
    "\t\timages, labels = prepare_data(self.path)\n",
    "\t\timages_ds = RGBImageDataset(images) \n",
    "\t\tself.ds = ConcatDataset({'image': images_ds, 'label': labels})\n",
    "\n",
    "\tdef train_dataloader(self):\n",
    "\t\treturn DataLoader(self.ds)"
   ]
  },
  {
   "cell_type": "markdown",
   "metadata": {},
   "source": [
    "With that, you already have a working Dataset ready to train.\n",
    "\n",
    "> You can learn more about training models with Pytorch EO in the next tutorial."
   ]
  },
  {
   "cell_type": "code",
   "execution_count": 4,
   "metadata": {},
   "outputs": [],
   "source": [
    "from einops import rearrange\n",
    "import torch\n",
    "import timm \n",
    "\n",
    "class Model(torch.nn.Module):\n",
    "    def __init__(self, in_chans=3, num_classes=10):\n",
    "        super().__init__()\n",
    "        self.model = timm.create_model(\n",
    "            'resnet18',\n",
    "            pretrained='imagenet',\n",
    "            in_chans=in_chans,\n",
    "            num_classes=num_classes\n",
    "        )\n",
    "\n",
    "    def forward(self, x):\n",
    "        x = rearrange(x, 'b h w c -> b c h w') \n",
    "        x = (x / 255).float()\n",
    "        return self.model(x)"
   ]
  },
  {
   "cell_type": "code",
   "execution_count": 5,
   "metadata": {},
   "outputs": [
    {
     "name": "stderr",
     "output_type": "stream",
     "text": [
      "GPU available: True, used: True\n",
      "TPU available: False, using: 0 TPU cores\n",
      "IPU available: False, using: 0 IPUs\n",
      "HPU available: False, using: 0 HPUs\n",
      "`Trainer(overfit_batches=1)` was configured so 1 batch will be used.\n",
      "/home/juan/miniconda3/lib/python3.8/site-packages/pytorch_lightning/trainer/configuration_validator.py:133: UserWarning: You defined a `validation_step` but have no `val_dataloader`. Skipping val loop.\n",
      "  rank_zero_warn(\"You defined a `validation_step` but have no `val_dataloader`. Skipping val loop.\")\n",
      "extracting data ...: 100%|██████████| 27011/27011 [00:02<00:00, 10473.82it/s]\n",
      "LOCAL_RANK: 0 - CUDA_VISIBLE_DEVICES: [0,1]\n",
      "\n",
      "  | Name    | Type             | Params\n",
      "---------------------------------------------\n",
      "0 | model   | Model            | 11.2 M\n",
      "1 | loss_fn | CrossEntropyLoss | 0     \n",
      "---------------------------------------------\n",
      "11.2 M    Trainable params\n",
      "0         Non-trainable params\n",
      "11.2 M    Total params\n",
      "44.727    Total estimated model params size (MB)\n",
      "/home/juan/miniconda3/lib/python3.8/site-packages/pytorch_lightning/trainer/connectors/data_connector.py:240: PossibleUserWarning: The dataloader, train_dataloader, does not have many workers which may be a bottleneck. Consider increasing the value of the `num_workers` argument` (try 20 which is the number of cpus on this machine) in the `DataLoader` init to improve performance.\n",
      "  rank_zero_warn(\n",
      "/home/juan/miniconda3/lib/python3.8/site-packages/pytorch_lightning/trainer/trainer.py:1927: PossibleUserWarning: The number of training batches (1) is smaller than the logging interval Trainer(log_every_n_steps=50). Set a lower value for log_every_n_steps if you want to see logs for the training epoch.\n",
      "  rank_zero_warn(\n"
     ]
    },
    {
     "data": {
      "application/vnd.jupyter.widget-view+json": {
       "model_id": "7d27a59221da400ea8c7457695d6bcbf",
       "version_major": 2,
       "version_minor": 0
      },
      "text/plain": [
       "Training: 0it [00:00, ?it/s]"
      ]
     },
     "metadata": {},
     "output_type": "display_data"
    }
   ],
   "source": [
    "from pytorch_eo.tasks import ImageClassification\n",
    "import pytorch_lightning as pl\n",
    "\n",
    "ds = EuroSATDataset()\n",
    "model = Model()\n",
    "\n",
    "task = ImageClassification(model)\n",
    "\n",
    "trainer = pl.Trainer(\n",
    "    gpus=1,\n",
    "    max_epochs=5,\n",
    "    overfit_batches=1\n",
    ")\n",
    "\n",
    "trainer.fit(task, ds)"
   ]
  },
  {
   "cell_type": "markdown",
   "metadata": {},
   "source": [
    "Even though the Dataset is functional, you may want to do additional things such as:\n",
    "- data splitting\n",
    "- data augmentation\n",
    "- performance optimizations"
   ]
  },
  {
   "cell_type": "markdown",
   "metadata": {},
   "source": [
    "## Data Splitting"
   ]
  },
  {
   "cell_type": "markdown",
   "metadata": {},
   "source": [
    "Use your favorite option for data splitting. Just make sure to create the `val_dataloader` and `test_dataloader` functions for validation and testing, respectively."
   ]
  },
  {
   "cell_type": "code",
   "execution_count": 6,
   "metadata": {},
   "outputs": [],
   "source": [
    "from sklearn.model_selection import train_test_split\n",
    "import pandas as pd  \n",
    "\n",
    "class EuroSATDataset(pl.LightningDataModule):\n",
    "\tdef __init__(self, path='data', test_size=0.2, val_size=0.2):\n",
    "\t\tsuper().__init__()\n",
    "\t\tself.path = Path(path)\n",
    "\t\tself.test_size = test_size\n",
    "\t\tself.val_size = val_size\n",
    "\n",
    "\tdef setup(self, stage=None):\n",
    "\t\timages, labels = prepare_data(self.path)\n",
    "\t\tdf = pd.DataFrame({'image': images, 'label': labels})\n",
    "\t\ttrain_df, test_df = train_test_split(\n",
    "\t\t\tdf,\n",
    "\t\t\ttest_size=int(len(df)*self.test_size),\n",
    "\t\t)\n",
    "\t\ttrain_df, val_df = train_test_split(\n",
    "\t\t\ttrain_df,\n",
    "\t\t\ttest_size=int(len(df)*self.val_size),\n",
    "\t\t)\n",
    "\t\tprint(\"Training samples\", len(train_df))\n",
    "\t\tprint(\"Validation samples\", len(val_df))\n",
    "\t\tprint(\"Test samples\", len(test_df))\n",
    "\t\tself.train_ds = self.get_dataset(train_df)\n",
    "\t\tself.val_ds = self.get_dataset(val_df)\n",
    "\t\tself.test_ds = self.get_dataset(test_df)\n",
    "\n",
    "\tdef get_dataset(self, df):\n",
    "\t\timages_ds = RGBImageDataset(df.image.value) \n",
    "\t\treturn ConcatDataset({'image': images_ds, 'label': df.label.values})\n",
    "\t\t\n",
    "\n",
    "\tdef train_dataloader(self):\n",
    "\t\treturn DataLoader(self.train_ds)\n",
    "\t\n",
    "\tdef val_dataloader(self):\n",
    "\t\treturn DataLoader(self.val_ds)\n",
    "\n",
    "\tdef test_dataloader(self):\n",
    "\t\treturn DataLoader(self.test_ds)\n"
   ]
  },
  {
   "cell_type": "markdown",
   "metadata": {},
   "source": [
    "## Data Augmentation"
   ]
  },
  {
   "cell_type": "markdown",
   "metadata": {},
   "source": [
    "By default, we use `albumentations`."
   ]
  },
  {
   "cell_type": "code",
   "execution_count": 7,
   "metadata": {},
   "outputs": [],
   "source": [
    "class EuroSATDataset(pl.LightningDataModule):\n",
    "\tdef __init__(self, path='data', trans=None):\n",
    "\t\tsuper().__init__()\n",
    "\t\tself.path = Path(path)\n",
    "\t\tself.trans = trans\n",
    "\n",
    "\tdef setup(self, stage=None):\n",
    "\t\timages, labels = prepare_data(self.path)\n",
    "\t\timages_ds = RGBImageDataset(images) \n",
    "\t\tself.ds = ConcatDataset({'image': images_ds, 'label': labels}, self.trans)\n",
    "\n",
    "\tdef train_dataloader(self):\n",
    "\t\treturn DataLoader(self.ds)"
   ]
  },
  {
   "cell_type": "code",
   "execution_count": 8,
   "metadata": {},
   "outputs": [
    {
     "name": "stderr",
     "output_type": "stream",
     "text": [
      "extracting data ...: 100%|██████████| 27011/27011 [00:02<00:00, 10922.69it/s]\n"
     ]
    }
   ],
   "source": [
    "import albumentations as A\n",
    "\n",
    "trans = A.Compose([\n",
    "    A.HorizontalFlip(p=0.5),\n",
    "    A.VerticalFlip(p=0.5)\n",
    "])\n",
    "\n",
    "ds = EuroSATDataset(trans=trans)\n",
    "ds.setup()"
   ]
  },
  {
   "cell_type": "code",
   "execution_count": 9,
   "metadata": {},
   "outputs": [],
   "source": [
    "import matplotlib.pyplot as plt \n",
    "\n",
    "def plot_sample(ds, ix=10, image_key='image'):\n",
    "\tx = 5\n",
    "\tfig = plt.figure(figsize=(2*x, 5))\n",
    "\tfor i in range(x):\n",
    "\t\tsample = ds.ds[10]\n",
    "\t\timage, label = sample[image_key], sample['label']\n",
    "\t\tax = plt.subplot(1, x, i+1)\n",
    "\t\tax.imshow(image)\n",
    "\tplt.tight_layout()\n",
    "\tplt.show()"
   ]
  },
  {
   "cell_type": "code",
   "execution_count": 10,
   "metadata": {},
   "outputs": [
    {
     "data": {
      "image/png": "[encoded data removed]",
      "text/plain": [
       "<Figure size 720x360 with 5 Axes>"
      ]
     },
     "metadata": {
      "needs_background": "light"
     },
     "output_type": "display_data"
    }
   ],
   "source": [
    "plot_sample(ds)"
   ]
  },
  {
   "cell_type": "markdown",
   "metadata": {},
   "source": [
    "But you can use your own transforms"
   ]
  },
  {
   "cell_type": "code",
   "execution_count": 11,
   "metadata": {},
   "outputs": [],
   "source": [
    "import random \n",
    "import numpy as np\n",
    "\n",
    "def my_transforms(data):\n",
    "\tif random.random() > 0.5:\n",
    "\t\tdata['image'] = np.fliplr(data['image'])\n",
    "\treturn data\n",
    "\n",
    "class EuroSATDataset(pl.LightningDataModule):\n",
    "\tdef __init__(self, path='data'):\n",
    "\t\tsuper().__init__()\n",
    "\t\tself.path = Path(path)\n",
    "\n",
    "\tdef setup(self, stage=None):\n",
    "\t\timages, labels = prepare_data(self.path)\n",
    "\t\timages_ds = RGBImageDataset(images) \n",
    "\t\tself.ds = ConcatDataset({'image': images_ds, 'label': labels})\n",
    "\t\tself.ds.apply_transforms = my_transforms\n",
    "\n",
    "\tdef train_dataloader(self):\n",
    "\t\treturn DataLoader(self.ds)"
   ]
  },
  {
   "cell_type": "markdown",
   "metadata": {},
   "source": [
    "## Performance optimizations"
   ]
  },
  {
   "cell_type": "markdown",
   "metadata": {},
   "source": [
    "You probably want to use a different batch size, and if training on GPU you also may want to tune the number of workers of the Dataloader."
   ]
  },
  {
   "cell_type": "code",
   "execution_count": 12,
   "metadata": {},
   "outputs": [],
   "source": [
    "class EuroSATDataset(pl.LightningDataModule):\n",
    "\tdef __init__(self, path='data', batch_size=32, num_workers=4, pin_memory=True):\n",
    "\t\tsuper().__init__()\n",
    "\t\tself.path = Path(path)\n",
    "\t\tself.batch_size = batch_size\n",
    "\t\tself.num_workers = num_workers\n",
    "\t\tself.pin_memory = pin_memory\n",
    "\n",
    "\tdef setup(self, stage=None):\n",
    "\t\timages, labels = prepare_data(self.path)\n",
    "\t\timages_ds = RGBImageDataset(images) \n",
    "\t\tself.ds = ConcatDataset({'image': images_ds, 'label': labels})\n",
    "\n",
    "\tdef train_dataloader(self):\n",
    "\t\treturn DataLoader(self.ds, \n",
    "\t\t\tbatch_size=self.batch_size,\n",
    "            num_workers=self.num_workers,\n",
    "            pin_memory=self.pin_memory,\n",
    "            shuffle=True\n",
    "\t\t)"
   ]
  },
  {
   "cell_type": "markdown",
   "metadata": {},
   "source": [
    "## A Complete Example"
   ]
  },
  {
   "cell_type": "markdown",
   "metadata": {},
   "source": [
    "Putting it all together, you can use this Dataset as a template for your own."
   ]
  },
  {
   "cell_type": "code",
   "execution_count": 13,
   "metadata": {},
   "outputs": [],
   "source": [
    "from sklearn.model_selection import train_test_split\n",
    "import pandas as pd  \n",
    "\n",
    "class EuroSATDataset(pl.LightningDataModule):\n",
    "\tdef __init__(self, path='data', trans=None, test_size=0.2, val_size=0.2, batch_size=32, num_workers=4, pin_memory=True, verbose=True):\n",
    "\t\tsuper().__init__()\n",
    "\t\tself.path = Path(path)\n",
    "\t\tself.test_size = test_size\n",
    "\t\tself.val_size = val_size\n",
    "\t\tself.batch_size = batch_size\n",
    "\t\tself.num_workers = num_workers\n",
    "\t\tself.pin_memory = pin_memory\n",
    "\t\tself.trans = trans\n",
    "\t\tself.verbose = verbose\n",
    "\n",
    "\tdef setup(self, stage=None):\n",
    "\t\timages, labels = prepare_data(self.path)\n",
    "\t\tself.df = pd.DataFrame({'image': images, 'label': labels})\n",
    "\t\tself.make_splits()\n",
    "\t\tself.train_ds = self.get_dataset(self.train_df, self.trans)\n",
    "\t\tself.val_ds = self.get_dataset(self.val_df) if self.val_df is not None else None\n",
    "\t\tself.test_ds = self.get_dataset(self.test_df) if self.test_df is not None else None\n",
    "\n",
    "\tdef make_splits(self):\n",
    "\t\tif self.test_size > 0:\n",
    "\t\t\ttrain_df, self.test_df = train_test_split(\n",
    "\t\t\t\tself.df,\n",
    "\t\t\t\ttest_size=int(len(self.df)*self.test_size),\n",
    "\t\t\t)\n",
    "\t\telse: \n",
    "\t\t\ttrain_df, self.test_df = self.df, None\n",
    "\t\tif self.val_size > 0:\n",
    "\t\t\tself.train_df, self.val_df = train_test_split(\n",
    "\t\t\t\ttrain_df,\n",
    "\t\t\t\ttest_size=int(len(self.df)*self.val_size),\n",
    "\t\t\t)\n",
    "\t\telse: \n",
    "\t\t\tself.train_df, self.val_df = train_df, None\n",
    "\t\tif self.verbose:\n",
    "\t\t\tprint(\"Training samples\", len(self.train_df))\n",
    "\t\t\tif self.val_df is not None:\n",
    "\t\t\t\tprint(\"Validation samples\", len(self.val_df))\n",
    "\t\t\tif self.test_df is not None:\n",
    "\t\t\t\tprint(\"Test samples\", len(self.test_df))\n",
    "\n",
    "\tdef get_dataset(self, df, trans=None):\n",
    "\t\timages_ds = RGBImageDataset(df.image.values) \n",
    "\t\treturn ConcatDataset({'image': images_ds, 'label': df.label.values}, trans)\n",
    "\t\t\n",
    "\tdef get_dataloader(self, ds, batch_size=None, shuffle=False):\n",
    "\t\treturn DataLoader(\n",
    "\t\t\tds, \n",
    "\t\t\tbatch_size=self.batch_size if batch_size is None else batch_size,\n",
    "            num_workers=self.num_workers,\n",
    "            pin_memory=self.pin_memory,\n",
    "            shuffle=shuffle\n",
    "\t\t)\n",
    "\n",
    "\tdef train_dataloader(self, batch_size=None, shuffle=True):\n",
    "\t\treturn self.get_dataloader(self.train_ds, batch_size, shuffle)\n",
    "\t\n",
    "\tdef val_dataloader(self, batch_size=None, shuffle=False):\n",
    "\t\treturn self.get_dataloader(self.val_ds, batch_size, shuffle) if self.val_ds is not None else None\n",
    "\n",
    "\tdef test_dataloader(self, batch_size=None, shuffle=False):\n",
    "\t\treturn self.get_dataloader(self.test_ds, batch_size, shuffle) if self.test_ds is not None else None"
   ]
  },
  {
   "cell_type": "code",
   "execution_count": 20,
   "metadata": {},
   "outputs": [
    {
     "name": "stderr",
     "output_type": "stream",
     "text": [
      "GPU available: True, used: True\n",
      "TPU available: False, using: 0 TPU cores\n",
      "IPU available: False, using: 0 IPUs\n",
      "HPU available: False, using: 0 HPUs\n",
      "extracting data ...: 100%|██████████| 27011/27011 [00:02<00:00, 10523.90it/s]\n",
      "LOCAL_RANK: 0 - CUDA_VISIBLE_DEVICES: [0,1]\n",
      "\n",
      "  | Name    | Type             | Params\n",
      "---------------------------------------------\n",
      "0 | model   | Model            | 11.2 M\n",
      "1 | loss_fn | CrossEntropyLoss | 0     \n",
      "---------------------------------------------\n",
      "11.2 M    Trainable params\n",
      "0         Non-trainable params\n",
      "11.2 M    Total params\n",
      "44.727    Total estimated model params size (MB)\n"
     ]
    },
    {
     "name": "stdout",
     "output_type": "stream",
     "text": [
      "Training samples 16200\n",
      "Validation samples 5400\n",
      "Test samples 5400\n"
     ]
    },
    {
     "data": {
      "application/vnd.jupyter.widget-view+json": {
       "model_id": "e947773508b142c8af4836c3b35819b5",
       "version_major": 2,
       "version_minor": 0
      },
      "text/plain": [
       "Sanity Checking: 0it [00:00, ?it/s]"
      ]
     },
     "metadata": {},
     "output_type": "display_data"
    },
    {
     "data": {
      "application/vnd.jupyter.widget-view+json": {
       "model_id": "6a035c4676da464fb676e4e06e4025e2",
       "version_major": 2,
       "version_minor": 0
      },
      "text/plain": [
       "Training: 0it [00:00, ?it/s]"
      ]
     },
     "metadata": {},
     "output_type": "display_data"
    },
    {
     "data": {
      "application/vnd.jupyter.widget-view+json": {
       "model_id": "804c76c7ab464fd5b0e0f746cfa400ad",
       "version_major": 2,
       "version_minor": 0
      },
      "text/plain": [
       "Validation: 0it [00:00, ?it/s]"
      ]
     },
     "metadata": {},
     "output_type": "display_data"
    },
    {
     "data": {
      "application/vnd.jupyter.widget-view+json": {
       "model_id": "a50df5e6b1ec4b6384af639fe36f97c9",
       "version_major": 2,
       "version_minor": 0
      },
      "text/plain": [
       "Validation: 0it [00:00, ?it/s]"
      ]
     },
     "metadata": {},
     "output_type": "display_data"
    },
    {
     "data": {
      "application/vnd.jupyter.widget-view+json": {
       "model_id": "54439016b7f849edb19b2956bc393abd",
       "version_major": 2,
       "version_minor": 0
      },
      "text/plain": [
       "Validation: 0it [00:00, ?it/s]"
      ]
     },
     "metadata": {},
     "output_type": "display_data"
    },
    {
     "data": {
      "application/vnd.jupyter.widget-view+json": {
       "model_id": "be15bc2860af4f8195c52dac6997ed50",
       "version_major": 2,
       "version_minor": 0
      },
      "text/plain": [
       "Validation: 0it [00:00, ?it/s]"
      ]
     },
     "metadata": {},
     "output_type": "display_data"
    },
    {
     "data": {
      "application/vnd.jupyter.widget-view+json": {
       "model_id": "f9a6adca3fa34e43b8119703491786f1",
       "version_major": 2,
       "version_minor": 0
      },
      "text/plain": [
       "Validation: 0it [00:00, ?it/s]"
      ]
     },
     "metadata": {},
     "output_type": "display_data"
    }
   ],
   "source": [
    "trans = A.Compose([\n",
    "    A.HorizontalFlip(p=0.5),\n",
    "    A.VerticalFlip(p=0.5)\n",
    "])\n",
    "\n",
    "ds = EuroSATDataset(trans=trans, test_size=0.2, val_size=0.2)\n",
    "\n",
    "model = Model()\n",
    "\n",
    "task = ImageClassification(model)\n",
    "\n",
    "trainer = pl.Trainer(\n",
    "    gpus=1,\n",
    "    max_epochs=5,\n",
    ")\n",
    "\n",
    "trainer.fit(task, ds)"
   ]
  },
  {
   "cell_type": "code",
   "execution_count": 21,
   "metadata": {},
   "outputs": [
    {
     "name": "stderr",
     "output_type": "stream",
     "text": [
      "extracting data ...: 100%|██████████| 27011/27011 [00:02<00:00, 10375.93it/s]\n",
      "Restoring states from the checkpoint path at /home/juan/Desktop/pytorch_eo/tutorials/lightning_logs/version_26/checkpoints/epoch=4-step=2535.ckpt\n",
      "LOCAL_RANK: 0 - CUDA_VISIBLE_DEVICES: [0,1]\n",
      "Loaded model weights from checkpoint at /home/juan/Desktop/pytorch_eo/tutorials/lightning_logs/version_26/checkpoints/epoch=4-step=2535.ckpt\n"
     ]
    },
    {
     "name": "stdout",
     "output_type": "stream",
     "text": [
      "Training samples 16200\n",
      "Validation samples 5400\n",
      "Test samples 5400\n"
     ]
    },
    {
     "data": {
      "application/vnd.jupyter.widget-view+json": {
       "model_id": "5e5af9a85d444f07addfdde5c53385e6",
       "version_major": 2,
       "version_minor": 0
      },
      "text/plain": [
       "Testing: 0it [00:00, ?it/s]"
      ]
     },
     "metadata": {},
     "output_type": "display_data"
    },
    {
     "name": "stdout",
     "output_type": "stream",
     "text": [
      "────────────────────────────────────────────────────────────────────────────────────────────────────────────────────────\n",
      "       Test metric             DataLoader 0\n",
      "────────────────────────────────────────────────────────────────────────────────────────────────────────────────────────\n",
      "        test_acc             0.932962954044342\n",
      "        test_loss           0.19966763257980347\n",
      "────────────────────────────────────────────────────────────────────────────────────────────────────────────────────────\n"
     ]
    },
    {
     "data": {
      "text/plain": [
       "[{'test_loss': 0.19966763257980347, 'test_acc': 0.932962954044342}]"
      ]
     },
     "execution_count": 21,
     "metadata": {},
     "output_type": "execute_result"
    }
   ],
   "source": [
    "trainer.test(dataloaders=ds.test_dataloader())"
   ]
  }
 ],
 "metadata": {
  "kernelspec": {
   "display_name": "Python 3.8.12 ('base')",
   "language": "python",
   "name": "python3"
  },
  "language_info": {
   "codemirror_mode": {
    "name": "ipython",
    "version": 3
   },
   "file_extension": ".py",
   "mimetype": "text/x-python",
   "name": "python",
   "nbconvert_exporter": "python",
   "pygments_lexer": "ipython3",
   "version": "3.8.12"
  },
  "orig_nbformat": 4,
  "vscode": {
   "interpreter": {
    "hash": "74dbfc52f168b3071122cf9c0781887d6121c12f9c1b29bca56ce221bccb2a07"
   }
  }
 },
 "nbformat": 4,
 "nbformat_minor": 2
}
