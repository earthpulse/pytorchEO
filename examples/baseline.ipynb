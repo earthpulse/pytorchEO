{
 "cells": [
  {
   "cell_type": "code",
   "execution_count": 1,
   "metadata": {},
   "outputs": [],
   "source": [
    "%load_ext autoreload\n",
    "%autoreload 2"
   ]
  },
  {
   "cell_type": "markdown",
   "metadata": {},
   "source": [
    "In this notebook you will learn how to get started with PytorchEO training a baseline model for the [Solar Panel Detection Using Sentinel-2](https://solafune.com/competitions/5dfc315c-1b24-4573-804f-7de8d707cd90) challenge."
   ]
  },
  {
   "cell_type": "markdown",
   "metadata": {},
   "source": [
    "## Data exploration"
   ]
  },
  {
   "cell_type": "markdown",
   "metadata": {},
   "source": [
    "Before continuing, join the challenge, download and extract the [data](https://solafune.com/competitions/5dfc315c-1b24-4573-804f-7de8d707cd90?menu=data&tab=)."
   ]
  },
  {
   "cell_type": "code",
   "execution_count": 163,
   "metadata": {},
   "outputs": [
    {
     "data": {
      "text/plain": [
       "['evaluation', 'train', 'sample']"
      ]
     },
     "execution_count": 163,
     "metadata": {},
     "output_type": "execute_result"
    }
   ],
   "source": [
    "import os \n",
    "from pathlib import Path\n",
    "\n",
    "path = Path('/fastdata/solarPanelDetection/') # path to the data \n",
    "folders = [f for f in os.listdir(path) if os.path.isdir(path / f)] # get all the folders in the path\n",
    "folders"
   ]
  },
  {
   "cell_type": "markdown",
   "metadata": {},
   "source": [
    "The train folder contains images and masks for training"
   ]
  },
  {
   "cell_type": "code",
   "execution_count": 164,
   "metadata": {},
   "outputs": [
    {
     "data": {
      "text/plain": [
       "['s2_image', 'mask']"
      ]
     },
     "execution_count": 164,
     "metadata": {},
     "output_type": "execute_result"
    }
   ],
   "source": [
    "os.listdir(path / 'train') "
   ]
  },
  {
   "cell_type": "code",
   "execution_count": 165,
   "metadata": {},
   "outputs": [
    {
     "data": {
      "text/plain": [
       "(2066, 2066)"
      ]
     },
     "execution_count": 165,
     "metadata": {},
     "output_type": "execute_result"
    }
   ],
   "source": [
    "from glob import glob\n",
    "\n",
    "images = glob(str(path / 'train' / 's2_image/*.tif'))\n",
    "masks = glob(str(path / 'train' / 'mask/*.tif'))\n",
    "\n",
    "len(images), len(masks)"
   ]
  },
  {
   "cell_type": "code",
   "execution_count": 166,
   "metadata": {},
   "outputs": [
    {
     "data": {
      "text/plain": [
       "(['/fastdata/solarPanelDetection/train/s2_image/train_s2_image_2037.tif',\n",
       "  '/fastdata/solarPanelDetection/train/s2_image/train_s2_image_792.tif',\n",
       "  '/fastdata/solarPanelDetection/train/s2_image/train_s2_image_1118.tif'],\n",
       " ['/fastdata/solarPanelDetection/train/mask/train_mask_539.tif',\n",
       "  '/fastdata/solarPanelDetection/train/mask/train_mask_801.tif',\n",
       "  '/fastdata/solarPanelDetection/train/mask/train_mask_157.tif'])"
      ]
     },
     "execution_count": 166,
     "metadata": {},
     "output_type": "execute_result"
    }
   ],
   "source": [
    "images[:3], masks[:3]"
   ]
  },
  {
   "cell_type": "code",
   "execution_count": 167,
   "metadata": {},
   "outputs": [
    {
     "data": {
      "text/plain": [
       "(2066, ['2037', '792', '1118'])"
      ]
     },
     "execution_count": 167,
     "metadata": {},
     "output_type": "execute_result"
    }
   ],
   "source": [
    "# generate list of image ids \n",
    "\n",
    "ids = [f.split('_')[-1][:-4] for f in images]\n",
    "len(ids), ids[:3]"
   ]
  },
  {
   "cell_type": "code",
   "execution_count": 168,
   "metadata": {},
   "outputs": [],
   "source": [
    "for id in ids:\n",
    "\tassert str(path / 'train' / 's2_image' / f'train_s2_image_{id}.tif') in images, f'train_s2_image_{id}.tif not found'\n",
    "\tassert str(path / 'train' / 'mask' / f'train_mask_{id}.tif') in masks, f'train_mask_{id}.tif not found'"
   ]
  },
  {
   "cell_type": "markdown",
   "metadata": {},
   "source": [
    "We can visualize some samples"
   ]
  },
  {
   "cell_type": "code",
   "execution_count": 213,
   "metadata": {},
   "outputs": [
    {
     "data": {
      "image/png": "[encoded data removed]",
      "text/plain": [
       "<Figure size 1000x500 with 10 Axes>"
      ]
     },
     "metadata": {},
     "output_type": "display_data"
    }
   ],
   "source": [
    "import matplotlib.pyplot as plt\n",
    "import rasterio as rio \n",
    "import random\n",
    "\n",
    "cols = 5\n",
    "fig = plt.figure(figsize=(cols*2, 5))\n",
    "for col in range(cols):\n",
    "\timage_id = random.choice(ids)\n",
    "\tax1 = fig.add_subplot(2, cols, col+1)\n",
    "\timage_path = path / 'train' / 's2_image' / f'train_s2_image_{image_id}.tif'\n",
    "\tds = rio.open(image_path)\n",
    "\trgb = ds.read((4,3,2)) / 4000 \n",
    "\tax1.imshow(rgb.transpose(1,2,0))\n",
    "\tax1.axis('off')\n",
    "\tax1.set_title(rgb.shape)\n",
    "\tax2 = fig.add_subplot(2, cols, col+cols+1)\n",
    "\tmask_path = path / 'train' / 'mask' / f'train_mask_{image_id}.tif'\n",
    "\tmask = rio.open(mask_path).read(1)\n",
    "\tax2.imshow(mask)\n",
    "\tax2.axis('off')\n",
    "\tax2.set_title(mask.shape)\n",
    "plt.tight_layout()\n",
    "plt.show()"
   ]
  },
  {
   "cell_type": "markdown",
   "metadata": {},
   "source": [
    "Images are very small and can have different size. Masks are binary."
   ]
  },
  {
   "cell_type": "code",
   "execution_count": 9,
   "metadata": {},
   "outputs": [
    {
     "data": {
      "text/plain": [
       "(dtype('float64'), dtype('uint8'), 0, 1)"
      ]
     },
     "execution_count": 9,
     "metadata": {},
     "output_type": "execute_result"
    }
   ],
   "source": [
    "rgb.dtype, mask.dtype, mask.min(), mask.max()"
   ]
  },
  {
   "cell_type": "code",
   "execution_count": 16,
   "metadata": {},
   "outputs": [
    {
     "name": "stderr",
     "output_type": "stream",
     "text": [
      "/home/juan/.local/lib/python3.10/site-packages/rasterio/__init__.py:304: NotGeoreferencedWarning: Dataset has no geotransform, gcps, or rpcs. The identity matrix will be returned.\n",
      "  dataset = DatasetReader(path, driver=driver, sharing=sharing, **kwargs)\n"
     ]
    },
    {
     "data": {
      "text/plain": [
       "{(12, 23, 24): 283,\n",
       " (12, 23, 23): 914,\n",
       " (12, 25, 25): 72,\n",
       " (12, 24, 24): 359,\n",
       " (12, 24, 23): 339,\n",
       " (12, 22, 22): 4,\n",
       " (12, 23, 22): 26,\n",
       " (12, 25, 24): 27,\n",
       " (12, 22, 23): 20,\n",
       " (12, 24, 25): 16,\n",
       " (12, 26, 25): 2,\n",
       " (12, 25, 26): 3,\n",
       " (12, 26, 26): 1}"
      ]
     },
     "execution_count": 16,
     "metadata": {},
     "output_type": "execute_result"
    }
   ],
   "source": [
    "shapes = {}\n",
    "for image in images:\n",
    "\tx = rio.open(image).read().shape\n",
    "\tshapes[x] = shapes.get(x, 0) + 1\n",
    "shapes"
   ]
  },
  {
   "cell_type": "markdown",
   "metadata": {},
   "source": [
    "The evaluation folder contains the images for generating the submission masks (which an examples is shown in the samples folder)."
   ]
  },
  {
   "cell_type": "code",
   "execution_count": 38,
   "metadata": {},
   "outputs": [
    {
     "data": {
      "text/plain": [
       "(2066,\n",
       " ['evaluation_s2_image_851.tif',\n",
       "  'evaluation_s2_image_1695.tif',\n",
       "  'evaluation_s2_image_1204.tif'])"
      ]
     },
     "execution_count": 38,
     "metadata": {},
     "output_type": "execute_result"
    }
   ],
   "source": [
    "test_images = os.listdir(path / 'evaluation')\n",
    "len(test_images), test_images[:3]"
   ]
  },
  {
   "cell_type": "code",
   "execution_count": 39,
   "metadata": {},
   "outputs": [
    {
     "data": {
      "text/plain": [
       "(2066,\n",
       " ['evaluation_mask_1646.tif',\n",
       "  'evaluation_mask_859.tif',\n",
       "  'evaluation_mask_1261.tif'])"
      ]
     },
     "execution_count": 39,
     "metadata": {},
     "output_type": "execute_result"
    }
   ],
   "source": [
    "test_masks = os.listdir(path / 'sample')\n",
    "len(test_masks), test_masks[:3]"
   ]
  },
  {
   "cell_type": "code",
   "execution_count": 40,
   "metadata": {},
   "outputs": [],
   "source": [
    "test_ids = [f.split('_')[-1][:-4] for f in test_images]\n",
    "assert len(test_ids) == len(test_images), 'number of test images and test ids do not match'"
   ]
  },
  {
   "cell_type": "code",
   "execution_count": 42,
   "metadata": {},
   "outputs": [],
   "source": [
    "for test_id in test_ids:\n",
    "\tassert f'evaluation_s2_image_{test_id}.tif' in test_images, f'evaluation_s2_image_{test_id}.tif not found'\n",
    "\tassert f'evaluation_mask_{test_id}.tif' in test_masks, f'evaluation_mask_{test_id}.tif not found'"
   ]
  },
  {
   "cell_type": "markdown",
   "metadata": {},
   "source": [
    "## The Dataset"
   ]
  },
  {
   "cell_type": "markdown",
   "metadata": {},
   "source": [
    "PytorchEO is built around `Datasets` and `Tasks`. In this challenge we are asked to solve an image segmentation task with a dataset composed of Sentinel 2 images with corresponding solar panels masks. \n",
    "\n",
    "You can build your own PytorchEO Datasets as follows:\n"
   ]
  },
  {
   "cell_type": "code",
   "execution_count": 238,
   "metadata": {},
   "outputs": [],
   "source": [
    "# imports\n",
    "import lightning as L\n",
    "import pandas as pd\n",
    "from sklearn.model_selection import train_test_split\n",
    "from torch.utils.data import DataLoader\n",
    "import numpy as np\n",
    "from einops import rearrange\n",
    "import albumentations as A\n",
    "from albumentations.pytorch import ToTensorV2\n",
    "from pathlib import Path\n",
    "from glob import glob\n",
    "import os\n",
    "\n",
    "# Pytorch EO imports\n",
    "from pytorch_eo.datasets import ConcatDataset\n",
    "from pytorch_eo.datasets.sensors import S2\n",
    "from pytorch_eo.datasets.sensors import Sensors\n",
    "from pytorch_eo.datasets import SensorImageDataset, RGBImageDataset\n",
    "\n",
    "class Dataset(L.LightningDataModule): \n",
    "\n",
    "    def __init__(self,\n",
    "                 batch_size=32,\n",
    "                 path='/fastdata/solarPanelDetection/', \n",
    "                 val_size=0.2,\n",
    "                 train_trans=None,\n",
    "                 val_trans=None,\n",
    "                 num_workers=0,\n",
    "                 pin_memory=False,\n",
    "                 seed=42,\n",
    "                 verbose=False,\n",
    "                 bands=None,\n",
    "                 ):\n",
    "        super().__init__()\n",
    "        self.path = Path(path)\n",
    "        self.batch_size = batch_size\n",
    "        self.val_size = val_size\n",
    "        self.train_trans = (\n",
    "            train_trans if train_trans is not None else self.setup_trans(train_trans)\n",
    "        )\n",
    "        self.val_trans = (\n",
    "            val_trans if val_trans is not None else self.setup_trans(val_trans)\n",
    "        )\n",
    "        self.bands = bands if bands is not None else S2.RGB\n",
    "        self.num_bands = (\n",
    "            len(self.bands)\n",
    "            if isinstance(self.bands, list)\n",
    "            else len(self.bands.value)\n",
    "            if isinstance(self.bands.value, list)\n",
    "            else 1\n",
    "        )\n",
    "        self.num_classes = 2\n",
    "        self.num_workers = num_workers\n",
    "        self.pin_memory = pin_memory\n",
    "        self.seed = seed\n",
    "        self.verbose = verbose\n",
    "\n",
    "    def setup(self, stage=None):\n",
    "        images = glob(str(self.path / 'train' / 's2_image/*.tif'))\n",
    "        ids = [f.split('_')[-1][:-4] for f in images]\n",
    "        masks = [str(self.path / 'train' / 'mask' / f'train_mask_{id}.tif') for id in ids]\n",
    "        _masks = glob(str(self.path / 'train' / 'mask/*.tif'))\n",
    "        assert len(images) == len(masks) == len(_masks) == len(ids) == 2066, 'number of training images and masks must be 2066'\n",
    "        for mask in masks:\n",
    "            assert mask in _masks, f'{mask} not found'\n",
    "        test_images = os.listdir(self.path / 'evaluation')\n",
    "        test_ids = [f.split('_')[-1][:-4] for f in test_images]\n",
    "        assert len(test_images) == len(test_ids) == 2066, 'number of test images must be 100'\n",
    "        for test_id in test_ids:\n",
    "            assert f'evaluation_s2_image_{test_id}.tif' in test_images, f'evaluation_s2_image_{test_id}.tif not found'\n",
    "        # build dataframe and splits\n",
    "        self.df = pd.DataFrame({'image': images, 'mask': masks})\n",
    "        self.train_df, self.val_df = self.df, None\n",
    "        if self.val_size > 0:\n",
    "            self.train_df, self.val_df = train_test_split(\n",
    "                self.df,\n",
    "                test_size=int(len(self.df) * self.val_size),\n",
    "                random_state=self.seed,\n",
    "            )\n",
    "        if self.verbose:\n",
    "            print(\"Training samples\", len(self.train_df))\n",
    "            if self.val_df is not None:\n",
    "                print(\"Validation samples\", len(self.val_df))\n",
    "        # generate datasets\n",
    "        self.train_ds = self.get_dataset(self.train_df, self.train_trans)\n",
    "        self.val_ds = (\n",
    "            self.get_dataset(self.val_df, self.val_trans)\n",
    "            if self.val_df is not None\n",
    "            else None\n",
    "        )\n",
    "        \n",
    "    def get_dataset(self, df, trans=None):\n",
    "        return ConcatDataset({\n",
    "            'image': SensorImageDataset(df.image.values, Sensors.S2, self.bands),\n",
    "            'mask': RGBImageDataset(df['mask'].values)\n",
    "        }, trans)\n",
    "    \n",
    "    def get_dataloader(self, ds, batch_size=None, shuffle=False):\n",
    "        return DataLoader(\n",
    "            ds,\n",
    "            batch_size=self.batch_size if batch_size is None else batch_size,\n",
    "            num_workers=self.num_workers,\n",
    "            pin_memory=self.pin_memory,\n",
    "            shuffle=shuffle,\n",
    "        )\n",
    "\n",
    "    def train_dataloader(self, batch_size=None, shuffle=True):\n",
    "        return self.get_dataloader(self.train_ds, batch_size, shuffle)\n",
    "\n",
    "    def val_dataloader(self, batch_size=None, shuffle=False):\n",
    "        return (\n",
    "            self.get_dataloader(self.val_ds, batch_size, shuffle)\n",
    "            if self.val_ds is not None\n",
    "            else None\n",
    "        )\n",
    "    \n",
    "    def setup_trans(self, trans):\n",
    "        if trans is None:\n",
    "            def clip(x, **kwargs):\n",
    "                x = np.clip(x, 0.0, 1.0)\n",
    "                return x.astype(np.float32) if x.ndim == 3 else x.astype(np.uint8)\n",
    "            def normalize(x, **kwargs):\n",
    "                return x / 4000 if x.ndim == 3 else (x > 0.5).astype(np.uint8)\n",
    "            return (\n",
    "                A.Compose(\n",
    "                    [\n",
    "                        A.Resize(32, 32), # resize to 32x32 due to model architecture\n",
    "                        A.Lambda(image=normalize), \n",
    "                        A.Lambda(image=clip), \n",
    "                        ToTensorV2(),  \n",
    "                    ],\n",
    "                additional_targets={\"mask\": \"image\"}, is_check_shapes=False) # original images and masks can have different shapes\n",
    "                if trans is None\n",
    "                else trans\n",
    "            )\n",
    "        return trans\n"
   ]
  },
  {
   "cell_type": "code",
   "execution_count": 239,
   "metadata": {},
   "outputs": [],
   "source": [
    "ds = Dataset(batch_size=5)\n",
    "ds.setup()"
   ]
  },
  {
   "cell_type": "code",
   "execution_count": 240,
   "metadata": {},
   "outputs": [
    {
     "data": {
      "text/html": [
       "<div>\n",
       "<style scoped>\n",
       "    .dataframe tbody tr th:only-of-type {\n",
       "        vertical-align: middle;\n",
       "    }\n",
       "\n",
       "    .dataframe tbody tr th {\n",
       "        vertical-align: top;\n",
       "    }\n",
       "\n",
       "    .dataframe thead th {\n",
       "        text-align: right;\n",
       "    }\n",
       "</style>\n",
       "<table border=\"1\" class=\"dataframe\">\n",
       "  <thead>\n",
       "    <tr style=\"text-align: right;\">\n",
       "      <th></th>\n",
       "      <th>image</th>\n",
       "      <th>mask</th>\n",
       "    </tr>\n",
       "  </thead>\n",
       "  <tbody>\n",
       "    <tr>\n",
       "      <th>0</th>\n",
       "      <td>/fastdata/solarPanelDetection/train/s2_image/t...</td>\n",
       "      <td>/fastdata/solarPanelDetection/train/mask/train...</td>\n",
       "    </tr>\n",
       "    <tr>\n",
       "      <th>1</th>\n",
       "      <td>/fastdata/solarPanelDetection/train/s2_image/t...</td>\n",
       "      <td>/fastdata/solarPanelDetection/train/mask/train...</td>\n",
       "    </tr>\n",
       "    <tr>\n",
       "      <th>2</th>\n",
       "      <td>/fastdata/solarPanelDetection/train/s2_image/t...</td>\n",
       "      <td>/fastdata/solarPanelDetection/train/mask/train...</td>\n",
       "    </tr>\n",
       "    <tr>\n",
       "      <th>3</th>\n",
       "      <td>/fastdata/solarPanelDetection/train/s2_image/t...</td>\n",
       "      <td>/fastdata/solarPanelDetection/train/mask/train...</td>\n",
       "    </tr>\n",
       "    <tr>\n",
       "      <th>4</th>\n",
       "      <td>/fastdata/solarPanelDetection/train/s2_image/t...</td>\n",
       "      <td>/fastdata/solarPanelDetection/train/mask/train...</td>\n",
       "    </tr>\n",
       "    <tr>\n",
       "      <th>...</th>\n",
       "      <td>...</td>\n",
       "      <td>...</td>\n",
       "    </tr>\n",
       "    <tr>\n",
       "      <th>2061</th>\n",
       "      <td>/fastdata/solarPanelDetection/train/s2_image/t...</td>\n",
       "      <td>/fastdata/solarPanelDetection/train/mask/train...</td>\n",
       "    </tr>\n",
       "    <tr>\n",
       "      <th>2062</th>\n",
       "      <td>/fastdata/solarPanelDetection/train/s2_image/t...</td>\n",
       "      <td>/fastdata/solarPanelDetection/train/mask/train...</td>\n",
       "    </tr>\n",
       "    <tr>\n",
       "      <th>2063</th>\n",
       "      <td>/fastdata/solarPanelDetection/train/s2_image/t...</td>\n",
       "      <td>/fastdata/solarPanelDetection/train/mask/train...</td>\n",
       "    </tr>\n",
       "    <tr>\n",
       "      <th>2064</th>\n",
       "      <td>/fastdata/solarPanelDetection/train/s2_image/t...</td>\n",
       "      <td>/fastdata/solarPanelDetection/train/mask/train...</td>\n",
       "    </tr>\n",
       "    <tr>\n",
       "      <th>2065</th>\n",
       "      <td>/fastdata/solarPanelDetection/train/s2_image/t...</td>\n",
       "      <td>/fastdata/solarPanelDetection/train/mask/train...</td>\n",
       "    </tr>\n",
       "  </tbody>\n",
       "</table>\n",
       "<p>2066 rows × 2 columns</p>\n",
       "</div>"
      ],
      "text/plain": [
       "                                                  image  \\\n",
       "0     /fastdata/solarPanelDetection/train/s2_image/t...   \n",
       "1     /fastdata/solarPanelDetection/train/s2_image/t...   \n",
       "2     /fastdata/solarPanelDetection/train/s2_image/t...   \n",
       "3     /fastdata/solarPanelDetection/train/s2_image/t...   \n",
       "4     /fastdata/solarPanelDetection/train/s2_image/t...   \n",
       "...                                                 ...   \n",
       "2061  /fastdata/solarPanelDetection/train/s2_image/t...   \n",
       "2062  /fastdata/solarPanelDetection/train/s2_image/t...   \n",
       "2063  /fastdata/solarPanelDetection/train/s2_image/t...   \n",
       "2064  /fastdata/solarPanelDetection/train/s2_image/t...   \n",
       "2065  /fastdata/solarPanelDetection/train/s2_image/t...   \n",
       "\n",
       "                                                   mask  \n",
       "0     /fastdata/solarPanelDetection/train/mask/train...  \n",
       "1     /fastdata/solarPanelDetection/train/mask/train...  \n",
       "2     /fastdata/solarPanelDetection/train/mask/train...  \n",
       "3     /fastdata/solarPanelDetection/train/mask/train...  \n",
       "4     /fastdata/solarPanelDetection/train/mask/train...  \n",
       "...                                                 ...  \n",
       "2061  /fastdata/solarPanelDetection/train/mask/train...  \n",
       "2062  /fastdata/solarPanelDetection/train/mask/train...  \n",
       "2063  /fastdata/solarPanelDetection/train/mask/train...  \n",
       "2064  /fastdata/solarPanelDetection/train/mask/train...  \n",
       "2065  /fastdata/solarPanelDetection/train/mask/train...  \n",
       "\n",
       "[2066 rows x 2 columns]"
      ]
     },
     "execution_count": 240,
     "metadata": {},
     "output_type": "execute_result"
    }
   ],
   "source": [
    "ds.df"
   ]
  },
  {
   "cell_type": "code",
   "execution_count": 241,
   "metadata": {},
   "outputs": [
    {
     "name": "stderr",
     "output_type": "stream",
     "text": [
      "/home/juan/.local/lib/python3.10/site-packages/rasterio/__init__.py:304: NotGeoreferencedWarning: Dataset has no geotransform, gcps, or rpcs. The identity matrix will be returned.\n",
      "  dataset = DatasetReader(path, driver=driver, sharing=sharing, **kwargs)\n"
     ]
    },
    {
     "data": {
      "text/plain": [
       "(torch.Size([5, 3, 32, 32]),\n",
       " torch.Size([5, 1, 32, 32]),\n",
       " torch.float32,\n",
       " torch.uint8,\n",
       " tensor(0.4989),\n",
       " tensor(1, dtype=torch.uint8),\n",
       " tensor(0.0475),\n",
       " tensor(0, dtype=torch.uint8))"
      ]
     },
     "execution_count": 241,
     "metadata": {},
     "output_type": "execute_result"
    }
   ],
   "source": [
    "batch = next(iter(ds.train_dataloader()))\n",
    "\n",
    "images, masks = batch['image'], batch['mask']\n",
    "images.shape, masks.shape, images.dtype, masks.dtype, images.max(), masks.max(), images.min(), masks.min()"
   ]
  },
  {
   "cell_type": "code",
   "execution_count": 242,
   "metadata": {},
   "outputs": [
    {
     "data": {
      "image/png": "[encoded data removed]",
      "text/plain": [
       "<Figure size 1000x500 with 10 Axes>"
      ]
     },
     "metadata": {},
     "output_type": "display_data"
    }
   ],
   "source": [
    "import matplotlib.pyplot as plt\n",
    "\n",
    "batch = next(iter(ds.train_dataloader()))\n",
    "images, masks = batch['image'], batch['mask']\n",
    "cols = 5\n",
    "fig = plt.figure(figsize=(cols*2, 5))\n",
    "for col in range(cols):\n",
    "\tax1 = fig.add_subplot(2, cols, col+1)\n",
    "\timage = images[col].numpy()\n",
    "\tax1.imshow(image.transpose(1,2,0))\n",
    "\tax1.axis('off')\n",
    "\tax1.set_title(image.shape)\n",
    "\tax2 = fig.add_subplot(2, cols, col+cols+1)\n",
    "\tmask = masks[col].numpy()[0]\n",
    "\tax2.imshow(mask)\n",
    "\tax2.axis('off')\n",
    "\tax2.set_title(mask.shape)\n",
    "plt.tight_layout()\n",
    "plt.show()"
   ]
  },
  {
   "cell_type": "markdown",
   "metadata": {},
   "source": [
    "## The Task"
   ]
  },
  {
   "cell_type": "markdown",
   "metadata": {},
   "source": [
    "PytorchEO comes with several tasks built in, and more to come. In this case, we use the `ImageSegmentationTask`."
   ]
  },
  {
   "cell_type": "code",
   "execution_count": 243,
   "metadata": {},
   "outputs": [
    {
     "data": {
      "text/plain": [
       "(torch.Size([32, 2, 32, 32]), torch.float32)"
      ]
     },
     "execution_count": 243,
     "metadata": {},
     "output_type": "execute_result"
    }
   ],
   "source": [
    "import torch\n",
    "from pytorch_eo.tasks import ImageSegmentation\n",
    "\n",
    "task = ImageSegmentation(num_classes=ds.num_classes)\n",
    "\n",
    "out = task(torch.randn(32, 3, 32, 32))\n",
    "\n",
    "out.shape, out.dtype"
   ]
  },
  {
   "cell_type": "markdown",
   "metadata": {},
   "source": [
    "## Training"
   ]
  },
  {
   "cell_type": "markdown",
   "metadata": {},
   "source": [
    "We use [PytorchLighning](https://pytorch-lightning.readthedocs.io/) for training.\n"
   ]
  },
  {
   "cell_type": "code",
   "execution_count": 246,
   "metadata": {},
   "outputs": [
    {
     "name": "stderr",
     "output_type": "stream",
     "text": [
      "/usr/lib/python3/dist-packages/pkg_resources/__init__.py:116: PkgResourcesDeprecationWarning: 0.1.43ubuntu1 is an invalid version and will not be supported in a future release\n",
      "  warnings.warn(\n",
      "/usr/lib/python3/dist-packages/pkg_resources/__init__.py:116: PkgResourcesDeprecationWarning: 1.1build1 is an invalid version and will not be supported in a future release\n",
      "  warnings.warn(\n",
      "/home/juan/.local/lib/python3.10/site-packages/lightning_fabric/connector.py:555: UserWarning: 16 is supported for historical reasons but its usage is discouraged. Please set your precision to 16-mixed instead!\n",
      "  rank_zero_warn(\n",
      "/home/juan/.local/lib/python3.10/site-packages/torch/cuda/__init__.py:565: UserWarning: Can't initialize NVML\n",
      "  warnings.warn(\"Can't initialize NVML\")\n",
      "/home/juan/.local/lib/python3.10/site-packages/torch/cuda/__init__.py:684: UserWarning: CUDA initialization: Unexpected error from cudaGetDeviceCount(). Did you run some cuda functions before calling NumCudaDevices() that might have already set an error? Error 804: forward compatibility was attempted on non supported HW (Triggered internally at ../c10/cuda/CUDAFunctions.cpp:108.)\n",
      "  return torch._C._cuda_getDeviceCount() if nvml_count < 0 else nvml_count\n"
     ]
    },
    {
     "data": {
      "text/html": [
       "<pre style=\"white-space:pre;overflow-x:auto;line-height:normal;font-family:Menlo,'DejaVu Sans Mono',consolas,'Courier New',monospace\"><span style=\"color: #800000; text-decoration-color: #800000\">╭─────────────────────────────── </span><span style=\"color: #800000; text-decoration-color: #800000; font-weight: bold\">Traceback </span><span style=\"color: #bf7f7f; text-decoration-color: #bf7f7f; font-weight: bold\">(most recent call last)</span><span style=\"color: #800000; text-decoration-color: #800000\"> ────────────────────────────────╮</span>\n",
       "<span style=\"color: #800000; text-decoration-color: #800000\">│</span> <span style=\"color: #bfbf7f; text-decoration-color: #bfbf7f\">/tmp/ipykernel_91527/</span><span style=\"color: #808000; text-decoration-color: #808000; font-weight: bold\">2199048492.py</span>:<span style=\"color: #0000ff; text-decoration-color: #0000ff\">9</span> in <span style=\"color: #00ff00; text-decoration-color: #00ff00\">&lt;module&gt;</span>                                                 <span style=\"color: #800000; text-decoration-color: #800000\">│</span>\n",
       "<span style=\"color: #800000; text-decoration-color: #800000\">│</span>                                                                                                  <span style=\"color: #800000; text-decoration-color: #800000\">│</span>\n",
       "<span style=\"color: #800000; text-decoration-color: #800000\">│</span> <span style=\"color: #800000; text-decoration-color: #800000; font-style: italic\">[Errno 2] No such file or directory: '/tmp/ipykernel_91527/2199048492.py'</span>                        <span style=\"color: #800000; text-decoration-color: #800000\">│</span>\n",
       "<span style=\"color: #800000; text-decoration-color: #800000\">│</span>                                                                                                  <span style=\"color: #800000; text-decoration-color: #800000\">│</span>\n",
       "<span style=\"color: #800000; text-decoration-color: #800000\">│</span> <span style=\"color: #bfbf7f; text-decoration-color: #bfbf7f\">/home/juan/.local/lib/python3.10/site-packages/pytorch_lightning/utilities/</span><span style=\"color: #808000; text-decoration-color: #808000; font-weight: bold\">argparse.py</span>:<span style=\"color: #0000ff; text-decoration-color: #0000ff\">69</span> in     <span style=\"color: #800000; text-decoration-color: #800000\">│</span>\n",
       "<span style=\"color: #800000; text-decoration-color: #800000\">│</span> <span style=\"color: #00ff00; text-decoration-color: #00ff00\">insert_env_defaults</span>                                                                              <span style=\"color: #800000; text-decoration-color: #800000\">│</span>\n",
       "<span style=\"color: #800000; text-decoration-color: #800000\">│</span>                                                                                                  <span style=\"color: #800000; text-decoration-color: #800000\">│</span>\n",
       "<span style=\"color: #800000; text-decoration-color: #800000\">│</span>   <span style=\"color: #7f7f7f; text-decoration-color: #7f7f7f\">66 │   │   </span>kwargs = <span style=\"color: #00ffff; text-decoration-color: #00ffff\">dict</span>(<span style=\"color: #00ffff; text-decoration-color: #00ffff\">list</span>(env_variables.items()) + <span style=\"color: #00ffff; text-decoration-color: #00ffff\">list</span>(kwargs.items()))                   <span style=\"color: #800000; text-decoration-color: #800000\">│</span>\n",
       "<span style=\"color: #800000; text-decoration-color: #800000\">│</span>   <span style=\"color: #7f7f7f; text-decoration-color: #7f7f7f\">67 │   │   </span>                                                                                    <span style=\"color: #800000; text-decoration-color: #800000\">│</span>\n",
       "<span style=\"color: #800000; text-decoration-color: #800000\">│</span>   <span style=\"color: #7f7f7f; text-decoration-color: #7f7f7f\">68 │   │   # all args were already moved to kwargs</span>                                             <span style=\"color: #800000; text-decoration-color: #800000\">│</span>\n",
       "<span style=\"color: #800000; text-decoration-color: #800000\">│</span> <span style=\"color: #800000; text-decoration-color: #800000\">❱ </span>69 <span style=\"color: #7f7f7f; text-decoration-color: #7f7f7f\">│   │   </span><span style=\"color: #0000ff; text-decoration-color: #0000ff\">return</span> fn(<span style=\"color: #00ffff; text-decoration-color: #00ffff\">self</span>, **kwargs)                                                           <span style=\"color: #800000; text-decoration-color: #800000\">│</span>\n",
       "<span style=\"color: #800000; text-decoration-color: #800000\">│</span>   <span style=\"color: #7f7f7f; text-decoration-color: #7f7f7f\">70 │   </span>                                                                                        <span style=\"color: #800000; text-decoration-color: #800000\">│</span>\n",
       "<span style=\"color: #800000; text-decoration-color: #800000\">│</span>   <span style=\"color: #7f7f7f; text-decoration-color: #7f7f7f\">71 │   </span><span style=\"color: #0000ff; text-decoration-color: #0000ff\">return</span> cast(_T, insert_env_defaults)                                                    <span style=\"color: #800000; text-decoration-color: #800000\">│</span>\n",
       "<span style=\"color: #800000; text-decoration-color: #800000\">│</span>   <span style=\"color: #7f7f7f; text-decoration-color: #7f7f7f\">72 </span>                                                                                            <span style=\"color: #800000; text-decoration-color: #800000\">│</span>\n",
       "<span style=\"color: #800000; text-decoration-color: #800000\">│</span>                                                                                                  <span style=\"color: #800000; text-decoration-color: #800000\">│</span>\n",
       "<span style=\"color: #800000; text-decoration-color: #800000\">│</span> <span style=\"color: #bfbf7f; text-decoration-color: #bfbf7f\">/home/juan/.local/lib/python3.10/site-packages/pytorch_lightning/trainer/</span><span style=\"color: #808000; text-decoration-color: #808000; font-weight: bold\">trainer.py</span>:<span style=\"color: #0000ff; text-decoration-color: #0000ff\">398</span> in       <span style=\"color: #800000; text-decoration-color: #800000\">│</span>\n",
       "<span style=\"color: #800000; text-decoration-color: #800000\">│</span> <span style=\"color: #00ff00; text-decoration-color: #00ff00\">__init__</span>                                                                                         <span style=\"color: #800000; text-decoration-color: #800000\">│</span>\n",
       "<span style=\"color: #800000; text-decoration-color: #800000\">│</span>                                                                                                  <span style=\"color: #800000; text-decoration-color: #800000\">│</span>\n",
       "<span style=\"color: #800000; text-decoration-color: #800000\">│</span>   <span style=\"color: #7f7f7f; text-decoration-color: #7f7f7f\"> 395 │   │   # init connectors</span>                                                                 <span style=\"color: #800000; text-decoration-color: #800000\">│</span>\n",
       "<span style=\"color: #800000; text-decoration-color: #800000\">│</span>   <span style=\"color: #7f7f7f; text-decoration-color: #7f7f7f\"> 396 │   │   </span><span style=\"color: #00ffff; text-decoration-color: #00ffff\">self</span>._data_connector = _DataConnector(<span style=\"color: #00ffff; text-decoration-color: #00ffff\">self</span>)                                       <span style=\"color: #800000; text-decoration-color: #800000\">│</span>\n",
       "<span style=\"color: #800000; text-decoration-color: #800000\">│</span>   <span style=\"color: #7f7f7f; text-decoration-color: #7f7f7f\"> 397 │   │   </span>                                                                                  <span style=\"color: #800000; text-decoration-color: #800000\">│</span>\n",
       "<span style=\"color: #800000; text-decoration-color: #800000\">│</span> <span style=\"color: #800000; text-decoration-color: #800000\">❱ </span> 398 <span style=\"color: #7f7f7f; text-decoration-color: #7f7f7f\">│   │   </span><span style=\"color: #00ffff; text-decoration-color: #00ffff\">self</span>._accelerator_connector = _AcceleratorConnector(                              <span style=\"color: #800000; text-decoration-color: #800000\">│</span>\n",
       "<span style=\"color: #800000; text-decoration-color: #800000\">│</span>   <span style=\"color: #7f7f7f; text-decoration-color: #7f7f7f\"> 399 │   │   │   </span>devices=devices,                                                              <span style=\"color: #800000; text-decoration-color: #800000\">│</span>\n",
       "<span style=\"color: #800000; text-decoration-color: #800000\">│</span>   <span style=\"color: #7f7f7f; text-decoration-color: #7f7f7f\"> 400 │   │   │   </span>accelerator=accelerator,                                                      <span style=\"color: #800000; text-decoration-color: #800000\">│</span>\n",
       "<span style=\"color: #800000; text-decoration-color: #800000\">│</span>   <span style=\"color: #7f7f7f; text-decoration-color: #7f7f7f\"> 401 │   │   │   </span>strategy=strategy,                                                            <span style=\"color: #800000; text-decoration-color: #800000\">│</span>\n",
       "<span style=\"color: #800000; text-decoration-color: #800000\">│</span>                                                                                                  <span style=\"color: #800000; text-decoration-color: #800000\">│</span>\n",
       "<span style=\"color: #800000; text-decoration-color: #800000\">│</span> <span style=\"color: #bfbf7f; text-decoration-color: #bfbf7f\">/home/juan/.local/lib/python3.10/site-packages/pytorch_lightning/trainer/connectors/</span><span style=\"color: #808000; text-decoration-color: #808000; font-weight: bold\">accelerator_</span> <span style=\"color: #800000; text-decoration-color: #800000\">│</span>\n",
       "<span style=\"color: #800000; text-decoration-color: #800000\">│</span> <span style=\"color: #808000; text-decoration-color: #808000; font-weight: bold\">connector.py</span>:<span style=\"color: #0000ff; text-decoration-color: #0000ff\">157</span> in <span style=\"color: #00ff00; text-decoration-color: #00ff00\">__init__</span>                                                                     <span style=\"color: #800000; text-decoration-color: #800000\">│</span>\n",
       "<span style=\"color: #800000; text-decoration-color: #800000\">│</span>                                                                                                  <span style=\"color: #800000; text-decoration-color: #800000\">│</span>\n",
       "<span style=\"color: #800000; text-decoration-color: #800000\">│</span>   <span style=\"color: #7f7f7f; text-decoration-color: #7f7f7f\">154 │   │   │   </span><span style=\"color: #00ffff; text-decoration-color: #00ffff\">self</span>._accelerator_flag = <span style=\"color: #00ffff; text-decoration-color: #00ffff\">self</span>._choose_gpu_accelerator_backend()                <span style=\"color: #800000; text-decoration-color: #800000\">│</span>\n",
       "<span style=\"color: #800000; text-decoration-color: #800000\">│</span>   <span style=\"color: #7f7f7f; text-decoration-color: #7f7f7f\">155 │   │   </span>                                                                                   <span style=\"color: #800000; text-decoration-color: #800000\">│</span>\n",
       "<span style=\"color: #800000; text-decoration-color: #800000\">│</span>   <span style=\"color: #7f7f7f; text-decoration-color: #7f7f7f\">156 │   │   </span><span style=\"color: #00ffff; text-decoration-color: #00ffff\">self</span>._check_device_config_and_set_final_flags(devices=devices, num_nodes=num_nod   <span style=\"color: #800000; text-decoration-color: #800000\">│</span>\n",
       "<span style=\"color: #800000; text-decoration-color: #800000\">│</span> <span style=\"color: #800000; text-decoration-color: #800000\">❱ </span>157 <span style=\"color: #7f7f7f; text-decoration-color: #7f7f7f\">│   │   </span><span style=\"color: #00ffff; text-decoration-color: #00ffff\">self</span>._set_parallel_devices_and_init_accelerator()                                  <span style=\"color: #800000; text-decoration-color: #800000\">│</span>\n",
       "<span style=\"color: #800000; text-decoration-color: #800000\">│</span>   <span style=\"color: #7f7f7f; text-decoration-color: #7f7f7f\">158 │   │   </span>                                                                                   <span style=\"color: #800000; text-decoration-color: #800000\">│</span>\n",
       "<span style=\"color: #800000; text-decoration-color: #800000\">│</span>   <span style=\"color: #7f7f7f; text-decoration-color: #7f7f7f\">159 │   │   # 3. Instantiate ClusterEnvironment</span>                                                <span style=\"color: #800000; text-decoration-color: #800000\">│</span>\n",
       "<span style=\"color: #800000; text-decoration-color: #800000\">│</span>   <span style=\"color: #7f7f7f; text-decoration-color: #7f7f7f\">160 │   │   </span><span style=\"color: #00ffff; text-decoration-color: #00ffff\">self</span>.cluster_environment: ClusterEnvironment = <span style=\"color: #00ffff; text-decoration-color: #00ffff\">self</span>._choose_and_init_cluster_env   <span style=\"color: #800000; text-decoration-color: #800000\">│</span>\n",
       "<span style=\"color: #800000; text-decoration-color: #800000\">│</span>                                                                                                  <span style=\"color: #800000; text-decoration-color: #800000\">│</span>\n",
       "<span style=\"color: #800000; text-decoration-color: #800000\">│</span> <span style=\"color: #bfbf7f; text-decoration-color: #bfbf7f\">/home/juan/.local/lib/python3.10/site-packages/pytorch_lightning/trainer/connectors/</span><span style=\"color: #808000; text-decoration-color: #808000; font-weight: bold\">accelerator_</span> <span style=\"color: #800000; text-decoration-color: #800000\">│</span>\n",
       "<span style=\"color: #800000; text-decoration-color: #800000\">│</span> <span style=\"color: #808000; text-decoration-color: #808000; font-weight: bold\">connector.py</span>:<span style=\"color: #0000ff; text-decoration-color: #0000ff\">381</span> in <span style=\"color: #00ff00; text-decoration-color: #00ff00\">_set_parallel_devices_and_init_accelerator</span>                                   <span style=\"color: #800000; text-decoration-color: #800000\">│</span>\n",
       "<span style=\"color: #800000; text-decoration-color: #800000\">│</span>                                                                                                  <span style=\"color: #800000; text-decoration-color: #800000\">│</span>\n",
       "<span style=\"color: #800000; text-decoration-color: #800000\">│</span>   <span style=\"color: #7f7f7f; text-decoration-color: #7f7f7f\">378 │   │   │   │   </span><span style=\"color: #0000ff; text-decoration-color: #0000ff\">for</span> acc_str <span style=\"color: #ff00ff; text-decoration-color: #ff00ff\">in</span> <span style=\"color: #00ffff; text-decoration-color: #00ffff\">self</span>._accelerator_types                                     <span style=\"color: #800000; text-decoration-color: #800000\">│</span>\n",
       "<span style=\"color: #800000; text-decoration-color: #800000\">│</span>   <span style=\"color: #7f7f7f; text-decoration-color: #7f7f7f\">379 │   │   │   │   </span><span style=\"color: #0000ff; text-decoration-color: #0000ff\">if</span> AcceleratorRegistry[acc_str][<span style=\"color: #808000; text-decoration-color: #808000\">\"accelerator\"</span>].is_available()              <span style=\"color: #800000; text-decoration-color: #800000\">│</span>\n",
       "<span style=\"color: #800000; text-decoration-color: #800000\">│</span>   <span style=\"color: #7f7f7f; text-decoration-color: #7f7f7f\">380 │   │   │   </span>]                                                                              <span style=\"color: #800000; text-decoration-color: #800000\">│</span>\n",
       "<span style=\"color: #800000; text-decoration-color: #800000\">│</span> <span style=\"color: #800000; text-decoration-color: #800000\">❱ </span>381 <span style=\"color: #7f7f7f; text-decoration-color: #7f7f7f\">│   │   │   </span><span style=\"color: #0000ff; text-decoration-color: #0000ff\">raise</span> MisconfigurationException(                                               <span style=\"color: #800000; text-decoration-color: #800000\">│</span>\n",
       "<span style=\"color: #800000; text-decoration-color: #800000\">│</span>   <span style=\"color: #7f7f7f; text-decoration-color: #7f7f7f\">382 │   │   │   │   </span><span style=\"color: #808000; text-decoration-color: #808000\">f\"`{</span>accelerator_cls.<span style=\"color: #ff0000; text-decoration-color: #ff0000\">__qualname__</span><span style=\"color: #808000; text-decoration-color: #808000\">}` can not run on your system\"</span>             <span style=\"color: #800000; text-decoration-color: #800000\">│</span>\n",
       "<span style=\"color: #800000; text-decoration-color: #800000\">│</span>   <span style=\"color: #7f7f7f; text-decoration-color: #7f7f7f\">383 │   │   │   │   </span><span style=\"color: #808000; text-decoration-color: #808000\">\" since the accelerator is not available. The following accelerator(s)\"</span>    <span style=\"color: #800000; text-decoration-color: #800000\">│</span>\n",
       "<span style=\"color: #800000; text-decoration-color: #800000\">│</span>   <span style=\"color: #7f7f7f; text-decoration-color: #7f7f7f\">384 │   │   │   │   </span><span style=\"color: #808000; text-decoration-color: #808000\">\" is available and can be passed into `accelerator` argument of\"</span>           <span style=\"color: #800000; text-decoration-color: #800000\">│</span>\n",
       "<span style=\"color: #800000; text-decoration-color: #800000\">╰──────────────────────────────────────────────────────────────────────────────────────────────────╯</span>\n",
       "<span style=\"color: #ff0000; text-decoration-color: #ff0000; font-weight: bold\">MisconfigurationException: </span>`CUDAAccelerator` can not run on your system since the accelerator is not available. The\n",
       "following <span style=\"color: #800080; text-decoration-color: #800080; font-weight: bold\">accelerator</span><span style=\"font-weight: bold\">(</span>s<span style=\"font-weight: bold\">)</span> is available and can be passed into `accelerator` argument of `Trainer`: <span style=\"font-weight: bold\">[</span><span style=\"color: #008000; text-decoration-color: #008000\">'cpu'</span><span style=\"font-weight: bold\">]</span>.\n",
       "</pre>\n"
      ],
      "text/plain": [
       "\u001b[31m╭─\u001b[0m\u001b[31m──────────────────────────────\u001b[0m\u001b[31m \u001b[0m\u001b[1;31mTraceback \u001b[0m\u001b[1;2;31m(most recent call last)\u001b[0m\u001b[31m \u001b[0m\u001b[31m───────────────────────────────\u001b[0m\u001b[31m─╮\u001b[0m\n",
       "\u001b[31m│\u001b[0m \u001b[2;33m/tmp/ipykernel_91527/\u001b[0m\u001b[1;33m2199048492.py\u001b[0m:\u001b[94m9\u001b[0m in \u001b[92m<module>\u001b[0m                                                 \u001b[31m│\u001b[0m\n",
       "\u001b[31m│\u001b[0m                                                                                                  \u001b[31m│\u001b[0m\n",
       "\u001b[31m│\u001b[0m \u001b[3;31m[Errno 2] No such file or directory: '/tmp/ipykernel_91527/2199048492.py'\u001b[0m                        \u001b[31m│\u001b[0m\n",
       "\u001b[31m│\u001b[0m                                                                                                  \u001b[31m│\u001b[0m\n",
       "\u001b[31m│\u001b[0m \u001b[2;33m/home/juan/.local/lib/python3.10/site-packages/pytorch_lightning/utilities/\u001b[0m\u001b[1;33margparse.py\u001b[0m:\u001b[94m69\u001b[0m in     \u001b[31m│\u001b[0m\n",
       "\u001b[31m│\u001b[0m \u001b[92minsert_env_defaults\u001b[0m                                                                              \u001b[31m│\u001b[0m\n",
       "\u001b[31m│\u001b[0m                                                                                                  \u001b[31m│\u001b[0m\n",
       "\u001b[31m│\u001b[0m   \u001b[2m66 \u001b[0m\u001b[2m│   │   \u001b[0mkwargs = \u001b[96mdict\u001b[0m(\u001b[96mlist\u001b[0m(env_variables.items()) + \u001b[96mlist\u001b[0m(kwargs.items()))                   \u001b[31m│\u001b[0m\n",
       "\u001b[31m│\u001b[0m   \u001b[2m67 \u001b[0m\u001b[2m│   │   \u001b[0m                                                                                    \u001b[31m│\u001b[0m\n",
       "\u001b[31m│\u001b[0m   \u001b[2m68 \u001b[0m\u001b[2m│   │   \u001b[0m\u001b[2m# all args were already moved to kwargs\u001b[0m                                             \u001b[31m│\u001b[0m\n",
       "\u001b[31m│\u001b[0m \u001b[31m❱ \u001b[0m69 \u001b[2m│   │   \u001b[0m\u001b[94mreturn\u001b[0m fn(\u001b[96mself\u001b[0m, **kwargs)                                                           \u001b[31m│\u001b[0m\n",
       "\u001b[31m│\u001b[0m   \u001b[2m70 \u001b[0m\u001b[2m│   \u001b[0m                                                                                        \u001b[31m│\u001b[0m\n",
       "\u001b[31m│\u001b[0m   \u001b[2m71 \u001b[0m\u001b[2m│   \u001b[0m\u001b[94mreturn\u001b[0m cast(_T, insert_env_defaults)                                                    \u001b[31m│\u001b[0m\n",
       "\u001b[31m│\u001b[0m   \u001b[2m72 \u001b[0m                                                                                            \u001b[31m│\u001b[0m\n",
       "\u001b[31m│\u001b[0m                                                                                                  \u001b[31m│\u001b[0m\n",
       "\u001b[31m│\u001b[0m \u001b[2;33m/home/juan/.local/lib/python3.10/site-packages/pytorch_lightning/trainer/\u001b[0m\u001b[1;33mtrainer.py\u001b[0m:\u001b[94m398\u001b[0m in       \u001b[31m│\u001b[0m\n",
       "\u001b[31m│\u001b[0m \u001b[92m__init__\u001b[0m                                                                                         \u001b[31m│\u001b[0m\n",
       "\u001b[31m│\u001b[0m                                                                                                  \u001b[31m│\u001b[0m\n",
       "\u001b[31m│\u001b[0m   \u001b[2m 395 \u001b[0m\u001b[2m│   │   \u001b[0m\u001b[2m# init connectors\u001b[0m                                                                 \u001b[31m│\u001b[0m\n",
       "\u001b[31m│\u001b[0m   \u001b[2m 396 \u001b[0m\u001b[2m│   │   \u001b[0m\u001b[96mself\u001b[0m._data_connector = _DataConnector(\u001b[96mself\u001b[0m)                                       \u001b[31m│\u001b[0m\n",
       "\u001b[31m│\u001b[0m   \u001b[2m 397 \u001b[0m\u001b[2m│   │   \u001b[0m                                                                                  \u001b[31m│\u001b[0m\n",
       "\u001b[31m│\u001b[0m \u001b[31m❱ \u001b[0m 398 \u001b[2m│   │   \u001b[0m\u001b[96mself\u001b[0m._accelerator_connector = _AcceleratorConnector(                              \u001b[31m│\u001b[0m\n",
       "\u001b[31m│\u001b[0m   \u001b[2m 399 \u001b[0m\u001b[2m│   │   │   \u001b[0mdevices=devices,                                                              \u001b[31m│\u001b[0m\n",
       "\u001b[31m│\u001b[0m   \u001b[2m 400 \u001b[0m\u001b[2m│   │   │   \u001b[0maccelerator=accelerator,                                                      \u001b[31m│\u001b[0m\n",
       "\u001b[31m│\u001b[0m   \u001b[2m 401 \u001b[0m\u001b[2m│   │   │   \u001b[0mstrategy=strategy,                                                            \u001b[31m│\u001b[0m\n",
       "\u001b[31m│\u001b[0m                                                                                                  \u001b[31m│\u001b[0m\n",
       "\u001b[31m│\u001b[0m \u001b[2;33m/home/juan/.local/lib/python3.10/site-packages/pytorch_lightning/trainer/connectors/\u001b[0m\u001b[1;33maccelerator_\u001b[0m \u001b[31m│\u001b[0m\n",
       "\u001b[31m│\u001b[0m \u001b[1;33mconnector.py\u001b[0m:\u001b[94m157\u001b[0m in \u001b[92m__init__\u001b[0m                                                                     \u001b[31m│\u001b[0m\n",
       "\u001b[31m│\u001b[0m                                                                                                  \u001b[31m│\u001b[0m\n",
       "\u001b[31m│\u001b[0m   \u001b[2m154 \u001b[0m\u001b[2m│   │   │   \u001b[0m\u001b[96mself\u001b[0m._accelerator_flag = \u001b[96mself\u001b[0m._choose_gpu_accelerator_backend()                \u001b[31m│\u001b[0m\n",
       "\u001b[31m│\u001b[0m   \u001b[2m155 \u001b[0m\u001b[2m│   │   \u001b[0m                                                                                   \u001b[31m│\u001b[0m\n",
       "\u001b[31m│\u001b[0m   \u001b[2m156 \u001b[0m\u001b[2m│   │   \u001b[0m\u001b[96mself\u001b[0m._check_device_config_and_set_final_flags(devices=devices, num_nodes=num_nod   \u001b[31m│\u001b[0m\n",
       "\u001b[31m│\u001b[0m \u001b[31m❱ \u001b[0m157 \u001b[2m│   │   \u001b[0m\u001b[96mself\u001b[0m._set_parallel_devices_and_init_accelerator()                                  \u001b[31m│\u001b[0m\n",
       "\u001b[31m│\u001b[0m   \u001b[2m158 \u001b[0m\u001b[2m│   │   \u001b[0m                                                                                   \u001b[31m│\u001b[0m\n",
       "\u001b[31m│\u001b[0m   \u001b[2m159 \u001b[0m\u001b[2m│   │   \u001b[0m\u001b[2m# 3. Instantiate ClusterEnvironment\u001b[0m                                                \u001b[31m│\u001b[0m\n",
       "\u001b[31m│\u001b[0m   \u001b[2m160 \u001b[0m\u001b[2m│   │   \u001b[0m\u001b[96mself\u001b[0m.cluster_environment: ClusterEnvironment = \u001b[96mself\u001b[0m._choose_and_init_cluster_env   \u001b[31m│\u001b[0m\n",
       "\u001b[31m│\u001b[0m                                                                                                  \u001b[31m│\u001b[0m\n",
       "\u001b[31m│\u001b[0m \u001b[2;33m/home/juan/.local/lib/python3.10/site-packages/pytorch_lightning/trainer/connectors/\u001b[0m\u001b[1;33maccelerator_\u001b[0m \u001b[31m│\u001b[0m\n",
       "\u001b[31m│\u001b[0m \u001b[1;33mconnector.py\u001b[0m:\u001b[94m381\u001b[0m in \u001b[92m_set_parallel_devices_and_init_accelerator\u001b[0m                                   \u001b[31m│\u001b[0m\n",
       "\u001b[31m│\u001b[0m                                                                                                  \u001b[31m│\u001b[0m\n",
       "\u001b[31m│\u001b[0m   \u001b[2m378 \u001b[0m\u001b[2m│   │   │   │   \u001b[0m\u001b[94mfor\u001b[0m acc_str \u001b[95min\u001b[0m \u001b[96mself\u001b[0m._accelerator_types                                     \u001b[31m│\u001b[0m\n",
       "\u001b[31m│\u001b[0m   \u001b[2m379 \u001b[0m\u001b[2m│   │   │   │   \u001b[0m\u001b[94mif\u001b[0m AcceleratorRegistry[acc_str][\u001b[33m\"\u001b[0m\u001b[33maccelerator\u001b[0m\u001b[33m\"\u001b[0m].is_available()              \u001b[31m│\u001b[0m\n",
       "\u001b[31m│\u001b[0m   \u001b[2m380 \u001b[0m\u001b[2m│   │   │   \u001b[0m]                                                                              \u001b[31m│\u001b[0m\n",
       "\u001b[31m│\u001b[0m \u001b[31m❱ \u001b[0m381 \u001b[2m│   │   │   \u001b[0m\u001b[94mraise\u001b[0m MisconfigurationException(                                               \u001b[31m│\u001b[0m\n",
       "\u001b[31m│\u001b[0m   \u001b[2m382 \u001b[0m\u001b[2m│   │   │   │   \u001b[0m\u001b[33mf\u001b[0m\u001b[33m\"\u001b[0m\u001b[33m`\u001b[0m\u001b[33m{\u001b[0maccelerator_cls.\u001b[91m__qualname__\u001b[0m\u001b[33m}\u001b[0m\u001b[33m` can not run on your system\u001b[0m\u001b[33m\"\u001b[0m             \u001b[31m│\u001b[0m\n",
       "\u001b[31m│\u001b[0m   \u001b[2m383 \u001b[0m\u001b[2m│   │   │   │   \u001b[0m\u001b[33m\"\u001b[0m\u001b[33m since the accelerator is not available. The following accelerator(s)\u001b[0m\u001b[33m\"\u001b[0m    \u001b[31m│\u001b[0m\n",
       "\u001b[31m│\u001b[0m   \u001b[2m384 \u001b[0m\u001b[2m│   │   │   │   \u001b[0m\u001b[33m\"\u001b[0m\u001b[33m is available and can be passed into `accelerator` argument of\u001b[0m\u001b[33m\"\u001b[0m           \u001b[31m│\u001b[0m\n",
       "\u001b[31m╰──────────────────────────────────────────────────────────────────────────────────────────────────╯\u001b[0m\n",
       "\u001b[1;91mMisconfigurationException: \u001b[0m`CUDAAccelerator` can not run on your system since the accelerator is not available. The\n",
       "following \u001b[1;35maccelerator\u001b[0m\u001b[1m(\u001b[0ms\u001b[1m)\u001b[0m is available and can be passed into `accelerator` argument of `Trainer`: \u001b[1m[\u001b[0m\u001b[32m'cpu'\u001b[0m\u001b[1m]\u001b[0m.\n"
      ]
     },
     "metadata": {},
     "output_type": "display_data"
    }
   ],
   "source": [
    "import pytorch_lightning as pl \n",
    "from pytorch_lightning.callbacks import ModelCheckpoint\n",
    "\n",
    "ds = Dataset()\n",
    "task = ImageSegmentation(num_classes=ds.num_classes)\n",
    "\n",
    "# overfit batches to check if model is working\n",
    "\n",
    "trainer = pl.Trainer(\n",
    "\tmax_epochs=30,\n",
    "\toverfit_batches=1,\n",
    "    enable_checkpointing=False,\n",
    "\tlogger=None,\n",
    "\taccelerator=\"cuda\",\n",
    "    devices=1,\n",
    "\tprecision=16,\n",
    ")\n",
    "\n",
    "trainer.fit(task, ds)"
   ]
  },
  {
   "cell_type": "markdown",
   "metadata": {},
   "source": [
    "Feel free to add your favourite callbacks, accelerators, data augmentation... The following is a more complete example."
   ]
  },
  {
   "cell_type": "code",
   "execution_count": null,
   "metadata": {},
   "outputs": [],
   "source": [
    "import albumentations as A \n",
    "\n",
    "pl.seed_everything(42, workers=True) # make results reproducible\n",
    "\n",
    "trans = A.Compose([ # some data augmentation (we use albumentations)\n",
    "\tA.RandomRotate90(),\n",
    "\tA.HorizontalFlip(),\n",
    "\tA.VerticalFlip(),\n",
    "])\n",
    "\n",
    "bands = [S2.blue, S2.green, S2.red, S2.nir1] # choose any bands combination\n",
    "\n",
    "ds = OnCloudNDataset(\n",
    "    batch_size=64, # increase the batch size to fully use your GPU\n",
    "    bands=bands,\n",
    "    num_workers=20, # faster data loading (put here your CPU core count)\n",
    "    pin_memory=True, # faster data loading\n",
    "    train_trans=trans,\n",
    ")\n",
    "\n",
    "model = Model(in_chans=len(bands))\n",
    "\n",
    "hparams = { # customize optimizer\n",
    "    'optimizer': 'Adam',\n",
    "    'optim_params': {\n",
    "        'lr': 1e-3\n",
    "    },\n",
    "\t'scheduler': 'MultiStepLR',\n",
    "\t'scheduler_params': {\n",
    "\t\t'milestones': [3, 6],\n",
    "\t\t'verbose': True\n",
    "\t} # add anything you want to save as hparams with your model\n",
    "}\n",
    "\n",
    "# customize your metrics (use as many as you want)\n",
    "\n",
    "def iou(pr, gt, th=0.5, eps=1e-7):\n",
    "        mask = gt.ne(255) # ignore value 255 in mask\n",
    "        gt = gt.masked_select(mask)\n",
    "        pr = pr.masked_select(mask)\n",
    "        pr = torch.sigmoid(pr) > th\n",
    "        gt = gt > th \n",
    "        intersection = torch.sum(gt & pr)\n",
    "        union = torch.sum(gt | pr)\n",
    "        return intersection / (union + eps)\n",
    "\n",
    "metrics = {'iou': iou} \n",
    "\n",
    "# customize your loss function\n",
    "\n",
    "loss_fn = smp.losses.SoftBCEWithLogitsLoss(ignore_index=255) # ignore value 255 in mask\n",
    "\n",
    "# train the model\n",
    "\n",
    "task = ImageSegmentation(model, hparams=hparams, metrics=metrics, loss_fn=loss_fn)\n",
    "\n",
    "trainer = pl.Trainer(\n",
    "    max_epochs=10,\n",
    "    gpus=1,\n",
    "    precision=16,\n",
    "    callbacks=[ # save best model during training\n",
    "\t\tModelCheckpoint(\n",
    "\t\t\tdirpath='./',\n",
    "\t\t\tfilename=f\"unet-baseline-{{val_iou:.4f}}\",\n",
    "\t\t\tsave_top_k=1,\n",
    "\t\t\tmonitor='val_iou',\n",
    "\t\t\tmode='max'\n",
    "\t\t)\n",
    "\t],\n",
    "\tdeterministic=True, # make results reproducible\n",
    ")\n",
    "\n",
    "trainer.fit(task, ds)"
   ]
  },
  {
   "cell_type": "markdown",
   "metadata": {},
   "source": [
    "## Submission"
   ]
  },
  {
   "cell_type": "markdown",
   "metadata": {},
   "source": [
    "This is a code submission challenge, you can find an example on how to submit [here](https://www.drivendata.co/blog/cloud-cover-benchmark/). First, we have to export our model, in this case using `torchscript`. "
   ]
  },
  {
   "cell_type": "code",
   "execution_count": null,
   "metadata": {},
   "outputs": [],
   "source": [
    "# optionally, load from checkpoint\n",
    "cpu_model = model.cpu()\n",
    "sample_input_cpu = torch.randn(32, 512, 512, len(bands))\n",
    "traced_cpu = torch.jit.trace(cpu_model, sample_input_cpu)\n",
    "torch.jit.save(traced_cpu, \"model.pt\")"
   ]
  },
  {
   "cell_type": "markdown",
   "metadata": {},
   "source": [
    "Finally, write a `main.py` file with the following content and compress it along with the exported model with the name `submission.zip` to submit into the challenge platform."
   ]
  },
  {
   "cell_type": "code",
   "execution_count": null,
   "metadata": {},
   "outputs": [],
   "source": [
    "from pathlib import Path\n",
    "import os\n",
    "from tifffile import imsave, imread\n",
    "import numpy as np\n",
    "import torch\n",
    "from tqdm import tqdm\n",
    "from torch.utils.data import DataLoader, Dataset\n",
    "\n",
    "images_path = Path('/codeexecution/data/test_features')\n",
    "predictions_path = Path('/codeexecution/predictions')\n",
    "chip_ids = os.listdir(images_path)\n",
    "bands = ['B02', 'B03', 'B04', 'B08']\n",
    "\n",
    "class MyDataset(Dataset):\n",
    "    def __init__(self, images):\n",
    "        super().__init__()\n",
    "        self.images = images\n",
    "\n",
    "    def __len__(self):\n",
    "        return len(self.images)\n",
    "\n",
    "    def __getitem__(self, idx):\n",
    "        chip_id = self.images[idx]\n",
    "        img = [imread(images_path / chip_id / f'{band}.tif') for band in bands]\n",
    "        img = np.stack(img, axis=-1).astype(np.float32)\n",
    "        return torch.from_numpy(img), chip_id\n",
    "\n",
    "\n",
    "ds = MyDataset(chip_ids)\n",
    "\n",
    "dl = DataLoader(ds, batch_size=64, shuffle=False,\n",
    "                num_workers=4, pin_memory=True)\n",
    "\n",
    "model = torch.jit.load(\"model.pt\")\n",
    "model.cuda()\n",
    "model.eval()\n",
    "\n",
    "for batch in dl:\n",
    "    imgs, chips = batch\n",
    "    with torch.no_grad():\n",
    "        pred = model(imgs.cuda())\n",
    "    masks = torch.sigmoid(pred) > 0.5\n",
    "    masks = masks.cpu().numpy().astype(np.uint8)\n",
    "    for i, chip in enumerate(chips):\n",
    "        imsave(predictions_path / f'{chip}.tif', masks[i, ...])\n",
    "\n"
   ]
  },
  {
   "cell_type": "markdown",
   "metadata": {},
   "source": [
    "> Pytorch 1.8 is required at the moment of this writing ! This is the version used in the scoring platform and different versions may cause conflicts with `torchscript`. "
   ]
  },
  {
   "cell_type": "markdown",
   "metadata": {},
   "source": [
    "I hope you like the library, we are planning to include more datasets and tasks in the future. If you find it useful please get in touch !!!"
   ]
  }
 ],
 "metadata": {
  "kernelspec": {
   "display_name": "Python 3.8.12 ('pt1.8')",
   "language": "python",
   "name": "python3"
  },
  "language_info": {
   "codemirror_mode": {
    "name": "ipython",
    "version": 3
   },
   "file_extension": ".py",
   "mimetype": "text/x-python",
   "name": "python",
   "nbconvert_exporter": "python",
   "pygments_lexer": "ipython3",
   "version": "3.10.12"
  },
  "orig_nbformat": 4,
  "vscode": {
   "interpreter": {
    "hash": "b46e3afca42a3b3be4ae018853393267b45e4917629b3d44839f883f978526cf"
   }
  }
 },
 "nbformat": 4,
 "nbformat_minor": 2
}
