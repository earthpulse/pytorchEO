{
 "cells": [
  {
   "cell_type": "code",
   "execution_count": 1,
   "metadata": {},
   "outputs": [],
   "source": [
    "%load_ext autoreload\n",
    "%autoreload 2\n",
    "\n",
    "import warnings\n",
    "from rasterio.errors import NotGeoreferencedWarning\n",
    "\n",
    "warnings.filterwarnings(\"ignore\", category=NotGeoreferencedWarning)"
   ]
  },
  {
   "cell_type": "markdown",
   "metadata": {},
   "source": [
    "In this notebook you will learn how to get started with PytorchEO training a baseline model for the [Solar Panel Detection Using Sentinel-2](https://solafune.com/competitions/5dfc315c-1b24-4573-804f-7de8d707cd90) challenge."
   ]
  },
  {
   "cell_type": "markdown",
   "metadata": {},
   "source": [
    "## Data exploration"
   ]
  },
  {
   "cell_type": "markdown",
   "metadata": {},
   "source": [
    "Before continuing, join the challenge, download and extract the [data](https://solafune.com/competitions/5dfc315c-1b24-4573-804f-7de8d707cd90?menu=data&tab=)."
   ]
  },
  {
   "cell_type": "code",
   "execution_count": 2,
   "metadata": {},
   "outputs": [
    {
     "data": {
      "text/plain": [
       "['evaluation', 'train', 'sample']"
      ]
     },
     "execution_count": 2,
     "metadata": {},
     "output_type": "execute_result"
    }
   ],
   "source": [
    "import os \n",
    "from pathlib import Path\n",
    "\n",
    "path = Path('/fastdata/solarPanelDetection/') # path to the data \n",
    "folders = [f for f in os.listdir(path) if os.path.isdir(path / f)] # get all the folders in the path\n",
    "folders"
   ]
  },
  {
   "cell_type": "markdown",
   "metadata": {},
   "source": [
    "The train folder contains images and masks for training"
   ]
  },
  {
   "cell_type": "code",
   "execution_count": 3,
   "metadata": {},
   "outputs": [
    {
     "data": {
      "text/plain": [
       "['s2_image', 'mask']"
      ]
     },
     "execution_count": 3,
     "metadata": {},
     "output_type": "execute_result"
    }
   ],
   "source": [
    "os.listdir(path / 'train') "
   ]
  },
  {
   "cell_type": "code",
   "execution_count": 4,
   "metadata": {},
   "outputs": [
    {
     "data": {
      "text/plain": [
       "(2066, 2066)"
      ]
     },
     "execution_count": 4,
     "metadata": {},
     "output_type": "execute_result"
    }
   ],
   "source": [
    "from glob import glob\n",
    "\n",
    "images = glob(str(path / 'train' / 's2_image/*.tif'))\n",
    "masks = glob(str(path / 'train' / 'mask/*.tif'))\n",
    "\n",
    "len(images), len(masks)"
   ]
  },
  {
   "cell_type": "code",
   "execution_count": 5,
   "metadata": {},
   "outputs": [
    {
     "data": {
      "text/plain": [
       "(['/fastdata/solarPanelDetection/train/s2_image/train_s2_image_2037.tif',\n",
       "  '/fastdata/solarPanelDetection/train/s2_image/train_s2_image_792.tif',\n",
       "  '/fastdata/solarPanelDetection/train/s2_image/train_s2_image_1118.tif'],\n",
       " ['/fastdata/solarPanelDetection/train/mask/train_mask_539.tif',\n",
       "  '/fastdata/solarPanelDetection/train/mask/train_mask_801.tif',\n",
       "  '/fastdata/solarPanelDetection/train/mask/train_mask_157.tif'])"
      ]
     },
     "execution_count": 5,
     "metadata": {},
     "output_type": "execute_result"
    }
   ],
   "source": [
    "images[:3], masks[:3]"
   ]
  },
  {
   "cell_type": "code",
   "execution_count": 6,
   "metadata": {},
   "outputs": [
    {
     "data": {
      "text/plain": [
       "(2066, ['2037', '792', '1118'])"
      ]
     },
     "execution_count": 6,
     "metadata": {},
     "output_type": "execute_result"
    }
   ],
   "source": [
    "# generate list of image ids \n",
    "\n",
    "ids = [f.split('_')[-1][:-4] for f in images]\n",
    "len(ids), ids[:3]"
   ]
  },
  {
   "cell_type": "code",
   "execution_count": 7,
   "metadata": {},
   "outputs": [],
   "source": [
    "for id in ids:\n",
    "\tassert str(path / 'train' / 's2_image' / f'train_s2_image_{id}.tif') in images, f'train_s2_image_{id}.tif not found'\n",
    "\tassert str(path / 'train' / 'mask' / f'train_mask_{id}.tif') in masks, f'train_mask_{id}.tif not found'"
   ]
  },
  {
   "cell_type": "markdown",
   "metadata": {},
   "source": [
    "We can visualize some samples"
   ]
  },
  {
   "cell_type": "code",
   "execution_count": 8,
   "metadata": {},
   "outputs": [
    {
     "name": "stderr",
     "output_type": "stream",
     "text": [
      "Clipping input data to the valid range for imshow with RGB data ([0..1] for floats or [0..255] for integers).\n"
     ]
    },
    {
     "data": {
      "image/png": "[encoded data removed]",
      "text/plain": [
       "<Figure size 1000x500 with 10 Axes>"
      ]
     },
     "metadata": {},
     "output_type": "display_data"
    }
   ],
   "source": [
    "import matplotlib.pyplot as plt\n",
    "import rasterio as rio \n",
    "import random\n",
    "\n",
    "cols = 5\n",
    "fig = plt.figure(figsize=(cols*2, 5))\n",
    "for col in range(cols):\n",
    "\timage_id = random.choice(ids)\n",
    "\tax1 = fig.add_subplot(2, cols, col+1)\n",
    "\timage_path = path / 'train' / 's2_image' / f'train_s2_image_{image_id}.tif'\n",
    "\tds = rio.open(image_path)\n",
    "\trgb = ds.read((4,3,2)) / 4000 \n",
    "\tax1.imshow(rgb.transpose(1,2,0))\n",
    "\tax1.axis('off')\n",
    "\tax1.set_title(rgb.shape)\n",
    "\tax2 = fig.add_subplot(2, cols, col+cols+1)\n",
    "\tmask_path = path / 'train' / 'mask' / f'train_mask_{image_id}.tif'\n",
    "\tmask = rio.open(mask_path).read(1)\n",
    "\tax2.imshow(mask)\n",
    "\tax2.axis('off')\n",
    "\tax2.set_title(mask.shape)\n",
    "plt.tight_layout()\n",
    "plt.show()"
   ]
  },
  {
   "cell_type": "markdown",
   "metadata": {},
   "source": [
    "Images are very small and can have different size. Masks are binary."
   ]
  },
  {
   "cell_type": "code",
   "execution_count": 9,
   "metadata": {},
   "outputs": [
    {
     "data": {
      "text/plain": [
       "(dtype('float64'), dtype('uint8'), 0, 1)"
      ]
     },
     "execution_count": 9,
     "metadata": {},
     "output_type": "execute_result"
    }
   ],
   "source": [
    "rgb.dtype, mask.dtype, mask.min(), mask.max()"
   ]
  },
  {
   "cell_type": "code",
   "execution_count": 10,
   "metadata": {},
   "outputs": [
    {
     "data": {
      "text/plain": [
       "{(12, 23, 24): 283,\n",
       " (12, 23, 23): 914,\n",
       " (12, 25, 25): 72,\n",
       " (12, 24, 24): 359,\n",
       " (12, 24, 23): 339,\n",
       " (12, 22, 22): 4,\n",
       " (12, 23, 22): 26,\n",
       " (12, 25, 24): 27,\n",
       " (12, 22, 23): 20,\n",
       " (12, 24, 25): 16,\n",
       " (12, 26, 25): 2,\n",
       " (12, 25, 26): 3,\n",
       " (12, 26, 26): 1}"
      ]
     },
     "execution_count": 10,
     "metadata": {},
     "output_type": "execute_result"
    }
   ],
   "source": [
    "shapes = {}\n",
    "for image in images:\n",
    "\tx = rio.open(image).read().shape\n",
    "\tshapes[x] = shapes.get(x, 0) + 1\n",
    "shapes"
   ]
  },
  {
   "cell_type": "markdown",
   "metadata": {},
   "source": [
    "The evaluation folder contains the images for generating the submission masks (which an examples is shown in the samples folder)."
   ]
  },
  {
   "cell_type": "code",
   "execution_count": 11,
   "metadata": {},
   "outputs": [
    {
     "data": {
      "text/plain": [
       "(2066,\n",
       " ['evaluation_s2_image_851.tif',\n",
       "  'evaluation_s2_image_1695.tif',\n",
       "  'evaluation_s2_image_1204.tif'])"
      ]
     },
     "execution_count": 11,
     "metadata": {},
     "output_type": "execute_result"
    }
   ],
   "source": [
    "test_images = os.listdir(path / 'evaluation')\n",
    "len(test_images), test_images[:3]"
   ]
  },
  {
   "cell_type": "code",
   "execution_count": 12,
   "metadata": {},
   "outputs": [
    {
     "data": {
      "text/plain": [
       "(2066,\n",
       " ['evaluation_mask_1646.tif',\n",
       "  'evaluation_mask_859.tif',\n",
       "  'evaluation_mask_1261.tif'])"
      ]
     },
     "execution_count": 12,
     "metadata": {},
     "output_type": "execute_result"
    }
   ],
   "source": [
    "test_masks = os.listdir(path / 'sample')\n",
    "len(test_masks), test_masks[:3]"
   ]
  },
  {
   "cell_type": "code",
   "execution_count": 13,
   "metadata": {},
   "outputs": [],
   "source": [
    "test_ids = [f.split('_')[-1][:-4] for f in test_images]\n",
    "assert len(test_ids) == len(test_images), 'number of test images and test ids do not match'"
   ]
  },
  {
   "cell_type": "code",
   "execution_count": 14,
   "metadata": {},
   "outputs": [],
   "source": [
    "for test_id in test_ids:\n",
    "\tassert f'evaluation_s2_image_{test_id}.tif' in test_images, f'evaluation_s2_image_{test_id}.tif not found'\n",
    "\tassert f'evaluation_mask_{test_id}.tif' in test_masks, f'evaluation_mask_{test_id}.tif not found'"
   ]
  },
  {
   "cell_type": "markdown",
   "metadata": {},
   "source": [
    "## The Dataset"
   ]
  },
  {
   "cell_type": "markdown",
   "metadata": {},
   "source": [
    "PytorchEO is built around `Datasets` and `Tasks`. In this challenge we are asked to solve an image segmentation task with a dataset composed of Sentinel 2 images with corresponding solar panels masks. \n",
    "\n",
    "You can build your own PytorchEO Datasets as follows:\n"
   ]
  },
  {
   "cell_type": "code",
   "execution_count": 15,
   "metadata": {},
   "outputs": [],
   "source": [
    "# imports\n",
    "import lightning as L\n",
    "import pandas as pd\n",
    "from sklearn.model_selection import train_test_split\n",
    "from torch.utils.data import DataLoader\n",
    "import numpy as np\n",
    "from einops import rearrange\n",
    "import albumentations as A\n",
    "from albumentations.pytorch import ToTensorV2\n",
    "from pathlib import Path\n",
    "from glob import glob\n",
    "import os\n",
    "\n",
    "# Pytorch EO imports\n",
    "from pytorch_eo.datasets import ConcatDataset\n",
    "from pytorch_eo.datasets.sensors import S2\n",
    "from pytorch_eo.datasets.sensors import Sensors\n",
    "from pytorch_eo.datasets import SensorImageDataset, RGBImageDataset\n",
    "\n",
    "class Dataset(L.LightningDataModule): \n",
    "\n",
    "    def __init__(self,\n",
    "                 batch_size=32,\n",
    "                 path='/fastdata/solarPanelDetection/', \n",
    "                 val_size=0.2,\n",
    "                 train_trans=[],\n",
    "                 val_trans=[],\n",
    "                 num_workers=0,\n",
    "                 pin_memory=False,\n",
    "                 seed=42,\n",
    "                 verbose=False,\n",
    "                 bands=None,\n",
    "                 ):\n",
    "        super().__init__()\n",
    "        self.path = Path(path)\n",
    "        self.batch_size = batch_size\n",
    "        self.val_size = val_size\n",
    "        self.train_trans = self.setup_trans(train_trans)\n",
    "        self.val_trans = self.setup_trans(val_trans)\n",
    "        self.bands = bands if bands is not None else S2.RGB\n",
    "        self.num_bands = (\n",
    "            len(self.bands)\n",
    "            if isinstance(self.bands, list)\n",
    "            else len(self.bands.value)\n",
    "            if isinstance(self.bands.value, list)\n",
    "            else 1\n",
    "        )\n",
    "        self.num_classes = 1\n",
    "        self.num_workers = num_workers\n",
    "        self.pin_memory = pin_memory\n",
    "        self.seed = seed\n",
    "        self.verbose = verbose\n",
    "\n",
    "    def setup(self, stage=None):\n",
    "        images = glob(str(self.path / 'train' / 's2_image/*.tif'))\n",
    "        ids = [f.split('_')[-1][:-4] for f in images]\n",
    "        masks = [str(self.path / 'train' / 'mask' / f'train_mask_{id}.tif') for id in ids]\n",
    "        _masks = glob(str(self.path / 'train' / 'mask/*.tif'))\n",
    "        assert len(images) == len(masks) == len(_masks) == len(ids) == 2066, 'number of training images and masks must be 2066'\n",
    "        for mask in masks:\n",
    "            assert mask in _masks, f'{mask} not found'\n",
    "        test_images = glob(str(self.path / 'evaluation/*.tif'))\n",
    "        test_ids = [f.split('_')[-1][:-4] for f in test_images]\n",
    "        assert len(test_images) == len(test_ids) == 2066, 'number of test images must be 100'\n",
    "        # build dataframe and splits\n",
    "        self.df = pd.DataFrame({'image': images, 'mask': masks})\n",
    "        self.train_df, self.val_df = self.df, None\n",
    "        if self.val_size > 0:\n",
    "            self.train_df, self.val_df = train_test_split(\n",
    "                self.df,\n",
    "                test_size=int(len(self.df) * self.val_size),\n",
    "                random_state=self.seed,\n",
    "            )\n",
    "        if self.verbose:\n",
    "            print(\"Training samples\", len(self.train_df))\n",
    "            if self.val_df is not None:\n",
    "                print(\"Validation samples\", len(self.val_df))\n",
    "        self.test_df = pd.DataFrame({'image': test_images, 'id': test_ids})\n",
    "        # generate datasets\n",
    "        self.train_ds = self.get_dataset(self.train_df, self.train_trans)\n",
    "        self.val_ds = (\n",
    "            self.get_dataset(self.val_df, self.val_trans)\n",
    "            if self.val_df is not None\n",
    "            else None\n",
    "        )\n",
    "        \n",
    "    def get_dataset(self, df, trans=None):\n",
    "        return ConcatDataset({\n",
    "            'image': SensorImageDataset(df.image.values, Sensors.S2, self.bands),\n",
    "            'mask': RGBImageDataset(df['mask'].values)\n",
    "        }, trans)\n",
    "    \n",
    "    def get_dataloader(self, ds, batch_size=None, shuffle=False):\n",
    "        return DataLoader(\n",
    "            ds,\n",
    "            batch_size=self.batch_size if batch_size is None else batch_size,\n",
    "            num_workers=self.num_workers,\n",
    "            pin_memory=self.pin_memory,\n",
    "            shuffle=shuffle,\n",
    "        )\n",
    "\n",
    "    def train_dataloader(self, batch_size=None, shuffle=True):\n",
    "        return self.get_dataloader(self.train_ds, batch_size, shuffle)\n",
    "\n",
    "    def val_dataloader(self, batch_size=None, shuffle=False):\n",
    "        return (\n",
    "            self.get_dataloader(self.val_ds, batch_size, shuffle)\n",
    "            if self.val_ds is not None\n",
    "            else None\n",
    "        )\n",
    "    \n",
    "    def setup_trans(self, trans):\n",
    "        def clip(x, **kwargs):\n",
    "            return np.clip(x, 0.0, 1.0).astype(np.float32)\n",
    "        def normalize(x, **kwargs):\n",
    "            return x / 4000 if x.ndim == 3 else (x > 0.5).astype(np.uint8)\n",
    "        return A.Compose(\n",
    "            trans + [\n",
    "                A.Resize(32, 32), # resize to 32x32 due to model architecture\n",
    "                A.Lambda(image=normalize), \n",
    "                A.Lambda(image=clip), \n",
    "                ToTensorV2(),  \n",
    "            ], \n",
    "            additional_targets={\"mask\": \"image\"}, \n",
    "            is_check_shapes=False) # original images and masks can have different shapes\n",
    "        \n"
   ]
  },
  {
   "cell_type": "code",
   "execution_count": 16,
   "metadata": {},
   "outputs": [],
   "source": [
    "ds = Dataset(batch_size=5)\n",
    "ds.setup()"
   ]
  },
  {
   "cell_type": "code",
   "execution_count": 17,
   "metadata": {},
   "outputs": [
    {
     "data": {
      "text/html": [
       "<div>\n",
       "<style scoped>\n",
       "    .dataframe tbody tr th:only-of-type {\n",
       "        vertical-align: middle;\n",
       "    }\n",
       "\n",
       "    .dataframe tbody tr th {\n",
       "        vertical-align: top;\n",
       "    }\n",
       "\n",
       "    .dataframe thead th {\n",
       "        text-align: right;\n",
       "    }\n",
       "</style>\n",
       "<table border=\"1\" class=\"dataframe\">\n",
       "  <thead>\n",
       "    <tr style=\"text-align: right;\">\n",
       "      <th></th>\n",
       "      <th>image</th>\n",
       "      <th>mask</th>\n",
       "    </tr>\n",
       "  </thead>\n",
       "  <tbody>\n",
       "    <tr>\n",
       "      <th>0</th>\n",
       "      <td>/fastdata/solarPanelDetection/train/s2_image/t...</td>\n",
       "      <td>/fastdata/solarPanelDetection/train/mask/train...</td>\n",
       "    </tr>\n",
       "    <tr>\n",
       "      <th>1</th>\n",
       "      <td>/fastdata/solarPanelDetection/train/s2_image/t...</td>\n",
       "      <td>/fastdata/solarPanelDetection/train/mask/train...</td>\n",
       "    </tr>\n",
       "    <tr>\n",
       "      <th>2</th>\n",
       "      <td>/fastdata/solarPanelDetection/train/s2_image/t...</td>\n",
       "      <td>/fastdata/solarPanelDetection/train/mask/train...</td>\n",
       "    </tr>\n",
       "    <tr>\n",
       "      <th>3</th>\n",
       "      <td>/fastdata/solarPanelDetection/train/s2_image/t...</td>\n",
       "      <td>/fastdata/solarPanelDetection/train/mask/train...</td>\n",
       "    </tr>\n",
       "    <tr>\n",
       "      <th>4</th>\n",
       "      <td>/fastdata/solarPanelDetection/train/s2_image/t...</td>\n",
       "      <td>/fastdata/solarPanelDetection/train/mask/train...</td>\n",
       "    </tr>\n",
       "    <tr>\n",
       "      <th>...</th>\n",
       "      <td>...</td>\n",
       "      <td>...</td>\n",
       "    </tr>\n",
       "    <tr>\n",
       "      <th>2061</th>\n",
       "      <td>/fastdata/solarPanelDetection/train/s2_image/t...</td>\n",
       "      <td>/fastdata/solarPanelDetection/train/mask/train...</td>\n",
       "    </tr>\n",
       "    <tr>\n",
       "      <th>2062</th>\n",
       "      <td>/fastdata/solarPanelDetection/train/s2_image/t...</td>\n",
       "      <td>/fastdata/solarPanelDetection/train/mask/train...</td>\n",
       "    </tr>\n",
       "    <tr>\n",
       "      <th>2063</th>\n",
       "      <td>/fastdata/solarPanelDetection/train/s2_image/t...</td>\n",
       "      <td>/fastdata/solarPanelDetection/train/mask/train...</td>\n",
       "    </tr>\n",
       "    <tr>\n",
       "      <th>2064</th>\n",
       "      <td>/fastdata/solarPanelDetection/train/s2_image/t...</td>\n",
       "      <td>/fastdata/solarPanelDetection/train/mask/train...</td>\n",
       "    </tr>\n",
       "    <tr>\n",
       "      <th>2065</th>\n",
       "      <td>/fastdata/solarPanelDetection/train/s2_image/t...</td>\n",
       "      <td>/fastdata/solarPanelDetection/train/mask/train...</td>\n",
       "    </tr>\n",
       "  </tbody>\n",
       "</table>\n",
       "<p>2066 rows × 2 columns</p>\n",
       "</div>"
      ],
      "text/plain": [
       "                                                  image  \\\n",
       "0     /fastdata/solarPanelDetection/train/s2_image/t...   \n",
       "1     /fastdata/solarPanelDetection/train/s2_image/t...   \n",
       "2     /fastdata/solarPanelDetection/train/s2_image/t...   \n",
       "3     /fastdata/solarPanelDetection/train/s2_image/t...   \n",
       "4     /fastdata/solarPanelDetection/train/s2_image/t...   \n",
       "...                                                 ...   \n",
       "2061  /fastdata/solarPanelDetection/train/s2_image/t...   \n",
       "2062  /fastdata/solarPanelDetection/train/s2_image/t...   \n",
       "2063  /fastdata/solarPanelDetection/train/s2_image/t...   \n",
       "2064  /fastdata/solarPanelDetection/train/s2_image/t...   \n",
       "2065  /fastdata/solarPanelDetection/train/s2_image/t...   \n",
       "\n",
       "                                                   mask  \n",
       "0     /fastdata/solarPanelDetection/train/mask/train...  \n",
       "1     /fastdata/solarPanelDetection/train/mask/train...  \n",
       "2     /fastdata/solarPanelDetection/train/mask/train...  \n",
       "3     /fastdata/solarPanelDetection/train/mask/train...  \n",
       "4     /fastdata/solarPanelDetection/train/mask/train...  \n",
       "...                                                 ...  \n",
       "2061  /fastdata/solarPanelDetection/train/mask/train...  \n",
       "2062  /fastdata/solarPanelDetection/train/mask/train...  \n",
       "2063  /fastdata/solarPanelDetection/train/mask/train...  \n",
       "2064  /fastdata/solarPanelDetection/train/mask/train...  \n",
       "2065  /fastdata/solarPanelDetection/train/mask/train...  \n",
       "\n",
       "[2066 rows x 2 columns]"
      ]
     },
     "execution_count": 17,
     "metadata": {},
     "output_type": "execute_result"
    }
   ],
   "source": [
    "ds.df"
   ]
  },
  {
   "cell_type": "code",
   "execution_count": 18,
   "metadata": {},
   "outputs": [
    {
     "data": {
      "text/plain": [
       "(torch.Size([5, 3, 32, 32]),\n",
       " torch.Size([5, 1, 32, 32]),\n",
       " torch.float32,\n",
       " torch.float32,\n",
       " tensor(1.),\n",
       " tensor(1.),\n",
       " tensor(0.0358),\n",
       " tensor(0.))"
      ]
     },
     "execution_count": 18,
     "metadata": {},
     "output_type": "execute_result"
    }
   ],
   "source": [
    "batch = next(iter(ds.train_dataloader()))\n",
    "\n",
    "images, masks = batch['image'], batch['mask']\n",
    "images.shape, masks.shape, images.dtype, masks.dtype, images.max(), masks.max(), images.min(), masks.min()"
   ]
  },
  {
   "cell_type": "code",
   "execution_count": 19,
   "metadata": {},
   "outputs": [
    {
     "data": {
      "image/png": "[encoded data removed]",
      "text/plain": [
       "<Figure size 1000x500 with 10 Axes>"
      ]
     },
     "metadata": {},
     "output_type": "display_data"
    }
   ],
   "source": [
    "import matplotlib.pyplot as plt\n",
    "\n",
    "batch = next(iter(ds.train_dataloader()))\n",
    "images, masks = batch['image'], batch['mask']\n",
    "cols = 5\n",
    "fig = plt.figure(figsize=(cols*2, 5))\n",
    "for col in range(cols):\n",
    "\tax1 = fig.add_subplot(2, cols, col+1)\n",
    "\timage = images[col].numpy()\n",
    "\tax1.imshow(image.transpose(1,2,0))\n",
    "\tax1.axis('off')\n",
    "\tax1.set_title(image.shape)\n",
    "\tax2 = fig.add_subplot(2, cols, col+cols+1)\n",
    "\tmask = masks[col].numpy()[0]\n",
    "\tax2.imshow(mask)\n",
    "\tax2.axis('off')\n",
    "\tax2.set_title(mask.shape)\n",
    "plt.tight_layout()\n",
    "plt.show()"
   ]
  },
  {
   "cell_type": "markdown",
   "metadata": {},
   "source": [
    "## The Task"
   ]
  },
  {
   "cell_type": "markdown",
   "metadata": {},
   "source": [
    "PytorchEO comes with several tasks built in, and more to come. In this case, we use the `ImageSegmentationTask`."
   ]
  },
  {
   "cell_type": "code",
   "execution_count": 20,
   "metadata": {},
   "outputs": [
    {
     "data": {
      "text/plain": [
       "(torch.Size([32, 1, 32, 32]), torch.float32)"
      ]
     },
     "execution_count": 20,
     "metadata": {},
     "output_type": "execute_result"
    }
   ],
   "source": [
    "import torch\n",
    "from pytorch_eo.tasks import ImageSegmentation\n",
    "\n",
    "task = ImageSegmentation(num_classes=ds.num_classes)\n",
    "\n",
    "out = task(torch.randn(32, 3, 32, 32))\n",
    "\n",
    "out.shape, out.dtype"
   ]
  },
  {
   "cell_type": "markdown",
   "metadata": {},
   "source": [
    "You can also define your own model"
   ]
  },
  {
   "cell_type": "code",
   "execution_count": 21,
   "metadata": {},
   "outputs": [],
   "source": [
    "import torch.nn.functional as F\n",
    "\n",
    "def conv3x3_bn(ci, co):\n",
    "    return torch.nn.Sequential(\n",
    "        torch.nn.Conv2d(ci, co, 3, padding=1),\n",
    "        torch.nn.BatchNorm2d(co),\n",
    "        torch.nn.ReLU(inplace=True)\n",
    "    )\n",
    "\n",
    "def encoder_conv(ci, co):\n",
    "  return torch.nn.Sequential(\n",
    "        torch.nn.MaxPool2d(2),\n",
    "        conv3x3_bn(ci, co),\n",
    "        conv3x3_bn(co, co),\n",
    "    )\n",
    "\n",
    "class deconv(torch.nn.Module):\n",
    "    def __init__(self, ci, co):\n",
    "        super(deconv, self).__init__()\n",
    "        self.upsample = torch.nn.ConvTranspose2d(ci, co, 2, stride=2)\n",
    "        self.conv1 = conv3x3_bn(ci, co)\n",
    "        self.conv2 = conv3x3_bn(co, co)\n",
    "    \n",
    "    # recibe la salida de la capa anetrior y la salida de la etapa\n",
    "    # correspondiente del encoder\n",
    "    def forward(self, x1, x2):\n",
    "        x1 = self.upsample(x1)\n",
    "        diffX = x2.size()[2] - x1.size()[2]\n",
    "        diffY = x2.size()[3] - x1.size()[3]\n",
    "        x1 = F.pad(x1, (diffX, 0, diffY, 0))\n",
    "        # concatenamos los tensores\n",
    "        x = torch.cat([x2, x1], dim=1)\n",
    "        x = self.conv1(x)\n",
    "        x = self.conv2(x)\n",
    "        return x\n",
    "\n",
    "class UNet(torch.nn.Module):\n",
    "    def __init__(self, n_classes=3, in_ch=3):\n",
    "        super().__init__()\n",
    "\n",
    "        # lista de capas en encoder-decoder con número de filtros\n",
    "        # c = [16, 32, 64, 128]\n",
    "        c = [16, 32, 64]\n",
    "\n",
    "        # primera capa conv que recibe la imagen\n",
    "        self.conv1 = torch.nn.Sequential(\n",
    "          conv3x3_bn(in_ch, c[0]),\n",
    "          conv3x3_bn(c[0], c[0]),\n",
    "        )\n",
    "        # capas del encoder\n",
    "        self.conv2 = encoder_conv(c[0], c[1])\n",
    "        self.conv3 = encoder_conv(c[1], c[2])\n",
    "        # self.conv4 = encoder_conv(c[2], c[3])\n",
    "\n",
    "        # capas del decoder\n",
    "        # self.deconv1 = deconv(c[-1],c[-2])\n",
    "        self.deconv1 = deconv(c[-1],c[-2])\n",
    "        self.deconv2 = deconv(c[-2],c[-3])\n",
    "\n",
    "        # útlima capa conv que nos da la máscara\n",
    "        self.out = torch.nn.Conv2d(c[0], n_classes, 3, padding=1)\n",
    "\n",
    "    def forward(self, x):\n",
    "        # encoder\n",
    "        x1 = self.conv1(x)\n",
    "        # print(x1.shape)\n",
    "        x2 = self.conv2(x1)\n",
    "        # print(x2.shape)\n",
    "        x = self.conv3(x2)\n",
    "        # print(x3.shape)\n",
    "        # x = self.conv4(x3)\n",
    "        # print(x.shape)\n",
    "        # decoder\n",
    "        x = self.deconv1(x, x2)\n",
    "        x = self.deconv2(x, x1)\n",
    "        # x = self.deconv3(x, x1)\n",
    "        x = self.out(x)\n",
    "        return x"
   ]
  },
  {
   "cell_type": "code",
   "execution_count": 22,
   "metadata": {},
   "outputs": [
    {
     "data": {
      "text/plain": [
       "(torch.Size([32, 1, 32, 32]), torch.float32)"
      ]
     },
     "execution_count": 22,
     "metadata": {},
     "output_type": "execute_result"
    }
   ],
   "source": [
    "model = UNet(n_classes=ds.num_classes)\n",
    "\n",
    "task = ImageSegmentation(model, num_classes=ds.num_classes)\n",
    "\n",
    "out = task(torch.randn(32, 3, 32, 32))\n",
    "\n",
    "out.shape, out.dtype"
   ]
  },
  {
   "cell_type": "markdown",
   "metadata": {},
   "source": [
    "## Training"
   ]
  },
  {
   "cell_type": "markdown",
   "metadata": {},
   "source": [
    "We use [PytorchLighning](https://pytorch-lightning.readthedocs.io/) for training. We fit one batch to check everythin is working.\n"
   ]
  },
  {
   "cell_type": "code",
   "execution_count": 23,
   "metadata": {},
   "outputs": [
    {
     "name": "stderr",
     "output_type": "stream",
     "text": [
      "/usr/lib/python3/dist-packages/pkg_resources/__init__.py:116: PkgResourcesDeprecationWarning: 0.1.43ubuntu1 is an invalid version and will not be supported in a future release\n",
      "  warnings.warn(\n",
      "/usr/lib/python3/dist-packages/pkg_resources/__init__.py:116: PkgResourcesDeprecationWarning: 1.1build1 is an invalid version and will not be supported in a future release\n",
      "  warnings.warn(\n",
      "/home/juan/.local/lib/python3.10/site-packages/lightning/fabric/connector.py:565: `precision=16` is supported for historical reasons but its usage is discouraged. Please set your precision to 16-mixed instead!\n",
      "Using 16bit Automatic Mixed Precision (AMP)\n",
      "GPU available: True (cuda), used: True\n",
      "TPU available: False, using: 0 TPU cores\n",
      "IPU available: False, using: 0 IPUs\n",
      "HPU available: False, using: 0 HPUs\n",
      "/home/juan/.local/lib/python3.10/site-packages/lightning/pytorch/trainer/connectors/logger_connector/logger_connector.py:67: Starting from v1.9.0, `tensorboardX` has been removed as a dependency of the `lightning.pytorch` package, due to potential conflicts with other packages in the ML ecosystem. For this reason, `logger=True` will use `CSVLogger` as the default logger, unless the `tensorboard` or `tensorboardX` packages are found. Please `pip install lightning[extra]` or one of them to enable TensorBoard support by default\n",
      "`Trainer(overfit_batches=1)` was configured so 1 batch will be used.\n",
      "You are using a CUDA device ('NVIDIA GeForce RTX 3090') that has Tensor Cores. To properly utilize them, you should set `torch.set_float32_matmul_precision('medium' | 'high')` which will trade-off precision for performance. For more details, read https://pytorch.org/docs/stable/generated/torch.set_float32_matmul_precision.html#torch.set_float32_matmul_precision\n",
      "LOCAL_RANK: 0 - CUDA_VISIBLE_DEVICES: [0,1]\n",
      "\n",
      "  | Name    | Type              | Params\n",
      "----------------------------------------------\n",
      "0 | model   | UNet              | 117 K \n",
      "1 | loss_fn | BCEWithLogitsLoss | 0     \n",
      "----------------------------------------------\n",
      "117 K     Trainable params\n",
      "0         Non-trainable params\n",
      "117 K     Total params\n",
      "0.471     Total estimated model params size (MB)\n"
     ]
    },
    {
     "data": {
      "application/vnd.jupyter.widget-view+json": {
       "model_id": "10f28f9054cd450a9c4169179e91b624",
       "version_major": 2,
       "version_minor": 0
      },
      "text/plain": [
       "Sanity Checking: |          | 0/? [00:00<?, ?it/s]"
      ]
     },
     "metadata": {},
     "output_type": "display_data"
    },
    {
     "name": "stderr",
     "output_type": "stream",
     "text": [
      "/home/juan/.local/lib/python3.10/site-packages/lightning/pytorch/trainer/connectors/data_connector.py:441: The 'val_dataloader' does not have many workers which may be a bottleneck. Consider increasing the value of the `num_workers` argument` to `num_workers=19` in the `DataLoader` to improve performance.\n",
      "/home/juan/.local/lib/python3.10/site-packages/lightning/pytorch/trainer/connectors/data_connector.py:268: You requested to overfit but enabled train dataloader shuffling. We are turning off the train dataloader shuffling for you.\n",
      "/home/juan/.local/lib/python3.10/site-packages/lightning/pytorch/trainer/connectors/data_connector.py:441: The 'train_dataloader' does not have many workers which may be a bottleneck. Consider increasing the value of the `num_workers` argument` to `num_workers=19` in the `DataLoader` to improve performance.\n",
      "/home/juan/.local/lib/python3.10/site-packages/lightning/pytorch/loops/fit_loop.py:293: The number of training batches (1) is smaller than the logging interval Trainer(log_every_n_steps=50). Set a lower value for log_every_n_steps if you want to see logs for the training epoch.\n"
     ]
    },
    {
     "data": {
      "application/vnd.jupyter.widget-view+json": {
       "model_id": "ba041a991d784a55b16a7bf37f23aef9",
       "version_major": 2,
       "version_minor": 0
      },
      "text/plain": [
       "Training: |          | 0/? [00:00<?, ?it/s]"
      ]
     },
     "metadata": {},
     "output_type": "display_data"
    },
    {
     "data": {
      "application/vnd.jupyter.widget-view+json": {
       "model_id": "1fec4294cfcc46bebb14451c1228cdf3",
       "version_major": 2,
       "version_minor": 0
      },
      "text/plain": [
       "Validation: |          | 0/? [00:00<?, ?it/s]"
      ]
     },
     "metadata": {},
     "output_type": "display_data"
    },
    {
     "data": {
      "application/vnd.jupyter.widget-view+json": {
       "model_id": "f2e758563d014f808a623f6e83f413b7",
       "version_major": 2,
       "version_minor": 0
      },
      "text/plain": [
       "Validation: |          | 0/? [00:00<?, ?it/s]"
      ]
     },
     "metadata": {},
     "output_type": "display_data"
    },
    {
     "data": {
      "application/vnd.jupyter.widget-view+json": {
       "model_id": "b638a77822914c2d824bf276a679d4fe",
       "version_major": 2,
       "version_minor": 0
      },
      "text/plain": [
       "Validation: |          | 0/? [00:00<?, ?it/s]"
      ]
     },
     "metadata": {},
     "output_type": "display_data"
    },
    {
     "data": {
      "application/vnd.jupyter.widget-view+json": {
       "model_id": "da57f134e11c46618d5eedc2841b823d",
       "version_major": 2,
       "version_minor": 0
      },
      "text/plain": [
       "Validation: |          | 0/? [00:00<?, ?it/s]"
      ]
     },
     "metadata": {},
     "output_type": "display_data"
    },
    {
     "data": {
      "application/vnd.jupyter.widget-view+json": {
       "model_id": "811b2b1010e2436080ea0923ad68e825",
       "version_major": 2,
       "version_minor": 0
      },
      "text/plain": [
       "Validation: |          | 0/? [00:00<?, ?it/s]"
      ]
     },
     "metadata": {},
     "output_type": "display_data"
    },
    {
     "data": {
      "application/vnd.jupyter.widget-view+json": {
       "model_id": "2d0b239323dc4657a36adfda8e4d4489",
       "version_major": 2,
       "version_minor": 0
      },
      "text/plain": [
       "Validation: |          | 0/? [00:00<?, ?it/s]"
      ]
     },
     "metadata": {},
     "output_type": "display_data"
    },
    {
     "data": {
      "application/vnd.jupyter.widget-view+json": {
       "model_id": "c56b2351f99f48d694590daee19e35c6",
       "version_major": 2,
       "version_minor": 0
      },
      "text/plain": [
       "Validation: |          | 0/? [00:00<?, ?it/s]"
      ]
     },
     "metadata": {},
     "output_type": "display_data"
    },
    {
     "data": {
      "application/vnd.jupyter.widget-view+json": {
       "model_id": "22301cd125ff4736879f1ade921e12ca",
       "version_major": 2,
       "version_minor": 0
      },
      "text/plain": [
       "Validation: |          | 0/? [00:00<?, ?it/s]"
      ]
     },
     "metadata": {},
     "output_type": "display_data"
    },
    {
     "data": {
      "application/vnd.jupyter.widget-view+json": {
       "model_id": "c0445e3f0ea441c29f724e3c9c32256c",
       "version_major": 2,
       "version_minor": 0
      },
      "text/plain": [
       "Validation: |          | 0/? [00:00<?, ?it/s]"
      ]
     },
     "metadata": {},
     "output_type": "display_data"
    },
    {
     "data": {
      "application/vnd.jupyter.widget-view+json": {
       "model_id": "ffdb39fd49cf4bbea3a063b7ee7db5e1",
       "version_major": 2,
       "version_minor": 0
      },
      "text/plain": [
       "Validation: |          | 0/? [00:00<?, ?it/s]"
      ]
     },
     "metadata": {},
     "output_type": "display_data"
    },
    {
     "data": {
      "application/vnd.jupyter.widget-view+json": {
       "model_id": "97fdc494db4547b09ca49d904f0c67ba",
       "version_major": 2,
       "version_minor": 0
      },
      "text/plain": [
       "Validation: |          | 0/? [00:00<?, ?it/s]"
      ]
     },
     "metadata": {},
     "output_type": "display_data"
    },
    {
     "data": {
      "application/vnd.jupyter.widget-view+json": {
       "model_id": "13ee97392a7b4755bc5360575ee9b6b6",
       "version_major": 2,
       "version_minor": 0
      },
      "text/plain": [
       "Validation: |          | 0/? [00:00<?, ?it/s]"
      ]
     },
     "metadata": {},
     "output_type": "display_data"
    },
    {
     "data": {
      "application/vnd.jupyter.widget-view+json": {
       "model_id": "5103d0c5fb4049cbb4c887589a64bad3",
       "version_major": 2,
       "version_minor": 0
      },
      "text/plain": [
       "Validation: |          | 0/? [00:00<?, ?it/s]"
      ]
     },
     "metadata": {},
     "output_type": "display_data"
    },
    {
     "data": {
      "application/vnd.jupyter.widget-view+json": {
       "model_id": "f4bd75f9dba44f3095f2784a6eece239",
       "version_major": 2,
       "version_minor": 0
      },
      "text/plain": [
       "Validation: |          | 0/? [00:00<?, ?it/s]"
      ]
     },
     "metadata": {},
     "output_type": "display_data"
    },
    {
     "data": {
      "application/vnd.jupyter.widget-view+json": {
       "model_id": "acdcb5b447a749818652d079023777c4",
       "version_major": 2,
       "version_minor": 0
      },
      "text/plain": [
       "Validation: |          | 0/? [00:00<?, ?it/s]"
      ]
     },
     "metadata": {},
     "output_type": "display_data"
    },
    {
     "data": {
      "application/vnd.jupyter.widget-view+json": {
       "model_id": "d12a5452a0ee413693d536d040e4aa2d",
       "version_major": 2,
       "version_minor": 0
      },
      "text/plain": [
       "Validation: |          | 0/? [00:00<?, ?it/s]"
      ]
     },
     "metadata": {},
     "output_type": "display_data"
    },
    {
     "data": {
      "application/vnd.jupyter.widget-view+json": {
       "model_id": "8159943f744a44f89932ee1e343dc077",
       "version_major": 2,
       "version_minor": 0
      },
      "text/plain": [
       "Validation: |          | 0/? [00:00<?, ?it/s]"
      ]
     },
     "metadata": {},
     "output_type": "display_data"
    },
    {
     "data": {
      "application/vnd.jupyter.widget-view+json": {
       "model_id": "edb6d739f3c84da0a13b6441b8b60489",
       "version_major": 2,
       "version_minor": 0
      },
      "text/plain": [
       "Validation: |          | 0/? [00:00<?, ?it/s]"
      ]
     },
     "metadata": {},
     "output_type": "display_data"
    },
    {
     "data": {
      "application/vnd.jupyter.widget-view+json": {
       "model_id": "43bde0f9c1ee429796a3c16455a9eeb5",
       "version_major": 2,
       "version_minor": 0
      },
      "text/plain": [
       "Validation: |          | 0/? [00:00<?, ?it/s]"
      ]
     },
     "metadata": {},
     "output_type": "display_data"
    },
    {
     "data": {
      "application/vnd.jupyter.widget-view+json": {
       "model_id": "127bfcd78b464c599bd85c99accc5940",
       "version_major": 2,
       "version_minor": 0
      },
      "text/plain": [
       "Validation: |          | 0/? [00:00<?, ?it/s]"
      ]
     },
     "metadata": {},
     "output_type": "display_data"
    },
    {
     "data": {
      "application/vnd.jupyter.widget-view+json": {
       "model_id": "2bca267480224f65b7e606506c76b55e",
       "version_major": 2,
       "version_minor": 0
      },
      "text/plain": [
       "Validation: |          | 0/? [00:00<?, ?it/s]"
      ]
     },
     "metadata": {},
     "output_type": "display_data"
    },
    {
     "data": {
      "application/vnd.jupyter.widget-view+json": {
       "model_id": "660443274f89429ea008b797e0b3b935",
       "version_major": 2,
       "version_minor": 0
      },
      "text/plain": [
       "Validation: |          | 0/? [00:00<?, ?it/s]"
      ]
     },
     "metadata": {},
     "output_type": "display_data"
    },
    {
     "data": {
      "application/vnd.jupyter.widget-view+json": {
       "model_id": "baec4eb1073d45d9b6c94c460c6378f4",
       "version_major": 2,
       "version_minor": 0
      },
      "text/plain": [
       "Validation: |          | 0/? [00:00<?, ?it/s]"
      ]
     },
     "metadata": {},
     "output_type": "display_data"
    },
    {
     "data": {
      "application/vnd.jupyter.widget-view+json": {
       "model_id": "2a4a1e40f7dd45099eff8228a3dd5fde",
       "version_major": 2,
       "version_minor": 0
      },
      "text/plain": [
       "Validation: |          | 0/? [00:00<?, ?it/s]"
      ]
     },
     "metadata": {},
     "output_type": "display_data"
    },
    {
     "data": {
      "application/vnd.jupyter.widget-view+json": {
       "model_id": "0582fa89a68345ec9c1553ec303ee09c",
       "version_major": 2,
       "version_minor": 0
      },
      "text/plain": [
       "Validation: |          | 0/? [00:00<?, ?it/s]"
      ]
     },
     "metadata": {},
     "output_type": "display_data"
    },
    {
     "data": {
      "application/vnd.jupyter.widget-view+json": {
       "model_id": "7a9d5f3b54e3415295b843d6073bc9e2",
       "version_major": 2,
       "version_minor": 0
      },
      "text/plain": [
       "Validation: |          | 0/? [00:00<?, ?it/s]"
      ]
     },
     "metadata": {},
     "output_type": "display_data"
    },
    {
     "data": {
      "application/vnd.jupyter.widget-view+json": {
       "model_id": "578475ec253b40688460f08477ef6d4b",
       "version_major": 2,
       "version_minor": 0
      },
      "text/plain": [
       "Validation: |          | 0/? [00:00<?, ?it/s]"
      ]
     },
     "metadata": {},
     "output_type": "display_data"
    },
    {
     "data": {
      "application/vnd.jupyter.widget-view+json": {
       "model_id": "64750911a5ab440a969361f4275749d7",
       "version_major": 2,
       "version_minor": 0
      },
      "text/plain": [
       "Validation: |          | 0/? [00:00<?, ?it/s]"
      ]
     },
     "metadata": {},
     "output_type": "display_data"
    },
    {
     "data": {
      "application/vnd.jupyter.widget-view+json": {
       "model_id": "63c604d320854f53b70eefad5b1230b8",
       "version_major": 2,
       "version_minor": 0
      },
      "text/plain": [
       "Validation: |          | 0/? [00:00<?, ?it/s]"
      ]
     },
     "metadata": {},
     "output_type": "display_data"
    },
    {
     "data": {
      "application/vnd.jupyter.widget-view+json": {
       "model_id": "221dcaec2ed74396861fb2b6dc600abd",
       "version_major": 2,
       "version_minor": 0
      },
      "text/plain": [
       "Validation: |          | 0/? [00:00<?, ?it/s]"
      ]
     },
     "metadata": {},
     "output_type": "display_data"
    },
    {
     "data": {
      "application/vnd.jupyter.widget-view+json": {
       "model_id": "9b3f61244fc24369b7729e2584d2683c",
       "version_major": 2,
       "version_minor": 0
      },
      "text/plain": [
       "Validation: |          | 0/? [00:00<?, ?it/s]"
      ]
     },
     "metadata": {},
     "output_type": "display_data"
    },
    {
     "data": {
      "application/vnd.jupyter.widget-view+json": {
       "model_id": "7b7f4fc70f354c0fa2688f78345d56a6",
       "version_major": 2,
       "version_minor": 0
      },
      "text/plain": [
       "Validation: |          | 0/? [00:00<?, ?it/s]"
      ]
     },
     "metadata": {},
     "output_type": "display_data"
    },
    {
     "data": {
      "application/vnd.jupyter.widget-view+json": {
       "model_id": "3e576f745c0e4649a8ef709413cec82e",
       "version_major": 2,
       "version_minor": 0
      },
      "text/plain": [
       "Validation: |          | 0/? [00:00<?, ?it/s]"
      ]
     },
     "metadata": {},
     "output_type": "display_data"
    },
    {
     "data": {
      "application/vnd.jupyter.widget-view+json": {
       "model_id": "2854396eac5b4cbb9c1509eade6c3799",
       "version_major": 2,
       "version_minor": 0
      },
      "text/plain": [
       "Validation: |          | 0/? [00:00<?, ?it/s]"
      ]
     },
     "metadata": {},
     "output_type": "display_data"
    },
    {
     "data": {
      "application/vnd.jupyter.widget-view+json": {
       "model_id": "68da0152da82448780fdee65b9800459",
       "version_major": 2,
       "version_minor": 0
      },
      "text/plain": [
       "Validation: |          | 0/? [00:00<?, ?it/s]"
      ]
     },
     "metadata": {},
     "output_type": "display_data"
    },
    {
     "data": {
      "application/vnd.jupyter.widget-view+json": {
       "model_id": "b5ef78db022249758e4e9d4489ac7c89",
       "version_major": 2,
       "version_minor": 0
      },
      "text/plain": [
       "Validation: |          | 0/? [00:00<?, ?it/s]"
      ]
     },
     "metadata": {},
     "output_type": "display_data"
    },
    {
     "data": {
      "application/vnd.jupyter.widget-view+json": {
       "model_id": "9ae1032bfc45409291349580585399ff",
       "version_major": 2,
       "version_minor": 0
      },
      "text/plain": [
       "Validation: |          | 0/? [00:00<?, ?it/s]"
      ]
     },
     "metadata": {},
     "output_type": "display_data"
    },
    {
     "data": {
      "application/vnd.jupyter.widget-view+json": {
       "model_id": "11f0d9625d724fcd97e5114d886eb976",
       "version_major": 2,
       "version_minor": 0
      },
      "text/plain": [
       "Validation: |          | 0/? [00:00<?, ?it/s]"
      ]
     },
     "metadata": {},
     "output_type": "display_data"
    },
    {
     "data": {
      "application/vnd.jupyter.widget-view+json": {
       "model_id": "a8af9df3c1af4dfb9278c2d4152c7edd",
       "version_major": 2,
       "version_minor": 0
      },
      "text/plain": [
       "Validation: |          | 0/? [00:00<?, ?it/s]"
      ]
     },
     "metadata": {},
     "output_type": "display_data"
    },
    {
     "data": {
      "application/vnd.jupyter.widget-view+json": {
       "model_id": "8f12960c16a84538a0a4c4093cdd9c42",
       "version_major": 2,
       "version_minor": 0
      },
      "text/plain": [
       "Validation: |          | 0/? [00:00<?, ?it/s]"
      ]
     },
     "metadata": {},
     "output_type": "display_data"
    },
    {
     "data": {
      "application/vnd.jupyter.widget-view+json": {
       "model_id": "23523a2d9ec84d27996f2269276cff2e",
       "version_major": 2,
       "version_minor": 0
      },
      "text/plain": [
       "Validation: |          | 0/? [00:00<?, ?it/s]"
      ]
     },
     "metadata": {},
     "output_type": "display_data"
    },
    {
     "data": {
      "application/vnd.jupyter.widget-view+json": {
       "model_id": "44d61b4e7b124069a70d19a5e702f55e",
       "version_major": 2,
       "version_minor": 0
      },
      "text/plain": [
       "Validation: |          | 0/? [00:00<?, ?it/s]"
      ]
     },
     "metadata": {},
     "output_type": "display_data"
    },
    {
     "data": {
      "application/vnd.jupyter.widget-view+json": {
       "model_id": "b2f6a810aee04177a243090ceaf4ac5c",
       "version_major": 2,
       "version_minor": 0
      },
      "text/plain": [
       "Validation: |          | 0/? [00:00<?, ?it/s]"
      ]
     },
     "metadata": {},
     "output_type": "display_data"
    },
    {
     "data": {
      "application/vnd.jupyter.widget-view+json": {
       "model_id": "e9a928ed97ab4a36ab77393513dd9b20",
       "version_major": 2,
       "version_minor": 0
      },
      "text/plain": [
       "Validation: |          | 0/? [00:00<?, ?it/s]"
      ]
     },
     "metadata": {},
     "output_type": "display_data"
    },
    {
     "data": {
      "application/vnd.jupyter.widget-view+json": {
       "model_id": "8a4773bc9d9f4edea84effc5c6dd5984",
       "version_major": 2,
       "version_minor": 0
      },
      "text/plain": [
       "Validation: |          | 0/? [00:00<?, ?it/s]"
      ]
     },
     "metadata": {},
     "output_type": "display_data"
    },
    {
     "data": {
      "application/vnd.jupyter.widget-view+json": {
       "model_id": "1c2c1ff628b24f63b9128523b357de5f",
       "version_major": 2,
       "version_minor": 0
      },
      "text/plain": [
       "Validation: |          | 0/? [00:00<?, ?it/s]"
      ]
     },
     "metadata": {},
     "output_type": "display_data"
    },
    {
     "data": {
      "application/vnd.jupyter.widget-view+json": {
       "model_id": "42dde3c2454a4f4bbbb2c3916b0205f3",
       "version_major": 2,
       "version_minor": 0
      },
      "text/plain": [
       "Validation: |          | 0/? [00:00<?, ?it/s]"
      ]
     },
     "metadata": {},
     "output_type": "display_data"
    },
    {
     "data": {
      "application/vnd.jupyter.widget-view+json": {
       "model_id": "eeca7e50a27a4156b7d41bdc56054699",
       "version_major": 2,
       "version_minor": 0
      },
      "text/plain": [
       "Validation: |          | 0/? [00:00<?, ?it/s]"
      ]
     },
     "metadata": {},
     "output_type": "display_data"
    },
    {
     "data": {
      "application/vnd.jupyter.widget-view+json": {
       "model_id": "e958163b7e6d47d5bb0a68f8f0cfbf74",
       "version_major": 2,
       "version_minor": 0
      },
      "text/plain": [
       "Validation: |          | 0/? [00:00<?, ?it/s]"
      ]
     },
     "metadata": {},
     "output_type": "display_data"
    },
    {
     "data": {
      "application/vnd.jupyter.widget-view+json": {
       "model_id": "c1c53238df43402c9fecbbadec486c57",
       "version_major": 2,
       "version_minor": 0
      },
      "text/plain": [
       "Validation: |          | 0/? [00:00<?, ?it/s]"
      ]
     },
     "metadata": {},
     "output_type": "display_data"
    },
    {
     "data": {
      "application/vnd.jupyter.widget-view+json": {
       "model_id": "ca1a5fc9609d42f986e626cd457c2db7",
       "version_major": 2,
       "version_minor": 0
      },
      "text/plain": [
       "Validation: |          | 0/? [00:00<?, ?it/s]"
      ]
     },
     "metadata": {},
     "output_type": "display_data"
    },
    {
     "data": {
      "application/vnd.jupyter.widget-view+json": {
       "model_id": "3c3e985309e44db69898d12d37dc3151",
       "version_major": 2,
       "version_minor": 0
      },
      "text/plain": [
       "Validation: |          | 0/? [00:00<?, ?it/s]"
      ]
     },
     "metadata": {},
     "output_type": "display_data"
    },
    {
     "data": {
      "application/vnd.jupyter.widget-view+json": {
       "model_id": "ad9ea618469d41e09d3d666182c3d207",
       "version_major": 2,
       "version_minor": 0
      },
      "text/plain": [
       "Validation: |          | 0/? [00:00<?, ?it/s]"
      ]
     },
     "metadata": {},
     "output_type": "display_data"
    },
    {
     "data": {
      "application/vnd.jupyter.widget-view+json": {
       "model_id": "be937bb2d7554be683abaafcd836c324",
       "version_major": 2,
       "version_minor": 0
      },
      "text/plain": [
       "Validation: |          | 0/? [00:00<?, ?it/s]"
      ]
     },
     "metadata": {},
     "output_type": "display_data"
    },
    {
     "data": {
      "application/vnd.jupyter.widget-view+json": {
       "model_id": "6810a65c807749cfa0cabbc66ef4b6fb",
       "version_major": 2,
       "version_minor": 0
      },
      "text/plain": [
       "Validation: |          | 0/? [00:00<?, ?it/s]"
      ]
     },
     "metadata": {},
     "output_type": "display_data"
    },
    {
     "data": {
      "application/vnd.jupyter.widget-view+json": {
       "model_id": "0295f08511274995ae21d2ba79574b55",
       "version_major": 2,
       "version_minor": 0
      },
      "text/plain": [
       "Validation: |          | 0/? [00:00<?, ?it/s]"
      ]
     },
     "metadata": {},
     "output_type": "display_data"
    },
    {
     "data": {
      "application/vnd.jupyter.widget-view+json": {
       "model_id": "c6561506855d4bff8284f1eee42d65f4",
       "version_major": 2,
       "version_minor": 0
      },
      "text/plain": [
       "Validation: |          | 0/? [00:00<?, ?it/s]"
      ]
     },
     "metadata": {},
     "output_type": "display_data"
    },
    {
     "data": {
      "application/vnd.jupyter.widget-view+json": {
       "model_id": "5055138a09a24698bc30f2871b44a3dd",
       "version_major": 2,
       "version_minor": 0
      },
      "text/plain": [
       "Validation: |          | 0/? [00:00<?, ?it/s]"
      ]
     },
     "metadata": {},
     "output_type": "display_data"
    },
    {
     "data": {
      "application/vnd.jupyter.widget-view+json": {
       "model_id": "49c0a894c4984af1b0a1144c4e5b7ca2",
       "version_major": 2,
       "version_minor": 0
      },
      "text/plain": [
       "Validation: |          | 0/? [00:00<?, ?it/s]"
      ]
     },
     "metadata": {},
     "output_type": "display_data"
    },
    {
     "data": {
      "application/vnd.jupyter.widget-view+json": {
       "model_id": "ea69f11044f0405297f0385fe67c6b2f",
       "version_major": 2,
       "version_minor": 0
      },
      "text/plain": [
       "Validation: |          | 0/? [00:00<?, ?it/s]"
      ]
     },
     "metadata": {},
     "output_type": "display_data"
    },
    {
     "data": {
      "application/vnd.jupyter.widget-view+json": {
       "model_id": "a7eb7d97e7454166bf3ed28066f6830c",
       "version_major": 2,
       "version_minor": 0
      },
      "text/plain": [
       "Validation: |          | 0/? [00:00<?, ?it/s]"
      ]
     },
     "metadata": {},
     "output_type": "display_data"
    },
    {
     "data": {
      "application/vnd.jupyter.widget-view+json": {
       "model_id": "00669d81798e4b9895dc651a215a4e98",
       "version_major": 2,
       "version_minor": 0
      },
      "text/plain": [
       "Validation: |          | 0/? [00:00<?, ?it/s]"
      ]
     },
     "metadata": {},
     "output_type": "display_data"
    },
    {
     "data": {
      "application/vnd.jupyter.widget-view+json": {
       "model_id": "240fc05486844877a9f93038c0aa72b8",
       "version_major": 2,
       "version_minor": 0
      },
      "text/plain": [
       "Validation: |          | 0/? [00:00<?, ?it/s]"
      ]
     },
     "metadata": {},
     "output_type": "display_data"
    },
    {
     "data": {
      "application/vnd.jupyter.widget-view+json": {
       "model_id": "383461c600414a0599431dfa48293068",
       "version_major": 2,
       "version_minor": 0
      },
      "text/plain": [
       "Validation: |          | 0/? [00:00<?, ?it/s]"
      ]
     },
     "metadata": {},
     "output_type": "display_data"
    },
    {
     "data": {
      "application/vnd.jupyter.widget-view+json": {
       "model_id": "d3a53c4c60cf48c59b7ebd153bda9b9a",
       "version_major": 2,
       "version_minor": 0
      },
      "text/plain": [
       "Validation: |          | 0/? [00:00<?, ?it/s]"
      ]
     },
     "metadata": {},
     "output_type": "display_data"
    },
    {
     "data": {
      "application/vnd.jupyter.widget-view+json": {
       "model_id": "4b13c26df87f43d89aa7984a1a68daaa",
       "version_major": 2,
       "version_minor": 0
      },
      "text/plain": [
       "Validation: |          | 0/? [00:00<?, ?it/s]"
      ]
     },
     "metadata": {},
     "output_type": "display_data"
    },
    {
     "data": {
      "application/vnd.jupyter.widget-view+json": {
       "model_id": "ceb722e9396b4c04b1a6995bd1b11237",
       "version_major": 2,
       "version_minor": 0
      },
      "text/plain": [
       "Validation: |          | 0/? [00:00<?, ?it/s]"
      ]
     },
     "metadata": {},
     "output_type": "display_data"
    },
    {
     "data": {
      "application/vnd.jupyter.widget-view+json": {
       "model_id": "a3b379c2c540409ca2700d38bb2064cb",
       "version_major": 2,
       "version_minor": 0
      },
      "text/plain": [
       "Validation: |          | 0/? [00:00<?, ?it/s]"
      ]
     },
     "metadata": {},
     "output_type": "display_data"
    },
    {
     "data": {
      "application/vnd.jupyter.widget-view+json": {
       "model_id": "a08fd5ee0a084636bed22882a0c38777",
       "version_major": 2,
       "version_minor": 0
      },
      "text/plain": [
       "Validation: |          | 0/? [00:00<?, ?it/s]"
      ]
     },
     "metadata": {},
     "output_type": "display_data"
    },
    {
     "data": {
      "application/vnd.jupyter.widget-view+json": {
       "model_id": "fdff0a90d4b242718c071e5023ab5525",
       "version_major": 2,
       "version_minor": 0
      },
      "text/plain": [
       "Validation: |          | 0/? [00:00<?, ?it/s]"
      ]
     },
     "metadata": {},
     "output_type": "display_data"
    },
    {
     "data": {
      "application/vnd.jupyter.widget-view+json": {
       "model_id": "e35363f8b9714ed48e777d731f11c528",
       "version_major": 2,
       "version_minor": 0
      },
      "text/plain": [
       "Validation: |          | 0/? [00:00<?, ?it/s]"
      ]
     },
     "metadata": {},
     "output_type": "display_data"
    },
    {
     "data": {
      "application/vnd.jupyter.widget-view+json": {
       "model_id": "461a1c9616354fe2aebcdb4abd2e8e85",
       "version_major": 2,
       "version_minor": 0
      },
      "text/plain": [
       "Validation: |          | 0/? [00:00<?, ?it/s]"
      ]
     },
     "metadata": {},
     "output_type": "display_data"
    },
    {
     "data": {
      "application/vnd.jupyter.widget-view+json": {
       "model_id": "cc118330e7a74512aa100bf9e4d4156d",
       "version_major": 2,
       "version_minor": 0
      },
      "text/plain": [
       "Validation: |          | 0/? [00:00<?, ?it/s]"
      ]
     },
     "metadata": {},
     "output_type": "display_data"
    },
    {
     "data": {
      "application/vnd.jupyter.widget-view+json": {
       "model_id": "c762106420db4620bd8c7b21f44794df",
       "version_major": 2,
       "version_minor": 0
      },
      "text/plain": [
       "Validation: |          | 0/? [00:00<?, ?it/s]"
      ]
     },
     "metadata": {},
     "output_type": "display_data"
    },
    {
     "data": {
      "application/vnd.jupyter.widget-view+json": {
       "model_id": "c488e7c871464547a5c5c708809b20b0",
       "version_major": 2,
       "version_minor": 0
      },
      "text/plain": [
       "Validation: |          | 0/? [00:00<?, ?it/s]"
      ]
     },
     "metadata": {},
     "output_type": "display_data"
    },
    {
     "data": {
      "application/vnd.jupyter.widget-view+json": {
       "model_id": "1e1bb33ee89f4e03a0826a436295ee6b",
       "version_major": 2,
       "version_minor": 0
      },
      "text/plain": [
       "Validation: |          | 0/? [00:00<?, ?it/s]"
      ]
     },
     "metadata": {},
     "output_type": "display_data"
    },
    {
     "data": {
      "application/vnd.jupyter.widget-view+json": {
       "model_id": "50bc8acb28d64c028bae1a2c73e61ffb",
       "version_major": 2,
       "version_minor": 0
      },
      "text/plain": [
       "Validation: |          | 0/? [00:00<?, ?it/s]"
      ]
     },
     "metadata": {},
     "output_type": "display_data"
    },
    {
     "data": {
      "application/vnd.jupyter.widget-view+json": {
       "model_id": "30a4450ed1fa4a2aaa5ede6187c53ac5",
       "version_major": 2,
       "version_minor": 0
      },
      "text/plain": [
       "Validation: |          | 0/? [00:00<?, ?it/s]"
      ]
     },
     "metadata": {},
     "output_type": "display_data"
    },
    {
     "data": {
      "application/vnd.jupyter.widget-view+json": {
       "model_id": "92e3a97834fd4f2aa1a61a685ab94d1e",
       "version_major": 2,
       "version_minor": 0
      },
      "text/plain": [
       "Validation: |          | 0/? [00:00<?, ?it/s]"
      ]
     },
     "metadata": {},
     "output_type": "display_data"
    },
    {
     "data": {
      "application/vnd.jupyter.widget-view+json": {
       "model_id": "20f769a88cce483c9787456f267bf40a",
       "version_major": 2,
       "version_minor": 0
      },
      "text/plain": [
       "Validation: |          | 0/? [00:00<?, ?it/s]"
      ]
     },
     "metadata": {},
     "output_type": "display_data"
    },
    {
     "data": {
      "application/vnd.jupyter.widget-view+json": {
       "model_id": "8ab7edeb360246688b2cca8fa4698ced",
       "version_major": 2,
       "version_minor": 0
      },
      "text/plain": [
       "Validation: |          | 0/? [00:00<?, ?it/s]"
      ]
     },
     "metadata": {},
     "output_type": "display_data"
    },
    {
     "data": {
      "application/vnd.jupyter.widget-view+json": {
       "model_id": "c03da5e07ce046b4aa53918cd7407388",
       "version_major": 2,
       "version_minor": 0
      },
      "text/plain": [
       "Validation: |          | 0/? [00:00<?, ?it/s]"
      ]
     },
     "metadata": {},
     "output_type": "display_data"
    },
    {
     "data": {
      "application/vnd.jupyter.widget-view+json": {
       "model_id": "14b62f6b85f74f0e9cc227cfad3335e8",
       "version_major": 2,
       "version_minor": 0
      },
      "text/plain": [
       "Validation: |          | 0/? [00:00<?, ?it/s]"
      ]
     },
     "metadata": {},
     "output_type": "display_data"
    },
    {
     "data": {
      "application/vnd.jupyter.widget-view+json": {
       "model_id": "3c143eb5dbbf49bbaa24ca65dd8a615f",
       "version_major": 2,
       "version_minor": 0
      },
      "text/plain": [
       "Validation: |          | 0/? [00:00<?, ?it/s]"
      ]
     },
     "metadata": {},
     "output_type": "display_data"
    },
    {
     "data": {
      "application/vnd.jupyter.widget-view+json": {
       "model_id": "060c63787b574b77809710fdfb5aadf0",
       "version_major": 2,
       "version_minor": 0
      },
      "text/plain": [
       "Validation: |          | 0/? [00:00<?, ?it/s]"
      ]
     },
     "metadata": {},
     "output_type": "display_data"
    },
    {
     "data": {
      "application/vnd.jupyter.widget-view+json": {
       "model_id": "0b7e8c500ef34a2fbe6eafbbd3469b84",
       "version_major": 2,
       "version_minor": 0
      },
      "text/plain": [
       "Validation: |          | 0/? [00:00<?, ?it/s]"
      ]
     },
     "metadata": {},
     "output_type": "display_data"
    },
    {
     "data": {
      "application/vnd.jupyter.widget-view+json": {
       "model_id": "fcb7c00fc2f444a7a57a75dbf8365772",
       "version_major": 2,
       "version_minor": 0
      },
      "text/plain": [
       "Validation: |          | 0/? [00:00<?, ?it/s]"
      ]
     },
     "metadata": {},
     "output_type": "display_data"
    },
    {
     "data": {
      "application/vnd.jupyter.widget-view+json": {
       "model_id": "cfa448f9353b45f395cdc09b4c47b542",
       "version_major": 2,
       "version_minor": 0
      },
      "text/plain": [
       "Validation: |          | 0/? [00:00<?, ?it/s]"
      ]
     },
     "metadata": {},
     "output_type": "display_data"
    },
    {
     "data": {
      "application/vnd.jupyter.widget-view+json": {
       "model_id": "27fb5d308eff46fa83bce5d7f930f074",
       "version_major": 2,
       "version_minor": 0
      },
      "text/plain": [
       "Validation: |          | 0/? [00:00<?, ?it/s]"
      ]
     },
     "metadata": {},
     "output_type": "display_data"
    },
    {
     "data": {
      "application/vnd.jupyter.widget-view+json": {
       "model_id": "11a2fa91bc9f4521bfaea087aaaf8a2f",
       "version_major": 2,
       "version_minor": 0
      },
      "text/plain": [
       "Validation: |          | 0/? [00:00<?, ?it/s]"
      ]
     },
     "metadata": {},
     "output_type": "display_data"
    },
    {
     "data": {
      "application/vnd.jupyter.widget-view+json": {
       "model_id": "48370f91b55d4c1b8b531e58a466eb96",
       "version_major": 2,
       "version_minor": 0
      },
      "text/plain": [
       "Validation: |          | 0/? [00:00<?, ?it/s]"
      ]
     },
     "metadata": {},
     "output_type": "display_data"
    },
    {
     "data": {
      "application/vnd.jupyter.widget-view+json": {
       "model_id": "efea3740472545608e0b96b8940f817b",
       "version_major": 2,
       "version_minor": 0
      },
      "text/plain": [
       "Validation: |          | 0/? [00:00<?, ?it/s]"
      ]
     },
     "metadata": {},
     "output_type": "display_data"
    },
    {
     "data": {
      "application/vnd.jupyter.widget-view+json": {
       "model_id": "c09c2fdfb3084ef2bd37130b3108473d",
       "version_major": 2,
       "version_minor": 0
      },
      "text/plain": [
       "Validation: |          | 0/? [00:00<?, ?it/s]"
      ]
     },
     "metadata": {},
     "output_type": "display_data"
    },
    {
     "data": {
      "application/vnd.jupyter.widget-view+json": {
       "model_id": "50d6d80bd8f04e35a6367d31445b91db",
       "version_major": 2,
       "version_minor": 0
      },
      "text/plain": [
       "Validation: |          | 0/? [00:00<?, ?it/s]"
      ]
     },
     "metadata": {},
     "output_type": "display_data"
    },
    {
     "data": {
      "application/vnd.jupyter.widget-view+json": {
       "model_id": "0e58677172dd43a78a03728a1414079c",
       "version_major": 2,
       "version_minor": 0
      },
      "text/plain": [
       "Validation: |          | 0/? [00:00<?, ?it/s]"
      ]
     },
     "metadata": {},
     "output_type": "display_data"
    },
    {
     "data": {
      "application/vnd.jupyter.widget-view+json": {
       "model_id": "64427e01d2974ac6a7d73b4442c15b56",
       "version_major": 2,
       "version_minor": 0
      },
      "text/plain": [
       "Validation: |          | 0/? [00:00<?, ?it/s]"
      ]
     },
     "metadata": {},
     "output_type": "display_data"
    },
    {
     "data": {
      "application/vnd.jupyter.widget-view+json": {
       "model_id": "42c94aa63fb8494a880286978c975d51",
       "version_major": 2,
       "version_minor": 0
      },
      "text/plain": [
       "Validation: |          | 0/? [00:00<?, ?it/s]"
      ]
     },
     "metadata": {},
     "output_type": "display_data"
    },
    {
     "data": {
      "application/vnd.jupyter.widget-view+json": {
       "model_id": "922f0e1750fb41a68cdb32f516df1b4c",
       "version_major": 2,
       "version_minor": 0
      },
      "text/plain": [
       "Validation: |          | 0/? [00:00<?, ?it/s]"
      ]
     },
     "metadata": {},
     "output_type": "display_data"
    },
    {
     "data": {
      "application/vnd.jupyter.widget-view+json": {
       "model_id": "3cde6b56d73847e28b53e58cb745d41e",
       "version_major": 2,
       "version_minor": 0
      },
      "text/plain": [
       "Validation: |          | 0/? [00:00<?, ?it/s]"
      ]
     },
     "metadata": {},
     "output_type": "display_data"
    },
    {
     "data": {
      "application/vnd.jupyter.widget-view+json": {
       "model_id": "83b7ac7ca698416181cdb70b0822f7de",
       "version_major": 2,
       "version_minor": 0
      },
      "text/plain": [
       "Validation: |          | 0/? [00:00<?, ?it/s]"
      ]
     },
     "metadata": {},
     "output_type": "display_data"
    },
    {
     "name": "stderr",
     "output_type": "stream",
     "text": [
      "`Trainer.fit` stopped: `max_epochs=100` reached.\n"
     ]
    }
   ],
   "source": [
    "from pytorch_eo.metrics.segmentation import f1_score\t\n",
    "\n",
    "ds = Dataset(batch_size=5)\n",
    "model = UNet(n_classes=ds.num_classes)\n",
    "task = ImageSegmentation(model, metrics={'f1': f1_score})\n",
    "\n",
    "# overfit batches to check if model is working\n",
    "\n",
    "trainer = L.Trainer(\n",
    "\tmax_epochs=100,\n",
    "\toverfit_batches=1,\n",
    "    enable_checkpointing=False,\n",
    "\tlogger=None,\n",
    "\taccelerator=\"cuda\",\n",
    "    devices=1,\n",
    "\tprecision=16,\n",
    ")\n",
    "\n",
    "trainer.fit(task, ds)"
   ]
  },
  {
   "cell_type": "markdown",
   "metadata": {},
   "source": [
    "Feel free to add your favourite callbacks, accelerators, data augmentation... The following is a more complete example."
   ]
  },
  {
   "cell_type": "code",
   "execution_count": 24,
   "metadata": {},
   "outputs": [
    {
     "name": "stderr",
     "output_type": "stream",
     "text": [
      "Seed set to 4044\n"
     ]
    },
    {
     "name": "stderr",
     "output_type": "stream",
     "text": [
      "GPU available: True (cuda), used: True\n",
      "TPU available: False, using: 0 TPU cores\n",
      "IPU available: False, using: 0 IPUs\n",
      "HPU available: False, using: 0 HPUs\n",
      "Failed to detect the name of this notebook, you can set it manually with the WANDB_NOTEBOOK_NAME environment variable to enable code saving.\n",
      "\u001b[34m\u001b[1mwandb\u001b[0m: Currently logged in as: \u001b[33mearthpulse\u001b[0m. Use \u001b[1m`wandb login --relogin`\u001b[0m to force relogin\n"
     ]
    },
    {
     "data": {
      "text/html": [
       "Tracking run with wandb version 0.16.0"
      ],
      "text/plain": [
       "<IPython.core.display.HTML object>"
      ]
     },
     "metadata": {},
     "output_type": "display_data"
    },
    {
     "data": {
      "text/html": [
       "Run data is saved locally in <code>./wandb/run-20231116_190139-flxg89nv</code>"
      ],
      "text/plain": [
       "<IPython.core.display.HTML object>"
      ]
     },
     "metadata": {},
     "output_type": "display_data"
    },
    {
     "data": {
      "text/html": [
       "Syncing run <strong><a href='https://wandb.ai/earthpulse/solar-panel-detection/runs/flxg89nv' target=\"_blank\">stilted-yogurt-7</a></strong> to <a href='https://wandb.ai/earthpulse/solar-panel-detection' target=\"_blank\">Weights & Biases</a> (<a href='https://wandb.me/run' target=\"_blank\">docs</a>)<br/>"
      ],
      "text/plain": [
       "<IPython.core.display.HTML object>"
      ]
     },
     "metadata": {},
     "output_type": "display_data"
    },
    {
     "data": {
      "text/html": [
       " View project at <a href='https://wandb.ai/earthpulse/solar-panel-detection' target=\"_blank\">https://wandb.ai/earthpulse/solar-panel-detection</a>"
      ],
      "text/plain": [
       "<IPython.core.display.HTML object>"
      ]
     },
     "metadata": {},
     "output_type": "display_data"
    },
    {
     "data": {
      "text/html": [
       " View run at <a href='https://wandb.ai/earthpulse/solar-panel-detection/runs/flxg89nv' target=\"_blank\">https://wandb.ai/earthpulse/solar-panel-detection/runs/flxg89nv</a>"
      ],
      "text/plain": [
       "<IPython.core.display.HTML object>"
      ]
     },
     "metadata": {},
     "output_type": "display_data"
    },
    {
     "name": "stderr",
     "output_type": "stream",
     "text": [
      "LOCAL_RANK: 0 - CUDA_VISIBLE_DEVICES: [0,1]\n",
      "\n",
      "  | Name    | Type              | Params\n",
      "----------------------------------------------\n",
      "0 | model   | UNet              | 117 K \n",
      "1 | loss_fn | BCEWithLogitsLoss | 0     \n",
      "----------------------------------------------\n",
      "117 K     Trainable params\n",
      "0         Non-trainable params\n",
      "117 K     Total params\n",
      "0.471     Total estimated model params size (MB)\n"
     ]
    },
    {
     "data": {
      "application/vnd.jupyter.widget-view+json": {
       "model_id": "26107d5030da46fca8d3597121c4b508",
       "version_major": 2,
       "version_minor": 0
      },
      "text/plain": [
       "Sanity Checking: |          | 0/? [00:00<?, ?it/s]"
      ]
     },
     "metadata": {},
     "output_type": "display_data"
    },
    {
     "data": {
      "application/vnd.jupyter.widget-view+json": {
       "model_id": "59a600afffea40aa99793e52a61df01a",
       "version_major": 2,
       "version_minor": 0
      },
      "text/plain": [
       "Training: |          | 0/? [00:00<?, ?it/s]"
      ]
     },
     "metadata": {},
     "output_type": "display_data"
    },
    {
     "data": {
      "application/vnd.jupyter.widget-view+json": {
       "model_id": "9f363256f7d34c168094f078d75bdfe5",
       "version_major": 2,
       "version_minor": 0
      },
      "text/plain": [
       "Validation: |          | 0/? [00:00<?, ?it/s]"
      ]
     },
     "metadata": {},
     "output_type": "display_data"
    },
    {
     "data": {
      "application/vnd.jupyter.widget-view+json": {
       "model_id": "64ca8336768c4141920d17ad71f2fec6",
       "version_major": 2,
       "version_minor": 0
      },
      "text/plain": [
       "Validation: |          | 0/? [00:00<?, ?it/s]"
      ]
     },
     "metadata": {},
     "output_type": "display_data"
    },
    {
     "data": {
      "application/vnd.jupyter.widget-view+json": {
       "model_id": "dedae69398de49de81f79170a4bb0974",
       "version_major": 2,
       "version_minor": 0
      },
      "text/plain": [
       "Validation: |          | 0/? [00:00<?, ?it/s]"
      ]
     },
     "metadata": {},
     "output_type": "display_data"
    },
    {
     "data": {
      "application/vnd.jupyter.widget-view+json": {
       "model_id": "6a1b129366234ac1be8bf2bbe66350b3",
       "version_major": 2,
       "version_minor": 0
      },
      "text/plain": [
       "Validation: |          | 0/? [00:00<?, ?it/s]"
      ]
     },
     "metadata": {},
     "output_type": "display_data"
    },
    {
     "data": {
      "application/vnd.jupyter.widget-view+json": {
       "model_id": "8e46eef1ec6545d08931677ede267cdc",
       "version_major": 2,
       "version_minor": 0
      },
      "text/plain": [
       "Validation: |          | 0/? [00:00<?, ?it/s]"
      ]
     },
     "metadata": {},
     "output_type": "display_data"
    },
    {
     "data": {
      "application/vnd.jupyter.widget-view+json": {
       "model_id": "7623b00aab624dce8c492d856392d682",
       "version_major": 2,
       "version_minor": 0
      },
      "text/plain": [
       "Validation: |          | 0/? [00:00<?, ?it/s]"
      ]
     },
     "metadata": {},
     "output_type": "display_data"
    },
    {
     "data": {
      "application/vnd.jupyter.widget-view+json": {
       "model_id": "384e618d0da34f0fa31dc9c4860c8845",
       "version_major": 2,
       "version_minor": 0
      },
      "text/plain": [
       "Validation: |          | 0/? [00:00<?, ?it/s]"
      ]
     },
     "metadata": {},
     "output_type": "display_data"
    },
    {
     "data": {
      "application/vnd.jupyter.widget-view+json": {
       "model_id": "e9e9a2b913e943cab3d582bde84fae17",
       "version_major": 2,
       "version_minor": 0
      },
      "text/plain": [
       "Validation: |          | 0/? [00:00<?, ?it/s]"
      ]
     },
     "metadata": {},
     "output_type": "display_data"
    },
    {
     "data": {
      "application/vnd.jupyter.widget-view+json": {
       "model_id": "d5f0f1f00b0e4deeb7978463e9f857f3",
       "version_major": 2,
       "version_minor": 0
      },
      "text/plain": [
       "Validation: |          | 0/? [00:00<?, ?it/s]"
      ]
     },
     "metadata": {},
     "output_type": "display_data"
    },
    {
     "data": {
      "application/vnd.jupyter.widget-view+json": {
       "model_id": "52738d5588854afcbf30204b93458a05",
       "version_major": 2,
       "version_minor": 0
      },
      "text/plain": [
       "Validation: |          | 0/? [00:00<?, ?it/s]"
      ]
     },
     "metadata": {},
     "output_type": "display_data"
    },
    {
     "data": {
      "application/vnd.jupyter.widget-view+json": {
       "model_id": "42fd96d7a217455f8053423c3ad3fc76",
       "version_major": 2,
       "version_minor": 0
      },
      "text/plain": [
       "Validation: |          | 0/? [00:00<?, ?it/s]"
      ]
     },
     "metadata": {},
     "output_type": "display_data"
    },
    {
     "data": {
      "application/vnd.jupyter.widget-view+json": {
       "model_id": "bfc74a2dbcf0468698f5e90657ed9fa5",
       "version_major": 2,
       "version_minor": 0
      },
      "text/plain": [
       "Validation: |          | 0/? [00:00<?, ?it/s]"
      ]
     },
     "metadata": {},
     "output_type": "display_data"
    },
    {
     "data": {
      "application/vnd.jupyter.widget-view+json": {
       "model_id": "22ab94586e6b47bda92c4866737830e2",
       "version_major": 2,
       "version_minor": 0
      },
      "text/plain": [
       "Validation: |          | 0/? [00:00<?, ?it/s]"
      ]
     },
     "metadata": {},
     "output_type": "display_data"
    },
    {
     "data": {
      "application/vnd.jupyter.widget-view+json": {
       "model_id": "9ab5662ae2b245f19d92a41f1225b4ff",
       "version_major": 2,
       "version_minor": 0
      },
      "text/plain": [
       "Validation: |          | 0/? [00:00<?, ?it/s]"
      ]
     },
     "metadata": {},
     "output_type": "display_data"
    },
    {
     "data": {
      "application/vnd.jupyter.widget-view+json": {
       "model_id": "ec430048ea35408bbafcf4c439f70e3a",
       "version_major": 2,
       "version_minor": 0
      },
      "text/plain": [
       "Validation: |          | 0/? [00:00<?, ?it/s]"
      ]
     },
     "metadata": {},
     "output_type": "display_data"
    },
    {
     "data": {
      "application/vnd.jupyter.widget-view+json": {
       "model_id": "3a293230dd464c42bcf139641253b806",
       "version_major": 2,
       "version_minor": 0
      },
      "text/plain": [
       "Validation: |          | 0/? [00:00<?, ?it/s]"
      ]
     },
     "metadata": {},
     "output_type": "display_data"
    },
    {
     "data": {
      "application/vnd.jupyter.widget-view+json": {
       "model_id": "b8d4c180e55a46e187b5deed9dcd029a",
       "version_major": 2,
       "version_minor": 0
      },
      "text/plain": [
       "Validation: |          | 0/? [00:00<?, ?it/s]"
      ]
     },
     "metadata": {},
     "output_type": "display_data"
    },
    {
     "data": {
      "application/vnd.jupyter.widget-view+json": {
       "model_id": "e5905343bd7b48938c72fad979b4b2b7",
       "version_major": 2,
       "version_minor": 0
      },
      "text/plain": [
       "Validation: |          | 0/? [00:00<?, ?it/s]"
      ]
     },
     "metadata": {},
     "output_type": "display_data"
    },
    {
     "data": {
      "application/vnd.jupyter.widget-view+json": {
       "model_id": "007dc21732b94cc6ab0ac56d8db61c29",
       "version_major": 2,
       "version_minor": 0
      },
      "text/plain": [
       "Validation: |          | 0/? [00:00<?, ?it/s]"
      ]
     },
     "metadata": {},
     "output_type": "display_data"
    },
    {
     "data": {
      "application/vnd.jupyter.widget-view+json": {
       "model_id": "daa1e5be8e484e43a57a29ebe3066b32",
       "version_major": 2,
       "version_minor": 0
      },
      "text/plain": [
       "Validation: |          | 0/? [00:00<?, ?it/s]"
      ]
     },
     "metadata": {},
     "output_type": "display_data"
    },
    {
     "data": {
      "application/vnd.jupyter.widget-view+json": {
       "model_id": "f0e2d3d257e54bdab8e1dba96be2d769",
       "version_major": 2,
       "version_minor": 0
      },
      "text/plain": [
       "Validation: |          | 0/? [00:00<?, ?it/s]"
      ]
     },
     "metadata": {},
     "output_type": "display_data"
    },
    {
     "data": {
      "application/vnd.jupyter.widget-view+json": {
       "model_id": "79d810c906db48b79324589ee4bd2367",
       "version_major": 2,
       "version_minor": 0
      },
      "text/plain": [
       "Validation: |          | 0/? [00:00<?, ?it/s]"
      ]
     },
     "metadata": {},
     "output_type": "display_data"
    },
    {
     "data": {
      "application/vnd.jupyter.widget-view+json": {
       "model_id": "6889b73251c3451fbf6723d94a301b25",
       "version_major": 2,
       "version_minor": 0
      },
      "text/plain": [
       "Validation: |          | 0/? [00:00<?, ?it/s]"
      ]
     },
     "metadata": {},
     "output_type": "display_data"
    },
    {
     "data": {
      "application/vnd.jupyter.widget-view+json": {
       "model_id": "1cf30bcc533941c68c64f2fd6fe8e291",
       "version_major": 2,
       "version_minor": 0
      },
      "text/plain": [
       "Validation: |          | 0/? [00:00<?, ?it/s]"
      ]
     },
     "metadata": {},
     "output_type": "display_data"
    },
    {
     "data": {
      "application/vnd.jupyter.widget-view+json": {
       "model_id": "38b3c8e8605549a9864a19915581c8f4",
       "version_major": 2,
       "version_minor": 0
      },
      "text/plain": [
       "Validation: |          | 0/? [00:00<?, ?it/s]"
      ]
     },
     "metadata": {},
     "output_type": "display_data"
    },
    {
     "data": {
      "application/vnd.jupyter.widget-view+json": {
       "model_id": "4aa206712d83473eacb98ec88faf34e4",
       "version_major": 2,
       "version_minor": 0
      },
      "text/plain": [
       "Validation: |          | 0/? [00:00<?, ?it/s]"
      ]
     },
     "metadata": {},
     "output_type": "display_data"
    },
    {
     "data": {
      "application/vnd.jupyter.widget-view+json": {
       "model_id": "4562291d187e49b48a8574870e9cecac",
       "version_major": 2,
       "version_minor": 0
      },
      "text/plain": [
       "Validation: |          | 0/? [00:00<?, ?it/s]"
      ]
     },
     "metadata": {},
     "output_type": "display_data"
    },
    {
     "data": {
      "application/vnd.jupyter.widget-view+json": {
       "model_id": "ee44f822ae994973a53d0c57db5da731",
       "version_major": 2,
       "version_minor": 0
      },
      "text/plain": [
       "Validation: |          | 0/? [00:00<?, ?it/s]"
      ]
     },
     "metadata": {},
     "output_type": "display_data"
    },
    {
     "data": {
      "application/vnd.jupyter.widget-view+json": {
       "model_id": "8470c84b46e0442681ac881aa5ba77b1",
       "version_major": 2,
       "version_minor": 0
      },
      "text/plain": [
       "Validation: |          | 0/? [00:00<?, ?it/s]"
      ]
     },
     "metadata": {},
     "output_type": "display_data"
    },
    {
     "data": {
      "application/vnd.jupyter.widget-view+json": {
       "model_id": "2001ea4eabd04c89af210644843920aa",
       "version_major": 2,
       "version_minor": 0
      },
      "text/plain": [
       "Validation: |          | 0/? [00:00<?, ?it/s]"
      ]
     },
     "metadata": {},
     "output_type": "display_data"
    },
    {
     "name": "stderr",
     "output_type": "stream",
     "text": [
      "`Trainer.fit` stopped: `max_epochs=30` reached.\n"
     ]
    }
   ],
   "source": [
    "import albumentations as A \n",
    "import segmentation_models_pytorch as smp\n",
    "from lightning.pytorch.callbacks import ModelCheckpoint\n",
    "from lightning.pytorch.loggers import WandbLogger\n",
    "import random\n",
    "\n",
    "seed = random.randint(0, 10000)\n",
    "L.seed_everything(seed, workers=True) # make results reproducible\n",
    "\n",
    "trans = [ # more data augmentation (we use albumentations, will be pre-pended to the default transforms)\n",
    "\tA.RandomRotate90(),\n",
    "\tA.HorizontalFlip(),\n",
    "\tA.VerticalFlip(),\n",
    "]\n",
    "\n",
    "ds = Dataset(\n",
    "    batch_size=16, # adjust the batch size\n",
    "    num_workers=20, # faster data loading (put here your CPU core count)\n",
    "    pin_memory=True, # faster data loading\n",
    "    train_trans=trans,\n",
    ")\n",
    "\n",
    "# model = smp.Unet(\n",
    "#     encoder_name=\"resnet34\", # use better models\n",
    "#     encoder_weights=\"imagenet\",  \n",
    "#     in_channels=3,\n",
    "#     classes=ds.num_classes,\n",
    "# )\n",
    "\n",
    "model = UNet(n_classes=ds.num_classes)\n",
    "\n",
    "hparams = { # customize optimizer\n",
    "    'optimizer': 'Adam',\n",
    "    'optim_params': {\n",
    "        'lr': 3e-4\n",
    "    },\n",
    "\t# 'scheduler': 'MultiStepLR', # customize learning rate scheduler\n",
    "\t# 'scheduler_params': {\n",
    "\t# \t'milestones': [3, 6],\n",
    "\t# \t'verbose': True\n",
    "\t# } ,\n",
    "\t'seed': seed\n",
    "\t# # add anything you want to save as hparams with your model\n",
    "}\n",
    "\n",
    "# train the model\n",
    "\n",
    "task = ImageSegmentation(model, hparams=hparams, metrics={'f1': f1_score})\n",
    "\n",
    "trainer = L.Trainer(\n",
    "    max_epochs=30,\n",
    "    logger=WandbLogger(project='solar-panel-detection'), # use your favorite logger\n",
    "\taccelerator=\"cuda\",\n",
    "    devices=1,\n",
    "\t# precision=16,\n",
    "    callbacks=[ # save best model during training\n",
    "\t\tModelCheckpoint(\n",
    "\t\t\tdirpath='checkpoints',\n",
    "\t\t\tfilename=f\"unet-baseline-{{val_f1:.4f}}\",\n",
    "\t\t\tsave_top_k=1,\n",
    "\t\t\tmonitor='val_f1',\n",
    "\t\t\tmode='max'\n",
    "\t\t)\n",
    "\t],\n",
    "\tdeterministic=True, # make results reproducible\n",
    ")\n",
    "\n",
    "trainer.fit(task, ds)"
   ]
  },
  {
   "cell_type": "markdown",
   "metadata": {},
   "source": [
    "## Submission"
   ]
  },
  {
   "cell_type": "markdown",
   "metadata": {},
   "source": [
    "Load your model"
   ]
  },
  {
   "cell_type": "code",
   "execution_count": 31,
   "metadata": {},
   "outputs": [
    {
     "name": "stderr",
     "output_type": "stream",
     "text": [
      "/home/juan/.local/lib/python3.10/site-packages/lightning/pytorch/utilities/parsing.py:198: Attribute 'model' is an instance of `nn.Module` and is already saved during checkpointing. It is recommended to ignore them using `self.save_hyperparameters(ignore=['model'])`.\n"
     ]
    },
    {
     "data": {
      "text/plain": [
       "\"model\":        UNet(\n",
       "  (conv1): Sequential(\n",
       "    (0): Sequential(\n",
       "      (0): Conv2d(3, 16, kernel_size=(3, 3), stride=(1, 1), padding=(1, 1))\n",
       "      (1): BatchNorm2d(16, eps=1e-05, momentum=0.1, affine=True, track_running_stats=True)\n",
       "      (2): ReLU(inplace=True)\n",
       "    )\n",
       "    (1): Sequential(\n",
       "      (0): Conv2d(16, 16, kernel_size=(3, 3), stride=(1, 1), padding=(1, 1))\n",
       "      (1): BatchNorm2d(16, eps=1e-05, momentum=0.1, affine=True, track_running_stats=True)\n",
       "      (2): ReLU(inplace=True)\n",
       "    )\n",
       "  )\n",
       "  (conv2): Sequential(\n",
       "    (0): MaxPool2d(kernel_size=2, stride=2, padding=0, dilation=1, ceil_mode=False)\n",
       "    (1): Sequential(\n",
       "      (0): Conv2d(16, 32, kernel_size=(3, 3), stride=(1, 1), padding=(1, 1))\n",
       "      (1): BatchNorm2d(32, eps=1e-05, momentum=0.1, affine=True, track_running_stats=True)\n",
       "      (2): ReLU(inplace=True)\n",
       "    )\n",
       "    (2): Sequential(\n",
       "      (0): Conv2d(32, 32, kernel_size=(3, 3), stride=(1, 1), padding=(1, 1))\n",
       "      (1): BatchNorm2d(32, eps=1e-05, momentum=0.1, affine=True, track_running_stats=True)\n",
       "      (2): ReLU(inplace=True)\n",
       "    )\n",
       "  )\n",
       "  (conv3): Sequential(\n",
       "    (0): MaxPool2d(kernel_size=2, stride=2, padding=0, dilation=1, ceil_mode=False)\n",
       "    (1): Sequential(\n",
       "      (0): Conv2d(32, 64, kernel_size=(3, 3), stride=(1, 1), padding=(1, 1))\n",
       "      (1): BatchNorm2d(64, eps=1e-05, momentum=0.1, affine=True, track_running_stats=True)\n",
       "      (2): ReLU(inplace=True)\n",
       "    )\n",
       "    (2): Sequential(\n",
       "      (0): Conv2d(64, 64, kernel_size=(3, 3), stride=(1, 1), padding=(1, 1))\n",
       "      (1): BatchNorm2d(64, eps=1e-05, momentum=0.1, affine=True, track_running_stats=True)\n",
       "      (2): ReLU(inplace=True)\n",
       "    )\n",
       "  )\n",
       "  (deconv1): deconv(\n",
       "    (upsample): ConvTranspose2d(64, 32, kernel_size=(2, 2), stride=(2, 2))\n",
       "    (conv1): Sequential(\n",
       "      (0): Conv2d(64, 32, kernel_size=(3, 3), stride=(1, 1), padding=(1, 1))\n",
       "      (1): BatchNorm2d(32, eps=1e-05, momentum=0.1, affine=True, track_running_stats=True)\n",
       "      (2): ReLU(inplace=True)\n",
       "    )\n",
       "    (conv2): Sequential(\n",
       "      (0): Conv2d(32, 32, kernel_size=(3, 3), stride=(1, 1), padding=(1, 1))\n",
       "      (1): BatchNorm2d(32, eps=1e-05, momentum=0.1, affine=True, track_running_stats=True)\n",
       "      (2): ReLU(inplace=True)\n",
       "    )\n",
       "  )\n",
       "  (deconv2): deconv(\n",
       "    (upsample): ConvTranspose2d(32, 16, kernel_size=(2, 2), stride=(2, 2))\n",
       "    (conv1): Sequential(\n",
       "      (0): Conv2d(32, 16, kernel_size=(3, 3), stride=(1, 1), padding=(1, 1))\n",
       "      (1): BatchNorm2d(16, eps=1e-05, momentum=0.1, affine=True, track_running_stats=True)\n",
       "      (2): ReLU(inplace=True)\n",
       "    )\n",
       "    (conv2): Sequential(\n",
       "      (0): Conv2d(16, 16, kernel_size=(3, 3), stride=(1, 1), padding=(1, 1))\n",
       "      (1): BatchNorm2d(16, eps=1e-05, momentum=0.1, affine=True, track_running_stats=True)\n",
       "      (2): ReLU(inplace=True)\n",
       "    )\n",
       "  )\n",
       "  (out): Conv2d(16, 1, kernel_size=(3, 3), stride=(1, 1), padding=(1, 1))\n",
       ")\n",
       "\"num_classes\":  1\n",
       "\"optim_params\": {'lr': 0.0003}\n",
       "\"optimizer\":    Adam\n",
       "\"seed\":         4044"
      ]
     },
     "execution_count": 31,
     "metadata": {},
     "output_type": "execute_result"
    }
   ],
   "source": [
    "model = UNet(n_classes=ds.num_classes)\n",
    "task = ImageSegmentation.load_from_checkpoint('checkpoints/unet-baseline-val_f1=0.4598.ckpt', model=model, num_classes=ds.num_classes)\n",
    "task.hparams"
   ]
  },
  {
   "cell_type": "markdown",
   "metadata": {},
   "source": [
    "Check on validation samples"
   ]
  },
  {
   "cell_type": "code",
   "execution_count": 32,
   "metadata": {},
   "outputs": [],
   "source": [
    "from skimage import io\n",
    "from skimage import transform\n",
    "\n",
    "def clip(x, **kwargs):\n",
    "    return np.clip(x, 0.0, 1.0).astype(np.float32)\n",
    "\n",
    "def normalize(x, **kwargs):\n",
    "    return x / 4000 \n",
    "\n",
    "test_tans = A.Compose(\n",
    "    [\n",
    "        A.Resize(32, 32), # resize to 32x32 due to model architecture\n",
    "        A.Lambda(image=normalize), \n",
    "        A.Lambda(image=clip), \n",
    "        ToTensorV2(),  \n",
    "    ]\n",
    ")\n",
    "\n",
    "def generatre_mask(image, threshold= 0.4):\n",
    "    task.eval()\n",
    "    with torch.no_grad():\n",
    "        # read image \n",
    "        image = io.imread(image)[...,(3,2,1)]\n",
    "        size = image.shape[:2]\n",
    "        # print(image.shape, size)\n",
    "        # convert to tensor\n",
    "        image_t = test_tans(image=image)['image']\n",
    "        outputs = task(image_t.unsqueeze(0).to(task.device))\n",
    "        mask = torch.sigmoid(outputs) > threshold\n",
    "        mask = mask.long().squeeze().cpu().numpy()\n",
    "        # resize to original size\n",
    "        mask = transform.resize(mask, size, order=0, preserve_range=True).astype(np.uint8)\n",
    "        return mask"
   ]
  },
  {
   "cell_type": "code",
   "execution_count": 41,
   "metadata": {},
   "outputs": [
    {
     "data": {
      "image/png": "[encoded data removed]",
      "text/plain": [
       "<Figure size 1500x1000 with 15 Axes>"
      ]
     },
     "metadata": {},
     "output_type": "display_data"
    }
   ],
   "source": [
    "import matplotlib.pyplot as plt\n",
    "import rasterio as rio \n",
    "from sklearn.metrics import f1_score\n",
    "\n",
    "cols = 5\n",
    "fig = plt.figure(figsize=(cols*3, 10))\n",
    "for col in range(cols):\n",
    "\timage_path, mask_path = ds.val_df.sample().iloc[0]\n",
    "\t# image_path, mask_path = ds.train_df.iloc[col]\n",
    "\tax1 = fig.add_subplot(3, cols, col+1)\n",
    "\trgb = rio.open(image_path).read((4,3,2)) / 4000 \n",
    "\tax1.imshow(rgb.transpose(1,2,0))\n",
    "\tax1.axis('off')\n",
    "\tax1.set_title(rgb.shape)\n",
    "\tax2 = fig.add_subplot(3, cols, col+cols+1)\n",
    "\tmask = rio.open(mask_path).read(1)\n",
    "\tax2.imshow(mask)\n",
    "\tax2.axis('off')\n",
    "\tax2.set_title(mask.shape)\n",
    "\tax3 = fig.add_subplot(3, cols, col+2*cols+1)\n",
    "\tpred = generatre_mask(image_path)\n",
    "\tax3.imshow(pred)\n",
    "\tax3.axis('off')\n",
    "\tf1 = f1_score(mask.ravel(), pred.ravel())\n",
    "\tax3.set_title(f'{mask.shape} {f1:.3f}')\n",
    "plt.tight_layout()\n",
    "plt.show()"
   ]
  },
  {
   "cell_type": "markdown",
   "metadata": {},
   "source": [
    "For each image in the evaluation folder, generate corresponding mask and save it in the submission folder."
   ]
  },
  {
   "cell_type": "code",
   "execution_count": 42,
   "metadata": {},
   "outputs": [],
   "source": [
    "import os\n",
    "\n",
    "os.makedirs('submission', exist_ok=True)"
   ]
  },
  {
   "cell_type": "code",
   "execution_count": 43,
   "metadata": {},
   "outputs": [
    {
     "name": "stderr",
     "output_type": "stream",
     "text": [
      "  0%|          | 0/2066 [00:00<?, ?it/s]/tmp/ipykernel_49602/336198212.py:6: UserWarning: submission/evaluation_mask_851.tif is a low contrast image\n",
      "  io.imsave(f'submission/evaluation_mask_{id}.tif', mask)\n",
      "/tmp/ipykernel_49602/336198212.py:6: UserWarning: submission/evaluation_mask_1695.tif is a low contrast image\n",
      "  io.imsave(f'submission/evaluation_mask_{id}.tif', mask)\n",
      "/tmp/ipykernel_49602/336198212.py:6: UserWarning: submission/evaluation_mask_1204.tif is a low contrast image\n",
      "  io.imsave(f'submission/evaluation_mask_{id}.tif', mask)\n",
      "/tmp/ipykernel_49602/336198212.py:6: UserWarning: submission/evaluation_mask_1138.tif is a low contrast image\n",
      "  io.imsave(f'submission/evaluation_mask_{id}.tif', mask)\n",
      "/tmp/ipykernel_49602/336198212.py:6: UserWarning: submission/evaluation_mask_215.tif is a low contrast image\n",
      "  io.imsave(f'submission/evaluation_mask_{id}.tif', mask)\n",
      "/tmp/ipykernel_49602/336198212.py:6: UserWarning: submission/evaluation_mask_496.tif is a low contrast image\n",
      "  io.imsave(f'submission/evaluation_mask_{id}.tif', mask)\n",
      "/tmp/ipykernel_49602/336198212.py:6: UserWarning: submission/evaluation_mask_691.tif is a low contrast image\n",
      "  io.imsave(f'submission/evaluation_mask_{id}.tif', mask)\n",
      "/tmp/ipykernel_49602/336198212.py:6: UserWarning: submission/evaluation_mask_317.tif is a low contrast image\n",
      "  io.imsave(f'submission/evaluation_mask_{id}.tif', mask)\n",
      "/tmp/ipykernel_49602/336198212.py:6: UserWarning: submission/evaluation_mask_1688.tif is a low contrast image\n",
      "  io.imsave(f'submission/evaluation_mask_{id}.tif', mask)\n",
      "/tmp/ipykernel_49602/336198212.py:6: UserWarning: submission/evaluation_mask_1371.tif is a low contrast image\n",
      "  io.imsave(f'submission/evaluation_mask_{id}.tif', mask)\n",
      "/tmp/ipykernel_49602/336198212.py:6: UserWarning: submission/evaluation_mask_904.tif is a low contrast image\n",
      "  io.imsave(f'submission/evaluation_mask_{id}.tif', mask)\n",
      "/tmp/ipykernel_49602/336198212.py:6: UserWarning: submission/evaluation_mask_522.tif is a low contrast image\n",
      "  io.imsave(f'submission/evaluation_mask_{id}.tif', mask)\n",
      "/tmp/ipykernel_49602/336198212.py:6: UserWarning: submission/evaluation_mask_194.tif is a low contrast image\n",
      "  io.imsave(f'submission/evaluation_mask_{id}.tif', mask)\n",
      "/tmp/ipykernel_49602/336198212.py:6: UserWarning: submission/evaluation_mask_1463.tif is a low contrast image\n",
      "  io.imsave(f'submission/evaluation_mask_{id}.tif', mask)\n",
      "/tmp/ipykernel_49602/336198212.py:6: UserWarning: submission/evaluation_mask_1785.tif is a low contrast image\n",
      "  io.imsave(f'submission/evaluation_mask_{id}.tif', mask)\n",
      "/tmp/ipykernel_49602/336198212.py:6: UserWarning: submission/evaluation_mask_187.tif is a low contrast image\n",
      "  io.imsave(f'submission/evaluation_mask_{id}.tif', mask)\n",
      "/tmp/ipykernel_49602/336198212.py:6: UserWarning: submission/evaluation_mask_452.tif is a low contrast image\n",
      "  io.imsave(f'submission/evaluation_mask_{id}.tif', mask)\n",
      "/tmp/ipykernel_49602/336198212.py:6: UserWarning: submission/evaluation_mask_1213.tif is a low contrast image\n",
      "  io.imsave(f'submission/evaluation_mask_{id}.tif', mask)\n",
      "/tmp/ipykernel_49602/336198212.py:6: UserWarning: submission/evaluation_mask_1077.tif is a low contrast image\n",
      "  io.imsave(f'submission/evaluation_mask_{id}.tif', mask)\n",
      "/tmp/ipykernel_49602/336198212.py:6: UserWarning: submission/evaluation_mask_760.tif is a low contrast image\n",
      "  io.imsave(f'submission/evaluation_mask_{id}.tif', mask)\n",
      "/tmp/ipykernel_49602/336198212.py:6: UserWarning: submission/evaluation_mask_1481.tif is a low contrast image\n",
      "  io.imsave(f'submission/evaluation_mask_{id}.tif', mask)\n",
      "/tmp/ipykernel_49602/336198212.py:6: UserWarning: submission/evaluation_mask_1583.tif is a low contrast image\n",
      "  io.imsave(f'submission/evaluation_mask_{id}.tif', mask)\n",
      "/tmp/ipykernel_49602/336198212.py:6: UserWarning: submission/evaluation_mask_826.tif is a low contrast image\n",
      "  io.imsave(f'submission/evaluation_mask_{id}.tif', mask)\n",
      "/tmp/ipykernel_49602/336198212.py:6: UserWarning: submission/evaluation_mask_1585.tif is a low contrast image\n",
      "  io.imsave(f'submission/evaluation_mask_{id}.tif', mask)\n",
      "/tmp/ipykernel_49602/336198212.py:6: UserWarning: submission/evaluation_mask_5.tif is a low contrast image\n",
      "  io.imsave(f'submission/evaluation_mask_{id}.tif', mask)\n",
      "/tmp/ipykernel_49602/336198212.py:6: UserWarning: submission/evaluation_mask_1350.tif is a low contrast image\n",
      "  io.imsave(f'submission/evaluation_mask_{id}.tif', mask)\n",
      "/tmp/ipykernel_49602/336198212.py:6: UserWarning: submission/evaluation_mask_517.tif is a low contrast image\n",
      "  io.imsave(f'submission/evaluation_mask_{id}.tif', mask)\n",
      "/tmp/ipykernel_49602/336198212.py:6: UserWarning: submission/evaluation_mask_1886.tif is a low contrast image\n",
      "  io.imsave(f'submission/evaluation_mask_{id}.tif', mask)\n",
      "/tmp/ipykernel_49602/336198212.py:6: UserWarning: submission/evaluation_mask_1113.tif is a low contrast image\n",
      "  io.imsave(f'submission/evaluation_mask_{id}.tif', mask)\n",
      "/tmp/ipykernel_49602/336198212.py:6: UserWarning: submission/evaluation_mask_1613.tif is a low contrast image\n",
      "  io.imsave(f'submission/evaluation_mask_{id}.tif', mask)\n",
      "  1%|▏         | 30/2066 [00:00<00:06, 292.26it/s]/tmp/ipykernel_49602/336198212.py:6: UserWarning: submission/evaluation_mask_1019.tif is a low contrast image\n",
      "  io.imsave(f'submission/evaluation_mask_{id}.tif', mask)\n",
      "/tmp/ipykernel_49602/336198212.py:6: UserWarning: submission/evaluation_mask_34.tif is a low contrast image\n",
      "  io.imsave(f'submission/evaluation_mask_{id}.tif', mask)\n",
      "/tmp/ipykernel_49602/336198212.py:6: UserWarning: submission/evaluation_mask_856.tif is a low contrast image\n",
      "  io.imsave(f'submission/evaluation_mask_{id}.tif', mask)\n",
      "/tmp/ipykernel_49602/336198212.py:6: UserWarning: submission/evaluation_mask_1714.tif is a low contrast image\n",
      "  io.imsave(f'submission/evaluation_mask_{id}.tif', mask)\n",
      "/tmp/ipykernel_49602/336198212.py:6: UserWarning: submission/evaluation_mask_1197.tif is a low contrast image\n",
      "  io.imsave(f'submission/evaluation_mask_{id}.tif', mask)\n",
      "/tmp/ipykernel_49602/336198212.py:6: UserWarning: submission/evaluation_mask_1719.tif is a low contrast image\n",
      "  io.imsave(f'submission/evaluation_mask_{id}.tif', mask)\n",
      "/tmp/ipykernel_49602/336198212.py:6: UserWarning: submission/evaluation_mask_1603.tif is a low contrast image\n",
      "  io.imsave(f'submission/evaluation_mask_{id}.tif', mask)\n",
      "/tmp/ipykernel_49602/336198212.py:6: UserWarning: submission/evaluation_mask_1359.tif is a low contrast image\n",
      "  io.imsave(f'submission/evaluation_mask_{id}.tif', mask)\n",
      "/tmp/ipykernel_49602/336198212.py:6: UserWarning: submission/evaluation_mask_1155.tif is a low contrast image\n",
      "  io.imsave(f'submission/evaluation_mask_{id}.tif', mask)\n",
      "/tmp/ipykernel_49602/336198212.py:6: UserWarning: submission/evaluation_mask_431.tif is a low contrast image\n",
      "  io.imsave(f'submission/evaluation_mask_{id}.tif', mask)\n",
      "/tmp/ipykernel_49602/336198212.py:6: UserWarning: submission/evaluation_mask_59.tif is a low contrast image\n",
      "  io.imsave(f'submission/evaluation_mask_{id}.tif', mask)\n",
      "/tmp/ipykernel_49602/336198212.py:6: UserWarning: submission/evaluation_mask_334.tif is a low contrast image\n",
      "  io.imsave(f'submission/evaluation_mask_{id}.tif', mask)\n",
      "/tmp/ipykernel_49602/336198212.py:6: UserWarning: submission/evaluation_mask_1097.tif is a low contrast image\n",
      "  io.imsave(f'submission/evaluation_mask_{id}.tif', mask)\n",
      "/tmp/ipykernel_49602/336198212.py:6: UserWarning: submission/evaluation_mask_1536.tif is a low contrast image\n",
      "  io.imsave(f'submission/evaluation_mask_{id}.tif', mask)\n",
      "/tmp/ipykernel_49602/336198212.py:6: UserWarning: submission/evaluation_mask_847.tif is a low contrast image\n",
      "  io.imsave(f'submission/evaluation_mask_{id}.tif', mask)\n",
      "/tmp/ipykernel_49602/336198212.py:6: UserWarning: submission/evaluation_mask_1049.tif is a low contrast image\n",
      "  io.imsave(f'submission/evaluation_mask_{id}.tif', mask)\n",
      "/tmp/ipykernel_49602/336198212.py:6: UserWarning: submission/evaluation_mask_1460.tif is a low contrast image\n",
      "  io.imsave(f'submission/evaluation_mask_{id}.tif', mask)\n",
      "/tmp/ipykernel_49602/336198212.py:6: UserWarning: submission/evaluation_mask_1163.tif is a low contrast image\n",
      "  io.imsave(f'submission/evaluation_mask_{id}.tif', mask)\n",
      "/tmp/ipykernel_49602/336198212.py:6: UserWarning: submission/evaluation_mask_1976.tif is a low contrast image\n",
      "  io.imsave(f'submission/evaluation_mask_{id}.tif', mask)\n",
      "/tmp/ipykernel_49602/336198212.py:6: UserWarning: submission/evaluation_mask_160.tif is a low contrast image\n",
      "  io.imsave(f'submission/evaluation_mask_{id}.tif', mask)\n",
      "/tmp/ipykernel_49602/336198212.py:6: UserWarning: submission/evaluation_mask_1366.tif is a low contrast image\n",
      "  io.imsave(f'submission/evaluation_mask_{id}.tif', mask)\n",
      "/tmp/ipykernel_49602/336198212.py:6: UserWarning: submission/evaluation_mask_480.tif is a low contrast image\n",
      "  io.imsave(f'submission/evaluation_mask_{id}.tif', mask)\n",
      "/tmp/ipykernel_49602/336198212.py:6: UserWarning: submission/evaluation_mask_1401.tif is a low contrast image\n",
      "  io.imsave(f'submission/evaluation_mask_{id}.tif', mask)\n",
      "/tmp/ipykernel_49602/336198212.py:6: UserWarning: submission/evaluation_mask_2034.tif is a low contrast image\n",
      "  io.imsave(f'submission/evaluation_mask_{id}.tif', mask)\n",
      "/tmp/ipykernel_49602/336198212.py:6: UserWarning: submission/evaluation_mask_249.tif is a low contrast image\n",
      "  io.imsave(f'submission/evaluation_mask_{id}.tif', mask)\n",
      "/tmp/ipykernel_49602/336198212.py:6: UserWarning: submission/evaluation_mask_817.tif is a low contrast image\n",
      "  io.imsave(f'submission/evaluation_mask_{id}.tif', mask)\n",
      "/tmp/ipykernel_49602/336198212.py:6: UserWarning: submission/evaluation_mask_1543.tif is a low contrast image\n",
      "  io.imsave(f'submission/evaluation_mask_{id}.tif', mask)\n",
      "/tmp/ipykernel_49602/336198212.py:6: UserWarning: submission/evaluation_mask_597.tif is a low contrast image\n",
      "  io.imsave(f'submission/evaluation_mask_{id}.tif', mask)\n",
      "/tmp/ipykernel_49602/336198212.py:6: UserWarning: submission/evaluation_mask_2038.tif is a low contrast image\n",
      "  io.imsave(f'submission/evaluation_mask_{id}.tif', mask)\n",
      "/tmp/ipykernel_49602/336198212.py:6: UserWarning: submission/evaluation_mask_1904.tif is a low contrast image\n",
      "  io.imsave(f'submission/evaluation_mask_{id}.tif', mask)\n",
      "/tmp/ipykernel_49602/336198212.py:6: UserWarning: submission/evaluation_mask_291.tif is a low contrast image\n",
      "  io.imsave(f'submission/evaluation_mask_{id}.tif', mask)\n",
      "/tmp/ipykernel_49602/336198212.py:6: UserWarning: submission/evaluation_mask_1431.tif is a low contrast image\n",
      "  io.imsave(f'submission/evaluation_mask_{id}.tif', mask)\n",
      "/tmp/ipykernel_49602/336198212.py:6: UserWarning: submission/evaluation_mask_118.tif is a low contrast image\n",
      "  io.imsave(f'submission/evaluation_mask_{id}.tif', mask)\n",
      "/tmp/ipykernel_49602/336198212.py:6: UserWarning: submission/evaluation_mask_113.tif is a low contrast image\n",
      "  io.imsave(f'submission/evaluation_mask_{id}.tif', mask)\n",
      "  3%|▎         | 64/2066 [00:00<00:06, 315.23it/s]/tmp/ipykernel_49602/336198212.py:6: UserWarning: submission/evaluation_mask_12.tif is a low contrast image\n",
      "  io.imsave(f'submission/evaluation_mask_{id}.tif', mask)\n",
      "/tmp/ipykernel_49602/336198212.py:6: UserWarning: submission/evaluation_mask_1650.tif is a low contrast image\n",
      "  io.imsave(f'submission/evaluation_mask_{id}.tif', mask)\n",
      "/tmp/ipykernel_49602/336198212.py:6: UserWarning: submission/evaluation_mask_1279.tif is a low contrast image\n",
      "  io.imsave(f'submission/evaluation_mask_{id}.tif', mask)\n",
      "/tmp/ipykernel_49602/336198212.py:6: UserWarning: submission/evaluation_mask_1762.tif is a low contrast image\n",
      "  io.imsave(f'submission/evaluation_mask_{id}.tif', mask)\n",
      "/tmp/ipykernel_49602/336198212.py:6: UserWarning: submission/evaluation_mask_1795.tif is a low contrast image\n",
      "  io.imsave(f'submission/evaluation_mask_{id}.tif', mask)\n",
      "/tmp/ipykernel_49602/336198212.py:6: UserWarning: submission/evaluation_mask_1046.tif is a low contrast image\n",
      "  io.imsave(f'submission/evaluation_mask_{id}.tif', mask)\n",
      "/tmp/ipykernel_49602/336198212.py:6: UserWarning: submission/evaluation_mask_1330.tif is a low contrast image\n",
      "  io.imsave(f'submission/evaluation_mask_{id}.tif', mask)\n",
      "/tmp/ipykernel_49602/336198212.py:6: UserWarning: submission/evaluation_mask_1043.tif is a low contrast image\n",
      "  io.imsave(f'submission/evaluation_mask_{id}.tif', mask)\n",
      "/tmp/ipykernel_49602/336198212.py:6: UserWarning: submission/evaluation_mask_192.tif is a low contrast image\n",
      "  io.imsave(f'submission/evaluation_mask_{id}.tif', mask)\n",
      "/tmp/ipykernel_49602/336198212.py:6: UserWarning: submission/evaluation_mask_1716.tif is a low contrast image\n",
      "  io.imsave(f'submission/evaluation_mask_{id}.tif', mask)\n",
      "/tmp/ipykernel_49602/336198212.py:6: UserWarning: submission/evaluation_mask_170.tif is a low contrast image\n",
      "  io.imsave(f'submission/evaluation_mask_{id}.tif', mask)\n",
      "/tmp/ipykernel_49602/336198212.py:6: UserWarning: submission/evaluation_mask_244.tif is a low contrast image\n",
      "  io.imsave(f'submission/evaluation_mask_{id}.tif', mask)\n",
      "/tmp/ipykernel_49602/336198212.py:6: UserWarning: submission/evaluation_mask_322.tif is a low contrast image\n",
      "  io.imsave(f'submission/evaluation_mask_{id}.tif', mask)\n",
      "/tmp/ipykernel_49602/336198212.py:6: UserWarning: submission/evaluation_mask_842.tif is a low contrast image\n",
      "  io.imsave(f'submission/evaluation_mask_{id}.tif', mask)\n",
      "/tmp/ipykernel_49602/336198212.py:6: UserWarning: submission/evaluation_mask_62.tif is a low contrast image\n",
      "  io.imsave(f'submission/evaluation_mask_{id}.tif', mask)\n",
      "/tmp/ipykernel_49602/336198212.py:6: UserWarning: submission/evaluation_mask_857.tif is a low contrast image\n",
      "  io.imsave(f'submission/evaluation_mask_{id}.tif', mask)\n",
      "/tmp/ipykernel_49602/336198212.py:6: UserWarning: submission/evaluation_mask_2025.tif is a low contrast image\n",
      "  io.imsave(f'submission/evaluation_mask_{id}.tif', mask)\n",
      "/tmp/ipykernel_49602/336198212.py:6: UserWarning: submission/evaluation_mask_1286.tif is a low contrast image\n",
      "  io.imsave(f'submission/evaluation_mask_{id}.tif', mask)\n",
      "/tmp/ipykernel_49602/336198212.py:6: UserWarning: submission/evaluation_mask_918.tif is a low contrast image\n",
      "  io.imsave(f'submission/evaluation_mask_{id}.tif', mask)\n",
      "/tmp/ipykernel_49602/336198212.py:6: UserWarning: submission/evaluation_mask_649.tif is a low contrast image\n",
      "  io.imsave(f'submission/evaluation_mask_{id}.tif', mask)\n",
      "/tmp/ipykernel_49602/336198212.py:6: UserWarning: submission/evaluation_mask_1760.tif is a low contrast image\n",
      "  io.imsave(f'submission/evaluation_mask_{id}.tif', mask)\n",
      "/tmp/ipykernel_49602/336198212.py:6: UserWarning: submission/evaluation_mask_142.tif is a low contrast image\n",
      "  io.imsave(f'submission/evaluation_mask_{id}.tif', mask)\n",
      "/tmp/ipykernel_49602/336198212.py:6: UserWarning: submission/evaluation_mask_1877.tif is a low contrast image\n",
      "  io.imsave(f'submission/evaluation_mask_{id}.tif', mask)\n",
      "/tmp/ipykernel_49602/336198212.py:6: UserWarning: submission/evaluation_mask_1232.tif is a low contrast image\n",
      "  io.imsave(f'submission/evaluation_mask_{id}.tif', mask)\n",
      "/tmp/ipykernel_49602/336198212.py:6: UserWarning: submission/evaluation_mask_523.tif is a low contrast image\n",
      "  io.imsave(f'submission/evaluation_mask_{id}.tif', mask)\n",
      "/tmp/ipykernel_49602/336198212.py:6: UserWarning: submission/evaluation_mask_340.tif is a low contrast image\n",
      "  io.imsave(f'submission/evaluation_mask_{id}.tif', mask)\n",
      "/tmp/ipykernel_49602/336198212.py:6: UserWarning: submission/evaluation_mask_1454.tif is a low contrast image\n",
      "  io.imsave(f'submission/evaluation_mask_{id}.tif', mask)\n",
      "/tmp/ipykernel_49602/336198212.py:6: UserWarning: submission/evaluation_mask_1802.tif is a low contrast image\n",
      "  io.imsave(f'submission/evaluation_mask_{id}.tif', mask)\n",
      "/tmp/ipykernel_49602/336198212.py:6: UserWarning: submission/evaluation_mask_858.tif is a low contrast image\n",
      "  io.imsave(f'submission/evaluation_mask_{id}.tif', mask)\n",
      "/tmp/ipykernel_49602/336198212.py:6: UserWarning: submission/evaluation_mask_1626.tif is a low contrast image\n",
      "  io.imsave(f'submission/evaluation_mask_{id}.tif', mask)\n",
      "/tmp/ipykernel_49602/336198212.py:6: UserWarning: submission/evaluation_mask_1957.tif is a low contrast image\n",
      "  io.imsave(f'submission/evaluation_mask_{id}.tif', mask)\n",
      "/tmp/ipykernel_49602/336198212.py:6: UserWarning: submission/evaluation_mask_1808.tif is a low contrast image\n",
      "  io.imsave(f'submission/evaluation_mask_{id}.tif', mask)\n",
      "  5%|▍         | 96/2066 [00:00<00:06, 314.13it/s]/tmp/ipykernel_49602/336198212.py:6: UserWarning: submission/evaluation_mask_1223.tif is a low contrast image\n",
      "  io.imsave(f'submission/evaluation_mask_{id}.tif', mask)\n",
      "/tmp/ipykernel_49602/336198212.py:6: UserWarning: submission/evaluation_mask_1459.tif is a low contrast image\n",
      "  io.imsave(f'submission/evaluation_mask_{id}.tif', mask)\n",
      "/tmp/ipykernel_49602/336198212.py:6: UserWarning: submission/evaluation_mask_2046.tif is a low contrast image\n",
      "  io.imsave(f'submission/evaluation_mask_{id}.tif', mask)\n",
      "/tmp/ipykernel_49602/336198212.py:6: UserWarning: submission/evaluation_mask_1501.tif is a low contrast image\n",
      "  io.imsave(f'submission/evaluation_mask_{id}.tif', mask)\n",
      "/tmp/ipykernel_49602/336198212.py:6: UserWarning: submission/evaluation_mask_1917.tif is a low contrast image\n",
      "  io.imsave(f'submission/evaluation_mask_{id}.tif', mask)\n",
      "/tmp/ipykernel_49602/336198212.py:6: UserWarning: submission/evaluation_mask_2048.tif is a low contrast image\n",
      "  io.imsave(f'submission/evaluation_mask_{id}.tif', mask)\n",
      "/tmp/ipykernel_49602/336198212.py:6: UserWarning: submission/evaluation_mask_730.tif is a low contrast image\n",
      "  io.imsave(f'submission/evaluation_mask_{id}.tif', mask)\n",
      "/tmp/ipykernel_49602/336198212.py:6: UserWarning: submission/evaluation_mask_1249.tif is a low contrast image\n",
      "  io.imsave(f'submission/evaluation_mask_{id}.tif', mask)\n",
      "/tmp/ipykernel_49602/336198212.py:6: UserWarning: submission/evaluation_mask_1334.tif is a low contrast image\n",
      "  io.imsave(f'submission/evaluation_mask_{id}.tif', mask)\n",
      "/tmp/ipykernel_49602/336198212.py:6: UserWarning: submission/evaluation_mask_1929.tif is a low contrast image\n",
      "  io.imsave(f'submission/evaluation_mask_{id}.tif', mask)\n",
      "/tmp/ipykernel_49602/336198212.py:6: UserWarning: submission/evaluation_mask_1327.tif is a low contrast image\n",
      "  io.imsave(f'submission/evaluation_mask_{id}.tif', mask)\n",
      "/tmp/ipykernel_49602/336198212.py:6: UserWarning: submission/evaluation_mask_1156.tif is a low contrast image\n",
      "  io.imsave(f'submission/evaluation_mask_{id}.tif', mask)\n",
      "/tmp/ipykernel_49602/336198212.py:6: UserWarning: submission/evaluation_mask_500.tif is a low contrast image\n",
      "  io.imsave(f'submission/evaluation_mask_{id}.tif', mask)\n",
      "/tmp/ipykernel_49602/336198212.py:6: UserWarning: submission/evaluation_mask_1275.tif is a low contrast image\n",
      "  io.imsave(f'submission/evaluation_mask_{id}.tif', mask)\n",
      "/tmp/ipykernel_49602/336198212.py:6: UserWarning: submission/evaluation_mask_1955.tif is a low contrast image\n",
      "  io.imsave(f'submission/evaluation_mask_{id}.tif', mask)\n",
      "/tmp/ipykernel_49602/336198212.py:6: UserWarning: submission/evaluation_mask_1014.tif is a low contrast image\n",
      "  io.imsave(f'submission/evaluation_mask_{id}.tif', mask)\n",
      "/tmp/ipykernel_49602/336198212.py:6: UserWarning: submission/evaluation_mask_1779.tif is a low contrast image\n",
      "  io.imsave(f'submission/evaluation_mask_{id}.tif', mask)\n",
      "/tmp/ipykernel_49602/336198212.py:6: UserWarning: submission/evaluation_mask_699.tif is a low contrast image\n",
      "  io.imsave(f'submission/evaluation_mask_{id}.tif', mask)\n",
      "/tmp/ipykernel_49602/336198212.py:6: UserWarning: submission/evaluation_mask_1287.tif is a low contrast image\n",
      "  io.imsave(f'submission/evaluation_mask_{id}.tif', mask)\n",
      "/tmp/ipykernel_49602/336198212.py:6: UserWarning: submission/evaluation_mask_791.tif is a low contrast image\n",
      "  io.imsave(f'submission/evaluation_mask_{id}.tif', mask)\n",
      "/tmp/ipykernel_49602/336198212.py:6: UserWarning: submission/evaluation_mask_254.tif is a low contrast image\n",
      "  io.imsave(f'submission/evaluation_mask_{id}.tif', mask)\n",
      "/tmp/ipykernel_49602/336198212.py:6: UserWarning: submission/evaluation_mask_1926.tif is a low contrast image\n",
      "  io.imsave(f'submission/evaluation_mask_{id}.tif', mask)\n",
      "/tmp/ipykernel_49602/336198212.py:6: UserWarning: submission/evaluation_mask_1572.tif is a low contrast image\n",
      "  io.imsave(f'submission/evaluation_mask_{id}.tif', mask)\n",
      "/tmp/ipykernel_49602/336198212.py:6: UserWarning: submission/evaluation_mask_420.tif is a low contrast image\n",
      "  io.imsave(f'submission/evaluation_mask_{id}.tif', mask)\n",
      "/tmp/ipykernel_49602/336198212.py:6: UserWarning: submission/evaluation_mask_958.tif is a low contrast image\n",
      "  io.imsave(f'submission/evaluation_mask_{id}.tif', mask)\n",
      "/tmp/ipykernel_49602/336198212.py:6: UserWarning: submission/evaluation_mask_1827.tif is a low contrast image\n",
      "  io.imsave(f'submission/evaluation_mask_{id}.tif', mask)\n",
      "/tmp/ipykernel_49602/336198212.py:6: UserWarning: submission/evaluation_mask_1281.tif is a low contrast image\n",
      "  io.imsave(f'submission/evaluation_mask_{id}.tif', mask)\n",
      "/tmp/ipykernel_49602/336198212.py:6: UserWarning: submission/evaluation_mask_18.tif is a low contrast image\n",
      "  io.imsave(f'submission/evaluation_mask_{id}.tif', mask)\n",
      "/tmp/ipykernel_49602/336198212.py:6: UserWarning: submission/evaluation_mask_2044.tif is a low contrast image\n",
      "  io.imsave(f'submission/evaluation_mask_{id}.tif', mask)\n",
      "/tmp/ipykernel_49602/336198212.py:6: UserWarning: submission/evaluation_mask_908.tif is a low contrast image\n",
      "  io.imsave(f'submission/evaluation_mask_{id}.tif', mask)\n",
      "/tmp/ipykernel_49602/336198212.py:6: UserWarning: submission/evaluation_mask_1649.tif is a low contrast image\n",
      "  io.imsave(f'submission/evaluation_mask_{id}.tif', mask)\n",
      "/tmp/ipykernel_49602/336198212.py:6: UserWarning: submission/evaluation_mask_672.tif is a low contrast image\n",
      "  io.imsave(f'submission/evaluation_mask_{id}.tif', mask)\n",
      "  6%|▌         | 128/2066 [00:00<00:06, 313.42it/s]/tmp/ipykernel_49602/336198212.py:6: UserWarning: submission/evaluation_mask_1390.tif is a low contrast image\n",
      "  io.imsave(f'submission/evaluation_mask_{id}.tif', mask)\n",
      "/tmp/ipykernel_49602/336198212.py:6: UserWarning: submission/evaluation_mask_1863.tif is a low contrast image\n",
      "  io.imsave(f'submission/evaluation_mask_{id}.tif', mask)\n",
      "/tmp/ipykernel_49602/336198212.py:6: UserWarning: submission/evaluation_mask_1606.tif is a low contrast image\n",
      "  io.imsave(f'submission/evaluation_mask_{id}.tif', mask)\n",
      "/tmp/ipykernel_49602/336198212.py:6: UserWarning: submission/evaluation_mask_140.tif is a low contrast image\n",
      "  io.imsave(f'submission/evaluation_mask_{id}.tif', mask)\n",
      "/tmp/ipykernel_49602/336198212.py:6: UserWarning: submission/evaluation_mask_996.tif is a low contrast image\n",
      "  io.imsave(f'submission/evaluation_mask_{id}.tif', mask)\n",
      "/tmp/ipykernel_49602/336198212.py:6: UserWarning: submission/evaluation_mask_1328.tif is a low contrast image\n",
      "  io.imsave(f'submission/evaluation_mask_{id}.tif', mask)\n",
      "/tmp/ipykernel_49602/336198212.py:6: UserWarning: submission/evaluation_mask_1701.tif is a low contrast image\n",
      "  io.imsave(f'submission/evaluation_mask_{id}.tif', mask)\n",
      "/tmp/ipykernel_49602/336198212.py:6: UserWarning: submission/evaluation_mask_809.tif is a low contrast image\n",
      "  io.imsave(f'submission/evaluation_mask_{id}.tif', mask)\n",
      "/tmp/ipykernel_49602/336198212.py:6: UserWarning: submission/evaluation_mask_318.tif is a low contrast image\n",
      "  io.imsave(f'submission/evaluation_mask_{id}.tif', mask)\n",
      "/tmp/ipykernel_49602/336198212.py:6: UserWarning: submission/evaluation_mask_1882.tif is a low contrast image\n",
      "  io.imsave(f'submission/evaluation_mask_{id}.tif', mask)\n",
      "/tmp/ipykernel_49602/336198212.py:6: UserWarning: submission/evaluation_mask_1468.tif is a low contrast image\n",
      "  io.imsave(f'submission/evaluation_mask_{id}.tif', mask)\n",
      "/tmp/ipykernel_49602/336198212.py:6: UserWarning: submission/evaluation_mask_580.tif is a low contrast image\n",
      "  io.imsave(f'submission/evaluation_mask_{id}.tif', mask)\n",
      "/tmp/ipykernel_49602/336198212.py:6: UserWarning: submission/evaluation_mask_310.tif is a low contrast image\n",
      "  io.imsave(f'submission/evaluation_mask_{id}.tif', mask)\n",
      "/tmp/ipykernel_49602/336198212.py:6: UserWarning: submission/evaluation_mask_1255.tif is a low contrast image\n",
      "  io.imsave(f'submission/evaluation_mask_{id}.tif', mask)\n",
      "/tmp/ipykernel_49602/336198212.py:6: UserWarning: submission/evaluation_mask_1562.tif is a low contrast image\n",
      "  io.imsave(f'submission/evaluation_mask_{id}.tif', mask)\n",
      "/tmp/ipykernel_49602/336198212.py:6: UserWarning: submission/evaluation_mask_77.tif is a low contrast image\n",
      "  io.imsave(f'submission/evaluation_mask_{id}.tif', mask)\n",
      "/tmp/ipykernel_49602/336198212.py:6: UserWarning: submission/evaluation_mask_1675.tif is a low contrast image\n",
      "  io.imsave(f'submission/evaluation_mask_{id}.tif', mask)\n",
      "/tmp/ipykernel_49602/336198212.py:6: UserWarning: submission/evaluation_mask_803.tif is a low contrast image\n",
      "  io.imsave(f'submission/evaluation_mask_{id}.tif', mask)\n",
      "/tmp/ipykernel_49602/336198212.py:6: UserWarning: submission/evaluation_mask_1462.tif is a low contrast image\n",
      "  io.imsave(f'submission/evaluation_mask_{id}.tif', mask)\n",
      "/tmp/ipykernel_49602/336198212.py:6: UserWarning: submission/evaluation_mask_236.tif is a low contrast image\n",
      "  io.imsave(f'submission/evaluation_mask_{id}.tif', mask)\n",
      "/tmp/ipykernel_49602/336198212.py:6: UserWarning: submission/evaluation_mask_499.tif is a low contrast image\n",
      "  io.imsave(f'submission/evaluation_mask_{id}.tif', mask)\n",
      "/tmp/ipykernel_49602/336198212.py:6: UserWarning: submission/evaluation_mask_1266.tif is a low contrast image\n",
      "  io.imsave(f'submission/evaluation_mask_{id}.tif', mask)\n",
      "/tmp/ipykernel_49602/336198212.py:6: UserWarning: submission/evaluation_mask_1050.tif is a low contrast image\n",
      "  io.imsave(f'submission/evaluation_mask_{id}.tif', mask)\n",
      "/tmp/ipykernel_49602/336198212.py:6: UserWarning: submission/evaluation_mask_680.tif is a low contrast image\n",
      "  io.imsave(f'submission/evaluation_mask_{id}.tif', mask)\n",
      "/tmp/ipykernel_49602/336198212.py:6: UserWarning: submission/evaluation_mask_711.tif is a low contrast image\n",
      "  io.imsave(f'submission/evaluation_mask_{id}.tif', mask)\n",
      "/tmp/ipykernel_49602/336198212.py:6: UserWarning: submission/evaluation_mask_343.tif is a low contrast image\n",
      "  io.imsave(f'submission/evaluation_mask_{id}.tif', mask)\n",
      "/tmp/ipykernel_49602/336198212.py:6: UserWarning: submission/evaluation_mask_1238.tif is a low contrast image\n",
      "  io.imsave(f'submission/evaluation_mask_{id}.tif', mask)\n",
      "/tmp/ipykernel_49602/336198212.py:6: UserWarning: submission/evaluation_mask_1940.tif is a low contrast image\n",
      "  io.imsave(f'submission/evaluation_mask_{id}.tif', mask)\n",
      "/tmp/ipykernel_49602/336198212.py:6: UserWarning: submission/evaluation_mask_576.tif is a low contrast image\n",
      "  io.imsave(f'submission/evaluation_mask_{id}.tif', mask)\n",
      "/tmp/ipykernel_49602/336198212.py:6: UserWarning: submission/evaluation_mask_285.tif is a low contrast image\n",
      "  io.imsave(f'submission/evaluation_mask_{id}.tif', mask)\n",
      "/tmp/ipykernel_49602/336198212.py:6: UserWarning: submission/evaluation_mask_650.tif is a low contrast image\n",
      "  io.imsave(f'submission/evaluation_mask_{id}.tif', mask)\n",
      "/tmp/ipykernel_49602/336198212.py:6: UserWarning: submission/evaluation_mask_955.tif is a low contrast image\n",
      "  io.imsave(f'submission/evaluation_mask_{id}.tif', mask)\n",
      "  8%|▊         | 160/2066 [00:00<00:06, 314.81it/s]/tmp/ipykernel_49602/336198212.py:6: UserWarning: submission/evaluation_mask_123.tif is a low contrast image\n",
      "  io.imsave(f'submission/evaluation_mask_{id}.tif', mask)\n",
      "/tmp/ipykernel_49602/336198212.py:6: UserWarning: submission/evaluation_mask_205.tif is a low contrast image\n",
      "  io.imsave(f'submission/evaluation_mask_{id}.tif', mask)\n",
      "/tmp/ipykernel_49602/336198212.py:6: UserWarning: submission/evaluation_mask_1549.tif is a low contrast image\n",
      "  io.imsave(f'submission/evaluation_mask_{id}.tif', mask)\n",
      "/tmp/ipykernel_49602/336198212.py:6: UserWarning: submission/evaluation_mask_1035.tif is a low contrast image\n",
      "  io.imsave(f'submission/evaluation_mask_{id}.tif', mask)\n",
      "/tmp/ipykernel_49602/336198212.py:6: UserWarning: submission/evaluation_mask_859.tif is a low contrast image\n",
      "  io.imsave(f'submission/evaluation_mask_{id}.tif', mask)\n",
      "/tmp/ipykernel_49602/336198212.py:6: UserWarning: submission/evaluation_mask_1586.tif is a low contrast image\n",
      "  io.imsave(f'submission/evaluation_mask_{id}.tif', mask)\n",
      "/tmp/ipykernel_49602/336198212.py:6: UserWarning: submission/evaluation_mask_614.tif is a low contrast image\n",
      "  io.imsave(f'submission/evaluation_mask_{id}.tif', mask)\n",
      "/tmp/ipykernel_49602/336198212.py:6: UserWarning: submission/evaluation_mask_1565.tif is a low contrast image\n",
      "  io.imsave(f'submission/evaluation_mask_{id}.tif', mask)\n",
      "/tmp/ipykernel_49602/336198212.py:6: UserWarning: submission/evaluation_mask_622.tif is a low contrast image\n",
      "  io.imsave(f'submission/evaluation_mask_{id}.tif', mask)\n",
      "/tmp/ipykernel_49602/336198212.py:6: UserWarning: submission/evaluation_mask_1618.tif is a low contrast image\n",
      "  io.imsave(f'submission/evaluation_mask_{id}.tif', mask)\n",
      "/tmp/ipykernel_49602/336198212.py:6: UserWarning: submission/evaluation_mask_1299.tif is a low contrast image\n",
      "  io.imsave(f'submission/evaluation_mask_{id}.tif', mask)\n",
      "/tmp/ipykernel_49602/336198212.py:6: UserWarning: submission/evaluation_mask_1516.tif is a low contrast image\n",
      "  io.imsave(f'submission/evaluation_mask_{id}.tif', mask)\n",
      "/tmp/ipykernel_49602/336198212.py:6: UserWarning: submission/evaluation_mask_1698.tif is a low contrast image\n",
      "  io.imsave(f'submission/evaluation_mask_{id}.tif', mask)\n",
      "/tmp/ipykernel_49602/336198212.py:6: UserWarning: submission/evaluation_mask_275.tif is a low contrast image\n",
      "  io.imsave(f'submission/evaluation_mask_{id}.tif', mask)\n",
      "/tmp/ipykernel_49602/336198212.py:6: UserWarning: submission/evaluation_mask_919.tif is a low contrast image\n",
      "  io.imsave(f'submission/evaluation_mask_{id}.tif', mask)\n",
      "/tmp/ipykernel_49602/336198212.py:6: UserWarning: submission/evaluation_mask_877.tif is a low contrast image\n",
      "  io.imsave(f'submission/evaluation_mask_{id}.tif', mask)\n",
      "/tmp/ipykernel_49602/336198212.py:6: UserWarning: submission/evaluation_mask_1353.tif is a low contrast image\n",
      "  io.imsave(f'submission/evaluation_mask_{id}.tif', mask)\n",
      "/tmp/ipykernel_49602/336198212.py:6: UserWarning: submission/evaluation_mask_1164.tif is a low contrast image\n",
      "  io.imsave(f'submission/evaluation_mask_{id}.tif', mask)\n",
      "/tmp/ipykernel_49602/336198212.py:6: UserWarning: submission/evaluation_mask_1873.tif is a low contrast image\n",
      "  io.imsave(f'submission/evaluation_mask_{id}.tif', mask)\n",
      "/tmp/ipykernel_49602/336198212.py:6: UserWarning: submission/evaluation_mask_277.tif is a low contrast image\n",
      "  io.imsave(f'submission/evaluation_mask_{id}.tif', mask)\n",
      "/tmp/ipykernel_49602/336198212.py:6: UserWarning: submission/evaluation_mask_890.tif is a low contrast image\n",
      "  io.imsave(f'submission/evaluation_mask_{id}.tif', mask)\n",
      "/tmp/ipykernel_49602/336198212.py:6: UserWarning: submission/evaluation_mask_1337.tif is a low contrast image\n",
      "  io.imsave(f'submission/evaluation_mask_{id}.tif', mask)\n",
      "/tmp/ipykernel_49602/336198212.py:6: UserWarning: submission/evaluation_mask_15.tif is a low contrast image\n",
      "  io.imsave(f'submission/evaluation_mask_{id}.tif', mask)\n",
      "/tmp/ipykernel_49602/336198212.py:6: UserWarning: submission/evaluation_mask_781.tif is a low contrast image\n",
      "  io.imsave(f'submission/evaluation_mask_{id}.tif', mask)\n",
      "/tmp/ipykernel_49602/336198212.py:6: UserWarning: submission/evaluation_mask_1966.tif is a low contrast image\n",
      "  io.imsave(f'submission/evaluation_mask_{id}.tif', mask)\n",
      "/tmp/ipykernel_49602/336198212.py:6: UserWarning: submission/evaluation_mask_433.tif is a low contrast image\n",
      "  io.imsave(f'submission/evaluation_mask_{id}.tif', mask)\n",
      "/tmp/ipykernel_49602/336198212.py:6: UserWarning: submission/evaluation_mask_881.tif is a low contrast image\n",
      "  io.imsave(f'submission/evaluation_mask_{id}.tif', mask)\n",
      "/tmp/ipykernel_49602/336198212.py:6: UserWarning: submission/evaluation_mask_935.tif is a low contrast image\n",
      "  io.imsave(f'submission/evaluation_mask_{id}.tif', mask)\n",
      "/tmp/ipykernel_49602/336198212.py:6: UserWarning: submission/evaluation_mask_1489.tif is a low contrast image\n",
      "  io.imsave(f'submission/evaluation_mask_{id}.tif', mask)\n",
      "/tmp/ipykernel_49602/336198212.py:6: UserWarning: submission/evaluation_mask_805.tif is a low contrast image\n",
      "  io.imsave(f'submission/evaluation_mask_{id}.tif', mask)\n",
      "/tmp/ipykernel_49602/336198212.py:6: UserWarning: submission/evaluation_mask_1829.tif is a low contrast image\n",
      "  io.imsave(f'submission/evaluation_mask_{id}.tif', mask)\n",
      "/tmp/ipykernel_49602/336198212.py:6: UserWarning: submission/evaluation_mask_1457.tif is a low contrast image\n",
      "  io.imsave(f'submission/evaluation_mask_{id}.tif', mask)\n",
      "/tmp/ipykernel_49602/336198212.py:6: UserWarning: submission/evaluation_mask_1947.tif is a low contrast image\n",
      "  io.imsave(f'submission/evaluation_mask_{id}.tif', mask)\n",
      "  9%|▉         | 193/2066 [00:00<00:05, 319.38it/s]/tmp/ipykernel_49602/336198212.py:6: UserWarning: submission/evaluation_mask_219.tif is a low contrast image\n",
      "  io.imsave(f'submission/evaluation_mask_{id}.tif', mask)\n",
      "/tmp/ipykernel_49602/336198212.py:6: UserWarning: submission/evaluation_mask_21.tif is a low contrast image\n",
      "  io.imsave(f'submission/evaluation_mask_{id}.tif', mask)\n",
      "/tmp/ipykernel_49602/336198212.py:6: UserWarning: submission/evaluation_mask_972.tif is a low contrast image\n",
      "  io.imsave(f'submission/evaluation_mask_{id}.tif', mask)\n",
      "/tmp/ipykernel_49602/336198212.py:6: UserWarning: submission/evaluation_mask_1225.tif is a low contrast image\n",
      "  io.imsave(f'submission/evaluation_mask_{id}.tif', mask)\n",
      "/tmp/ipykernel_49602/336198212.py:6: UserWarning: submission/evaluation_mask_592.tif is a low contrast image\n",
      "  io.imsave(f'submission/evaluation_mask_{id}.tif', mask)\n",
      "/tmp/ipykernel_49602/336198212.py:6: UserWarning: submission/evaluation_mask_910.tif is a low contrast image\n",
      "  io.imsave(f'submission/evaluation_mask_{id}.tif', mask)\n",
      "/tmp/ipykernel_49602/336198212.py:6: UserWarning: submission/evaluation_mask_1678.tif is a low contrast image\n",
      "  io.imsave(f'submission/evaluation_mask_{id}.tif', mask)\n",
      "/tmp/ipykernel_49602/336198212.py:6: UserWarning: submission/evaluation_mask_284.tif is a low contrast image\n",
      "  io.imsave(f'submission/evaluation_mask_{id}.tif', mask)\n",
      "/tmp/ipykernel_49602/336198212.py:6: UserWarning: submission/evaluation_mask_1479.tif is a low contrast image\n",
      "  io.imsave(f'submission/evaluation_mask_{id}.tif', mask)\n",
      "/tmp/ipykernel_49602/336198212.py:6: UserWarning: submission/evaluation_mask_920.tif is a low contrast image\n",
      "  io.imsave(f'submission/evaluation_mask_{id}.tif', mask)\n",
      "/tmp/ipykernel_49602/336198212.py:6: UserWarning: submission/evaluation_mask_1563.tif is a low contrast image\n",
      "  io.imsave(f'submission/evaluation_mask_{id}.tif', mask)\n",
      "/tmp/ipykernel_49602/336198212.py:6: UserWarning: submission/evaluation_mask_1177.tif is a low contrast image\n",
      "  io.imsave(f'submission/evaluation_mask_{id}.tif', mask)\n",
      "/tmp/ipykernel_49602/336198212.py:6: UserWarning: submission/evaluation_mask_1686.tif is a low contrast image\n",
      "  io.imsave(f'submission/evaluation_mask_{id}.tif', mask)\n",
      "/tmp/ipykernel_49602/336198212.py:6: UserWarning: submission/evaluation_mask_339.tif is a low contrast image\n",
      "  io.imsave(f'submission/evaluation_mask_{id}.tif', mask)\n",
      "/tmp/ipykernel_49602/336198212.py:6: UserWarning: submission/evaluation_mask_787.tif is a low contrast image\n",
      "  io.imsave(f'submission/evaluation_mask_{id}.tif', mask)\n",
      "/tmp/ipykernel_49602/336198212.py:6: UserWarning: submission/evaluation_mask_1021.tif is a low contrast image\n",
      "  io.imsave(f'submission/evaluation_mask_{id}.tif', mask)\n",
      "/tmp/ipykernel_49602/336198212.py:6: UserWarning: submission/evaluation_mask_924.tif is a low contrast image\n",
      "  io.imsave(f'submission/evaluation_mask_{id}.tif', mask)\n",
      "/tmp/ipykernel_49602/336198212.py:6: UserWarning: submission/evaluation_mask_736.tif is a low contrast image\n",
      "  io.imsave(f'submission/evaluation_mask_{id}.tif', mask)\n",
      "/tmp/ipykernel_49602/336198212.py:6: UserWarning: submission/evaluation_mask_1061.tif is a low contrast image\n",
      "  io.imsave(f'submission/evaluation_mask_{id}.tif', mask)\n",
      "/tmp/ipykernel_49602/336198212.py:6: UserWarning: submission/evaluation_mask_182.tif is a low contrast image\n",
      "  io.imsave(f'submission/evaluation_mask_{id}.tif', mask)\n",
      "/tmp/ipykernel_49602/336198212.py:6: UserWarning: submission/evaluation_mask_1872.tif is a low contrast image\n",
      "  io.imsave(f'submission/evaluation_mask_{id}.tif', mask)\n",
      "/tmp/ipykernel_49602/336198212.py:6: UserWarning: submission/evaluation_mask_104.tif is a low contrast image\n",
      "  io.imsave(f'submission/evaluation_mask_{id}.tif', mask)\n",
      "/tmp/ipykernel_49602/336198212.py:6: UserWarning: submission/evaluation_mask_546.tif is a low contrast image\n",
      "  io.imsave(f'submission/evaluation_mask_{id}.tif', mask)\n",
      "/tmp/ipykernel_49602/336198212.py:6: UserWarning: submission/evaluation_mask_247.tif is a low contrast image\n",
      "  io.imsave(f'submission/evaluation_mask_{id}.tif', mask)\n",
      "/tmp/ipykernel_49602/336198212.py:6: UserWarning: submission/evaluation_mask_1620.tif is a low contrast image\n",
      "  io.imsave(f'submission/evaluation_mask_{id}.tif', mask)\n",
      "/tmp/ipykernel_49602/336198212.py:6: UserWarning: submission/evaluation_mask_363.tif is a low contrast image\n",
      "  io.imsave(f'submission/evaluation_mask_{id}.tif', mask)\n",
      "/tmp/ipykernel_49602/336198212.py:6: UserWarning: submission/evaluation_mask_766.tif is a low contrast image\n",
      "  io.imsave(f'submission/evaluation_mask_{id}.tif', mask)\n",
      "/tmp/ipykernel_49602/336198212.py:6: UserWarning: submission/evaluation_mask_1749.tif is a low contrast image\n",
      "  io.imsave(f'submission/evaluation_mask_{id}.tif', mask)\n",
      "/tmp/ipykernel_49602/336198212.py:6: UserWarning: submission/evaluation_mask_404.tif is a low contrast image\n",
      "  io.imsave(f'submission/evaluation_mask_{id}.tif', mask)\n",
      "/tmp/ipykernel_49602/336198212.py:6: UserWarning: submission/evaluation_mask_880.tif is a low contrast image\n",
      "  io.imsave(f'submission/evaluation_mask_{id}.tif', mask)\n",
      "/tmp/ipykernel_49602/336198212.py:6: UserWarning: submission/evaluation_mask_1700.tif is a low contrast image\n",
      "  io.imsave(f'submission/evaluation_mask_{id}.tif', mask)\n",
      "/tmp/ipykernel_49602/336198212.py:6: UserWarning: submission/evaluation_mask_1207.tif is a low contrast image\n",
      "  io.imsave(f'submission/evaluation_mask_{id}.tif', mask)\n",
      "/tmp/ipykernel_49602/336198212.py:6: UserWarning: submission/evaluation_mask_507.tif is a low contrast image\n",
      "  io.imsave(f'submission/evaluation_mask_{id}.tif', mask)\n",
      "/tmp/ipykernel_49602/336198212.py:6: UserWarning: submission/evaluation_mask_743.tif is a low contrast image\n",
      "  io.imsave(f'submission/evaluation_mask_{id}.tif', mask)\n",
      " 11%|█         | 227/2066 [00:00<00:05, 323.89it/s]/tmp/ipykernel_49602/336198212.py:6: UserWarning: submission/evaluation_mask_896.tif is a low contrast image\n",
      "  io.imsave(f'submission/evaluation_mask_{id}.tif', mask)\n",
      "/tmp/ipykernel_49602/336198212.py:6: UserWarning: submission/evaluation_mask_611.tif is a low contrast image\n",
      "  io.imsave(f'submission/evaluation_mask_{id}.tif', mask)\n",
      "/tmp/ipykernel_49602/336198212.py:6: UserWarning: submission/evaluation_mask_2036.tif is a low contrast image\n",
      "  io.imsave(f'submission/evaluation_mask_{id}.tif', mask)\n",
      "/tmp/ipykernel_49602/336198212.py:6: UserWarning: submission/evaluation_mask_1609.tif is a low contrast image\n",
      "  io.imsave(f'submission/evaluation_mask_{id}.tif', mask)\n",
      "/tmp/ipykernel_49602/336198212.py:6: UserWarning: submission/evaluation_mask_161.tif is a low contrast image\n",
      "  io.imsave(f'submission/evaluation_mask_{id}.tif', mask)\n",
      "/tmp/ipykernel_49602/336198212.py:6: UserWarning: submission/evaluation_mask_1637.tif is a low contrast image\n",
      "  io.imsave(f'submission/evaluation_mask_{id}.tif', mask)\n",
      "/tmp/ipykernel_49602/336198212.py:6: UserWarning: submission/evaluation_mask_837.tif is a low contrast image\n",
      "  io.imsave(f'submission/evaluation_mask_{id}.tif', mask)\n",
      "/tmp/ipykernel_49602/336198212.py:6: UserWarning: submission/evaluation_mask_102.tif is a low contrast image\n",
      "  io.imsave(f'submission/evaluation_mask_{id}.tif', mask)\n",
      "/tmp/ipykernel_49602/336198212.py:6: UserWarning: submission/evaluation_mask_926.tif is a low contrast image\n",
      "  io.imsave(f'submission/evaluation_mask_{id}.tif', mask)\n",
      "/tmp/ipykernel_49602/336198212.py:6: UserWarning: submission/evaluation_mask_1332.tif is a low contrast image\n",
      "  io.imsave(f'submission/evaluation_mask_{id}.tif', mask)\n",
      "/tmp/ipykernel_49602/336198212.py:6: UserWarning: submission/evaluation_mask_916.tif is a low contrast image\n",
      "  io.imsave(f'submission/evaluation_mask_{id}.tif', mask)\n",
      "/tmp/ipykernel_49602/336198212.py:6: UserWarning: submission/evaluation_mask_1429.tif is a low contrast image\n",
      "  io.imsave(f'submission/evaluation_mask_{id}.tif', mask)\n",
      "/tmp/ipykernel_49602/336198212.py:6: UserWarning: submission/evaluation_mask_639.tif is a low contrast image\n",
      "  io.imsave(f'submission/evaluation_mask_{id}.tif', mask)\n",
      "/tmp/ipykernel_49602/336198212.py:6: UserWarning: submission/evaluation_mask_1590.tif is a low contrast image\n",
      "  io.imsave(f'submission/evaluation_mask_{id}.tif', mask)\n",
      "/tmp/ipykernel_49602/336198212.py:6: UserWarning: submission/evaluation_mask_1102.tif is a low contrast image\n",
      "  io.imsave(f'submission/evaluation_mask_{id}.tif', mask)\n",
      "/tmp/ipykernel_49602/336198212.py:6: UserWarning: submission/evaluation_mask_1195.tif is a low contrast image\n",
      "  io.imsave(f'submission/evaluation_mask_{id}.tif', mask)\n",
      "/tmp/ipykernel_49602/336198212.py:6: UserWarning: submission/evaluation_mask_311.tif is a low contrast image\n",
      "  io.imsave(f'submission/evaluation_mask_{id}.tif', mask)\n",
      "/tmp/ipykernel_49602/336198212.py:6: UserWarning: submission/evaluation_mask_108.tif is a low contrast image\n",
      "  io.imsave(f'submission/evaluation_mask_{id}.tif', mask)\n",
      "/tmp/ipykernel_49602/336198212.py:6: UserWarning: submission/evaluation_mask_212.tif is a low contrast image\n",
      "  io.imsave(f'submission/evaluation_mask_{id}.tif', mask)\n",
      "/tmp/ipykernel_49602/336198212.py:6: UserWarning: submission/evaluation_mask_1253.tif is a low contrast image\n",
      "  io.imsave(f'submission/evaluation_mask_{id}.tif', mask)\n",
      "/tmp/ipykernel_49602/336198212.py:6: UserWarning: submission/evaluation_mask_309.tif is a low contrast image\n",
      "  io.imsave(f'submission/evaluation_mask_{id}.tif', mask)\n",
      "/tmp/ipykernel_49602/336198212.py:6: UserWarning: submission/evaluation_mask_907.tif is a low contrast image\n",
      "  io.imsave(f'submission/evaluation_mask_{id}.tif', mask)\n",
      "/tmp/ipykernel_49602/336198212.py:6: UserWarning: submission/evaluation_mask_355.tif is a low contrast image\n",
      "  io.imsave(f'submission/evaluation_mask_{id}.tif', mask)\n",
      "/tmp/ipykernel_49602/336198212.py:6: UserWarning: submission/evaluation_mask_1133.tif is a low contrast image\n",
      "  io.imsave(f'submission/evaluation_mask_{id}.tif', mask)\n",
      "/tmp/ipykernel_49602/336198212.py:6: UserWarning: submission/evaluation_mask_1386.tif is a low contrast image\n",
      "  io.imsave(f'submission/evaluation_mask_{id}.tif', mask)\n",
      "/tmp/ipykernel_49602/336198212.py:6: UserWarning: submission/evaluation_mask_767.tif is a low contrast image\n",
      "  io.imsave(f'submission/evaluation_mask_{id}.tif', mask)\n",
      "/tmp/ipykernel_49602/336198212.py:6: UserWarning: submission/evaluation_mask_607.tif is a low contrast image\n",
      "  io.imsave(f'submission/evaluation_mask_{id}.tif', mask)\n",
      "/tmp/ipykernel_49602/336198212.py:6: UserWarning: submission/evaluation_mask_26.tif is a low contrast image\n",
      "  io.imsave(f'submission/evaluation_mask_{id}.tif', mask)\n",
      "/tmp/ipykernel_49602/336198212.py:6: UserWarning: submission/evaluation_mask_289.tif is a low contrast image\n",
      "  io.imsave(f'submission/evaluation_mask_{id}.tif', mask)\n",
      "/tmp/ipykernel_49602/336198212.py:6: UserWarning: submission/evaluation_mask_1219.tif is a low contrast image\n",
      "  io.imsave(f'submission/evaluation_mask_{id}.tif', mask)\n",
      "/tmp/ipykernel_49602/336198212.py:6: UserWarning: submission/evaluation_mask_1670.tif is a low contrast image\n",
      "  io.imsave(f'submission/evaluation_mask_{id}.tif', mask)\n",
      "/tmp/ipykernel_49602/336198212.py:6: UserWarning: submission/evaluation_mask_1798.tif is a low contrast image\n",
      "  io.imsave(f'submission/evaluation_mask_{id}.tif', mask)\n",
      "/tmp/ipykernel_49602/336198212.py:6: UserWarning: submission/evaluation_mask_1405.tif is a low contrast image\n",
      "  io.imsave(f'submission/evaluation_mask_{id}.tif', mask)\n",
      " 13%|█▎        | 260/2066 [00:00<00:05, 324.52it/s]/tmp/ipykernel_49602/336198212.py:6: UserWarning: submission/evaluation_mask_1755.tif is a low contrast image\n",
      "  io.imsave(f'submission/evaluation_mask_{id}.tif', mask)\n",
      "/tmp/ipykernel_49602/336198212.py:6: UserWarning: submission/evaluation_mask_655.tif is a low contrast image\n",
      "  io.imsave(f'submission/evaluation_mask_{id}.tif', mask)\n",
      "/tmp/ipykernel_49602/336198212.py:6: UserWarning: submission/evaluation_mask_1409.tif is a low contrast image\n",
      "  io.imsave(f'submission/evaluation_mask_{id}.tif', mask)\n",
      "/tmp/ipykernel_49602/336198212.py:6: UserWarning: submission/evaluation_mask_1351.tif is a low contrast image\n",
      "  io.imsave(f'submission/evaluation_mask_{id}.tif', mask)\n",
      "/tmp/ipykernel_49602/336198212.py:6: UserWarning: submission/evaluation_mask_555.tif is a low contrast image\n",
      "  io.imsave(f'submission/evaluation_mask_{id}.tif', mask)\n",
      "/tmp/ipykernel_49602/336198212.py:6: UserWarning: submission/evaluation_mask_1676.tif is a low contrast image\n",
      "  io.imsave(f'submission/evaluation_mask_{id}.tif', mask)\n",
      "/tmp/ipykernel_49602/336198212.py:6: UserWarning: submission/evaluation_mask_594.tif is a low contrast image\n",
      "  io.imsave(f'submission/evaluation_mask_{id}.tif', mask)\n",
      "/tmp/ipykernel_49602/336198212.py:6: UserWarning: submission/evaluation_mask_1513.tif is a low contrast image\n",
      "  io.imsave(f'submission/evaluation_mask_{id}.tif', mask)\n",
      "/tmp/ipykernel_49602/336198212.py:6: UserWarning: submission/evaluation_mask_832.tif is a low contrast image\n",
      "  io.imsave(f'submission/evaluation_mask_{id}.tif', mask)\n",
      "/tmp/ipykernel_49602/336198212.py:6: UserWarning: submission/evaluation_mask_1338.tif is a low contrast image\n",
      "  io.imsave(f'submission/evaluation_mask_{id}.tif', mask)\n",
      "/tmp/ipykernel_49602/336198212.py:6: UserWarning: submission/evaluation_mask_587.tif is a low contrast image\n",
      "  io.imsave(f'submission/evaluation_mask_{id}.tif', mask)\n",
      "/tmp/ipykernel_49602/336198212.py:6: UserWarning: submission/evaluation_mask_1724.tif is a low contrast image\n",
      "  io.imsave(f'submission/evaluation_mask_{id}.tif', mask)\n",
      "/tmp/ipykernel_49602/336198212.py:6: UserWarning: submission/evaluation_mask_287.tif is a low contrast image\n",
      "  io.imsave(f'submission/evaluation_mask_{id}.tif', mask)\n",
      "/tmp/ipykernel_49602/336198212.py:6: UserWarning: submission/evaluation_mask_1189.tif is a low contrast image\n",
      "  io.imsave(f'submission/evaluation_mask_{id}.tif', mask)\n",
      "/tmp/ipykernel_49602/336198212.py:6: UserWarning: submission/evaluation_mask_7.tif is a low contrast image\n",
      "  io.imsave(f'submission/evaluation_mask_{id}.tif', mask)\n",
      "/tmp/ipykernel_49602/336198212.py:6: UserWarning: submission/evaluation_mask_399.tif is a low contrast image\n",
      "  io.imsave(f'submission/evaluation_mask_{id}.tif', mask)\n",
      "/tmp/ipykernel_49602/336198212.py:6: UserWarning: submission/evaluation_mask_1392.tif is a low contrast image\n",
      "  io.imsave(f'submission/evaluation_mask_{id}.tif', mask)\n",
      "/tmp/ipykernel_49602/336198212.py:6: UserWarning: submission/evaluation_mask_1782.tif is a low contrast image\n",
      "  io.imsave(f'submission/evaluation_mask_{id}.tif', mask)\n",
      "/tmp/ipykernel_49602/336198212.py:6: UserWarning: submission/evaluation_mask_1148.tif is a low contrast image\n",
      "  io.imsave(f'submission/evaluation_mask_{id}.tif', mask)\n",
      "/tmp/ipykernel_49602/336198212.py:6: UserWarning: submission/evaluation_mask_899.tif is a low contrast image\n",
      "  io.imsave(f'submission/evaluation_mask_{id}.tif', mask)\n",
      "/tmp/ipykernel_49602/336198212.py:6: UserWarning: submission/evaluation_mask_816.tif is a low contrast image\n",
      "  io.imsave(f'submission/evaluation_mask_{id}.tif', mask)\n",
      "/tmp/ipykernel_49602/336198212.py:6: UserWarning: submission/evaluation_mask_76.tif is a low contrast image\n",
      "  io.imsave(f'submission/evaluation_mask_{id}.tif', mask)\n",
      "/tmp/ipykernel_49602/336198212.py:6: UserWarning: submission/evaluation_mask_279.tif is a low contrast image\n",
      "  io.imsave(f'submission/evaluation_mask_{id}.tif', mask)\n",
      "/tmp/ipykernel_49602/336198212.py:6: UserWarning: submission/evaluation_mask_718.tif is a low contrast image\n",
      "  io.imsave(f'submission/evaluation_mask_{id}.tif', mask)\n",
      "/tmp/ipykernel_49602/336198212.py:6: UserWarning: submission/evaluation_mask_1548.tif is a low contrast image\n",
      "  io.imsave(f'submission/evaluation_mask_{id}.tif', mask)\n",
      "/tmp/ipykernel_49602/336198212.py:6: UserWarning: submission/evaluation_mask_1625.tif is a low contrast image\n",
      "  io.imsave(f'submission/evaluation_mask_{id}.tif', mask)\n",
      "/tmp/ipykernel_49602/336198212.py:6: UserWarning: submission/evaluation_mask_1915.tif is a low contrast image\n",
      "  io.imsave(f'submission/evaluation_mask_{id}.tif', mask)\n",
      "/tmp/ipykernel_49602/336198212.py:6: UserWarning: submission/evaluation_mask_934.tif is a low contrast image\n",
      "  io.imsave(f'submission/evaluation_mask_{id}.tif', mask)\n",
      "/tmp/ipykernel_49602/336198212.py:6: UserWarning: submission/evaluation_mask_648.tif is a low contrast image\n",
      "  io.imsave(f'submission/evaluation_mask_{id}.tif', mask)\n",
      "/tmp/ipykernel_49602/336198212.py:6: UserWarning: submission/evaluation_mask_1702.tif is a low contrast image\n",
      "  io.imsave(f'submission/evaluation_mask_{id}.tif', mask)\n",
      "/tmp/ipykernel_49602/336198212.py:6: UserWarning: submission/evaluation_mask_1801.tif is a low contrast image\n",
      "  io.imsave(f'submission/evaluation_mask_{id}.tif', mask)\n",
      "/tmp/ipykernel_49602/336198212.py:6: UserWarning: submission/evaluation_mask_427.tif is a low contrast image\n",
      "  io.imsave(f'submission/evaluation_mask_{id}.tif', mask)\n",
      "/tmp/ipykernel_49602/336198212.py:6: UserWarning: submission/evaluation_mask_774.tif is a low contrast image\n",
      "  io.imsave(f'submission/evaluation_mask_{id}.tif', mask)\n",
      " 14%|█▍        | 293/2066 [00:00<00:05, 322.49it/s]/tmp/ipykernel_49602/336198212.py:6: UserWarning: submission/evaluation_mask_128.tif is a low contrast image\n",
      "  io.imsave(f'submission/evaluation_mask_{id}.tif', mask)\n",
      "/tmp/ipykernel_49602/336198212.py:6: UserWarning: submission/evaluation_mask_687.tif is a low contrast image\n",
      "  io.imsave(f'submission/evaluation_mask_{id}.tif', mask)\n",
      "/tmp/ipykernel_49602/336198212.py:6: UserWarning: submission/evaluation_mask_1508.tif is a low contrast image\n",
      "  io.imsave(f'submission/evaluation_mask_{id}.tif', mask)\n",
      "/tmp/ipykernel_49602/336198212.py:6: UserWarning: submission/evaluation_mask_852.tif is a low contrast image\n",
      "  io.imsave(f'submission/evaluation_mask_{id}.tif', mask)\n",
      "/tmp/ipykernel_49602/336198212.py:6: UserWarning: submission/evaluation_mask_1752.tif is a low contrast image\n",
      "  io.imsave(f'submission/evaluation_mask_{id}.tif', mask)\n",
      "/tmp/ipykernel_49602/336198212.py:6: UserWarning: submission/evaluation_mask_1012.tif is a low contrast image\n",
      "  io.imsave(f'submission/evaluation_mask_{id}.tif', mask)\n",
      "/tmp/ipykernel_49602/336198212.py:6: UserWarning: submission/evaluation_mask_1173.tif is a low contrast image\n",
      "  io.imsave(f'submission/evaluation_mask_{id}.tif', mask)\n",
      "/tmp/ipykernel_49602/336198212.py:6: UserWarning: submission/evaluation_mask_1304.tif is a low contrast image\n",
      "  io.imsave(f'submission/evaluation_mask_{id}.tif', mask)\n",
      "/tmp/ipykernel_49602/336198212.py:6: UserWarning: submission/evaluation_mask_1731.tif is a low contrast image\n",
      "  io.imsave(f'submission/evaluation_mask_{id}.tif', mask)\n",
      "/tmp/ipykernel_49602/336198212.py:6: UserWarning: submission/evaluation_mask_2011.tif is a low contrast image\n",
      "  io.imsave(f'submission/evaluation_mask_{id}.tif', mask)\n",
      "/tmp/ipykernel_49602/336198212.py:6: UserWarning: submission/evaluation_mask_22.tif is a low contrast image\n",
      "  io.imsave(f'submission/evaluation_mask_{id}.tif', mask)\n",
      "/tmp/ipykernel_49602/336198212.py:6: UserWarning: submission/evaluation_mask_1257.tif is a low contrast image\n",
      "  io.imsave(f'submission/evaluation_mask_{id}.tif', mask)\n",
      "/tmp/ipykernel_49602/336198212.py:6: UserWarning: submission/evaluation_mask_792.tif is a low contrast image\n",
      "  io.imsave(f'submission/evaluation_mask_{id}.tif', mask)\n",
      "/tmp/ipykernel_49602/336198212.py:6: UserWarning: submission/evaluation_mask_808.tif is a low contrast image\n",
      "  io.imsave(f'submission/evaluation_mask_{id}.tif', mask)\n",
      "/tmp/ipykernel_49602/336198212.py:6: UserWarning: submission/evaluation_mask_1963.tif is a low contrast image\n",
      "  io.imsave(f'submission/evaluation_mask_{id}.tif', mask)\n",
      "/tmp/ipykernel_49602/336198212.py:6: UserWarning: submission/evaluation_mask_806.tif is a low contrast image\n",
      "  io.imsave(f'submission/evaluation_mask_{id}.tif', mask)\n",
      "/tmp/ipykernel_49602/336198212.py:6: UserWarning: submission/evaluation_mask_370.tif is a low contrast image\n",
      "  io.imsave(f'submission/evaluation_mask_{id}.tif', mask)\n",
      "/tmp/ipykernel_49602/336198212.py:6: UserWarning: submission/evaluation_mask_831.tif is a low contrast image\n",
      "  io.imsave(f'submission/evaluation_mask_{id}.tif', mask)\n",
      "/tmp/ipykernel_49602/336198212.py:6: UserWarning: submission/evaluation_mask_1713.tif is a low contrast image\n",
      "  io.imsave(f'submission/evaluation_mask_{id}.tif', mask)\n",
      "/tmp/ipykernel_49602/336198212.py:6: UserWarning: submission/evaluation_mask_893.tif is a low contrast image\n",
      "  io.imsave(f'submission/evaluation_mask_{id}.tif', mask)\n",
      "/tmp/ipykernel_49602/336198212.py:6: UserWarning: submission/evaluation_mask_1323.tif is a low contrast image\n",
      "  io.imsave(f'submission/evaluation_mask_{id}.tif', mask)\n",
      "/tmp/ipykernel_49602/336198212.py:6: UserWarning: submission/evaluation_mask_1673.tif is a low contrast image\n",
      "  io.imsave(f'submission/evaluation_mask_{id}.tif', mask)\n",
      "/tmp/ipykernel_49602/336198212.py:6: UserWarning: submission/evaluation_mask_214.tif is a low contrast image\n",
      "  io.imsave(f'submission/evaluation_mask_{id}.tif', mask)\n",
      "/tmp/ipykernel_49602/336198212.py:6: UserWarning: submission/evaluation_mask_1920.tif is a low contrast image\n",
      "  io.imsave(f'submission/evaluation_mask_{id}.tif', mask)\n",
      "/tmp/ipykernel_49602/336198212.py:6: UserWarning: submission/evaluation_mask_1748.tif is a low contrast image\n",
      "  io.imsave(f'submission/evaluation_mask_{id}.tif', mask)\n",
      "/tmp/ipykernel_49602/336198212.py:6: UserWarning: submission/evaluation_mask_1059.tif is a low contrast image\n",
      "  io.imsave(f'submission/evaluation_mask_{id}.tif', mask)\n",
      "/tmp/ipykernel_49602/336198212.py:6: UserWarning: submission/evaluation_mask_1856.tif is a low contrast image\n",
      "  io.imsave(f'submission/evaluation_mask_{id}.tif', mask)\n",
      "/tmp/ipykernel_49602/336198212.py:6: UserWarning: submission/evaluation_mask_391.tif is a low contrast image\n",
      "  io.imsave(f'submission/evaluation_mask_{id}.tif', mask)\n",
      "/tmp/ipykernel_49602/336198212.py:6: UserWarning: submission/evaluation_mask_984.tif is a low contrast image\n",
      "  io.imsave(f'submission/evaluation_mask_{id}.tif', mask)\n",
      "/tmp/ipykernel_49602/336198212.py:6: UserWarning: submission/evaluation_mask_788.tif is a low contrast image\n",
      "  io.imsave(f'submission/evaluation_mask_{id}.tif', mask)\n",
      "/tmp/ipykernel_49602/336198212.py:6: UserWarning: submission/evaluation_mask_617.tif is a low contrast image\n",
      "  io.imsave(f'submission/evaluation_mask_{id}.tif', mask)\n",
      "/tmp/ipykernel_49602/336198212.py:6: UserWarning: submission/evaluation_mask_384.tif is a low contrast image\n",
      "  io.imsave(f'submission/evaluation_mask_{id}.tif', mask)\n",
      "/tmp/ipykernel_49602/336198212.py:6: UserWarning: submission/evaluation_mask_630.tif is a low contrast image\n",
      "  io.imsave(f'submission/evaluation_mask_{id}.tif', mask)\n",
      "/tmp/ipykernel_49602/336198212.py:6: UserWarning: submission/evaluation_mask_379.tif is a low contrast image\n",
      "  io.imsave(f'submission/evaluation_mask_{id}.tif', mask)\n",
      " 16%|█▌        | 327/2066 [00:01<00:05, 325.70it/s]/tmp/ipykernel_49602/336198212.py:6: UserWarning: submission/evaluation_mask_1734.tif is a low contrast image\n",
      "  io.imsave(f'submission/evaluation_mask_{id}.tif', mask)\n",
      "/tmp/ipykernel_49602/336198212.py:6: UserWarning: submission/evaluation_mask_13.tif is a low contrast image\n",
      "  io.imsave(f'submission/evaluation_mask_{id}.tif', mask)\n",
      "/tmp/ipykernel_49602/336198212.py:6: UserWarning: submission/evaluation_mask_662.tif is a low contrast image\n",
      "  io.imsave(f'submission/evaluation_mask_{id}.tif', mask)\n",
      "/tmp/ipykernel_49602/336198212.py:6: UserWarning: submission/evaluation_mask_696.tif is a low contrast image\n",
      "  io.imsave(f'submission/evaluation_mask_{id}.tif', mask)\n",
      "/tmp/ipykernel_49602/336198212.py:6: UserWarning: submission/evaluation_mask_116.tif is a low contrast image\n",
      "  io.imsave(f'submission/evaluation_mask_{id}.tif', mask)\n",
      "/tmp/ipykernel_49602/336198212.py:6: UserWarning: submission/evaluation_mask_1472.tif is a low contrast image\n",
      "  io.imsave(f'submission/evaluation_mask_{id}.tif', mask)\n",
      "/tmp/ipykernel_49602/336198212.py:6: UserWarning: submission/evaluation_mask_1181.tif is a low contrast image\n",
      "  io.imsave(f'submission/evaluation_mask_{id}.tif', mask)\n",
      "/tmp/ipykernel_49602/336198212.py:6: UserWarning: submission/evaluation_mask_1044.tif is a low contrast image\n",
      "  io.imsave(f'submission/evaluation_mask_{id}.tif', mask)\n",
      "/tmp/ipykernel_49602/336198212.py:6: UserWarning: submission/evaluation_mask_1828.tif is a low contrast image\n",
      "  io.imsave(f'submission/evaluation_mask_{id}.tif', mask)\n",
      "/tmp/ipykernel_49602/336198212.py:6: UserWarning: submission/evaluation_mask_604.tif is a low contrast image\n",
      "  io.imsave(f'submission/evaluation_mask_{id}.tif', mask)\n",
      "/tmp/ipykernel_49602/336198212.py:6: UserWarning: submission/evaluation_mask_323.tif is a low contrast image\n",
      "  io.imsave(f'submission/evaluation_mask_{id}.tif', mask)\n",
      "/tmp/ipykernel_49602/336198212.py:6: UserWarning: submission/evaluation_mask_1252.tif is a low contrast image\n",
      "  io.imsave(f'submission/evaluation_mask_{id}.tif', mask)\n",
      "/tmp/ipykernel_49602/336198212.py:6: UserWarning: submission/evaluation_mask_681.tif is a low contrast image\n",
      "  io.imsave(f'submission/evaluation_mask_{id}.tif', mask)\n",
      "/tmp/ipykernel_49602/336198212.py:6: UserWarning: submission/evaluation_mask_1290.tif is a low contrast image\n",
      "  io.imsave(f'submission/evaluation_mask_{id}.tif', mask)\n",
      "/tmp/ipykernel_49602/336198212.py:6: UserWarning: submission/evaluation_mask_1424.tif is a low contrast image\n",
      "  io.imsave(f'submission/evaluation_mask_{id}.tif', mask)\n",
      "/tmp/ipykernel_49602/336198212.py:6: UserWarning: submission/evaluation_mask_747.tif is a low contrast image\n",
      "  io.imsave(f'submission/evaluation_mask_{id}.tif', mask)\n",
      "/tmp/ipykernel_49602/336198212.py:6: UserWarning: submission/evaluation_mask_1103.tif is a low contrast image\n",
      "  io.imsave(f'submission/evaluation_mask_{id}.tif', mask)\n",
      "/tmp/ipykernel_49602/336198212.py:6: UserWarning: submission/evaluation_mask_1906.tif is a low contrast image\n",
      "  io.imsave(f'submission/evaluation_mask_{id}.tif', mask)\n",
      "/tmp/ipykernel_49602/336198212.py:6: UserWarning: submission/evaluation_mask_132.tif is a low contrast image\n",
      "  io.imsave(f'submission/evaluation_mask_{id}.tif', mask)\n",
      "/tmp/ipykernel_49602/336198212.py:6: UserWarning: submission/evaluation_mask_676.tif is a low contrast image\n",
      "  io.imsave(f'submission/evaluation_mask_{id}.tif', mask)\n",
      "/tmp/ipykernel_49602/336198212.py:6: UserWarning: submission/evaluation_mask_1835.tif is a low contrast image\n",
      "  io.imsave(f'submission/evaluation_mask_{id}.tif', mask)\n",
      "/tmp/ipykernel_49602/336198212.py:6: UserWarning: submission/evaluation_mask_58.tif is a low contrast image\n",
      "  io.imsave(f'submission/evaluation_mask_{id}.tif', mask)\n",
      "/tmp/ipykernel_49602/336198212.py:6: UserWarning: submission/evaluation_mask_406.tif is a low contrast image\n",
      "  io.imsave(f'submission/evaluation_mask_{id}.tif', mask)\n",
      "/tmp/ipykernel_49602/336198212.py:6: UserWarning: submission/evaluation_mask_1623.tif is a low contrast image\n",
      "  io.imsave(f'submission/evaluation_mask_{id}.tif', mask)\n",
      "/tmp/ipykernel_49602/336198212.py:6: UserWarning: submission/evaluation_mask_1664.tif is a low contrast image\n",
      "  io.imsave(f'submission/evaluation_mask_{id}.tif', mask)\n",
      "/tmp/ipykernel_49602/336198212.py:6: UserWarning: submission/evaluation_mask_1916.tif is a low contrast image\n",
      "  io.imsave(f'submission/evaluation_mask_{id}.tif', mask)\n",
      "/tmp/ipykernel_49602/336198212.py:6: UserWarning: submission/evaluation_mask_874.tif is a low contrast image\n",
      "  io.imsave(f'submission/evaluation_mask_{id}.tif', mask)\n",
      "/tmp/ipykernel_49602/336198212.py:6: UserWarning: submission/evaluation_mask_245.tif is a low contrast image\n",
      "  io.imsave(f'submission/evaluation_mask_{id}.tif', mask)\n",
      "/tmp/ipykernel_49602/336198212.py:6: UserWarning: submission/evaluation_mask_1361.tif is a low contrast image\n",
      "  io.imsave(f'submission/evaluation_mask_{id}.tif', mask)\n",
      "/tmp/ipykernel_49602/336198212.py:6: UserWarning: submission/evaluation_mask_1729.tif is a low contrast image\n",
      "  io.imsave(f'submission/evaluation_mask_{id}.tif', mask)\n",
      "/tmp/ipykernel_49602/336198212.py:6: UserWarning: submission/evaluation_mask_2042.tif is a low contrast image\n",
      "  io.imsave(f'submission/evaluation_mask_{id}.tif', mask)\n",
      "/tmp/ipykernel_49602/336198212.py:6: UserWarning: submission/evaluation_mask_825.tif is a low contrast image\n",
      "  io.imsave(f'submission/evaluation_mask_{id}.tif', mask)\n",
      "/tmp/ipykernel_49602/336198212.py:6: UserWarning: submission/evaluation_mask_71.tif is a low contrast image\n",
      "  io.imsave(f'submission/evaluation_mask_{id}.tif', mask)\n",
      "/tmp/ipykernel_49602/336198212.py:6: UserWarning: submission/evaluation_mask_234.tif is a low contrast image\n",
      "  io.imsave(f'submission/evaluation_mask_{id}.tif', mask)\n",
      " 17%|█▋        | 361/2066 [00:01<00:05, 327.27it/s]/tmp/ipykernel_49602/336198212.py:6: UserWarning: submission/evaluation_mask_1619.tif is a low contrast image\n",
      "  io.imsave(f'submission/evaluation_mask_{id}.tif', mask)\n",
      "/tmp/ipykernel_49602/336198212.py:6: UserWarning: submission/evaluation_mask_954.tif is a low contrast image\n",
      "  io.imsave(f'submission/evaluation_mask_{id}.tif', mask)\n",
      "/tmp/ipykernel_49602/336198212.py:6: UserWarning: submission/evaluation_mask_1524.tif is a low contrast image\n",
      "  io.imsave(f'submission/evaluation_mask_{id}.tif', mask)\n",
      "/tmp/ipykernel_49602/336198212.py:6: UserWarning: submission/evaluation_mask_992.tif is a low contrast image\n",
      "  io.imsave(f'submission/evaluation_mask_{id}.tif', mask)\n",
      "/tmp/ipykernel_49602/336198212.py:6: UserWarning: submission/evaluation_mask_1990.tif is a low contrast image\n",
      "  io.imsave(f'submission/evaluation_mask_{id}.tif', mask)\n",
      "/tmp/ipykernel_49602/336198212.py:6: UserWarning: submission/evaluation_mask_833.tif is a low contrast image\n",
      "  io.imsave(f'submission/evaluation_mask_{id}.tif', mask)\n",
      "/tmp/ipykernel_49602/336198212.py:6: UserWarning: submission/evaluation_mask_1216.tif is a low contrast image\n",
      "  io.imsave(f'submission/evaluation_mask_{id}.tif', mask)\n",
      "/tmp/ipykernel_49602/336198212.py:6: UserWarning: submission/evaluation_mask_1499.tif is a low contrast image\n",
      "  io.imsave(f'submission/evaluation_mask_{id}.tif', mask)\n",
      "/tmp/ipykernel_49602/336198212.py:6: UserWarning: submission/evaluation_mask_2026.tif is a low contrast image\n",
      "  io.imsave(f'submission/evaluation_mask_{id}.tif', mask)\n",
      "/tmp/ipykernel_49602/336198212.py:6: UserWarning: submission/evaluation_mask_197.tif is a low contrast image\n",
      "  io.imsave(f'submission/evaluation_mask_{id}.tif', mask)\n",
      "/tmp/ipykernel_49602/336198212.py:6: UserWarning: submission/evaluation_mask_1426.tif is a low contrast image\n",
      "  io.imsave(f'submission/evaluation_mask_{id}.tif', mask)\n",
      "/tmp/ipykernel_49602/336198212.py:6: UserWarning: submission/evaluation_mask_901.tif is a low contrast image\n",
      "  io.imsave(f'submission/evaluation_mask_{id}.tif', mask)\n",
      "/tmp/ipykernel_49602/336198212.py:6: UserWarning: submission/evaluation_mask_1260.tif is a low contrast image\n",
      "  io.imsave(f'submission/evaluation_mask_{id}.tif', mask)\n",
      "/tmp/ipykernel_49602/336198212.py:6: UserWarning: submission/evaluation_mask_811.tif is a low contrast image\n",
      "  io.imsave(f'submission/evaluation_mask_{id}.tif', mask)\n",
      "/tmp/ipykernel_49602/336198212.py:6: UserWarning: submission/evaluation_mask_1944.tif is a low contrast image\n",
      "  io.imsave(f'submission/evaluation_mask_{id}.tif', mask)\n",
      "/tmp/ipykernel_49602/336198212.py:6: UserWarning: submission/evaluation_mask_1595.tif is a low contrast image\n",
      "  io.imsave(f'submission/evaluation_mask_{id}.tif', mask)\n",
      "/tmp/ipykernel_49602/336198212.py:6: UserWarning: submission/evaluation_mask_1051.tif is a low contrast image\n",
      "  io.imsave(f'submission/evaluation_mask_{id}.tif', mask)\n",
      "/tmp/ipykernel_49602/336198212.py:6: UserWarning: submission/evaluation_mask_167.tif is a low contrast image\n",
      "  io.imsave(f'submission/evaluation_mask_{id}.tif', mask)\n",
      "/tmp/ipykernel_49602/336198212.py:6: UserWarning: submission/evaluation_mask_742.tif is a low contrast image\n",
      "  io.imsave(f'submission/evaluation_mask_{id}.tif', mask)\n",
      "/tmp/ipykernel_49602/336198212.py:6: UserWarning: submission/evaluation_mask_1440.tif is a low contrast image\n",
      "  io.imsave(f'submission/evaluation_mask_{id}.tif', mask)\n",
      "/tmp/ipykernel_49602/336198212.py:6: UserWarning: submission/evaluation_mask_656.tif is a low contrast image\n",
      "  io.imsave(f'submission/evaluation_mask_{id}.tif', mask)\n",
      "/tmp/ipykernel_49602/336198212.py:6: UserWarning: submission/evaluation_mask_1836.tif is a low contrast image\n",
      "  io.imsave(f'submission/evaluation_mask_{id}.tif', mask)\n",
      "/tmp/ipykernel_49602/336198212.py:6: UserWarning: submission/evaluation_mask_1579.tif is a low contrast image\n",
      "  io.imsave(f'submission/evaluation_mask_{id}.tif', mask)\n",
      "/tmp/ipykernel_49602/336198212.py:6: UserWarning: submission/evaluation_mask_867.tif is a low contrast image\n",
      "  io.imsave(f'submission/evaluation_mask_{id}.tif', mask)\n",
      "/tmp/ipykernel_49602/336198212.py:6: UserWarning: submission/evaluation_mask_1031.tif is a low contrast image\n",
      "  io.imsave(f'submission/evaluation_mask_{id}.tif', mask)\n",
      "/tmp/ipykernel_49602/336198212.py:6: UserWarning: submission/evaluation_mask_1896.tif is a low contrast image\n",
      "  io.imsave(f'submission/evaluation_mask_{id}.tif', mask)\n",
      "/tmp/ipykernel_49602/336198212.py:6: UserWarning: submission/evaluation_mask_855.tif is a low contrast image\n",
      "  io.imsave(f'submission/evaluation_mask_{id}.tif', mask)\n",
      "/tmp/ipykernel_49602/336198212.py:6: UserWarning: submission/evaluation_mask_645.tif is a low contrast image\n",
      "  io.imsave(f'submission/evaluation_mask_{id}.tif', mask)\n",
      "/tmp/ipykernel_49602/336198212.py:6: UserWarning: submission/evaluation_mask_1142.tif is a low contrast image\n",
      "  io.imsave(f'submission/evaluation_mask_{id}.tif', mask)\n",
      "/tmp/ipykernel_49602/336198212.py:6: UserWarning: submission/evaluation_mask_444.tif is a low contrast image\n",
      "  io.imsave(f'submission/evaluation_mask_{id}.tif', mask)\n",
      "/tmp/ipykernel_49602/336198212.py:6: UserWarning: submission/evaluation_mask_948.tif is a low contrast image\n",
      "  io.imsave(f'submission/evaluation_mask_{id}.tif', mask)\n",
      "/tmp/ipykernel_49602/336198212.py:6: UserWarning: submission/evaluation_mask_1648.tif is a low contrast image\n",
      "  io.imsave(f'submission/evaluation_mask_{id}.tif', mask)\n",
      "/tmp/ipykernel_49602/336198212.py:6: UserWarning: submission/evaluation_mask_1887.tif is a low contrast image\n",
      "  io.imsave(f'submission/evaluation_mask_{id}.tif', mask)\n",
      " 19%|█▉        | 394/2066 [00:01<00:05, 328.02it/s]/tmp/ipykernel_49602/336198212.py:6: UserWarning: submission/evaluation_mask_1265.tif is a low contrast image\n",
      "  io.imsave(f'submission/evaluation_mask_{id}.tif', mask)\n",
      "/tmp/ipykernel_49602/336198212.py:6: UserWarning: submission/evaluation_mask_1594.tif is a low contrast image\n",
      "  io.imsave(f'submission/evaluation_mask_{id}.tif', mask)\n",
      "/tmp/ipykernel_49602/336198212.py:6: UserWarning: submission/evaluation_mask_443.tif is a low contrast image\n",
      "  io.imsave(f'submission/evaluation_mask_{id}.tif', mask)\n",
      "/tmp/ipykernel_49602/336198212.py:6: UserWarning: submission/evaluation_mask_1589.tif is a low contrast image\n",
      "  io.imsave(f'submission/evaluation_mask_{id}.tif', mask)\n",
      "/tmp/ipykernel_49602/336198212.py:6: UserWarning: submission/evaluation_mask_1497.tif is a low contrast image\n",
      "  io.imsave(f'submission/evaluation_mask_{id}.tif', mask)\n",
      "/tmp/ipykernel_49602/336198212.py:6: UserWarning: submission/evaluation_mask_202.tif is a low contrast image\n",
      "  io.imsave(f'submission/evaluation_mask_{id}.tif', mask)\n",
      "/tmp/ipykernel_49602/336198212.py:6: UserWarning: submission/evaluation_mask_959.tif is a low contrast image\n",
      "  io.imsave(f'submission/evaluation_mask_{id}.tif', mask)\n",
      "/tmp/ipykernel_49602/336198212.py:6: UserWarning: submission/evaluation_mask_383.tif is a low contrast image\n",
      "  io.imsave(f'submission/evaluation_mask_{id}.tif', mask)\n",
      "/tmp/ipykernel_49602/336198212.py:6: UserWarning: submission/evaluation_mask_380.tif is a low contrast image\n",
      "  io.imsave(f'submission/evaluation_mask_{id}.tif', mask)\n",
      "/tmp/ipykernel_49602/336198212.py:6: UserWarning: submission/evaluation_mask_1466.tif is a low contrast image\n",
      "  io.imsave(f'submission/evaluation_mask_{id}.tif', mask)\n",
      "/tmp/ipykernel_49602/336198212.py:6: UserWarning: submission/evaluation_mask_1315.tif is a low contrast image\n",
      "  io.imsave(f'submission/evaluation_mask_{id}.tif', mask)\n",
      "/tmp/ipykernel_49602/336198212.py:6: UserWarning: submission/evaluation_mask_673.tif is a low contrast image\n",
      "  io.imsave(f'submission/evaluation_mask_{id}.tif', mask)\n",
      "/tmp/ipykernel_49602/336198212.py:6: UserWarning: submission/evaluation_mask_497.tif is a low contrast image\n",
      "  io.imsave(f'submission/evaluation_mask_{id}.tif', mask)\n",
      "/tmp/ipykernel_49602/336198212.py:6: UserWarning: submission/evaluation_mask_147.tif is a low contrast image\n",
      "  io.imsave(f'submission/evaluation_mask_{id}.tif', mask)\n",
      "/tmp/ipykernel_49602/336198212.py:6: UserWarning: submission/evaluation_mask_710.tif is a low contrast image\n",
      "  io.imsave(f'submission/evaluation_mask_{id}.tif', mask)\n",
      "/tmp/ipykernel_49602/336198212.py:6: UserWarning: submission/evaluation_mask_1122.tif is a low contrast image\n",
      "  io.imsave(f'submission/evaluation_mask_{id}.tif', mask)\n",
      "/tmp/ipykernel_49602/336198212.py:6: UserWarning: submission/evaluation_mask_1136.tif is a low contrast image\n",
      "  io.imsave(f'submission/evaluation_mask_{id}.tif', mask)\n",
      "/tmp/ipykernel_49602/336198212.py:6: UserWarning: submission/evaluation_mask_1743.tif is a low contrast image\n",
      "  io.imsave(f'submission/evaluation_mask_{id}.tif', mask)\n",
      "/tmp/ipykernel_49602/336198212.py:6: UserWarning: submission/evaluation_mask_1100.tif is a low contrast image\n",
      "  io.imsave(f'submission/evaluation_mask_{id}.tif', mask)\n",
      "/tmp/ipykernel_49602/336198212.py:6: UserWarning: submission/evaluation_mask_1853.tif is a low contrast image\n",
      "  io.imsave(f'submission/evaluation_mask_{id}.tif', mask)\n",
      "/tmp/ipykernel_49602/336198212.py:6: UserWarning: submission/evaluation_mask_273.tif is a low contrast image\n",
      "  io.imsave(f'submission/evaluation_mask_{id}.tif', mask)\n",
      "/tmp/ipykernel_49602/336198212.py:6: UserWarning: submission/evaluation_mask_353.tif is a low contrast image\n",
      "  io.imsave(f'submission/evaluation_mask_{id}.tif', mask)\n",
      "/tmp/ipykernel_49602/336198212.py:6: UserWarning: submission/evaluation_mask_1379.tif is a low contrast image\n",
      "  io.imsave(f'submission/evaluation_mask_{id}.tif', mask)\n",
      "/tmp/ipykernel_49602/336198212.py:6: UserWarning: submission/evaluation_mask_333.tif is a low contrast image\n",
      "  io.imsave(f'submission/evaluation_mask_{id}.tif', mask)\n",
      "/tmp/ipykernel_49602/336198212.py:6: UserWarning: submission/evaluation_mask_414.tif is a low contrast image\n",
      "  io.imsave(f'submission/evaluation_mask_{id}.tif', mask)\n",
      "/tmp/ipykernel_49602/336198212.py:6: UserWarning: submission/evaluation_mask_1727.tif is a low contrast image\n",
      "  io.imsave(f'submission/evaluation_mask_{id}.tif', mask)\n",
      "/tmp/ipykernel_49602/336198212.py:6: UserWarning: submission/evaluation_mask_1222.tif is a low contrast image\n",
      "  io.imsave(f'submission/evaluation_mask_{id}.tif', mask)\n",
      "/tmp/ipykernel_49602/336198212.py:6: UserWarning: submission/evaluation_mask_1437.tif is a low contrast image\n",
      "  io.imsave(f'submission/evaluation_mask_{id}.tif', mask)\n",
      "/tmp/ipykernel_49602/336198212.py:6: UserWarning: submission/evaluation_mask_1977.tif is a low contrast image\n",
      "  io.imsave(f'submission/evaluation_mask_{id}.tif', mask)\n",
      "/tmp/ipykernel_49602/336198212.py:6: UserWarning: submission/evaluation_mask_1537.tif is a low contrast image\n",
      "  io.imsave(f'submission/evaluation_mask_{id}.tif', mask)\n",
      "/tmp/ipykernel_49602/336198212.py:6: UserWarning: submission/evaluation_mask_1692.tif is a low contrast image\n",
      "  io.imsave(f'submission/evaluation_mask_{id}.tif', mask)\n",
      "/tmp/ipykernel_49602/336198212.py:6: UserWarning: submission/evaluation_mask_1318.tif is a low contrast image\n",
      "  io.imsave(f'submission/evaluation_mask_{id}.tif', mask)\n",
      "/tmp/ipykernel_49602/336198212.py:6: UserWarning: submission/evaluation_mask_668.tif is a low contrast image\n",
      "  io.imsave(f'submission/evaluation_mask_{id}.tif', mask)\n",
      "/tmp/ipykernel_49602/336198212.py:6: UserWarning: submission/evaluation_mask_1145.tif is a low contrast image\n",
      "  io.imsave(f'submission/evaluation_mask_{id}.tif', mask)\n",
      " 21%|██        | 428/2066 [00:01<00:04, 329.53it/s]/tmp/ipykernel_49602/336198212.py:6: UserWarning: submission/evaluation_mask_184.tif is a low contrast image\n",
      "  io.imsave(f'submission/evaluation_mask_{id}.tif', mask)\n",
      "/tmp/ipykernel_49602/336198212.py:6: UserWarning: submission/evaluation_mask_64.tif is a low contrast image\n",
      "  io.imsave(f'submission/evaluation_mask_{id}.tif', mask)\n",
      "/tmp/ipykernel_49602/336198212.py:6: UserWarning: submission/evaluation_mask_1310.tif is a low contrast image\n",
      "  io.imsave(f'submission/evaluation_mask_{id}.tif', mask)\n",
      "/tmp/ipykernel_49602/336198212.py:6: UserWarning: submission/evaluation_mask_1362.tif is a low contrast image\n",
      "  io.imsave(f'submission/evaluation_mask_{id}.tif', mask)\n",
      "/tmp/ipykernel_49602/336198212.py:6: UserWarning: submission/evaluation_mask_1848.tif is a low contrast image\n",
      "  io.imsave(f'submission/evaluation_mask_{id}.tif', mask)\n",
      "/tmp/ipykernel_49602/336198212.py:6: UserWarning: submission/evaluation_mask_87.tif is a low contrast image\n",
      "  io.imsave(f'submission/evaluation_mask_{id}.tif', mask)\n",
      "/tmp/ipykernel_49602/336198212.py:6: UserWarning: submission/evaluation_mask_2027.tif is a low contrast image\n",
      "  io.imsave(f'submission/evaluation_mask_{id}.tif', mask)\n",
      "/tmp/ipykernel_49602/336198212.py:6: UserWarning: submission/evaluation_mask_1492.tif is a low contrast image\n",
      "  io.imsave(f'submission/evaluation_mask_{id}.tif', mask)\n",
      "/tmp/ipykernel_49602/336198212.py:6: UserWarning: submission/evaluation_mask_1448.tif is a low contrast image\n",
      "  io.imsave(f'submission/evaluation_mask_{id}.tif', mask)\n",
      "/tmp/ipykernel_49602/336198212.py:6: UserWarning: submission/evaluation_mask_697.tif is a low contrast image\n",
      "  io.imsave(f'submission/evaluation_mask_{id}.tif', mask)\n",
      "/tmp/ipykernel_49602/336198212.py:6: UserWarning: submission/evaluation_mask_750.tif is a low contrast image\n",
      "  io.imsave(f'submission/evaluation_mask_{id}.tif', mask)\n",
      "/tmp/ipykernel_49602/336198212.py:6: UserWarning: submission/evaluation_mask_1541.tif is a low contrast image\n",
      "  io.imsave(f'submission/evaluation_mask_{id}.tif', mask)\n",
      "/tmp/ipykernel_49602/336198212.py:6: UserWarning: submission/evaluation_mask_1739.tif is a low contrast image\n",
      "  io.imsave(f'submission/evaluation_mask_{id}.tif', mask)\n",
      "/tmp/ipykernel_49602/336198212.py:6: UserWarning: submission/evaluation_mask_316.tif is a low contrast image\n",
      "  io.imsave(f'submission/evaluation_mask_{id}.tif', mask)\n",
      "/tmp/ipykernel_49602/336198212.py:6: UserWarning: submission/evaluation_mask_328.tif is a low contrast image\n",
      "  io.imsave(f'submission/evaluation_mask_{id}.tif', mask)\n",
      "/tmp/ipykernel_49602/336198212.py:6: UserWarning: submission/evaluation_mask_1786.tif is a low contrast image\n",
      "  io.imsave(f'submission/evaluation_mask_{id}.tif', mask)\n",
      "/tmp/ipykernel_49602/336198212.py:6: UserWarning: submission/evaluation_mask_830.tif is a low contrast image\n",
      "  io.imsave(f'submission/evaluation_mask_{id}.tif', mask)\n",
      "/tmp/ipykernel_49602/336198212.py:6: UserWarning: submission/evaluation_mask_1682.tif is a low contrast image\n",
      "  io.imsave(f'submission/evaluation_mask_{id}.tif', mask)\n",
      "/tmp/ipykernel_49602/336198212.py:6: UserWarning: submission/evaluation_mask_1913.tif is a low contrast image\n",
      "  io.imsave(f'submission/evaluation_mask_{id}.tif', mask)\n",
      "/tmp/ipykernel_49602/336198212.py:6: UserWarning: submission/evaluation_mask_973.tif is a low contrast image\n",
      "  io.imsave(f'submission/evaluation_mask_{id}.tif', mask)\n",
      "/tmp/ipykernel_49602/336198212.py:6: UserWarning: submission/evaluation_mask_738.tif is a low contrast image\n",
      "  io.imsave(f'submission/evaluation_mask_{id}.tif', mask)\n",
      "/tmp/ipykernel_49602/336198212.py:6: UserWarning: submission/evaluation_mask_1242.tif is a low contrast image\n",
      "  io.imsave(f'submission/evaluation_mask_{id}.tif', mask)\n",
      "/tmp/ipykernel_49602/336198212.py:6: UserWarning: submission/evaluation_mask_1226.tif is a low contrast image\n",
      "  io.imsave(f'submission/evaluation_mask_{id}.tif', mask)\n",
      "/tmp/ipykernel_49602/336198212.py:6: UserWarning: submission/evaluation_mask_1557.tif is a low contrast image\n",
      "  io.imsave(f'submission/evaluation_mask_{id}.tif', mask)\n",
      "/tmp/ipykernel_49602/336198212.py:6: UserWarning: submission/evaluation_mask_1614.tif is a low contrast image\n",
      "  io.imsave(f'submission/evaluation_mask_{id}.tif', mask)\n",
      "/tmp/ipykernel_49602/336198212.py:6: UserWarning: submission/evaluation_mask_2020.tif is a low contrast image\n",
      "  io.imsave(f'submission/evaluation_mask_{id}.tif', mask)\n",
      "/tmp/ipykernel_49602/336198212.py:6: UserWarning: submission/evaluation_mask_1958.tif is a low contrast image\n",
      "  io.imsave(f'submission/evaluation_mask_{id}.tif', mask)\n",
      "/tmp/ipykernel_49602/336198212.py:6: UserWarning: submission/evaluation_mask_1708.tif is a low contrast image\n",
      "  io.imsave(f'submission/evaluation_mask_{id}.tif', mask)\n",
      "/tmp/ipykernel_49602/336198212.py:6: UserWarning: submission/evaluation_mask_731.tif is a low contrast image\n",
      "  io.imsave(f'submission/evaluation_mask_{id}.tif', mask)\n",
      "/tmp/ipykernel_49602/336198212.py:6: UserWarning: submission/evaluation_mask_1091.tif is a low contrast image\n",
      "  io.imsave(f'submission/evaluation_mask_{id}.tif', mask)\n",
      "/tmp/ipykernel_49602/336198212.py:6: UserWarning: submission/evaluation_mask_1711.tif is a low contrast image\n",
      "  io.imsave(f'submission/evaluation_mask_{id}.tif', mask)\n",
      "/tmp/ipykernel_49602/336198212.py:6: UserWarning: submission/evaluation_mask_1903.tif is a low contrast image\n",
      "  io.imsave(f'submission/evaluation_mask_{id}.tif', mask)\n",
      "/tmp/ipykernel_49602/336198212.py:6: UserWarning: submission/evaluation_mask_1726.tif is a low contrast image\n",
      "  io.imsave(f'submission/evaluation_mask_{id}.tif', mask)\n",
      "/tmp/ipykernel_49602/336198212.py:6: UserWarning: submission/evaluation_mask_797.tif is a low contrast image\n",
      "  io.imsave(f'submission/evaluation_mask_{id}.tif', mask)\n",
      " 22%|██▏       | 462/2066 [00:01<00:04, 330.71it/s]/tmp/ipykernel_49602/336198212.py:6: UserWarning: submission/evaluation_mask_547.tif is a low contrast image\n",
      "  io.imsave(f'submission/evaluation_mask_{id}.tif', mask)\n",
      "/tmp/ipykernel_49602/336198212.py:6: UserWarning: submission/evaluation_mask_109.tif is a low contrast image\n",
      "  io.imsave(f'submission/evaluation_mask_{id}.tif', mask)\n",
      "/tmp/ipykernel_49602/336198212.py:6: UserWarning: submission/evaluation_mask_1931.tif is a low contrast image\n",
      "  io.imsave(f'submission/evaluation_mask_{id}.tif', mask)\n",
      "/tmp/ipykernel_49602/336198212.py:6: UserWarning: submission/evaluation_mask_501.tif is a low contrast image\n",
      "  io.imsave(f'submission/evaluation_mask_{id}.tif', mask)\n",
      "/tmp/ipykernel_49602/336198212.py:6: UserWarning: submission/evaluation_mask_1065.tif is a low contrast image\n",
      "  io.imsave(f'submission/evaluation_mask_{id}.tif', mask)\n",
      "/tmp/ipykernel_49602/336198212.py:6: UserWarning: submission/evaluation_mask_336.tif is a low contrast image\n",
      "  io.imsave(f'submission/evaluation_mask_{id}.tif', mask)\n",
      "/tmp/ipykernel_49602/336198212.py:6: UserWarning: submission/evaluation_mask_820.tif is a low contrast image\n",
      "  io.imsave(f'submission/evaluation_mask_{id}.tif', mask)\n",
      "/tmp/ipykernel_49602/336198212.py:6: UserWarning: submission/evaluation_mask_1430.tif is a low contrast image\n",
      "  io.imsave(f'submission/evaluation_mask_{id}.tif', mask)\n",
      "/tmp/ipykernel_49602/336198212.py:6: UserWarning: submission/evaluation_mask_720.tif is a low contrast image\n",
      "  io.imsave(f'submission/evaluation_mask_{id}.tif', mask)\n",
      "/tmp/ipykernel_49602/336198212.py:6: UserWarning: submission/evaluation_mask_1476.tif is a low contrast image\n",
      "  io.imsave(f'submission/evaluation_mask_{id}.tif', mask)\n",
      "/tmp/ipykernel_49602/336198212.py:6: UserWarning: submission/evaluation_mask_1756.tif is a low contrast image\n",
      "  io.imsave(f'submission/evaluation_mask_{id}.tif', mask)\n",
      "/tmp/ipykernel_49602/336198212.py:6: UserWarning: submission/evaluation_mask_1435.tif is a low contrast image\n",
      "  io.imsave(f'submission/evaluation_mask_{id}.tif', mask)\n",
      "/tmp/ipykernel_49602/336198212.py:6: UserWarning: submission/evaluation_mask_1214.tif is a low contrast image\n",
      "  io.imsave(f'submission/evaluation_mask_{id}.tif', mask)\n",
      "/tmp/ipykernel_49602/336198212.py:6: UserWarning: submission/evaluation_mask_923.tif is a low contrast image\n",
      "  io.imsave(f'submission/evaluation_mask_{id}.tif', mask)\n",
      "/tmp/ipykernel_49602/336198212.py:6: UserWarning: submission/evaluation_mask_1380.tif is a low contrast image\n",
      "  io.imsave(f'submission/evaluation_mask_{id}.tif', mask)\n",
      "/tmp/ipykernel_49602/336198212.py:6: UserWarning: submission/evaluation_mask_1616.tif is a low contrast image\n",
      "  io.imsave(f'submission/evaluation_mask_{id}.tif', mask)\n",
      "/tmp/ipykernel_49602/336198212.py:6: UserWarning: submission/evaluation_mask_1534.tif is a low contrast image\n",
      "  io.imsave(f'submission/evaluation_mask_{id}.tif', mask)\n",
      "/tmp/ipykernel_49602/336198212.py:6: UserWarning: submission/evaluation_mask_159.tif is a low contrast image\n",
      "  io.imsave(f'submission/evaluation_mask_{id}.tif', mask)\n",
      "/tmp/ipykernel_49602/336198212.py:6: UserWarning: submission/evaluation_mask_1439.tif is a low contrast image\n",
      "  io.imsave(f'submission/evaluation_mask_{id}.tif', mask)\n",
      "/tmp/ipykernel_49602/336198212.py:6: UserWarning: submission/evaluation_mask_737.tif is a low contrast image\n",
      "  io.imsave(f'submission/evaluation_mask_{id}.tif', mask)\n",
      "/tmp/ipykernel_49602/336198212.py:6: UserWarning: submission/evaluation_mask_802.tif is a low contrast image\n",
      "  io.imsave(f'submission/evaluation_mask_{id}.tif', mask)\n",
      "/tmp/ipykernel_49602/336198212.py:6: UserWarning: submission/evaluation_mask_230.tif is a low contrast image\n",
      "  io.imsave(f'submission/evaluation_mask_{id}.tif', mask)\n",
      "/tmp/ipykernel_49602/336198212.py:6: UserWarning: submission/evaluation_mask_447.tif is a low contrast image\n",
      "  io.imsave(f'submission/evaluation_mask_{id}.tif', mask)\n",
      "/tmp/ipykernel_49602/336198212.py:6: UserWarning: submission/evaluation_mask_637.tif is a low contrast image\n",
      "  io.imsave(f'submission/evaluation_mask_{id}.tif', mask)\n",
      "/tmp/ipykernel_49602/336198212.py:6: UserWarning: submission/evaluation_mask_1728.tif is a low contrast image\n",
      "  io.imsave(f'submission/evaluation_mask_{id}.tif', mask)\n",
      "/tmp/ipykernel_49602/336198212.py:6: UserWarning: submission/evaluation_mask_2059.tif is a low contrast image\n",
      "  io.imsave(f'submission/evaluation_mask_{id}.tif', mask)\n",
      "/tmp/ipykernel_49602/336198212.py:6: UserWarning: submission/evaluation_mask_1840.tif is a low contrast image\n",
      "  io.imsave(f'submission/evaluation_mask_{id}.tif', mask)\n",
      "/tmp/ipykernel_49602/336198212.py:6: UserWarning: submission/evaluation_mask_1356.tif is a low contrast image\n",
      "  io.imsave(f'submission/evaluation_mask_{id}.tif', mask)\n",
      "/tmp/ipykernel_49602/336198212.py:6: UserWarning: submission/evaluation_mask_1621.tif is a low contrast image\n",
      "  io.imsave(f'submission/evaluation_mask_{id}.tif', mask)\n",
      "/tmp/ipykernel_49602/336198212.py:6: UserWarning: submission/evaluation_mask_204.tif is a low contrast image\n",
      "  io.imsave(f'submission/evaluation_mask_{id}.tif', mask)\n",
      "/tmp/ipykernel_49602/336198212.py:6: UserWarning: submission/evaluation_mask_1643.tif is a low contrast image\n",
      "  io.imsave(f'submission/evaluation_mask_{id}.tif', mask)\n",
      "/tmp/ipykernel_49602/336198212.py:6: UserWarning: submission/evaluation_mask_605.tif is a low contrast image\n",
      "  io.imsave(f'submission/evaluation_mask_{id}.tif', mask)\n",
      "/tmp/ipykernel_49602/336198212.py:6: UserWarning: submission/evaluation_mask_1171.tif is a low contrast image\n",
      "  io.imsave(f'submission/evaluation_mask_{id}.tif', mask)\n",
      "/tmp/ipykernel_49602/336198212.py:6: UserWarning: submission/evaluation_mask_565.tif is a low contrast image\n",
      "  io.imsave(f'submission/evaluation_mask_{id}.tif', mask)\n",
      " 24%|██▍       | 496/2066 [00:01<00:04, 331.00it/s]/tmp/ipykernel_49602/336198212.py:6: UserWarning: submission/evaluation_mask_369.tif is a low contrast image\n",
      "  io.imsave(f'submission/evaluation_mask_{id}.tif', mask)\n",
      "/tmp/ipykernel_49602/336198212.py:6: UserWarning: submission/evaluation_mask_657.tif is a low contrast image\n",
      "  io.imsave(f'submission/evaluation_mask_{id}.tif', mask)\n",
      "/tmp/ipykernel_49602/336198212.py:6: UserWarning: submission/evaluation_mask_1404.tif is a low contrast image\n",
      "  io.imsave(f'submission/evaluation_mask_{id}.tif', mask)\n",
      "/tmp/ipykernel_49602/336198212.py:6: UserWarning: submission/evaluation_mask_1571.tif is a low contrast image\n",
      "  io.imsave(f'submission/evaluation_mask_{id}.tif', mask)\n",
      "/tmp/ipykernel_49602/336198212.py:6: UserWarning: submission/evaluation_mask_301.tif is a low contrast image\n",
      "  io.imsave(f'submission/evaluation_mask_{id}.tif', mask)\n",
      "/tmp/ipykernel_49602/336198212.py:6: UserWarning: submission/evaluation_mask_1822.tif is a low contrast image\n",
      "  io.imsave(f'submission/evaluation_mask_{id}.tif', mask)\n",
      "/tmp/ipykernel_49602/336198212.py:6: UserWarning: submission/evaluation_mask_1153.tif is a low contrast image\n",
      "  io.imsave(f'submission/evaluation_mask_{id}.tif', mask)\n",
      "/tmp/ipykernel_49602/336198212.py:6: UserWarning: submission/evaluation_mask_694.tif is a low contrast image\n",
      "  io.imsave(f'submission/evaluation_mask_{id}.tif', mask)\n",
      "/tmp/ipykernel_49602/336198212.py:6: UserWarning: submission/evaluation_mask_1447.tif is a low contrast image\n",
      "  io.imsave(f'submission/evaluation_mask_{id}.tif', mask)\n",
      "/tmp/ipykernel_49602/336198212.py:6: UserWarning: submission/evaluation_mask_900.tif is a low contrast image\n",
      "  io.imsave(f'submission/evaluation_mask_{id}.tif', mask)\n",
      "/tmp/ipykernel_49602/336198212.py:6: UserWarning: submission/evaluation_mask_1783.tif is a low contrast image\n",
      "  io.imsave(f'submission/evaluation_mask_{id}.tif', mask)\n",
      "/tmp/ipykernel_49602/336198212.py:6: UserWarning: submission/evaluation_mask_819.tif is a low contrast image\n",
      "  io.imsave(f'submission/evaluation_mask_{id}.tif', mask)\n",
      "/tmp/ipykernel_49602/336198212.py:6: UserWarning: submission/evaluation_mask_57.tif is a low contrast image\n",
      "  io.imsave(f'submission/evaluation_mask_{id}.tif', mask)\n",
      "/tmp/ipykernel_49602/336198212.py:6: UserWarning: submission/evaluation_mask_961.tif is a low contrast image\n",
      "  io.imsave(f'submission/evaluation_mask_{id}.tif', mask)\n",
      "/tmp/ipykernel_49602/336198212.py:6: UserWarning: submission/evaluation_mask_1868.tif is a low contrast image\n",
      "  io.imsave(f'submission/evaluation_mask_{id}.tif', mask)\n",
      "/tmp/ipykernel_49602/336198212.py:6: UserWarning: submission/evaluation_mask_679.tif is a low contrast image\n",
      "  io.imsave(f'submission/evaluation_mask_{id}.tif', mask)\n",
      "/tmp/ipykernel_49602/336198212.py:6: UserWarning: submission/evaluation_mask_83.tif is a low contrast image\n",
      "  io.imsave(f'submission/evaluation_mask_{id}.tif', mask)\n",
      "/tmp/ipykernel_49602/336198212.py:6: UserWarning: submission/evaluation_mask_613.tif is a low contrast image\n",
      "  io.imsave(f'submission/evaluation_mask_{id}.tif', mask)\n",
      "/tmp/ipykernel_49602/336198212.py:6: UserWarning: submission/evaluation_mask_631.tif is a low contrast image\n",
      "  io.imsave(f'submission/evaluation_mask_{id}.tif', mask)\n",
      "/tmp/ipykernel_49602/336198212.py:6: UserWarning: submission/evaluation_mask_387.tif is a low contrast image\n",
      "  io.imsave(f'submission/evaluation_mask_{id}.tif', mask)\n",
      "/tmp/ipykernel_49602/336198212.py:6: UserWarning: submission/evaluation_mask_1652.tif is a low contrast image\n",
      "  io.imsave(f'submission/evaluation_mask_{id}.tif', mask)\n",
      "/tmp/ipykernel_49602/336198212.py:6: UserWarning: submission/evaluation_mask_1766.tif is a low contrast image\n",
      "  io.imsave(f'submission/evaluation_mask_{id}.tif', mask)\n",
      "/tmp/ipykernel_49602/336198212.py:6: UserWarning: submission/evaluation_mask_1170.tif is a low contrast image\n",
      "  io.imsave(f'submission/evaluation_mask_{id}.tif', mask)\n",
      "/tmp/ipykernel_49602/336198212.py:6: UserWarning: submission/evaluation_mask_1162.tif is a low contrast image\n",
      "  io.imsave(f'submission/evaluation_mask_{id}.tif', mask)\n",
      "/tmp/ipykernel_49602/336198212.py:6: UserWarning: submission/evaluation_mask_1352.tif is a low contrast image\n",
      "  io.imsave(f'submission/evaluation_mask_{id}.tif', mask)\n",
      "/tmp/ipykernel_49602/336198212.py:6: UserWarning: submission/evaluation_mask_1302.tif is a low contrast image\n",
      "  io.imsave(f'submission/evaluation_mask_{id}.tif', mask)\n",
      "/tmp/ipykernel_49602/336198212.py:6: UserWarning: submission/evaluation_mask_927.tif is a low contrast image\n",
      "  io.imsave(f'submission/evaluation_mask_{id}.tif', mask)\n",
      "/tmp/ipykernel_49602/336198212.py:6: UserWarning: submission/evaluation_mask_211.tif is a low contrast image\n",
      "  io.imsave(f'submission/evaluation_mask_{id}.tif', mask)\n",
      "/tmp/ipykernel_49602/336198212.py:6: UserWarning: submission/evaluation_mask_1788.tif is a low contrast image\n",
      "  io.imsave(f'submission/evaluation_mask_{id}.tif', mask)\n",
      "/tmp/ipykernel_49602/336198212.py:6: UserWarning: submission/evaluation_mask_1289.tif is a low contrast image\n",
      "  io.imsave(f'submission/evaluation_mask_{id}.tif', mask)\n",
      "/tmp/ipykernel_49602/336198212.py:6: UserWarning: submission/evaluation_mask_30.tif is a low contrast image\n",
      "  io.imsave(f'submission/evaluation_mask_{id}.tif', mask)\n",
      "/tmp/ipykernel_49602/336198212.py:6: UserWarning: submission/evaluation_mask_1970.tif is a low contrast image\n",
      "  io.imsave(f'submission/evaluation_mask_{id}.tif', mask)\n",
      "/tmp/ipykernel_49602/336198212.py:6: UserWarning: submission/evaluation_mask_117.tif is a low contrast image\n",
      "  io.imsave(f'submission/evaluation_mask_{id}.tif', mask)\n",
      "/tmp/ipykernel_49602/336198212.py:6: UserWarning: submission/evaluation_mask_357.tif is a low contrast image\n",
      "  io.imsave(f'submission/evaluation_mask_{id}.tif', mask)\n",
      " 26%|██▌       | 530/2066 [00:01<00:04, 331.44it/s]/tmp/ipykernel_49602/336198212.py:6: UserWarning: submission/evaluation_mask_1470.tif is a low contrast image\n",
      "  io.imsave(f'submission/evaluation_mask_{id}.tif', mask)\n",
      "/tmp/ipykernel_49602/336198212.py:6: UserWarning: submission/evaluation_mask_2.tif is a low contrast image\n",
      "  io.imsave(f'submission/evaluation_mask_{id}.tif', mask)\n",
      "/tmp/ipykernel_49602/336198212.py:6: UserWarning: submission/evaluation_mask_155.tif is a low contrast image\n",
      "  io.imsave(f'submission/evaluation_mask_{id}.tif', mask)\n",
      "/tmp/ipykernel_49602/336198212.py:6: UserWarning: submission/evaluation_mask_531.tif is a low contrast image\n",
      "  io.imsave(f'submission/evaluation_mask_{id}.tif', mask)\n",
      "/tmp/ipykernel_49602/336198212.py:6: UserWarning: submission/evaluation_mask_1912.tif is a low contrast image\n",
      "  io.imsave(f'submission/evaluation_mask_{id}.tif', mask)\n",
      "/tmp/ipykernel_49602/336198212.py:6: UserWarning: submission/evaluation_mask_533.tif is a low contrast image\n",
      "  io.imsave(f'submission/evaluation_mask_{id}.tif', mask)\n",
      "/tmp/ipykernel_49602/336198212.py:6: UserWarning: submission/evaluation_mask_528.tif is a low contrast image\n",
      "  io.imsave(f'submission/evaluation_mask_{id}.tif', mask)\n",
      "/tmp/ipykernel_49602/336198212.py:6: UserWarning: submission/evaluation_mask_1709.tif is a low contrast image\n",
      "  io.imsave(f'submission/evaluation_mask_{id}.tif', mask)\n",
      "/tmp/ipykernel_49602/336198212.py:6: UserWarning: submission/evaluation_mask_895.tif is a low contrast image\n",
      "  io.imsave(f'submission/evaluation_mask_{id}.tif', mask)\n",
      "/tmp/ipykernel_49602/336198212.py:6: UserWarning: submission/evaluation_mask_80.tif is a low contrast image\n",
      "  io.imsave(f'submission/evaluation_mask_{id}.tif', mask)\n",
      "/tmp/ipykernel_49602/336198212.py:6: UserWarning: submission/evaluation_mask_1631.tif is a low contrast image\n",
      "  io.imsave(f'submission/evaluation_mask_{id}.tif', mask)\n",
      "/tmp/ipykernel_49602/336198212.py:6: UserWarning: submission/evaluation_mask_713.tif is a low contrast image\n",
      "  io.imsave(f'submission/evaluation_mask_{id}.tif', mask)\n",
      "/tmp/ipykernel_49602/336198212.py:6: UserWarning: submission/evaluation_mask_1141.tif is a low contrast image\n",
      "  io.imsave(f'submission/evaluation_mask_{id}.tif', mask)\n",
      "/tmp/ipykernel_49602/336198212.py:6: UserWarning: submission/evaluation_mask_315.tif is a low contrast image\n",
      "  io.imsave(f'submission/evaluation_mask_{id}.tif', mask)\n",
      "/tmp/ipykernel_49602/336198212.py:6: UserWarning: submission/evaluation_mask_454.tif is a low contrast image\n",
      "  io.imsave(f'submission/evaluation_mask_{id}.tif', mask)\n",
      "/tmp/ipykernel_49602/336198212.py:6: UserWarning: submission/evaluation_mask_19.tif is a low contrast image\n",
      "  io.imsave(f'submission/evaluation_mask_{id}.tif', mask)\n",
      "/tmp/ipykernel_49602/336198212.py:6: UserWarning: submission/evaluation_mask_449.tif is a low contrast image\n",
      "  io.imsave(f'submission/evaluation_mask_{id}.tif', mask)\n",
      "/tmp/ipykernel_49602/336198212.py:6: UserWarning: submission/evaluation_mask_1422.tif is a low contrast image\n",
      "  io.imsave(f'submission/evaluation_mask_{id}.tif', mask)\n",
      "/tmp/ipykernel_49602/336198212.py:6: UserWarning: submission/evaluation_mask_356.tif is a low contrast image\n",
      "  io.imsave(f'submission/evaluation_mask_{id}.tif', mask)\n",
      "/tmp/ipykernel_49602/336198212.py:6: UserWarning: submission/evaluation_mask_726.tif is a low contrast image\n",
      "  io.imsave(f'submission/evaluation_mask_{id}.tif', mask)\n",
      "/tmp/ipykernel_49602/336198212.py:6: UserWarning: submission/evaluation_mask_1839.tif is a low contrast image\n",
      "  io.imsave(f'submission/evaluation_mask_{id}.tif', mask)\n",
      "/tmp/ipykernel_49602/336198212.py:6: UserWarning: submission/evaluation_mask_50.tif is a low contrast image\n",
      "  io.imsave(f'submission/evaluation_mask_{id}.tif', mask)\n",
      "/tmp/ipykernel_49602/336198212.py:6: UserWarning: submission/evaluation_mask_371.tif is a low contrast image\n",
      "  io.imsave(f'submission/evaluation_mask_{id}.tif', mask)\n",
      "/tmp/ipykernel_49602/336198212.py:6: UserWarning: submission/evaluation_mask_472.tif is a low contrast image\n",
      "  io.imsave(f'submission/evaluation_mask_{id}.tif', mask)\n",
      "/tmp/ipykernel_49602/336198212.py:6: UserWarning: submission/evaluation_mask_2035.tif is a low contrast image\n",
      "  io.imsave(f'submission/evaluation_mask_{id}.tif', mask)\n",
      "/tmp/ipykernel_49602/336198212.py:6: UserWarning: submission/evaluation_mask_542.tif is a low contrast image\n",
      "  io.imsave(f'submission/evaluation_mask_{id}.tif', mask)\n",
      "/tmp/ipykernel_49602/336198212.py:6: UserWarning: submission/evaluation_mask_1342.tif is a low contrast image\n",
      "  io.imsave(f'submission/evaluation_mask_{id}.tif', mask)\n",
      "/tmp/ipykernel_49602/336198212.py:6: UserWarning: submission/evaluation_mask_1883.tif is a low contrast image\n",
      "  io.imsave(f'submission/evaluation_mask_{id}.tif', mask)\n",
      "/tmp/ipykernel_49602/336198212.py:6: UserWarning: submission/evaluation_mask_625.tif is a low contrast image\n",
      "  io.imsave(f'submission/evaluation_mask_{id}.tif', mask)\n",
      "/tmp/ipykernel_49602/336198212.py:6: UserWarning: submission/evaluation_mask_365.tif is a low contrast image\n",
      "  io.imsave(f'submission/evaluation_mask_{id}.tif', mask)\n",
      "/tmp/ipykernel_49602/336198212.py:6: UserWarning: submission/evaluation_mask_1503.tif is a low contrast image\n",
      "  io.imsave(f'submission/evaluation_mask_{id}.tif', mask)\n",
      "/tmp/ipykernel_49602/336198212.py:6: UserWarning: submission/evaluation_mask_870.tif is a low contrast image\n",
      "  io.imsave(f'submission/evaluation_mask_{id}.tif', mask)\n",
      "/tmp/ipykernel_49602/336198212.py:6: UserWarning: submission/evaluation_mask_1349.tif is a low contrast image\n",
      "  io.imsave(f'submission/evaluation_mask_{id}.tif', mask)\n",
      "/tmp/ipykernel_49602/336198212.py:6: UserWarning: submission/evaluation_mask_110.tif is a low contrast image\n",
      "  io.imsave(f'submission/evaluation_mask_{id}.tif', mask)\n",
      " 27%|██▋       | 564/2066 [00:01<00:04, 332.90it/s]/tmp/ipykernel_49602/336198212.py:6: UserWarning: submission/evaluation_mask_839.tif is a low contrast image\n",
      "  io.imsave(f'submission/evaluation_mask_{id}.tif', mask)\n",
      "/tmp/ipykernel_49602/336198212.py:6: UserWarning: submission/evaluation_mask_569.tif is a low contrast image\n",
      "  io.imsave(f'submission/evaluation_mask_{id}.tif', mask)\n",
      "/tmp/ipykernel_49602/336198212.py:6: UserWarning: submission/evaluation_mask_105.tif is a low contrast image\n",
      "  io.imsave(f'submission/evaluation_mask_{id}.tif', mask)\n",
      "/tmp/ipykernel_49602/336198212.py:6: UserWarning: submission/evaluation_mask_804.tif is a low contrast image\n",
      "  io.imsave(f'submission/evaluation_mask_{id}.tif', mask)\n",
      "/tmp/ipykernel_49602/336198212.py:6: UserWarning: submission/evaluation_mask_942.tif is a low contrast image\n",
      "  io.imsave(f'submission/evaluation_mask_{id}.tif', mask)\n",
      "/tmp/ipykernel_49602/336198212.py:6: UserWarning: submission/evaluation_mask_1321.tif is a low contrast image\n",
      "  io.imsave(f'submission/evaluation_mask_{id}.tif', mask)\n",
      "/tmp/ipykernel_49602/336198212.py:6: UserWarning: submission/evaluation_mask_615.tif is a low contrast image\n",
      "  io.imsave(f'submission/evaluation_mask_{id}.tif', mask)\n",
      "/tmp/ipykernel_49602/336198212.py:6: UserWarning: submission/evaluation_mask_579.tif is a low contrast image\n",
      "  io.imsave(f'submission/evaluation_mask_{id}.tif', mask)\n",
      "/tmp/ipykernel_49602/336198212.py:6: UserWarning: submission/evaluation_mask_294.tif is a low contrast image\n",
      "  io.imsave(f'submission/evaluation_mask_{id}.tif', mask)\n",
      "/tmp/ipykernel_49602/336198212.py:6: UserWarning: submission/evaluation_mask_1587.tif is a low contrast image\n",
      "  io.imsave(f'submission/evaluation_mask_{id}.tif', mask)\n",
      "/tmp/ipykernel_49602/336198212.py:6: UserWarning: submission/evaluation_mask_114.tif is a low contrast image\n",
      "  io.imsave(f'submission/evaluation_mask_{id}.tif', mask)\n",
      "/tmp/ipykernel_49602/336198212.py:6: UserWarning: submission/evaluation_mask_1372.tif is a low contrast image\n",
      "  io.imsave(f'submission/evaluation_mask_{id}.tif', mask)\n",
      "/tmp/ipykernel_49602/336198212.py:6: UserWarning: submission/evaluation_mask_1152.tif is a low contrast image\n",
      "  io.imsave(f'submission/evaluation_mask_{id}.tif', mask)\n",
      "/tmp/ipykernel_49602/336198212.py:6: UserWarning: submission/evaluation_mask_61.tif is a low contrast image\n",
      "  io.imsave(f'submission/evaluation_mask_{id}.tif', mask)\n",
      "/tmp/ipykernel_49602/336198212.py:6: UserWarning: submission/evaluation_mask_1599.tif is a low contrast image\n",
      "  io.imsave(f'submission/evaluation_mask_{id}.tif', mask)\n",
      "/tmp/ipykernel_49602/336198212.py:6: UserWarning: submission/evaluation_mask_828.tif is a low contrast image\n",
      "  io.imsave(f'submission/evaluation_mask_{id}.tif', mask)\n",
      "/tmp/ipykernel_49602/336198212.py:6: UserWarning: submission/evaluation_mask_429.tif is a low contrast image\n",
      "  io.imsave(f'submission/evaluation_mask_{id}.tif', mask)\n",
      "/tmp/ipykernel_49602/336198212.py:6: UserWarning: submission/evaluation_mask_451.tif is a low contrast image\n",
      "  io.imsave(f'submission/evaluation_mask_{id}.tif', mask)\n",
      "/tmp/ipykernel_49602/336198212.py:6: UserWarning: submission/evaluation_mask_997.tif is a low contrast image\n",
      "  io.imsave(f'submission/evaluation_mask_{id}.tif', mask)\n",
      "/tmp/ipykernel_49602/336198212.py:6: UserWarning: submission/evaluation_mask_1529.tif is a low contrast image\n",
      "  io.imsave(f'submission/evaluation_mask_{id}.tif', mask)\n",
      "/tmp/ipykernel_49602/336198212.py:6: UserWarning: submission/evaluation_mask_548.tif is a low contrast image\n",
      "  io.imsave(f'submission/evaluation_mask_{id}.tif', mask)\n",
      "/tmp/ipykernel_49602/336198212.py:6: UserWarning: submission/evaluation_mask_1818.tif is a low contrast image\n",
      "  io.imsave(f'submission/evaluation_mask_{id}.tif', mask)\n",
      "/tmp/ipykernel_49602/336198212.py:6: UserWarning: submission/evaluation_mask_262.tif is a low contrast image\n",
      "  io.imsave(f'submission/evaluation_mask_{id}.tif', mask)\n",
      "/tmp/ipykernel_49602/336198212.py:6: UserWarning: submission/evaluation_mask_56.tif is a low contrast image\n",
      "  io.imsave(f'submission/evaluation_mask_{id}.tif', mask)\n",
      "/tmp/ipykernel_49602/336198212.py:6: UserWarning: submission/evaluation_mask_1555.tif is a low contrast image\n",
      "  io.imsave(f'submission/evaluation_mask_{id}.tif', mask)\n",
      "/tmp/ipykernel_49602/336198212.py:6: UserWarning: submission/evaluation_mask_1389.tif is a low contrast image\n",
      "  io.imsave(f'submission/evaluation_mask_{id}.tif', mask)\n",
      "/tmp/ipykernel_49602/336198212.py:6: UserWarning: submission/evaluation_mask_362.tif is a low contrast image\n",
      "  io.imsave(f'submission/evaluation_mask_{id}.tif', mask)\n",
      "/tmp/ipykernel_49602/336198212.py:6: UserWarning: submission/evaluation_mask_769.tif is a low contrast image\n",
      "  io.imsave(f'submission/evaluation_mask_{id}.tif', mask)\n",
      "/tmp/ipykernel_49602/336198212.py:6: UserWarning: submission/evaluation_mask_1778.tif is a low contrast image\n",
      "  io.imsave(f'submission/evaluation_mask_{id}.tif', mask)\n",
      "/tmp/ipykernel_49602/336198212.py:6: UserWarning: submission/evaluation_mask_1527.tif is a low contrast image\n",
      "  io.imsave(f'submission/evaluation_mask_{id}.tif', mask)\n",
      "/tmp/ipykernel_49602/336198212.py:6: UserWarning: submission/evaluation_mask_1706.tif is a low contrast image\n",
      "  io.imsave(f'submission/evaluation_mask_{id}.tif', mask)\n",
      "/tmp/ipykernel_49602/336198212.py:6: UserWarning: submission/evaluation_mask_1550.tif is a low contrast image\n",
      "  io.imsave(f'submission/evaluation_mask_{id}.tif', mask)\n",
      "/tmp/ipykernel_49602/336198212.py:6: UserWarning: submission/evaluation_mask_1264.tif is a low contrast image\n",
      "  io.imsave(f'submission/evaluation_mask_{id}.tif', mask)\n",
      "/tmp/ipykernel_49602/336198212.py:6: UserWarning: submission/evaluation_mask_848.tif is a low contrast image\n",
      "  io.imsave(f'submission/evaluation_mask_{id}.tif', mask)\n",
      " 29%|██▉       | 598/2066 [00:01<00:04, 331.73it/s]/tmp/ipykernel_49602/336198212.py:6: UserWarning: submission/evaluation_mask_266.tif is a low contrast image\n",
      "  io.imsave(f'submission/evaluation_mask_{id}.tif', mask)\n",
      "/tmp/ipykernel_49602/336198212.py:6: UserWarning: submission/evaluation_mask_227.tif is a low contrast image\n",
      "  io.imsave(f'submission/evaluation_mask_{id}.tif', mask)\n",
      "/tmp/ipykernel_49602/336198212.py:6: UserWarning: submission/evaluation_mask_1580.tif is a low contrast image\n",
      "  io.imsave(f'submission/evaluation_mask_{id}.tif', mask)\n",
      "/tmp/ipykernel_49602/336198212.py:6: UserWarning: submission/evaluation_mask_619.tif is a low contrast image\n",
      "  io.imsave(f'submission/evaluation_mask_{id}.tif', mask)\n",
      "/tmp/ipykernel_49602/336198212.py:6: UserWarning: submission/evaluation_mask_1669.tif is a low contrast image\n",
      "  io.imsave(f'submission/evaluation_mask_{id}.tif', mask)\n",
      "/tmp/ipykernel_49602/336198212.py:6: UserWarning: submission/evaluation_mask_850.tif is a low contrast image\n",
      "  io.imsave(f'submission/evaluation_mask_{id}.tif', mask)\n",
      "/tmp/ipykernel_49602/336198212.py:6: UserWarning: submission/evaluation_mask_1322.tif is a low contrast image\n",
      "  io.imsave(f'submission/evaluation_mask_{id}.tif', mask)\n",
      "/tmp/ipykernel_49602/336198212.py:6: UserWarning: submission/evaluation_mask_871.tif is a low contrast image\n",
      "  io.imsave(f'submission/evaluation_mask_{id}.tif', mask)\n",
      "/tmp/ipykernel_49602/336198212.py:6: UserWarning: submission/evaluation_mask_642.tif is a low contrast image\n",
      "  io.imsave(f'submission/evaluation_mask_{id}.tif', mask)\n",
      "/tmp/ipykernel_49602/336198212.py:6: UserWarning: submission/evaluation_mask_1178.tif is a low contrast image\n",
      "  io.imsave(f'submission/evaluation_mask_{id}.tif', mask)\n",
      "/tmp/ipykernel_49602/336198212.py:6: UserWarning: submission/evaluation_mask_175.tif is a low contrast image\n",
      "  io.imsave(f'submission/evaluation_mask_{id}.tif', mask)\n",
      "/tmp/ipykernel_49602/336198212.py:6: UserWarning: submission/evaluation_mask_1419.tif is a low contrast image\n",
      "  io.imsave(f'submission/evaluation_mask_{id}.tif', mask)\n",
      "/tmp/ipykernel_49602/336198212.py:6: UserWarning: submission/evaluation_mask_502.tif is a low contrast image\n",
      "  io.imsave(f'submission/evaluation_mask_{id}.tif', mask)\n",
      "/tmp/ipykernel_49602/336198212.py:6: UserWarning: submission/evaluation_mask_385.tif is a low contrast image\n",
      "  io.imsave(f'submission/evaluation_mask_{id}.tif', mask)\n",
      "/tmp/ipykernel_49602/336198212.py:6: UserWarning: submission/evaluation_mask_2001.tif is a low contrast image\n",
      "  io.imsave(f'submission/evaluation_mask_{id}.tif', mask)\n",
      "/tmp/ipykernel_49602/336198212.py:6: UserWarning: submission/evaluation_mask_51.tif is a low contrast image\n",
      "  io.imsave(f'submission/evaluation_mask_{id}.tif', mask)\n",
      "/tmp/ipykernel_49602/336198212.py:6: UserWarning: submission/evaluation_mask_168.tif is a low contrast image\n",
      "  io.imsave(f'submission/evaluation_mask_{id}.tif', mask)\n",
      "/tmp/ipykernel_49602/336198212.py:6: UserWarning: submission/evaluation_mask_151.tif is a low contrast image\n",
      "  io.imsave(f'submission/evaluation_mask_{id}.tif', mask)\n",
      "/tmp/ipykernel_49602/336198212.py:6: UserWarning: submission/evaluation_mask_1017.tif is a low contrast image\n",
      "  io.imsave(f'submission/evaluation_mask_{id}.tif', mask)\n",
      "/tmp/ipykernel_49602/336198212.py:6: UserWarning: submission/evaluation_mask_706.tif is a low contrast image\n",
      "  io.imsave(f'submission/evaluation_mask_{id}.tif', mask)\n",
      "/tmp/ipykernel_49602/336198212.py:6: UserWarning: submission/evaluation_mask_440.tif is a low contrast image\n",
      "  io.imsave(f'submission/evaluation_mask_{id}.tif', mask)\n",
      "/tmp/ipykernel_49602/336198212.py:6: UserWarning: submission/evaluation_mask_191.tif is a low contrast image\n",
      "  io.imsave(f'submission/evaluation_mask_{id}.tif', mask)\n",
      "/tmp/ipykernel_49602/336198212.py:6: UserWarning: submission/evaluation_mask_1640.tif is a low contrast image\n",
      "  io.imsave(f'submission/evaluation_mask_{id}.tif', mask)\n",
      "/tmp/ipykernel_49602/336198212.py:6: UserWarning: submission/evaluation_mask_2002.tif is a low contrast image\n",
      "  io.imsave(f'submission/evaluation_mask_{id}.tif', mask)\n",
      "/tmp/ipykernel_49602/336198212.py:6: UserWarning: submission/evaluation_mask_2004.tif is a low contrast image\n",
      "  io.imsave(f'submission/evaluation_mask_{id}.tif', mask)\n",
      "/tmp/ipykernel_49602/336198212.py:6: UserWarning: submission/evaluation_mask_664.tif is a low contrast image\n",
      "  io.imsave(f'submission/evaluation_mask_{id}.tif', mask)\n",
      "/tmp/ipykernel_49602/336198212.py:6: UserWarning: submission/evaluation_mask_1910.tif is a low contrast image\n",
      "  io.imsave(f'submission/evaluation_mask_{id}.tif', mask)\n",
      "/tmp/ipykernel_49602/336198212.py:6: UserWarning: submission/evaluation_mask_709.tif is a low contrast image\n",
      "  io.imsave(f'submission/evaluation_mask_{id}.tif', mask)\n",
      "/tmp/ipykernel_49602/336198212.py:6: UserWarning: submission/evaluation_mask_1927.tif is a low contrast image\n",
      "  io.imsave(f'submission/evaluation_mask_{id}.tif', mask)\n",
      "/tmp/ipykernel_49602/336198212.py:6: UserWarning: submission/evaluation_mask_1553.tif is a low contrast image\n",
      "  io.imsave(f'submission/evaluation_mask_{id}.tif', mask)\n",
      "/tmp/ipykernel_49602/336198212.py:6: UserWarning: submission/evaluation_mask_293.tif is a low contrast image\n",
      "  io.imsave(f'submission/evaluation_mask_{id}.tif', mask)\n",
      "/tmp/ipykernel_49602/336198212.py:6: UserWarning: submission/evaluation_mask_573.tif is a low contrast image\n",
      "  io.imsave(f'submission/evaluation_mask_{id}.tif', mask)\n",
      "/tmp/ipykernel_49602/336198212.py:6: UserWarning: submission/evaluation_mask_1369.tif is a low contrast image\n",
      "  io.imsave(f'submission/evaluation_mask_{id}.tif', mask)\n",
      "/tmp/ipykernel_49602/336198212.py:6: UserWarning: submission/evaluation_mask_392.tif is a low contrast image\n",
      "  io.imsave(f'submission/evaluation_mask_{id}.tif', mask)\n",
      " 31%|███       | 632/2066 [00:01<00:04, 323.01it/s]/tmp/ipykernel_49602/336198212.py:6: UserWarning: submission/evaluation_mask_1506.tif is a low contrast image\n",
      "  io.imsave(f'submission/evaluation_mask_{id}.tif', mask)\n",
      "/tmp/ipykernel_49602/336198212.py:6: UserWarning: submission/evaluation_mask_773.tif is a low contrast image\n",
      "  io.imsave(f'submission/evaluation_mask_{id}.tif', mask)\n",
      "/tmp/ipykernel_49602/336198212.py:6: UserWarning: submission/evaluation_mask_166.tif is a low contrast image\n",
      "  io.imsave(f'submission/evaluation_mask_{id}.tif', mask)\n",
      "/tmp/ipykernel_49602/336198212.py:6: UserWarning: submission/evaluation_mask_589.tif is a low contrast image\n",
      "  io.imsave(f'submission/evaluation_mask_{id}.tif', mask)\n",
      "/tmp/ipykernel_49602/336198212.py:6: UserWarning: submission/evaluation_mask_1262.tif is a low contrast image\n",
      "  io.imsave(f'submission/evaluation_mask_{id}.tif', mask)\n",
      "/tmp/ipykernel_49602/336198212.py:6: UserWarning: submission/evaluation_mask_1972.tif is a low contrast image\n",
      "  io.imsave(f'submission/evaluation_mask_{id}.tif', mask)\n",
      "/tmp/ipykernel_49602/336198212.py:6: UserWarning: submission/evaluation_mask_10.tif is a low contrast image\n",
      "  io.imsave(f'submission/evaluation_mask_{id}.tif', mask)\n",
      "/tmp/ipykernel_49602/336198212.py:6: UserWarning: submission/evaluation_mask_437.tif is a low contrast image\n",
      "  io.imsave(f'submission/evaluation_mask_{id}.tif', mask)\n",
      "/tmp/ipykernel_49602/336198212.py:6: UserWarning: submission/evaluation_mask_1902.tif is a low contrast image\n",
      "  io.imsave(f'submission/evaluation_mask_{id}.tif', mask)\n",
      "/tmp/ipykernel_49602/336198212.py:6: UserWarning: submission/evaluation_mask_872.tif is a low contrast image\n",
      "  io.imsave(f'submission/evaluation_mask_{id}.tif', mask)\n",
      "/tmp/ipykernel_49602/336198212.py:6: UserWarning: submission/evaluation_mask_1805.tif is a low contrast image\n",
      "  io.imsave(f'submission/evaluation_mask_{id}.tif', mask)\n",
      "/tmp/ipykernel_49602/336198212.py:6: UserWarning: submission/evaluation_mask_1394.tif is a low contrast image\n",
      "  io.imsave(f'submission/evaluation_mask_{id}.tif', mask)\n",
      "/tmp/ipykernel_49602/336198212.py:6: UserWarning: submission/evaluation_mask_295.tif is a low contrast image\n",
      "  io.imsave(f'submission/evaluation_mask_{id}.tif', mask)\n",
      "/tmp/ipykernel_49602/336198212.py:6: UserWarning: submission/evaluation_mask_1889.tif is a low contrast image\n",
      "  io.imsave(f'submission/evaluation_mask_{id}.tif', mask)\n",
      "/tmp/ipykernel_49602/336198212.py:6: UserWarning: submission/evaluation_mask_977.tif is a low contrast image\n",
      "  io.imsave(f'submission/evaluation_mask_{id}.tif', mask)\n",
      "/tmp/ipykernel_49602/336198212.py:6: UserWarning: submission/evaluation_mask_281.tif is a low contrast image\n",
      "  io.imsave(f'submission/evaluation_mask_{id}.tif', mask)\n",
      "/tmp/ipykernel_49602/336198212.py:6: UserWarning: submission/evaluation_mask_66.tif is a low contrast image\n",
      "  io.imsave(f'submission/evaluation_mask_{id}.tif', mask)\n",
      "/tmp/ipykernel_49602/336198212.py:6: UserWarning: submission/evaluation_mask_1685.tif is a low contrast image\n",
      "  io.imsave(f'submission/evaluation_mask_{id}.tif', mask)\n",
      "/tmp/ipykernel_49602/336198212.py:6: UserWarning: submission/evaluation_mask_100.tif is a low contrast image\n",
      "  io.imsave(f'submission/evaluation_mask_{id}.tif', mask)\n",
      "/tmp/ipykernel_49602/336198212.py:6: UserWarning: submission/evaluation_mask_1539.tif is a low contrast image\n",
      "  io.imsave(f'submission/evaluation_mask_{id}.tif', mask)\n",
      "/tmp/ipykernel_49602/336198212.py:6: UserWarning: submission/evaluation_mask_1852.tif is a low contrast image\n",
      "  io.imsave(f'submission/evaluation_mask_{id}.tif', mask)\n",
      "/tmp/ipykernel_49602/336198212.py:6: UserWarning: submission/evaluation_mask_1901.tif is a low contrast image\n",
      "  io.imsave(f'submission/evaluation_mask_{id}.tif', mask)\n",
      "/tmp/ipykernel_49602/336198212.py:6: UserWarning: submission/evaluation_mask_171.tif is a low contrast image\n",
      "  io.imsave(f'submission/evaluation_mask_{id}.tif', mask)\n",
      "/tmp/ipykernel_49602/336198212.py:6: UserWarning: submission/evaluation_mask_42.tif is a low contrast image\n",
      "  io.imsave(f'submission/evaluation_mask_{id}.tif', mask)\n",
      "/tmp/ipykernel_49602/336198212.py:6: UserWarning: submission/evaluation_mask_539.tif is a low contrast image\n",
      "  io.imsave(f'submission/evaluation_mask_{id}.tif', mask)\n",
      "/tmp/ipykernel_49602/336198212.py:6: UserWarning: submission/evaluation_mask_491.tif is a low contrast image\n",
      "  io.imsave(f'submission/evaluation_mask_{id}.tif', mask)\n",
      "/tmp/ipykernel_49602/336198212.py:6: UserWarning: submission/evaluation_mask_1946.tif is a low contrast image\n",
      "  io.imsave(f'submission/evaluation_mask_{id}.tif', mask)\n",
      "/tmp/ipykernel_49602/336198212.py:6: UserWarning: submission/evaluation_mask_395.tif is a low contrast image\n",
      "  io.imsave(f'submission/evaluation_mask_{id}.tif', mask)\n",
      "/tmp/ipykernel_49602/336198212.py:6: UserWarning: submission/evaluation_mask_1478.tif is a low contrast image\n",
      "  io.imsave(f'submission/evaluation_mask_{id}.tif', mask)\n",
      "/tmp/ipykernel_49602/336198212.py:6: UserWarning: submission/evaluation_mask_1042.tif is a low contrast image\n",
      "  io.imsave(f'submission/evaluation_mask_{id}.tif', mask)\n",
      "/tmp/ipykernel_49602/336198212.py:6: UserWarning: submission/evaluation_mask_1135.tif is a low contrast image\n",
      "  io.imsave(f'submission/evaluation_mask_{id}.tif', mask)\n",
      "/tmp/ipykernel_49602/336198212.py:6: UserWarning: submission/evaluation_mask_164.tif is a low contrast image\n",
      "  io.imsave(f'submission/evaluation_mask_{id}.tif', mask)\n",
      "/tmp/ipykernel_49602/336198212.py:6: UserWarning: submission/evaluation_mask_516.tif is a low contrast image\n",
      "  io.imsave(f'submission/evaluation_mask_{id}.tif', mask)\n",
      " 32%|███▏      | 665/2066 [00:02<00:04, 324.91it/s]/tmp/ipykernel_49602/336198212.py:6: UserWarning: submission/evaluation_mask_1383.tif is a low contrast image\n",
      "  io.imsave(f'submission/evaluation_mask_{id}.tif', mask)\n",
      "/tmp/ipykernel_49602/336198212.py:6: UserWarning: submission/evaluation_mask_1201.tif is a low contrast image\n",
      "  io.imsave(f'submission/evaluation_mask_{id}.tif', mask)\n",
      "/tmp/ipykernel_49602/336198212.py:6: UserWarning: submission/evaluation_mask_397.tif is a low contrast image\n",
      "  io.imsave(f'submission/evaluation_mask_{id}.tif', mask)\n",
      "/tmp/ipykernel_49602/336198212.py:6: UserWarning: submission/evaluation_mask_763.tif is a low contrast image\n",
      "  io.imsave(f'submission/evaluation_mask_{id}.tif', mask)\n",
      "/tmp/ipykernel_49602/336198212.py:6: UserWarning: submission/evaluation_mask_55.tif is a low contrast image\n",
      "  io.imsave(f'submission/evaluation_mask_{id}.tif', mask)\n",
      "/tmp/ipykernel_49602/336198212.py:6: UserWarning: submission/evaluation_mask_1876.tif is a low contrast image\n",
      "  io.imsave(f'submission/evaluation_mask_{id}.tif', mask)\n",
      "/tmp/ipykernel_49602/336198212.py:6: UserWarning: submission/evaluation_mask_1540.tif is a low contrast image\n",
      "  io.imsave(f'submission/evaluation_mask_{id}.tif', mask)\n",
      "/tmp/ipykernel_49602/336198212.py:6: UserWarning: submission/evaluation_mask_1558.tif is a low contrast image\n",
      "  io.imsave(f'submission/evaluation_mask_{id}.tif', mask)\n",
      "/tmp/ipykernel_49602/336198212.py:6: UserWarning: submission/evaluation_mask_513.tif is a low contrast image\n",
      "  io.imsave(f'submission/evaluation_mask_{id}.tif', mask)\n",
      "/tmp/ipykernel_49602/336198212.py:6: UserWarning: submission/evaluation_mask_1634.tif is a low contrast image\n",
      "  io.imsave(f'submission/evaluation_mask_{id}.tif', mask)\n",
      "/tmp/ipykernel_49602/336198212.py:6: UserWarning: submission/evaluation_mask_783.tif is a low contrast image\n",
      "  io.imsave(f'submission/evaluation_mask_{id}.tif', mask)\n",
      "/tmp/ipykernel_49602/336198212.py:6: UserWarning: submission/evaluation_mask_1106.tif is a low contrast image\n",
      "  io.imsave(f'submission/evaluation_mask_{id}.tif', mask)\n",
      "/tmp/ipykernel_49602/336198212.py:6: UserWarning: submission/evaluation_mask_1982.tif is a low contrast image\n",
      "  io.imsave(f'submission/evaluation_mask_{id}.tif', mask)\n",
      "/tmp/ipykernel_49602/336198212.py:6: UserWarning: submission/evaluation_mask_714.tif is a low contrast image\n",
      "  io.imsave(f'submission/evaluation_mask_{id}.tif', mask)\n",
      "/tmp/ipykernel_49602/336198212.py:6: UserWarning: submission/evaluation_mask_213.tif is a low contrast image\n",
      "  io.imsave(f'submission/evaluation_mask_{id}.tif', mask)\n",
      "/tmp/ipykernel_49602/336198212.py:6: UserWarning: submission/evaluation_mask_1025.tif is a low contrast image\n",
      "  io.imsave(f'submission/evaluation_mask_{id}.tif', mask)\n",
      "/tmp/ipykernel_49602/336198212.py:6: UserWarning: submission/evaluation_mask_1753.tif is a low contrast image\n",
      "  io.imsave(f'submission/evaluation_mask_{id}.tif', mask)\n",
      "/tmp/ipykernel_49602/336198212.py:6: UserWarning: submission/evaluation_mask_728.tif is a low contrast image\n",
      "  io.imsave(f'submission/evaluation_mask_{id}.tif', mask)\n",
      "/tmp/ipykernel_49602/336198212.py:6: UserWarning: submission/evaluation_mask_1343.tif is a low contrast image\n",
      "  io.imsave(f'submission/evaluation_mask_{id}.tif', mask)\n",
      "/tmp/ipykernel_49602/336198212.py:6: UserWarning: submission/evaluation_mask_1033.tif is a low contrast image\n",
      "  io.imsave(f'submission/evaluation_mask_{id}.tif', mask)\n",
      "/tmp/ipykernel_49602/336198212.py:6: UserWarning: submission/evaluation_mask_1090.tif is a low contrast image\n",
      "  io.imsave(f'submission/evaluation_mask_{id}.tif', mask)\n",
      "/tmp/ipykernel_49602/336198212.py:6: UserWarning: submission/evaluation_mask_458.tif is a low contrast image\n",
      "  io.imsave(f'submission/evaluation_mask_{id}.tif', mask)\n",
      "/tmp/ipykernel_49602/336198212.py:6: UserWarning: submission/evaluation_mask_2057.tif is a low contrast image\n",
      "  io.imsave(f'submission/evaluation_mask_{id}.tif', mask)\n",
      "/tmp/ipykernel_49602/336198212.py:6: UserWarning: submission/evaluation_mask_1730.tif is a low contrast image\n",
      "  io.imsave(f'submission/evaluation_mask_{id}.tif', mask)\n",
      "/tmp/ipykernel_49602/336198212.py:6: UserWarning: submission/evaluation_mask_394.tif is a low contrast image\n",
      "  io.imsave(f'submission/evaluation_mask_{id}.tif', mask)\n",
      "/tmp/ipykernel_49602/336198212.py:6: UserWarning: submission/evaluation_mask_1799.tif is a low contrast image\n",
      "  io.imsave(f'submission/evaluation_mask_{id}.tif', mask)\n",
      "/tmp/ipykernel_49602/336198212.py:6: UserWarning: submission/evaluation_mask_719.tif is a low contrast image\n",
      "  io.imsave(f'submission/evaluation_mask_{id}.tif', mask)\n",
      "/tmp/ipykernel_49602/336198212.py:6: UserWarning: submission/evaluation_mask_1671.tif is a low contrast image\n",
      "  io.imsave(f'submission/evaluation_mask_{id}.tif', mask)\n",
      "/tmp/ipykernel_49602/336198212.py:6: UserWarning: submission/evaluation_mask_849.tif is a low contrast image\n",
      "  io.imsave(f'submission/evaluation_mask_{id}.tif', mask)\n",
      "/tmp/ipykernel_49602/336198212.py:6: UserWarning: submission/evaluation_mask_1575.tif is a low contrast image\n",
      "  io.imsave(f'submission/evaluation_mask_{id}.tif', mask)\n",
      "/tmp/ipykernel_49602/336198212.py:6: UserWarning: submission/evaluation_mask_29.tif is a low contrast image\n",
      "  io.imsave(f'submission/evaluation_mask_{id}.tif', mask)\n",
      "/tmp/ipykernel_49602/336198212.py:6: UserWarning: submission/evaluation_mask_1004.tif is a low contrast image\n",
      "  io.imsave(f'submission/evaluation_mask_{id}.tif', mask)\n",
      "/tmp/ipykernel_49602/336198212.py:6: UserWarning: submission/evaluation_mask_206.tif is a low contrast image\n",
      "  io.imsave(f'submission/evaluation_mask_{id}.tif', mask)\n",
      "/tmp/ipykernel_49602/336198212.py:6: UserWarning: submission/evaluation_mask_1569.tif is a low contrast image\n",
      "  io.imsave(f'submission/evaluation_mask_{id}.tif', mask)\n",
      " 34%|███▍      | 699/2066 [00:02<00:04, 326.55it/s]/tmp/ipykernel_49602/336198212.py:6: UserWarning: submission/evaluation_mask_376.tif is a low contrast image\n",
      "  io.imsave(f'submission/evaluation_mask_{id}.tif', mask)\n",
      "/tmp/ipykernel_49602/336198212.py:6: UserWarning: submission/evaluation_mask_154.tif is a low contrast image\n",
      "  io.imsave(f'submission/evaluation_mask_{id}.tif', mask)\n",
      "/tmp/ipykernel_49602/336198212.py:6: UserWarning: submission/evaluation_mask_1490.tif is a low contrast image\n",
      "  io.imsave(f'submission/evaluation_mask_{id}.tif', mask)\n",
      "/tmp/ipykernel_49602/336198212.py:6: UserWarning: submission/evaluation_mask_122.tif is a low contrast image\n",
      "  io.imsave(f'submission/evaluation_mask_{id}.tif', mask)\n",
      "/tmp/ipykernel_49602/336198212.py:6: UserWarning: submission/evaluation_mask_421.tif is a low contrast image\n",
      "  io.imsave(f'submission/evaluation_mask_{id}.tif', mask)\n",
      "/tmp/ipykernel_49602/336198212.py:6: UserWarning: submission/evaluation_mask_807.tif is a low contrast image\n",
      "  io.imsave(f'submission/evaluation_mask_{id}.tif', mask)\n",
      "/tmp/ipykernel_49602/336198212.py:6: UserWarning: submission/evaluation_mask_1002.tif is a low contrast image\n",
      "  io.imsave(f'submission/evaluation_mask_{id}.tif', mask)\n",
      "/tmp/ipykernel_49602/336198212.py:6: UserWarning: submission/evaluation_mask_835.tif is a low contrast image\n",
      "  io.imsave(f'submission/evaluation_mask_{id}.tif', mask)\n",
      "/tmp/ipykernel_49602/336198212.py:6: UserWarning: submission/evaluation_mask_913.tif is a low contrast image\n",
      "  io.imsave(f'submission/evaluation_mask_{id}.tif', mask)\n",
      "/tmp/ipykernel_49602/336198212.py:6: UserWarning: submission/evaluation_mask_1909.tif is a low contrast image\n",
      "  io.imsave(f'submission/evaluation_mask_{id}.tif', mask)\n",
      "/tmp/ipykernel_49602/336198212.py:6: UserWarning: submission/evaluation_mask_1821.tif is a low contrast image\n",
      "  io.imsave(f'submission/evaluation_mask_{id}.tif', mask)\n",
      "/tmp/ipykernel_49602/336198212.py:6: UserWarning: submission/evaluation_mask_2045.tif is a low contrast image\n",
      "  io.imsave(f'submission/evaluation_mask_{id}.tif', mask)\n",
      "/tmp/ipykernel_49602/336198212.py:6: UserWarning: submission/evaluation_mask_195.tif is a low contrast image\n",
      "  io.imsave(f'submission/evaluation_mask_{id}.tif', mask)\n",
      "/tmp/ipykernel_49602/336198212.py:6: UserWarning: submission/evaluation_mask_990.tif is a low contrast image\n",
      "  io.imsave(f'submission/evaluation_mask_{id}.tif', mask)\n",
      "/tmp/ipykernel_49602/336198212.py:6: UserWarning: submission/evaluation_mask_793.tif is a low contrast image\n",
      "  io.imsave(f'submission/evaluation_mask_{id}.tif', mask)\n",
      "/tmp/ipykernel_49602/336198212.py:6: UserWarning: submission/evaluation_mask_595.tif is a low contrast image\n",
      "  io.imsave(f'submission/evaluation_mask_{id}.tif', mask)\n",
      "/tmp/ipykernel_49602/336198212.py:6: UserWarning: submission/evaluation_mask_44.tif is a low contrast image\n",
      "  io.imsave(f'submission/evaluation_mask_{id}.tif', mask)\n",
      "/tmp/ipykernel_49602/336198212.py:6: UserWarning: submission/evaluation_mask_1018.tif is a low contrast image\n",
      "  io.imsave(f'submission/evaluation_mask_{id}.tif', mask)\n",
      "/tmp/ipykernel_49602/336198212.py:6: UserWarning: submission/evaluation_mask_1104.tif is a low contrast image\n",
      "  io.imsave(f'submission/evaluation_mask_{id}.tif', mask)\n",
      "/tmp/ipykernel_49602/336198212.py:6: UserWarning: submission/evaluation_mask_2024.tif is a low contrast image\n",
      "  io.imsave(f'submission/evaluation_mask_{id}.tif', mask)\n",
      "/tmp/ipykernel_49602/336198212.py:6: UserWarning: submission/evaluation_mask_1261.tif is a low contrast image\n",
      "  io.imsave(f'submission/evaluation_mask_{id}.tif', mask)\n",
      "/tmp/ipykernel_49602/336198212.py:6: UserWarning: submission/evaluation_mask_45.tif is a low contrast image\n",
      "  io.imsave(f'submission/evaluation_mask_{id}.tif', mask)\n",
      "/tmp/ipykernel_49602/336198212.py:6: UserWarning: submission/evaluation_mask_221.tif is a low contrast image\n",
      "  io.imsave(f'submission/evaluation_mask_{id}.tif', mask)\n",
      "/tmp/ipykernel_49602/336198212.py:6: UserWarning: submission/evaluation_mask_1588.tif is a low contrast image\n",
      "  io.imsave(f'submission/evaluation_mask_{id}.tif', mask)\n",
      "/tmp/ipykernel_49602/336198212.py:6: UserWarning: submission/evaluation_mask_521.tif is a low contrast image\n",
      "  io.imsave(f'submission/evaluation_mask_{id}.tif', mask)\n",
      "/tmp/ipykernel_49602/336198212.py:6: UserWarning: submission/evaluation_mask_794.tif is a low contrast image\n",
      "  io.imsave(f'submission/evaluation_mask_{id}.tif', mask)\n",
      "/tmp/ipykernel_49602/336198212.py:6: UserWarning: submission/evaluation_mask_1114.tif is a low contrast image\n",
      "  io.imsave(f'submission/evaluation_mask_{id}.tif', mask)\n",
      "/tmp/ipykernel_49602/336198212.py:6: UserWarning: submission/evaluation_mask_685.tif is a low contrast image\n",
      "  io.imsave(f'submission/evaluation_mask_{id}.tif', mask)\n",
      "/tmp/ipykernel_49602/336198212.py:6: UserWarning: submission/evaluation_mask_1161.tif is a low contrast image\n",
      "  io.imsave(f'submission/evaluation_mask_{id}.tif', mask)\n",
      "/tmp/ipykernel_49602/336198212.py:6: UserWarning: submission/evaluation_mask_1533.tif is a low contrast image\n",
      "  io.imsave(f'submission/evaluation_mask_{id}.tif', mask)\n",
      "/tmp/ipykernel_49602/336198212.py:6: UserWarning: submission/evaluation_mask_158.tif is a low contrast image\n",
      "  io.imsave(f'submission/evaluation_mask_{id}.tif', mask)\n",
      "/tmp/ipykernel_49602/336198212.py:6: UserWarning: submission/evaluation_mask_2000.tif is a low contrast image\n",
      "  io.imsave(f'submission/evaluation_mask_{id}.tif', mask)\n",
      "/tmp/ipykernel_49602/336198212.py:6: UserWarning: submission/evaluation_mask_1078.tif is a low contrast image\n",
      "  io.imsave(f'submission/evaluation_mask_{id}.tif', mask)\n",
      "/tmp/ipykernel_49602/336198212.py:6: UserWarning: submission/evaluation_mask_2023.tif is a low contrast image\n",
      "  io.imsave(f'submission/evaluation_mask_{id}.tif', mask)\n",
      " 35%|███▌      | 733/2066 [00:02<00:04, 327.66it/s]/tmp/ipykernel_49602/336198212.py:6: UserWarning: submission/evaluation_mask_652.tif is a low contrast image\n",
      "  io.imsave(f'submission/evaluation_mask_{id}.tif', mask)\n",
      "/tmp/ipykernel_49602/336198212.py:6: UserWarning: submission/evaluation_mask_1646.tif is a low contrast image\n",
      "  io.imsave(f'submission/evaluation_mask_{id}.tif', mask)\n",
      "/tmp/ipykernel_49602/336198212.py:6: UserWarning: submission/evaluation_mask_1638.tif is a low contrast image\n",
      "  io.imsave(f'submission/evaluation_mask_{id}.tif', mask)\n",
      "/tmp/ipykernel_49602/336198212.py:6: UserWarning: submission/evaluation_mask_1385.tif is a low contrast image\n",
      "  io.imsave(f'submission/evaluation_mask_{id}.tif', mask)\n",
      "/tmp/ipykernel_49602/336198212.py:6: UserWarning: submission/evaluation_mask_1144.tif is a low contrast image\n",
      "  io.imsave(f'submission/evaluation_mask_{id}.tif', mask)\n",
      "/tmp/ipykernel_49602/336198212.py:6: UserWarning: submission/evaluation_mask_980.tif is a low contrast image\n",
      "  io.imsave(f'submission/evaluation_mask_{id}.tif', mask)\n",
      "/tmp/ipykernel_49602/336198212.py:6: UserWarning: submission/evaluation_mask_350.tif is a low contrast image\n",
      "  io.imsave(f'submission/evaluation_mask_{id}.tif', mask)\n",
      "/tmp/ipykernel_49602/336198212.py:6: UserWarning: submission/evaluation_mask_372.tif is a low contrast image\n",
      "  io.imsave(f'submission/evaluation_mask_{id}.tif', mask)\n",
      "/tmp/ipykernel_49602/336198212.py:6: UserWarning: submission/evaluation_mask_575.tif is a low contrast image\n",
      "  io.imsave(f'submission/evaluation_mask_{id}.tif', mask)\n",
      "/tmp/ipykernel_49602/336198212.py:6: UserWarning: submission/evaluation_mask_121.tif is a low contrast image\n",
      "  io.imsave(f'submission/evaluation_mask_{id}.tif', mask)\n",
      "/tmp/ipykernel_49602/336198212.py:6: UserWarning: submission/evaluation_mask_2017.tif is a low contrast image\n",
      "  io.imsave(f'submission/evaluation_mask_{id}.tif', mask)\n",
      "/tmp/ipykernel_49602/336198212.py:6: UserWarning: submission/evaluation_mask_303.tif is a low contrast image\n",
      "  io.imsave(f'submission/evaluation_mask_{id}.tif', mask)\n",
      "/tmp/ipykernel_49602/336198212.py:6: UserWarning: submission/evaluation_mask_417.tif is a low contrast image\n",
      "  io.imsave(f'submission/evaluation_mask_{id}.tif', mask)\n",
      "/tmp/ipykernel_49602/336198212.py:6: UserWarning: submission/evaluation_mask_1860.tif is a low contrast image\n",
      "  io.imsave(f'submission/evaluation_mask_{id}.tif', mask)\n",
      "/tmp/ipykernel_49602/336198212.py:6: UserWarning: submission/evaluation_mask_633.tif is a low contrast image\n",
      "  io.imsave(f'submission/evaluation_mask_{id}.tif', mask)\n",
      "/tmp/ipykernel_49602/336198212.py:6: UserWarning: submission/evaluation_mask_1446.tif is a low contrast image\n",
      "  io.imsave(f'submission/evaluation_mask_{id}.tif', mask)\n",
      "/tmp/ipykernel_49602/336198212.py:6: UserWarning: submission/evaluation_mask_600.tif is a low contrast image\n",
      "  io.imsave(f'submission/evaluation_mask_{id}.tif', mask)\n",
      "/tmp/ipykernel_49602/336198212.py:6: UserWarning: submission/evaluation_mask_815.tif is a low contrast image\n",
      "  io.imsave(f'submission/evaluation_mask_{id}.tif', mask)\n",
      "/tmp/ipykernel_49602/336198212.py:6: UserWarning: submission/evaluation_mask_1769.tif is a low contrast image\n",
      "  io.imsave(f'submission/evaluation_mask_{id}.tif', mask)\n",
      "/tmp/ipykernel_49602/336198212.py:6: UserWarning: submission/evaluation_mask_911.tif is a low contrast image\n",
      "  io.imsave(f'submission/evaluation_mask_{id}.tif', mask)\n",
      "/tmp/ipykernel_49602/336198212.py:6: UserWarning: submission/evaluation_mask_95.tif is a low contrast image\n",
      "  io.imsave(f'submission/evaluation_mask_{id}.tif', mask)\n",
      "/tmp/ipykernel_49602/336198212.py:6: UserWarning: submission/evaluation_mask_1607.tif is a low contrast image\n",
      "  io.imsave(f'submission/evaluation_mask_{id}.tif', mask)\n",
      "/tmp/ipykernel_49602/336198212.py:6: UserWarning: submission/evaluation_mask_1721.tif is a low contrast image\n",
      "  io.imsave(f'submission/evaluation_mask_{id}.tif', mask)\n",
      "/tmp/ipykernel_49602/336198212.py:6: UserWarning: submission/evaluation_mask_1717.tif is a low contrast image\n",
      "  io.imsave(f'submission/evaluation_mask_{id}.tif', mask)\n",
      "/tmp/ipykernel_49602/336198212.py:6: UserWarning: submission/evaluation_mask_49.tif is a low contrast image\n",
      "  io.imsave(f'submission/evaluation_mask_{id}.tif', mask)\n",
      "/tmp/ipykernel_49602/336198212.py:6: UserWarning: submission/evaluation_mask_888.tif is a low contrast image\n",
      "  io.imsave(f'submission/evaluation_mask_{id}.tif', mask)\n",
      "/tmp/ipykernel_49602/336198212.py:6: UserWarning: submission/evaluation_mask_1298.tif is a low contrast image\n",
      "  io.imsave(f'submission/evaluation_mask_{id}.tif', mask)\n",
      "/tmp/ipykernel_49602/336198212.py:6: UserWarning: submission/evaluation_mask_549.tif is a low contrast image\n",
      "  io.imsave(f'submission/evaluation_mask_{id}.tif', mask)\n",
      "/tmp/ipykernel_49602/336198212.py:6: UserWarning: submission/evaluation_mask_1704.tif is a low contrast image\n",
      "  io.imsave(f'submission/evaluation_mask_{id}.tif', mask)\n",
      "/tmp/ipykernel_49602/336198212.py:6: UserWarning: submission/evaluation_mask_866.tif is a low contrast image\n",
      "  io.imsave(f'submission/evaluation_mask_{id}.tif', mask)\n",
      "/tmp/ipykernel_49602/336198212.py:6: UserWarning: submission/evaluation_mask_1647.tif is a low contrast image\n",
      "  io.imsave(f'submission/evaluation_mask_{id}.tif', mask)\n",
      "/tmp/ipykernel_49602/336198212.py:6: UserWarning: submission/evaluation_mask_143.tif is a low contrast image\n",
      "  io.imsave(f'submission/evaluation_mask_{id}.tif', mask)\n",
      "/tmp/ipykernel_49602/336198212.py:6: UserWarning: submission/evaluation_mask_31.tif is a low contrast image\n",
      "  io.imsave(f'submission/evaluation_mask_{id}.tif', mask)\n",
      "/tmp/ipykernel_49602/336198212.py:6: UserWarning: submission/evaluation_mask_1471.tif is a low contrast image\n",
      "  io.imsave(f'submission/evaluation_mask_{id}.tif', mask)\n",
      " 37%|███▋      | 767/2066 [00:02<00:03, 328.81it/s]/tmp/ipykernel_49602/336198212.py:6: UserWarning: submission/evaluation_mask_1384.tif is a low contrast image\n",
      "  io.imsave(f'submission/evaluation_mask_{id}.tif', mask)\n",
      "/tmp/ipykernel_49602/336198212.py:6: UserWarning: submission/evaluation_mask_324.tif is a low contrast image\n",
      "  io.imsave(f'submission/evaluation_mask_{id}.tif', mask)\n",
      "/tmp/ipykernel_49602/336198212.py:6: UserWarning: submission/evaluation_mask_250.tif is a low contrast image\n",
      "  io.imsave(f'submission/evaluation_mask_{id}.tif', mask)\n",
      "/tmp/ipykernel_49602/336198212.py:6: UserWarning: submission/evaluation_mask_727.tif is a low contrast image\n",
      "  io.imsave(f'submission/evaluation_mask_{id}.tif', mask)\n",
      "/tmp/ipykernel_49602/336198212.py:6: UserWarning: submission/evaluation_mask_1329.tif is a low contrast image\n",
      "  io.imsave(f'submission/evaluation_mask_{id}.tif', mask)\n",
      "/tmp/ipykernel_49602/336198212.py:6: UserWarning: submission/evaluation_mask_1644.tif is a low contrast image\n",
      "  io.imsave(f'submission/evaluation_mask_{id}.tif', mask)\n",
      "/tmp/ipykernel_49602/336198212.py:6: UserWarning: submission/evaluation_mask_1810.tif is a low contrast image\n",
      "  io.imsave(f'submission/evaluation_mask_{id}.tif', mask)\n",
      "/tmp/ipykernel_49602/336198212.py:6: UserWarning: submission/evaluation_mask_1820.tif is a low contrast image\n",
      "  io.imsave(f'submission/evaluation_mask_{id}.tif', mask)\n",
      "/tmp/ipykernel_49602/336198212.py:6: UserWarning: submission/evaluation_mask_1169.tif is a low contrast image\n",
      "  io.imsave(f'submission/evaluation_mask_{id}.tif', mask)\n",
      "/tmp/ipykernel_49602/336198212.py:6: UserWarning: submission/evaluation_mask_812.tif is a low contrast image\n",
      "  io.imsave(f'submission/evaluation_mask_{id}.tif', mask)\n",
      "/tmp/ipykernel_49602/336198212.py:6: UserWarning: submission/evaluation_mask_953.tif is a low contrast image\n",
      "  io.imsave(f'submission/evaluation_mask_{id}.tif', mask)\n",
      "/tmp/ipykernel_49602/336198212.py:6: UserWarning: submission/evaluation_mask_700.tif is a low contrast image\n",
      "  io.imsave(f'submission/evaluation_mask_{id}.tif', mask)\n",
      "/tmp/ipykernel_49602/336198212.py:6: UserWarning: submission/evaluation_mask_1398.tif is a low contrast image\n",
      "  io.imsave(f'submission/evaluation_mask_{id}.tif', mask)\n",
      "/tmp/ipykernel_49602/336198212.py:6: UserWarning: submission/evaluation_mask_1612.tif is a low contrast image\n",
      "  io.imsave(f'submission/evaluation_mask_{id}.tif', mask)\n",
      "/tmp/ipykernel_49602/336198212.py:6: UserWarning: submission/evaluation_mask_1520.tif is a low contrast image\n",
      "  io.imsave(f'submission/evaluation_mask_{id}.tif', mask)\n",
      "/tmp/ipykernel_49602/336198212.py:6: UserWarning: submission/evaluation_mask_2007.tif is a low contrast image\n",
      "  io.imsave(f'submission/evaluation_mask_{id}.tif', mask)\n",
      "/tmp/ipykernel_49602/336198212.py:6: UserWarning: submission/evaluation_mask_1048.tif is a low contrast image\n",
      "  io.imsave(f'submission/evaluation_mask_{id}.tif', mask)\n",
      "/tmp/ipykernel_49602/336198212.py:6: UserWarning: submission/evaluation_mask_1307.tif is a low contrast image\n",
      "  io.imsave(f'submission/evaluation_mask_{id}.tif', mask)\n",
      "/tmp/ipykernel_49602/336198212.py:6: UserWarning: submission/evaluation_mask_660.tif is a low contrast image\n",
      "  io.imsave(f'submission/evaluation_mask_{id}.tif', mask)\n",
      "/tmp/ipykernel_49602/336198212.py:6: UserWarning: submission/evaluation_mask_2009.tif is a low contrast image\n",
      "  io.imsave(f'submission/evaluation_mask_{id}.tif', mask)\n",
      "/tmp/ipykernel_49602/336198212.py:6: UserWarning: submission/evaluation_mask_556.tif is a low contrast image\n",
      "  io.imsave(f'submission/evaluation_mask_{id}.tif', mask)\n",
      "/tmp/ipykernel_49602/336198212.py:6: UserWarning: submission/evaluation_mask_1441.tif is a low contrast image\n",
      "  io.imsave(f'submission/evaluation_mask_{id}.tif', mask)\n",
      "/tmp/ipykernel_49602/336198212.py:6: UserWarning: submission/evaluation_mask_1507.tif is a low contrast image\n",
      "  io.imsave(f'submission/evaluation_mask_{id}.tif', mask)\n",
      "/tmp/ipykernel_49602/336198212.py:6: UserWarning: submission/evaluation_mask_330.tif is a low contrast image\n",
      "  io.imsave(f'submission/evaluation_mask_{id}.tif', mask)\n",
      "/tmp/ipykernel_49602/336198212.py:6: UserWarning: submission/evaluation_mask_665.tif is a low contrast image\n",
      "  io.imsave(f'submission/evaluation_mask_{id}.tif', mask)\n",
      "/tmp/ipykernel_49602/336198212.py:6: UserWarning: submission/evaluation_mask_470.tif is a low contrast image\n",
      "  io.imsave(f'submission/evaluation_mask_{id}.tif', mask)\n",
      "/tmp/ipykernel_49602/336198212.py:6: UserWarning: submission/evaluation_mask_78.tif is a low contrast image\n",
      "  io.imsave(f'submission/evaluation_mask_{id}.tif', mask)\n",
      "/tmp/ipykernel_49602/336198212.py:6: UserWarning: submission/evaluation_mask_1124.tif is a low contrast image\n",
      "  io.imsave(f'submission/evaluation_mask_{id}.tif', mask)\n",
      "/tmp/ipykernel_49602/336198212.py:6: UserWarning: submission/evaluation_mask_25.tif is a low contrast image\n",
      "  io.imsave(f'submission/evaluation_mask_{id}.tif', mask)\n",
      "/tmp/ipykernel_49602/336198212.py:6: UserWarning: submission/evaluation_mask_978.tif is a low contrast image\n",
      "  io.imsave(f'submission/evaluation_mask_{id}.tif', mask)\n",
      "/tmp/ipykernel_49602/336198212.py:6: UserWarning: submission/evaluation_mask_200.tif is a low contrast image\n",
      "  io.imsave(f'submission/evaluation_mask_{id}.tif', mask)\n",
      "/tmp/ipykernel_49602/336198212.py:6: UserWarning: submission/evaluation_mask_1745.tif is a low contrast image\n",
      "  io.imsave(f'submission/evaluation_mask_{id}.tif', mask)\n",
      "/tmp/ipykernel_49602/336198212.py:6: UserWarning: submission/evaluation_mask_1175.tif is a low contrast image\n",
      "  io.imsave(f'submission/evaluation_mask_{id}.tif', mask)\n",
      "/tmp/ipykernel_49602/336198212.py:6: UserWarning: submission/evaluation_mask_299.tif is a low contrast image\n",
      "  io.imsave(f'submission/evaluation_mask_{id}.tif', mask)\n",
      " 39%|███▉      | 801/2066 [00:02<00:03, 329.07it/s]/tmp/ipykernel_49602/336198212.py:6: UserWarning: submission/evaluation_mask_2040.tif is a low contrast image\n",
      "  io.imsave(f'submission/evaluation_mask_{id}.tif', mask)\n",
      "/tmp/ipykernel_49602/336198212.py:6: UserWarning: submission/evaluation_mask_1276.tif is a low contrast image\n",
      "  io.imsave(f'submission/evaluation_mask_{id}.tif', mask)\n",
      "/tmp/ipykernel_49602/336198212.py:6: UserWarning: submission/evaluation_mask_260.tif is a low contrast image\n",
      "  io.imsave(f'submission/evaluation_mask_{id}.tif', mask)\n",
      "/tmp/ipykernel_49602/336198212.py:6: UserWarning: submission/evaluation_mask_1544.tif is a low contrast image\n",
      "  io.imsave(f'submission/evaluation_mask_{id}.tif', mask)\n",
      "/tmp/ipykernel_49602/336198212.py:6: UserWarning: submission/evaluation_mask_1458.tif is a low contrast image\n",
      "  io.imsave(f'submission/evaluation_mask_{id}.tif', mask)\n",
      "/tmp/ipykernel_49602/336198212.py:6: UserWarning: submission/evaluation_mask_1345.tif is a low contrast image\n",
      "  io.imsave(f'submission/evaluation_mask_{id}.tif', mask)\n",
      "/tmp/ipykernel_49602/336198212.py:6: UserWarning: submission/evaluation_mask_70.tif is a low contrast image\n",
      "  io.imsave(f'submission/evaluation_mask_{id}.tif', mask)\n",
      "/tmp/ipykernel_49602/336198212.py:6: UserWarning: submission/evaluation_mask_38.tif is a low contrast image\n",
      "  io.imsave(f'submission/evaluation_mask_{id}.tif', mask)\n",
      "/tmp/ipykernel_49602/336198212.py:6: UserWarning: submission/evaluation_mask_810.tif is a low contrast image\n",
      "  io.imsave(f'submission/evaluation_mask_{id}.tif', mask)\n",
      "/tmp/ipykernel_49602/336198212.py:6: UserWarning: submission/evaluation_mask_883.tif is a low contrast image\n",
      "  io.imsave(f'submission/evaluation_mask_{id}.tif', mask)\n",
      "/tmp/ipykernel_49602/336198212.py:6: UserWarning: submission/evaluation_mask_1415.tif is a low contrast image\n",
      "  io.imsave(f'submission/evaluation_mask_{id}.tif', mask)\n",
      "/tmp/ipykernel_49602/336198212.py:6: UserWarning: submission/evaluation_mask_1600.tif is a low contrast image\n",
      "  io.imsave(f'submission/evaluation_mask_{id}.tif', mask)\n",
      "/tmp/ipykernel_49602/336198212.py:6: UserWarning: submission/evaluation_mask_721.tif is a low contrast image\n",
      "  io.imsave(f'submission/evaluation_mask_{id}.tif', mask)\n",
      "/tmp/ipykernel_49602/336198212.py:6: UserWarning: submission/evaluation_mask_643.tif is a low contrast image\n",
      "  io.imsave(f'submission/evaluation_mask_{id}.tif', mask)\n",
      "/tmp/ipykernel_49602/336198212.py:6: UserWarning: submission/evaluation_mask_1099.tif is a low contrast image\n",
      "  io.imsave(f'submission/evaluation_mask_{id}.tif', mask)\n",
      "/tmp/ipykernel_49602/336198212.py:6: UserWarning: submission/evaluation_mask_1094.tif is a low contrast image\n",
      "  io.imsave(f'submission/evaluation_mask_{id}.tif', mask)\n",
      "/tmp/ipykernel_49602/336198212.py:6: UserWarning: submission/evaluation_mask_1980.tif is a low contrast image\n",
      "  io.imsave(f'submission/evaluation_mask_{id}.tif', mask)\n",
      "/tmp/ipykernel_49602/336198212.py:6: UserWarning: submission/evaluation_mask_1333.tif is a low contrast image\n",
      "  io.imsave(f'submission/evaluation_mask_{id}.tif', mask)\n",
      "/tmp/ipykernel_49602/336198212.py:6: UserWarning: submission/evaluation_mask_471.tif is a low contrast image\n",
      "  io.imsave(f'submission/evaluation_mask_{id}.tif', mask)\n",
      "/tmp/ipykernel_49602/336198212.py:6: UserWarning: submission/evaluation_mask_532.tif is a low contrast image\n",
      "  io.imsave(f'submission/evaluation_mask_{id}.tif', mask)\n",
      "/tmp/ipykernel_49602/336198212.py:6: UserWarning: submission/evaluation_mask_422.tif is a low contrast image\n",
      "  io.imsave(f'submission/evaluation_mask_{id}.tif', mask)\n",
      "/tmp/ipykernel_49602/336198212.py:6: UserWarning: submission/evaluation_mask_1291.tif is a low contrast image\n",
      "  io.imsave(f'submission/evaluation_mask_{id}.tif', mask)\n",
      "/tmp/ipykernel_49602/336198212.py:6: UserWarning: submission/evaluation_mask_106.tif is a low contrast image\n",
      "  io.imsave(f'submission/evaluation_mask_{id}.tif', mask)\n",
      "/tmp/ipykernel_49602/336198212.py:6: UserWarning: submission/evaluation_mask_1859.tif is a low contrast image\n",
      "  io.imsave(f'submission/evaluation_mask_{id}.tif', mask)\n",
      "/tmp/ipykernel_49602/336198212.py:6: UserWarning: submission/evaluation_mask_1251.tif is a low contrast image\n",
      "  io.imsave(f'submission/evaluation_mask_{id}.tif', mask)\n",
      "/tmp/ipykernel_49602/336198212.py:6: UserWarning: submission/evaluation_mask_263.tif is a low contrast image\n",
      "  io.imsave(f'submission/evaluation_mask_{id}.tif', mask)\n",
      "/tmp/ipykernel_49602/336198212.py:6: UserWarning: submission/evaluation_mask_481.tif is a low contrast image\n",
      "  io.imsave(f'submission/evaluation_mask_{id}.tif', mask)\n",
      "/tmp/ipykernel_49602/336198212.py:6: UserWarning: submission/evaluation_mask_1800.tif is a low contrast image\n",
      "  io.imsave(f'submission/evaluation_mask_{id}.tif', mask)\n",
      "/tmp/ipykernel_49602/336198212.py:6: UserWarning: submission/evaluation_mask_981.tif is a low contrast image\n",
      "  io.imsave(f'submission/evaluation_mask_{id}.tif', mask)\n",
      "/tmp/ipykernel_49602/336198212.py:6: UserWarning: submission/evaluation_mask_940.tif is a low contrast image\n",
      "  io.imsave(f'submission/evaluation_mask_{id}.tif', mask)\n",
      "/tmp/ipykernel_49602/336198212.py:6: UserWarning: submission/evaluation_mask_1341.tif is a low contrast image\n",
      "  io.imsave(f'submission/evaluation_mask_{id}.tif', mask)\n",
      "/tmp/ipykernel_49602/336198212.py:6: UserWarning: submission/evaluation_mask_2058.tif is a low contrast image\n",
      "  io.imsave(f'submission/evaluation_mask_{id}.tif', mask)\n",
      "/tmp/ipykernel_49602/336198212.py:6: UserWarning: submission/evaluation_mask_1495.tif is a low contrast image\n",
      "  io.imsave(f'submission/evaluation_mask_{id}.tif', mask)\n",
      " 40%|████      | 834/2066 [00:02<00:03, 328.26it/s]/tmp/ipykernel_49602/336198212.py:6: UserWarning: submission/evaluation_mask_1705.tif is a low contrast image\n",
      "  io.imsave(f'submission/evaluation_mask_{id}.tif', mask)\n",
      "/tmp/ipykernel_49602/336198212.py:6: UserWarning: submission/evaluation_mask_674.tif is a low contrast image\n",
      "  io.imsave(f'submission/evaluation_mask_{id}.tif', mask)\n",
      "/tmp/ipykernel_49602/336198212.py:6: UserWarning: submission/evaluation_mask_1348.tif is a low contrast image\n",
      "  io.imsave(f'submission/evaluation_mask_{id}.tif', mask)\n",
      "/tmp/ipykernel_49602/336198212.py:6: UserWarning: submission/evaluation_mask_1943.tif is a low contrast image\n",
      "  io.imsave(f'submission/evaluation_mask_{id}.tif', mask)\n",
      "/tmp/ipykernel_49602/336198212.py:6: UserWarning: submission/evaluation_mask_203.tif is a low contrast image\n",
      "  io.imsave(f'submission/evaluation_mask_{id}.tif', mask)\n",
      "/tmp/ipykernel_49602/336198212.py:6: UserWarning: submission/evaluation_mask_821.tif is a low contrast image\n",
      "  io.imsave(f'submission/evaluation_mask_{id}.tif', mask)\n",
      "/tmp/ipykernel_49602/336198212.py:6: UserWarning: submission/evaluation_mask_382.tif is a low contrast image\n",
      "  io.imsave(f'submission/evaluation_mask_{id}.tif', mask)\n",
      "/tmp/ipykernel_49602/336198212.py:6: UserWarning: submission/evaluation_mask_776.tif is a low contrast image\n",
      "  io.imsave(f'submission/evaluation_mask_{id}.tif', mask)\n",
      "/tmp/ipykernel_49602/336198212.py:6: UserWarning: submission/evaluation_mask_347.tif is a low contrast image\n",
      "  io.imsave(f'submission/evaluation_mask_{id}.tif', mask)\n",
      "/tmp/ipykernel_49602/336198212.py:6: UserWarning: submission/evaluation_mask_1311.tif is a low contrast image\n",
      "  io.imsave(f'submission/evaluation_mask_{id}.tif', mask)\n",
      "/tmp/ipykernel_49602/336198212.py:6: UserWarning: submission/evaluation_mask_1789.tif is a low contrast image\n",
      "  io.imsave(f'submission/evaluation_mask_{id}.tif', mask)\n",
      "/tmp/ipykernel_49602/336198212.py:6: UserWarning: submission/evaluation_mask_884.tif is a low contrast image\n",
      "  io.imsave(f'submission/evaluation_mask_{id}.tif', mask)\n",
      "/tmp/ipykernel_49602/336198212.py:6: UserWarning: submission/evaluation_mask_2053.tif is a low contrast image\n",
      "  io.imsave(f'submission/evaluation_mask_{id}.tif', mask)\n",
      "/tmp/ipykernel_49602/336198212.py:6: UserWarning: submission/evaluation_mask_1744.tif is a low contrast image\n",
      "  io.imsave(f'submission/evaluation_mask_{id}.tif', mask)\n",
      "/tmp/ipykernel_49602/336198212.py:6: UserWarning: submission/evaluation_mask_326.tif is a low contrast image\n",
      "  io.imsave(f'submission/evaluation_mask_{id}.tif', mask)\n",
      "/tmp/ipykernel_49602/336198212.py:6: UserWarning: submission/evaluation_mask_2049.tif is a low contrast image\n",
      "  io.imsave(f'submission/evaluation_mask_{id}.tif', mask)\n",
      "/tmp/ipykernel_49602/336198212.py:6: UserWarning: submission/evaluation_mask_1239.tif is a low contrast image\n",
      "  io.imsave(f'submission/evaluation_mask_{id}.tif', mask)\n",
      "/tmp/ipykernel_49602/336198212.py:6: UserWarning: submission/evaluation_mask_344.tif is a low contrast image\n",
      "  io.imsave(f'submission/evaluation_mask_{id}.tif', mask)\n",
      "/tmp/ipykernel_49602/336198212.py:6: UserWarning: submission/evaluation_mask_2012.tif is a low contrast image\n",
      "  io.imsave(f'submission/evaluation_mask_{id}.tif', mask)\n",
      "/tmp/ipykernel_49602/336198212.py:6: UserWarning: submission/evaluation_mask_1772.tif is a low contrast image\n",
      "  io.imsave(f'submission/evaluation_mask_{id}.tif', mask)\n",
      "/tmp/ipykernel_49602/336198212.py:6: UserWarning: submission/evaluation_mask_258.tif is a low contrast image\n",
      "  io.imsave(f'submission/evaluation_mask_{id}.tif', mask)\n",
      "/tmp/ipykernel_49602/336198212.py:6: UserWarning: submission/evaluation_mask_1193.tif is a low contrast image\n",
      "  io.imsave(f'submission/evaluation_mask_{id}.tif', mask)\n",
      "/tmp/ipykernel_49602/336198212.py:6: UserWarning: submission/evaluation_mask_1482.tif is a low contrast image\n",
      "  io.imsave(f'submission/evaluation_mask_{id}.tif', mask)\n",
      "/tmp/ipykernel_49602/336198212.py:6: UserWarning: submission/evaluation_mask_1076.tif is a low contrast image\n",
      "  io.imsave(f'submission/evaluation_mask_{id}.tif', mask)\n",
      "/tmp/ipykernel_49602/336198212.py:6: UserWarning: submission/evaluation_mask_436.tif is a low contrast image\n",
      "  io.imsave(f'submission/evaluation_mask_{id}.tif', mask)\n",
      "/tmp/ipykernel_49602/336198212.py:6: UserWarning: submission/evaluation_mask_366.tif is a low contrast image\n",
      "  io.imsave(f'submission/evaluation_mask_{id}.tif', mask)\n",
      "/tmp/ipykernel_49602/336198212.py:6: UserWarning: submission/evaluation_mask_486.tif is a low contrast image\n",
      "  io.imsave(f'submission/evaluation_mask_{id}.tif', mask)\n",
      "/tmp/ipykernel_49602/336198212.py:6: UserWarning: submission/evaluation_mask_822.tif is a low contrast image\n",
      "  io.imsave(f'submission/evaluation_mask_{id}.tif', mask)\n",
      "/tmp/ipykernel_49602/336198212.py:6: UserWarning: submission/evaluation_mask_1455.tif is a low contrast image\n",
      "  io.imsave(f'submission/evaluation_mask_{id}.tif', mask)\n",
      "/tmp/ipykernel_49602/336198212.py:6: UserWarning: submission/evaluation_mask_342.tif is a low contrast image\n",
      "  io.imsave(f'submission/evaluation_mask_{id}.tif', mask)\n",
      "/tmp/ipykernel_49602/336198212.py:6: UserWarning: submission/evaluation_mask_846.tif is a low contrast image\n",
      "  io.imsave(f'submission/evaluation_mask_{id}.tif', mask)\n",
      "/tmp/ipykernel_49602/336198212.py:6: UserWarning: submission/evaluation_mask_136.tif is a low contrast image\n",
      "  io.imsave(f'submission/evaluation_mask_{id}.tif', mask)\n",
      "/tmp/ipykernel_49602/336198212.py:6: UserWarning: submission/evaluation_mask_708.tif is a low contrast image\n",
      "  io.imsave(f'submission/evaluation_mask_{id}.tif', mask)\n",
      " 42%|████▏     | 867/2066 [00:02<00:03, 328.00it/s]/tmp/ipykernel_49602/336198212.py:6: UserWarning: submission/evaluation_mask_1610.tif is a low contrast image\n",
      "  io.imsave(f'submission/evaluation_mask_{id}.tif', mask)\n",
      "/tmp/ipykernel_49602/336198212.py:6: UserWarning: submission/evaluation_mask_84.tif is a low contrast image\n",
      "  io.imsave(f'submission/evaluation_mask_{id}.tif', mask)\n",
      "/tmp/ipykernel_49602/336198212.py:6: UserWarning: submission/evaluation_mask_149.tif is a low contrast image\n",
      "  io.imsave(f'submission/evaluation_mask_{id}.tif', mask)\n",
      "/tmp/ipykernel_49602/336198212.py:6: UserWarning: submission/evaluation_mask_1627.tif is a low contrast image\n",
      "  io.imsave(f'submission/evaluation_mask_{id}.tif', mask)\n",
      "/tmp/ipykernel_49602/336198212.py:6: UserWarning: submission/evaluation_mask_558.tif is a low contrast image\n",
      "  io.imsave(f'submission/evaluation_mask_{id}.tif', mask)\n",
      "/tmp/ipykernel_49602/336198212.py:6: UserWarning: submission/evaluation_mask_1994.tif is a low contrast image\n",
      "  io.imsave(f'submission/evaluation_mask_{id}.tif', mask)\n",
      "/tmp/ipykernel_49602/336198212.py:6: UserWarning: submission/evaluation_mask_2006.tif is a low contrast image\n",
      "  io.imsave(f'submission/evaluation_mask_{id}.tif', mask)\n",
      "/tmp/ipykernel_49602/336198212.py:6: UserWarning: submission/evaluation_mask_409.tif is a low contrast image\n",
      "  io.imsave(f'submission/evaluation_mask_{id}.tif', mask)\n",
      "/tmp/ipykernel_49602/336198212.py:6: UserWarning: submission/evaluation_mask_965.tif is a low contrast image\n",
      "  io.imsave(f'submission/evaluation_mask_{id}.tif', mask)\n",
      "/tmp/ipykernel_49602/336198212.py:6: UserWarning: submission/evaluation_mask_3.tif is a low contrast image\n",
      "  io.imsave(f'submission/evaluation_mask_{id}.tif', mask)\n",
      "/tmp/ipykernel_49602/336198212.py:6: UserWarning: submission/evaluation_mask_85.tif is a low contrast image\n",
      "  io.imsave(f'submission/evaluation_mask_{id}.tif', mask)\n",
      "/tmp/ipykernel_49602/336198212.py:6: UserWarning: submission/evaluation_mask_666.tif is a low contrast image\n",
      "  io.imsave(f'submission/evaluation_mask_{id}.tif', mask)\n",
      "/tmp/ipykernel_49602/336198212.py:6: UserWarning: submission/evaluation_mask_1134.tif is a low contrast image\n",
      "  io.imsave(f'submission/evaluation_mask_{id}.tif', mask)\n",
      "/tmp/ipykernel_49602/336198212.py:6: UserWarning: submission/evaluation_mask_1231.tif is a low contrast image\n",
      "  io.imsave(f'submission/evaluation_mask_{id}.tif', mask)\n",
      "/tmp/ipykernel_49602/336198212.py:6: UserWarning: submission/evaluation_mask_359.tif is a low contrast image\n",
      "  io.imsave(f'submission/evaluation_mask_{id}.tif', mask)\n",
      "/tmp/ipykernel_49602/336198212.py:6: UserWarning: submission/evaluation_mask_1891.tif is a low contrast image\n",
      "  io.imsave(f'submission/evaluation_mask_{id}.tif', mask)\n",
      "/tmp/ipykernel_49602/336198212.py:6: UserWarning: submission/evaluation_mask_1210.tif is a low contrast image\n",
      "  io.imsave(f'submission/evaluation_mask_{id}.tif', mask)\n",
      "/tmp/ipykernel_49602/336198212.py:6: UserWarning: submission/evaluation_mask_1804.tif is a low contrast image\n",
      "  io.imsave(f'submission/evaluation_mask_{id}.tif', mask)\n",
      "/tmp/ipykernel_49602/336198212.py:6: UserWarning: submission/evaluation_mask_518.tif is a low contrast image\n",
      "  io.imsave(f'submission/evaluation_mask_{id}.tif', mask)\n",
      "/tmp/ipykernel_49602/336198212.py:6: UserWarning: submission/evaluation_mask_1720.tif is a low contrast image\n",
      "  io.imsave(f'submission/evaluation_mask_{id}.tif', mask)\n",
      "/tmp/ipykernel_49602/336198212.py:6: UserWarning: submission/evaluation_mask_636.tif is a low contrast image\n",
      "  io.imsave(f'submission/evaluation_mask_{id}.tif', mask)\n",
      "/tmp/ipykernel_49602/336198212.py:6: UserWarning: submission/evaluation_mask_1794.tif is a low contrast image\n",
      "  io.imsave(f'submission/evaluation_mask_{id}.tif', mask)\n",
      "/tmp/ipykernel_49602/336198212.py:6: UserWarning: submission/evaluation_mask_1662.tif is a low contrast image\n",
      "  io.imsave(f'submission/evaluation_mask_{id}.tif', mask)\n",
      "/tmp/ipykernel_49602/336198212.py:6: UserWarning: submission/evaluation_mask_28.tif is a low contrast image\n",
      "  io.imsave(f'submission/evaluation_mask_{id}.tif', mask)\n",
      "/tmp/ipykernel_49602/336198212.py:6: UserWarning: submission/evaluation_mask_658.tif is a low contrast image\n",
      "  io.imsave(f'submission/evaluation_mask_{id}.tif', mask)\n",
      "/tmp/ipykernel_49602/336198212.py:6: UserWarning: submission/evaluation_mask_1438.tif is a low contrast image\n",
      "  io.imsave(f'submission/evaluation_mask_{id}.tif', mask)\n",
      "/tmp/ipykernel_49602/336198212.py:6: UserWarning: submission/evaluation_mask_1060.tif is a low contrast image\n",
      "  io.imsave(f'submission/evaluation_mask_{id}.tif', mask)\n",
      "/tmp/ipykernel_49602/336198212.py:6: UserWarning: submission/evaluation_mask_1300.tif is a low contrast image\n",
      "  io.imsave(f'submission/evaluation_mask_{id}.tif', mask)\n",
      "/tmp/ipykernel_49602/336198212.py:6: UserWarning: submission/evaluation_mask_1841.tif is a low contrast image\n",
      "  io.imsave(f'submission/evaluation_mask_{id}.tif', mask)\n",
      "/tmp/ipykernel_49602/336198212.py:6: UserWarning: submission/evaluation_mask_515.tif is a low contrast image\n",
      "  io.imsave(f'submission/evaluation_mask_{id}.tif', mask)\n",
      "/tmp/ipykernel_49602/336198212.py:6: UserWarning: submission/evaluation_mask_341.tif is a low contrast image\n",
      "  io.imsave(f'submission/evaluation_mask_{id}.tif', mask)\n",
      "/tmp/ipykernel_49602/336198212.py:6: UserWarning: submission/evaluation_mask_1934.tif is a low contrast image\n",
      "  io.imsave(f'submission/evaluation_mask_{id}.tif', mask)\n",
      "/tmp/ipykernel_49602/336198212.py:6: UserWarning: submission/evaluation_mask_1528.tif is a low contrast image\n",
      "  io.imsave(f'submission/evaluation_mask_{id}.tif', mask)\n",
      "/tmp/ipykernel_49602/336198212.py:6: UserWarning: submission/evaluation_mask_640.tif is a low contrast image\n",
      "  io.imsave(f'submission/evaluation_mask_{id}.tif', mask)\n",
      " 44%|████▎     | 901/2066 [00:02<00:03, 329.89it/s]/tmp/ipykernel_49602/336198212.py:6: UserWarning: submission/evaluation_mask_771.tif is a low contrast image\n",
      "  io.imsave(f'submission/evaluation_mask_{id}.tif', mask)\n",
      "/tmp/ipykernel_49602/336198212.py:6: UserWarning: submission/evaluation_mask_428.tif is a low contrast image\n",
      "  io.imsave(f'submission/evaluation_mask_{id}.tif', mask)\n",
      "/tmp/ipykernel_49602/336198212.py:6: UserWarning: submission/evaluation_mask_2021.tif is a low contrast image\n",
      "  io.imsave(f'submission/evaluation_mask_{id}.tif', mask)\n",
      "/tmp/ipykernel_49602/336198212.py:6: UserWarning: submission/evaluation_mask_1736.tif is a low contrast image\n",
      "  io.imsave(f'submission/evaluation_mask_{id}.tif', mask)\n",
      "/tmp/ipykernel_49602/336198212.py:6: UserWarning: submission/evaluation_mask_960.tif is a low contrast image\n",
      "  io.imsave(f'submission/evaluation_mask_{id}.tif', mask)\n",
      "/tmp/ipykernel_49602/336198212.py:6: UserWarning: submission/evaluation_mask_695.tif is a low contrast image\n",
      "  io.imsave(f'submission/evaluation_mask_{id}.tif', mask)\n",
      "/tmp/ipykernel_49602/336198212.py:6: UserWarning: submission/evaluation_mask_463.tif is a low contrast image\n",
      "  io.imsave(f'submission/evaluation_mask_{id}.tif', mask)\n",
      "/tmp/ipykernel_49602/336198212.py:6: UserWarning: submission/evaluation_mask_988.tif is a low contrast image\n",
      "  io.imsave(f'submission/evaluation_mask_{id}.tif', mask)\n",
      "/tmp/ipykernel_49602/336198212.py:6: UserWarning: submission/evaluation_mask_1208.tif is a low contrast image\n",
      "  io.imsave(f'submission/evaluation_mask_{id}.tif', mask)\n",
      "/tmp/ipykernel_49602/336198212.py:6: UserWarning: submission/evaluation_mask_1526.tif is a low contrast image\n",
      "  io.imsave(f'submission/evaluation_mask_{id}.tif', mask)\n",
      "/tmp/ipykernel_49602/336198212.py:6: UserWarning: submission/evaluation_mask_1063.tif is a low contrast image\n",
      "  io.imsave(f'submission/evaluation_mask_{id}.tif', mask)\n",
      "/tmp/ipykernel_49602/336198212.py:6: UserWarning: submission/evaluation_mask_1777.tif is a low contrast image\n",
      "  io.imsave(f'submission/evaluation_mask_{id}.tif', mask)\n",
      "/tmp/ipykernel_49602/336198212.py:6: UserWarning: submission/evaluation_mask_559.tif is a low contrast image\n",
      "  io.imsave(f'submission/evaluation_mask_{id}.tif', mask)\n",
      "/tmp/ipykernel_49602/336198212.py:6: UserWarning: submission/evaluation_mask_1884.tif is a low contrast image\n",
      "  io.imsave(f'submission/evaluation_mask_{id}.tif', mask)\n",
      "/tmp/ipykernel_49602/336198212.py:6: UserWarning: submission/evaluation_mask_1011.tif is a low contrast image\n",
      "  io.imsave(f'submission/evaluation_mask_{id}.tif', mask)\n",
      "/tmp/ipykernel_49602/336198212.py:6: UserWarning: submission/evaluation_mask_1759.tif is a low contrast image\n",
      "  io.imsave(f'submission/evaluation_mask_{id}.tif', mask)\n",
      "/tmp/ipykernel_49602/336198212.py:6: UserWarning: submission/evaluation_mask_722.tif is a low contrast image\n",
      "  io.imsave(f'submission/evaluation_mask_{id}.tif', mask)\n",
      "/tmp/ipykernel_49602/336198212.py:6: UserWarning: submission/evaluation_mask_620.tif is a low contrast image\n",
      "  io.imsave(f'submission/evaluation_mask_{id}.tif', mask)\n",
      "/tmp/ipykernel_49602/336198212.py:6: UserWarning: submission/evaluation_mask_1699.tif is a low contrast image\n",
      "  io.imsave(f'submission/evaluation_mask_{id}.tif', mask)\n",
      "/tmp/ipykernel_49602/336198212.py:6: UserWarning: submission/evaluation_mask_925.tif is a low contrast image\n",
      "  io.imsave(f'submission/evaluation_mask_{id}.tif', mask)\n",
      "/tmp/ipykernel_49602/336198212.py:6: UserWarning: submission/evaluation_mask_1211.tif is a low contrast image\n",
      "  io.imsave(f'submission/evaluation_mask_{id}.tif', mask)\n",
      "/tmp/ipykernel_49602/336198212.py:6: UserWarning: submission/evaluation_mask_1184.tif is a low contrast image\n",
      "  io.imsave(f'submission/evaluation_mask_{id}.tif', mask)\n",
      "/tmp/ipykernel_49602/336198212.py:6: UserWarning: submission/evaluation_mask_1115.tif is a low contrast image\n",
      "  io.imsave(f'submission/evaluation_mask_{id}.tif', mask)\n",
      "/tmp/ipykernel_49602/336198212.py:6: UserWarning: submission/evaluation_mask_963.tif is a low contrast image\n",
      "  io.imsave(f'submission/evaluation_mask_{id}.tif', mask)\n",
      "/tmp/ipykernel_49602/336198212.py:6: UserWarning: submission/evaluation_mask_1268.tif is a low contrast image\n",
      "  io.imsave(f'submission/evaluation_mask_{id}.tif', mask)\n",
      "/tmp/ipykernel_49602/336198212.py:6: UserWarning: submission/evaluation_mask_193.tif is a low contrast image\n",
      "  io.imsave(f'submission/evaluation_mask_{id}.tif', mask)\n",
      "/tmp/ipykernel_49602/336198212.py:6: UserWarning: submission/evaluation_mask_1617.tif is a low contrast image\n",
      "  io.imsave(f'submission/evaluation_mask_{id}.tif', mask)\n",
      "/tmp/ipykernel_49602/336198212.py:6: UserWarning: submission/evaluation_mask_1305.tif is a low contrast image\n",
      "  io.imsave(f'submission/evaluation_mask_{id}.tif', mask)\n",
      "/tmp/ipykernel_49602/336198212.py:6: UserWarning: submission/evaluation_mask_1400.tif is a low contrast image\n",
      "  io.imsave(f'submission/evaluation_mask_{id}.tif', mask)\n",
      "/tmp/ipykernel_49602/336198212.py:6: UserWarning: submission/evaluation_mask_1335.tif is a low contrast image\n",
      "  io.imsave(f'submission/evaluation_mask_{id}.tif', mask)\n",
      "/tmp/ipykernel_49602/336198212.py:6: UserWarning: submission/evaluation_mask_1654.tif is a low contrast image\n",
      "  io.imsave(f'submission/evaluation_mask_{id}.tif', mask)\n",
      "/tmp/ipykernel_49602/336198212.py:6: UserWarning: submission/evaluation_mask_578.tif is a low contrast image\n",
      "  io.imsave(f'submission/evaluation_mask_{id}.tif', mask)\n",
      "/tmp/ipykernel_49602/336198212.py:6: UserWarning: submission/evaluation_mask_43.tif is a low contrast image\n",
      "  io.imsave(f'submission/evaluation_mask_{id}.tif', mask)\n",
      "/tmp/ipykernel_49602/336198212.py:6: UserWarning: submission/evaluation_mask_938.tif is a low contrast image\n",
      "  io.imsave(f'submission/evaluation_mask_{id}.tif', mask)\n",
      " 45%|████▌     | 935/2066 [00:02<00:03, 330.23it/s]/tmp/ipykernel_49602/336198212.py:6: UserWarning: submission/evaluation_mask_163.tif is a low contrast image\n",
      "  io.imsave(f'submission/evaluation_mask_{id}.tif', mask)\n",
      "/tmp/ipykernel_49602/336198212.py:6: UserWarning: submission/evaluation_mask_772.tif is a low contrast image\n",
      "  io.imsave(f'submission/evaluation_mask_{id}.tif', mask)\n",
      "/tmp/ipykernel_49602/336198212.py:6: UserWarning: submission/evaluation_mask_1370.tif is a low contrast image\n",
      "  io.imsave(f'submission/evaluation_mask_{id}.tif', mask)\n",
      "/tmp/ipykernel_49602/336198212.py:6: UserWarning: submission/evaluation_mask_667.tif is a low contrast image\n",
      "  io.imsave(f'submission/evaluation_mask_{id}.tif', mask)\n",
      "/tmp/ipykernel_49602/336198212.py:6: UserWarning: submission/evaluation_mask_1921.tif is a low contrast image\n",
      "  io.imsave(f'submission/evaluation_mask_{id}.tif', mask)\n",
      "/tmp/ipykernel_49602/336198212.py:6: UserWarning: submission/evaluation_mask_2028.tif is a low contrast image\n",
      "  io.imsave(f'submission/evaluation_mask_{id}.tif', mask)\n",
      "/tmp/ipykernel_49602/336198212.py:6: UserWarning: submission/evaluation_mask_82.tif is a low contrast image\n",
      "  io.imsave(f'submission/evaluation_mask_{id}.tif', mask)\n",
      "/tmp/ipykernel_49602/336198212.py:6: UserWarning: submission/evaluation_mask_598.tif is a low contrast image\n",
      "  io.imsave(f'submission/evaluation_mask_{id}.tif', mask)\n",
      "/tmp/ipykernel_49602/336198212.py:6: UserWarning: submission/evaluation_mask_157.tif is a low contrast image\n",
      "  io.imsave(f'submission/evaluation_mask_{id}.tif', mask)\n",
      "/tmp/ipykernel_49602/336198212.py:6: UserWarning: submission/evaluation_mask_734.tif is a low contrast image\n",
      "  io.imsave(f'submission/evaluation_mask_{id}.tif', mask)\n",
      "/tmp/ipykernel_49602/336198212.py:6: UserWarning: submission/evaluation_mask_1815.tif is a low contrast image\n",
      "  io.imsave(f'submission/evaluation_mask_{id}.tif', mask)\n",
      "/tmp/ipykernel_49602/336198212.py:6: UserWarning: submission/evaluation_mask_744.tif is a low contrast image\n",
      "  io.imsave(f'submission/evaluation_mask_{id}.tif', mask)\n",
      "/tmp/ipykernel_49602/336198212.py:6: UserWarning: submission/evaluation_mask_1303.tif is a low contrast image\n",
      "  io.imsave(f'submission/evaluation_mask_{id}.tif', mask)\n",
      "/tmp/ipykernel_49602/336198212.py:6: UserWarning: submission/evaluation_mask_752.tif is a low contrast image\n",
      "  io.imsave(f'submission/evaluation_mask_{id}.tif', mask)\n",
      "/tmp/ipykernel_49602/336198212.py:6: UserWarning: submission/evaluation_mask_67.tif is a low contrast image\n",
      "  io.imsave(f'submission/evaluation_mask_{id}.tif', mask)\n",
      "/tmp/ipykernel_49602/336198212.py:6: UserWarning: submission/evaluation_mask_979.tif is a low contrast image\n",
      "  io.imsave(f'submission/evaluation_mask_{id}.tif', mask)\n",
      "/tmp/ipykernel_49602/336198212.py:6: UserWarning: submission/evaluation_mask_1456.tif is a low contrast image\n",
      "  io.imsave(f'submission/evaluation_mask_{id}.tif', mask)\n",
      "/tmp/ipykernel_49602/336198212.py:6: UserWarning: submission/evaluation_mask_1485.tif is a low contrast image\n",
      "  io.imsave(f'submission/evaluation_mask_{id}.tif', mask)\n",
      "/tmp/ipykernel_49602/336198212.py:6: UserWarning: submission/evaluation_mask_967.tif is a low contrast image\n",
      "  io.imsave(f'submission/evaluation_mask_{id}.tif', mask)\n",
      "/tmp/ipykernel_49602/336198212.py:6: UserWarning: submission/evaluation_mask_564.tif is a low contrast image\n",
      "  io.imsave(f'submission/evaluation_mask_{id}.tif', mask)\n",
      "/tmp/ipykernel_49602/336198212.py:6: UserWarning: submission/evaluation_mask_653.tif is a low contrast image\n",
      "  io.imsave(f'submission/evaluation_mask_{id}.tif', mask)\n",
      "/tmp/ipykernel_49602/336198212.py:6: UserWarning: submission/evaluation_mask_1502.tif is a low contrast image\n",
      "  io.imsave(f'submission/evaluation_mask_{id}.tif', mask)\n",
      "/tmp/ipykernel_49602/336198212.py:6: UserWarning: submission/evaluation_mask_348.tif is a low contrast image\n",
      "  io.imsave(f'submission/evaluation_mask_{id}.tif', mask)\n",
      "/tmp/ipykernel_49602/336198212.py:6: UserWarning: submission/evaluation_mask_627.tif is a low contrast image\n",
      "  io.imsave(f'submission/evaluation_mask_{id}.tif', mask)\n",
      "/tmp/ipykernel_49602/336198212.py:6: UserWarning: submission/evaluation_mask_455.tif is a low contrast image\n",
      "  io.imsave(f'submission/evaluation_mask_{id}.tif', mask)\n",
      "/tmp/ipykernel_49602/336198212.py:6: UserWarning: submission/evaluation_mask_1797.tif is a low contrast image\n",
      "  io.imsave(f'submission/evaluation_mask_{id}.tif', mask)\n",
      "/tmp/ipykernel_49602/336198212.py:6: UserWarning: submission/evaluation_mask_1628.tif is a low contrast image\n",
      "  io.imsave(f'submission/evaluation_mask_{id}.tif', mask)\n",
      "/tmp/ipykernel_49602/336198212.py:6: UserWarning: submission/evaluation_mask_632.tif is a low contrast image\n",
      "  io.imsave(f'submission/evaluation_mask_{id}.tif', mask)\n",
      "/tmp/ipykernel_49602/336198212.py:6: UserWarning: submission/evaluation_mask_1487.tif is a low contrast image\n",
      "  io.imsave(f'submission/evaluation_mask_{id}.tif', mask)\n",
      "/tmp/ipykernel_49602/336198212.py:6: UserWarning: submission/evaluation_mask_1680.tif is a low contrast image\n",
      "  io.imsave(f'submission/evaluation_mask_{id}.tif', mask)\n",
      "/tmp/ipykernel_49602/336198212.py:6: UserWarning: submission/evaluation_mask_1412.tif is a low contrast image\n",
      "  io.imsave(f'submission/evaluation_mask_{id}.tif', mask)\n",
      "/tmp/ipykernel_49602/336198212.py:6: UserWarning: submission/evaluation_mask_1511.tif is a low contrast image\n",
      "  io.imsave(f'submission/evaluation_mask_{id}.tif', mask)\n",
      "/tmp/ipykernel_49602/336198212.py:6: UserWarning: submission/evaluation_mask_1449.tif is a low contrast image\n",
      "  io.imsave(f'submission/evaluation_mask_{id}.tif', mask)\n",
      "/tmp/ipykernel_49602/336198212.py:6: UserWarning: submission/evaluation_mask_574.tif is a low contrast image\n",
      "  io.imsave(f'submission/evaluation_mask_{id}.tif', mask)\n",
      " 47%|████▋     | 969/2066 [00:02<00:03, 330.83it/s]/tmp/ipykernel_49602/336198212.py:6: UserWarning: submission/evaluation_mask_753.tif is a low contrast image\n",
      "  io.imsave(f'submission/evaluation_mask_{id}.tif', mask)\n",
      "/tmp/ipykernel_49602/336198212.py:6: UserWarning: submission/evaluation_mask_551.tif is a low contrast image\n",
      "  io.imsave(f'submission/evaluation_mask_{id}.tif', mask)\n",
      "/tmp/ipykernel_49602/336198212.py:6: UserWarning: submission/evaluation_mask_707.tif is a low contrast image\n",
      "  io.imsave(f'submission/evaluation_mask_{id}.tif', mask)\n",
      "/tmp/ipykernel_49602/336198212.py:6: UserWarning: submission/evaluation_mask_407.tif is a low contrast image\n",
      "  io.imsave(f'submission/evaluation_mask_{id}.tif', mask)\n",
      "/tmp/ipykernel_49602/336198212.py:6: UserWarning: submission/evaluation_mask_381.tif is a low contrast image\n",
      "  io.imsave(f'submission/evaluation_mask_{id}.tif', mask)\n",
      "/tmp/ipykernel_49602/336198212.py:6: UserWarning: submission/evaluation_mask_1658.tif is a low contrast image\n",
      "  io.imsave(f'submission/evaluation_mask_{id}.tif', mask)\n",
      "/tmp/ipykernel_49602/336198212.py:6: UserWarning: submission/evaluation_mask_485.tif is a low contrast image\n",
      "  io.imsave(f'submission/evaluation_mask_{id}.tif', mask)\n",
      "/tmp/ipykernel_49602/336198212.py:6: UserWarning: submission/evaluation_mask_583.tif is a low contrast image\n",
      "  io.imsave(f'submission/evaluation_mask_{id}.tif', mask)\n",
      "/tmp/ipykernel_49602/336198212.py:6: UserWarning: submission/evaluation_mask_1245.tif is a low contrast image\n",
      "  io.imsave(f'submission/evaluation_mask_{id}.tif', mask)\n",
      "/tmp/ipykernel_49602/336198212.py:6: UserWarning: submission/evaluation_mask_1030.tif is a low contrast image\n",
      "  io.imsave(f'submission/evaluation_mask_{id}.tif', mask)\n",
      "/tmp/ipykernel_49602/336198212.py:6: UserWarning: submission/evaluation_mask_651.tif is a low contrast image\n",
      "  io.imsave(f'submission/evaluation_mask_{id}.tif', mask)\n",
      "/tmp/ipykernel_49602/336198212.py:6: UserWarning: submission/evaluation_mask_1718.tif is a low contrast image\n",
      "  io.imsave(f'submission/evaluation_mask_{id}.tif', mask)\n",
      "/tmp/ipykernel_49602/336198212.py:6: UserWarning: submission/evaluation_mask_86.tif is a low contrast image\n",
      "  io.imsave(f'submission/evaluation_mask_{id}.tif', mask)\n",
      "/tmp/ipykernel_49602/336198212.py:6: UserWarning: submission/evaluation_mask_915.tif is a low contrast image\n",
      "  io.imsave(f'submission/evaluation_mask_{id}.tif', mask)\n",
      "/tmp/ipykernel_49602/336198212.py:6: UserWarning: submission/evaluation_mask_1560.tif is a low contrast image\n",
      "  io.imsave(f'submission/evaluation_mask_{id}.tif', mask)\n",
      "/tmp/ipykernel_49602/336198212.py:6: UserWarning: submission/evaluation_mask_1866.tif is a low contrast image\n",
      "  io.imsave(f'submission/evaluation_mask_{id}.tif', mask)\n",
      "/tmp/ipykernel_49602/336198212.py:6: UserWarning: submission/evaluation_mask_646.tif is a low contrast image\n",
      "  io.imsave(f'submission/evaluation_mask_{id}.tif', mask)\n",
      "/tmp/ipykernel_49602/336198212.py:6: UserWarning: submission/evaluation_mask_1015.tif is a low contrast image\n",
      "  io.imsave(f'submission/evaluation_mask_{id}.tif', mask)\n",
      "/tmp/ipykernel_49602/336198212.py:6: UserWarning: submission/evaluation_mask_352.tif is a low contrast image\n",
      "  io.imsave(f'submission/evaluation_mask_{id}.tif', mask)\n",
      "/tmp/ipykernel_49602/336198212.py:6: UserWarning: submission/evaluation_mask_966.tif is a low contrast image\n",
      "  io.imsave(f'submission/evaluation_mask_{id}.tif', mask)\n",
      "/tmp/ipykernel_49602/336198212.py:6: UserWarning: submission/evaluation_mask_2041.tif is a low contrast image\n",
      "  io.imsave(f'submission/evaluation_mask_{id}.tif', mask)\n",
      "/tmp/ipykernel_49602/336198212.py:6: UserWarning: submission/evaluation_mask_1367.tif is a low contrast image\n",
      "  io.imsave(f'submission/evaluation_mask_{id}.tif', mask)\n",
      "/tmp/ipykernel_49602/336198212.py:6: UserWarning: submission/evaluation_mask_1423.tif is a low contrast image\n",
      "  io.imsave(f'submission/evaluation_mask_{id}.tif', mask)\n",
      "/tmp/ipykernel_49602/336198212.py:6: UserWarning: submission/evaluation_mask_1738.tif is a low contrast image\n",
      "  io.imsave(f'submission/evaluation_mask_{id}.tif', mask)\n",
      "/tmp/ipykernel_49602/336198212.py:6: UserWarning: submission/evaluation_mask_282.tif is a low contrast image\n",
      "  io.imsave(f'submission/evaluation_mask_{id}.tif', mask)\n",
      "/tmp/ipykernel_49602/336198212.py:6: UserWarning: submission/evaluation_mask_647.tif is a low contrast image\n",
      "  io.imsave(f'submission/evaluation_mask_{id}.tif', mask)\n",
      "/tmp/ipykernel_49602/336198212.py:6: UserWarning: submission/evaluation_mask_1657.tif is a low contrast image\n",
      "  io.imsave(f'submission/evaluation_mask_{id}.tif', mask)\n",
      "/tmp/ipykernel_49602/336198212.py:6: UserWarning: submission/evaluation_mask_153.tif is a low contrast image\n",
      "  io.imsave(f'submission/evaluation_mask_{id}.tif', mask)\n",
      "/tmp/ipykernel_49602/336198212.py:6: UserWarning: submission/evaluation_mask_2060.tif is a low contrast image\n",
      "  io.imsave(f'submission/evaluation_mask_{id}.tif', mask)\n",
      "/tmp/ipykernel_49602/336198212.py:6: UserWarning: submission/evaluation_mask_609.tif is a low contrast image\n",
      "  io.imsave(f'submission/evaluation_mask_{id}.tif', mask)\n",
      "/tmp/ipykernel_49602/336198212.py:6: UserWarning: submission/evaluation_mask_946.tif is a low contrast image\n",
      "  io.imsave(f'submission/evaluation_mask_{id}.tif', mask)\n",
      "/tmp/ipykernel_49602/336198212.py:6: UserWarning: submission/evaluation_mask_465.tif is a low contrast image\n",
      "  io.imsave(f'submission/evaluation_mask_{id}.tif', mask)\n",
      "/tmp/ipykernel_49602/336198212.py:6: UserWarning: submission/evaluation_mask_1496.tif is a low contrast image\n",
      "  io.imsave(f'submission/evaluation_mask_{id}.tif', mask)\n",
      "/tmp/ipykernel_49602/336198212.py:6: UserWarning: submission/evaluation_mask_1206.tif is a low contrast image\n",
      "  io.imsave(f'submission/evaluation_mask_{id}.tif', mask)\n",
      " 49%|████▊     | 1003/2066 [00:03<00:03, 326.56it/s]/tmp/ipykernel_49602/336198212.py:6: UserWarning: submission/evaluation_mask_1890.tif is a low contrast image\n",
      "  io.imsave(f'submission/evaluation_mask_{id}.tif', mask)\n",
      "/tmp/ipykernel_49602/336198212.py:6: UserWarning: submission/evaluation_mask_1233.tif is a low contrast image\n",
      "  io.imsave(f'submission/evaluation_mask_{id}.tif', mask)\n",
      "/tmp/ipykernel_49602/336198212.py:6: UserWarning: submission/evaluation_mask_1641.tif is a low contrast image\n",
      "  io.imsave(f'submission/evaluation_mask_{id}.tif', mask)\n",
      "/tmp/ipykernel_49602/336198212.py:6: UserWarning: submission/evaluation_mask_459.tif is a low contrast image\n",
      "  io.imsave(f'submission/evaluation_mask_{id}.tif', mask)\n",
      "/tmp/ipykernel_49602/336198212.py:6: UserWarning: submission/evaluation_mask_1978.tif is a low contrast image\n",
      "  io.imsave(f'submission/evaluation_mask_{id}.tif', mask)\n",
      "/tmp/ipykernel_49602/336198212.py:6: UserWarning: submission/evaluation_mask_1344.tif is a low contrast image\n",
      "  io.imsave(f'submission/evaluation_mask_{id}.tif', mask)\n",
      "/tmp/ipykernel_49602/336198212.py:6: UserWarning: submission/evaluation_mask_1150.tif is a low contrast image\n",
      "  io.imsave(f'submission/evaluation_mask_{id}.tif', mask)\n",
      "/tmp/ipykernel_49602/336198212.py:6: UserWarning: submission/evaluation_mask_1552.tif is a low contrast image\n",
      "  io.imsave(f'submission/evaluation_mask_{id}.tif', mask)\n",
      "/tmp/ipykernel_49602/336198212.py:6: UserWarning: submission/evaluation_mask_536.tif is a low contrast image\n",
      "  io.imsave(f'submission/evaluation_mask_{id}.tif', mask)\n",
      "/tmp/ipykernel_49602/336198212.py:6: UserWarning: submission/evaluation_mask_1632.tif is a low contrast image\n",
      "  io.imsave(f'submission/evaluation_mask_{id}.tif', mask)\n",
      "/tmp/ipykernel_49602/336198212.py:6: UserWarning: submission/evaluation_mask_1391.tif is a low contrast image\n",
      "  io.imsave(f'submission/evaluation_mask_{id}.tif', mask)\n",
      "/tmp/ipykernel_49602/336198212.py:6: UserWarning: submission/evaluation_mask_1875.tif is a low contrast image\n",
      "  io.imsave(f'submission/evaluation_mask_{id}.tif', mask)\n",
      "/tmp/ipykernel_49602/336198212.py:6: UserWarning: submission/evaluation_mask_998.tif is a low contrast image\n",
      "  io.imsave(f'submission/evaluation_mask_{id}.tif', mask)\n",
      "/tmp/ipykernel_49602/336198212.py:6: UserWarning: submission/evaluation_mask_886.tif is a low contrast image\n",
      "  io.imsave(f'submission/evaluation_mask_{id}.tif', mask)\n",
      "/tmp/ipykernel_49602/336198212.py:6: UserWarning: submission/evaluation_mask_716.tif is a low contrast image\n",
      "  io.imsave(f'submission/evaluation_mask_{id}.tif', mask)\n",
      "/tmp/ipykernel_49602/336198212.py:6: UserWarning: submission/evaluation_mask_745.tif is a low contrast image\n",
      "  io.imsave(f'submission/evaluation_mask_{id}.tif', mask)\n",
      "/tmp/ipykernel_49602/336198212.py:6: UserWarning: submission/evaluation_mask_928.tif is a low contrast image\n",
      "  io.imsave(f'submission/evaluation_mask_{id}.tif', mask)\n",
      "/tmp/ipykernel_49602/336198212.py:6: UserWarning: submission/evaluation_mask_1567.tif is a low contrast image\n",
      "  io.imsave(f'submission/evaluation_mask_{id}.tif', mask)\n",
      "/tmp/ipykernel_49602/336198212.py:6: UserWarning: submission/evaluation_mask_72.tif is a low contrast image\n",
      "  io.imsave(f'submission/evaluation_mask_{id}.tif', mask)\n",
      "/tmp/ipykernel_49602/336198212.py:6: UserWarning: submission/evaluation_mask_466.tif is a low contrast image\n",
      "  io.imsave(f'submission/evaluation_mask_{id}.tif', mask)\n",
      "/tmp/ipykernel_49602/336198212.py:6: UserWarning: submission/evaluation_mask_1809.tif is a low contrast image\n",
      "  io.imsave(f'submission/evaluation_mask_{id}.tif', mask)\n",
      "/tmp/ipykernel_49602/336198212.py:6: UserWarning: submission/evaluation_mask_1633.tif is a low contrast image\n",
      "  io.imsave(f'submission/evaluation_mask_{id}.tif', mask)\n",
      "/tmp/ipykernel_49602/336198212.py:6: UserWarning: submission/evaluation_mask_1950.tif is a low contrast image\n",
      "  io.imsave(f'submission/evaluation_mask_{id}.tif', mask)\n",
      "/tmp/ipykernel_49602/336198212.py:6: UserWarning: submission/evaluation_mask_906.tif is a low contrast image\n",
      "  io.imsave(f'submission/evaluation_mask_{id}.tif', mask)\n",
      "/tmp/ipykernel_49602/336198212.py:6: UserWarning: submission/evaluation_mask_300.tif is a low contrast image\n",
      "  io.imsave(f'submission/evaluation_mask_{id}.tif', mask)\n",
      "/tmp/ipykernel_49602/336198212.py:6: UserWarning: submission/evaluation_mask_1577.tif is a low contrast image\n",
      "  io.imsave(f'submission/evaluation_mask_{id}.tif', mask)\n",
      "/tmp/ipykernel_49602/336198212.py:6: UserWarning: submission/evaluation_mask_1079.tif is a low contrast image\n",
      "  io.imsave(f'submission/evaluation_mask_{id}.tif', mask)\n",
      "/tmp/ipykernel_49602/336198212.py:6: UserWarning: submission/evaluation_mask_125.tif is a low contrast image\n",
      "  io.imsave(f'submission/evaluation_mask_{id}.tif', mask)\n",
      "/tmp/ipykernel_49602/336198212.py:6: UserWarning: submission/evaluation_mask_226.tif is a low contrast image\n",
      "  io.imsave(f'submission/evaluation_mask_{id}.tif', mask)\n",
      "/tmp/ipykernel_49602/336198212.py:6: UserWarning: submission/evaluation_mask_1997.tif is a low contrast image\n",
      "  io.imsave(f'submission/evaluation_mask_{id}.tif', mask)\n",
      "/tmp/ipykernel_49602/336198212.py:6: UserWarning: submission/evaluation_mask_138.tif is a low contrast image\n",
      "  io.imsave(f'submission/evaluation_mask_{id}.tif', mask)\n",
      "/tmp/ipykernel_49602/336198212.py:6: UserWarning: submission/evaluation_mask_550.tif is a low contrast image\n",
      "  io.imsave(f'submission/evaluation_mask_{id}.tif', mask)\n",
      "/tmp/ipykernel_49602/336198212.py:6: UserWarning: submission/evaluation_mask_1450.tif is a low contrast image\n",
      "  io.imsave(f'submission/evaluation_mask_{id}.tif', mask)\n",
      " 50%|█████     | 1036/2066 [00:03<00:03, 326.00it/s]/tmp/ipykernel_49602/336198212.py:6: UserWarning: submission/evaluation_mask_789.tif is a low contrast image\n",
      "  io.imsave(f'submission/evaluation_mask_{id}.tif', mask)\n",
      "/tmp/ipykernel_49602/336198212.py:6: UserWarning: submission/evaluation_mask_426.tif is a low contrast image\n",
      "  io.imsave(f'submission/evaluation_mask_{id}.tif', mask)\n",
      "/tmp/ipykernel_49602/336198212.py:6: UserWarning: submission/evaluation_mask_864.tif is a low contrast image\n",
      "  io.imsave(f'submission/evaluation_mask_{id}.tif', mask)\n",
      "/tmp/ipykernel_49602/336198212.py:6: UserWarning: submission/evaluation_mask_570.tif is a low contrast image\n",
      "  io.imsave(f'submission/evaluation_mask_{id}.tif', mask)\n",
      "/tmp/ipykernel_49602/336198212.py:6: UserWarning: submission/evaluation_mask_274.tif is a low contrast image\n",
      "  io.imsave(f'submission/evaluation_mask_{id}.tif', mask)\n",
      "/tmp/ipykernel_49602/336198212.py:6: UserWarning: submission/evaluation_mask_1112.tif is a low contrast image\n",
      "  io.imsave(f'submission/evaluation_mask_{id}.tif', mask)\n",
      "/tmp/ipykernel_49602/336198212.py:6: UserWarning: submission/evaluation_mask_2013.tif is a low contrast image\n",
      "  io.imsave(f'submission/evaluation_mask_{id}.tif', mask)\n",
      "/tmp/ipykernel_49602/336198212.py:6: UserWarning: submission/evaluation_mask_897.tif is a low contrast image\n",
      "  io.imsave(f'submission/evaluation_mask_{id}.tif', mask)\n",
      "/tmp/ipykernel_49602/336198212.py:6: UserWarning: submission/evaluation_mask_1294.tif is a low contrast image\n",
      "  io.imsave(f'submission/evaluation_mask_{id}.tif', mask)\n",
      "/tmp/ipykernel_49602/336198212.py:6: UserWarning: submission/evaluation_mask_957.tif is a low contrast image\n",
      "  io.imsave(f'submission/evaluation_mask_{id}.tif', mask)\n",
      "/tmp/ipykernel_49602/336198212.py:6: UserWarning: submission/evaluation_mask_1166.tif is a low contrast image\n",
      "  io.imsave(f'submission/evaluation_mask_{id}.tif', mask)\n",
      "/tmp/ipykernel_49602/336198212.py:6: UserWarning: submission/evaluation_mask_1521.tif is a low contrast image\n",
      "  io.imsave(f'submission/evaluation_mask_{id}.tif', mask)\n",
      "/tmp/ipykernel_49602/336198212.py:6: UserWarning: submission/evaluation_mask_1093.tif is a low contrast image\n",
      "  io.imsave(f'submission/evaluation_mask_{id}.tif', mask)\n",
      "/tmp/ipykernel_49602/336198212.py:6: UserWarning: submission/evaluation_mask_943.tif is a low contrast image\n",
      "  io.imsave(f'submission/evaluation_mask_{id}.tif', mask)\n",
      "/tmp/ipykernel_49602/336198212.py:6: UserWarning: submission/evaluation_mask_1022.tif is a low contrast image\n",
      "  io.imsave(f'submission/evaluation_mask_{id}.tif', mask)\n",
      "/tmp/ipykernel_49602/336198212.py:6: UserWarning: submission/evaluation_mask_271.tif is a low contrast image\n",
      "  io.imsave(f'submission/evaluation_mask_{id}.tif', mask)\n",
      "/tmp/ipykernel_49602/336198212.py:6: UserWarning: submission/evaluation_mask_683.tif is a low contrast image\n",
      "  io.imsave(f'submission/evaluation_mask_{id}.tif', mask)\n",
      "/tmp/ipykernel_49602/336198212.py:6: UserWarning: submission/evaluation_mask_1803.tif is a low contrast image\n",
      "  io.imsave(f'submission/evaluation_mask_{id}.tif', mask)\n",
      "/tmp/ipykernel_49602/336198212.py:6: UserWarning: submission/evaluation_mask_1125.tif is a low contrast image\n",
      "  io.imsave(f'submission/evaluation_mask_{id}.tif', mask)\n",
      "/tmp/ipykernel_49602/336198212.py:6: UserWarning: submission/evaluation_mask_389.tif is a low contrast image\n",
      "  io.imsave(f'submission/evaluation_mask_{id}.tif', mask)\n",
      "/tmp/ipykernel_49602/336198212.py:6: UserWarning: submission/evaluation_mask_1857.tif is a low contrast image\n",
      "  io.imsave(f'submission/evaluation_mask_{id}.tif', mask)\n",
      "/tmp/ipykernel_49602/336198212.py:6: UserWarning: submission/evaluation_mask_1109.tif is a low contrast image\n",
      "  io.imsave(f'submission/evaluation_mask_{id}.tif', mask)\n",
      "/tmp/ipykernel_49602/336198212.py:6: UserWarning: submission/evaluation_mask_1428.tif is a low contrast image\n",
      "  io.imsave(f'submission/evaluation_mask_{id}.tif', mask)\n",
      "/tmp/ipykernel_49602/336198212.py:6: UserWarning: submission/evaluation_mask_189.tif is a low contrast image\n",
      "  io.imsave(f'submission/evaluation_mask_{id}.tif', mask)\n",
      "/tmp/ipykernel_49602/336198212.py:6: UserWarning: submission/evaluation_mask_566.tif is a low contrast image\n",
      "  io.imsave(f'submission/evaluation_mask_{id}.tif', mask)\n",
      "/tmp/ipykernel_49602/336198212.py:6: UserWarning: submission/evaluation_mask_2014.tif is a low contrast image\n",
      "  io.imsave(f'submission/evaluation_mask_{id}.tif', mask)\n",
      "/tmp/ipykernel_49602/336198212.py:6: UserWarning: submission/evaluation_mask_1831.tif is a low contrast image\n",
      "  io.imsave(f'submission/evaluation_mask_{id}.tif', mask)\n",
      "/tmp/ipykernel_49602/336198212.py:6: UserWarning: submission/evaluation_mask_1532.tif is a low contrast image\n",
      "  io.imsave(f'submission/evaluation_mask_{id}.tif', mask)\n",
      "/tmp/ipykernel_49602/336198212.py:6: UserWarning: submission/evaluation_mask_755.tif is a low contrast image\n",
      "  io.imsave(f'submission/evaluation_mask_{id}.tif', mask)\n",
      "/tmp/ipykernel_49602/336198212.py:6: UserWarning: submission/evaluation_mask_354.tif is a low contrast image\n",
      "  io.imsave(f'submission/evaluation_mask_{id}.tif', mask)\n",
      "/tmp/ipykernel_49602/336198212.py:6: UserWarning: submission/evaluation_mask_1878.tif is a low contrast image\n",
      "  io.imsave(f'submission/evaluation_mask_{id}.tif', mask)\n",
      "/tmp/ipykernel_49602/336198212.py:6: UserWarning: submission/evaluation_mask_228.tif is a low contrast image\n",
      "  io.imsave(f'submission/evaluation_mask_{id}.tif', mask)\n",
      "/tmp/ipykernel_49602/336198212.py:6: UserWarning: submission/evaluation_mask_506.tif is a low contrast image\n",
      "  io.imsave(f'submission/evaluation_mask_{id}.tif', mask)\n",
      " 52%|█████▏    | 1069/2066 [00:03<00:03, 324.48it/s]/tmp/ipykernel_49602/336198212.py:6: UserWarning: submission/evaluation_mask_1461.tif is a low contrast image\n",
      "  io.imsave(f'submission/evaluation_mask_{id}.tif', mask)\n",
      "/tmp/ipykernel_49602/336198212.py:6: UserWarning: submission/evaluation_mask_35.tif is a low contrast image\n",
      "  io.imsave(f'submission/evaluation_mask_{id}.tif', mask)\n",
      "/tmp/ipykernel_49602/336198212.py:6: UserWarning: submission/evaluation_mask_1483.tif is a low contrast image\n",
      "  io.imsave(f'submission/evaluation_mask_{id}.tif', mask)\n",
      "/tmp/ipykernel_49602/336198212.py:6: UserWarning: submission/evaluation_mask_603.tif is a low contrast image\n",
      "  io.imsave(f'submission/evaluation_mask_{id}.tif', mask)\n",
      "/tmp/ipykernel_49602/336198212.py:6: UserWarning: submission/evaluation_mask_188.tif is a low contrast image\n",
      "  io.imsave(f'submission/evaluation_mask_{id}.tif', mask)\n",
      "/tmp/ipykernel_49602/336198212.py:6: UserWarning: submission/evaluation_mask_1047.tif is a low contrast image\n",
      "  io.imsave(f'submission/evaluation_mask_{id}.tif', mask)\n",
      "/tmp/ipykernel_49602/336198212.py:6: UserWarning: submission/evaluation_mask_1378.tif is a low contrast image\n",
      "  io.imsave(f'submission/evaluation_mask_{id}.tif', mask)\n",
      "/tmp/ipykernel_49602/336198212.py:6: UserWarning: submission/evaluation_mask_1121.tif is a low contrast image\n",
      "  io.imsave(f'submission/evaluation_mask_{id}.tif', mask)\n",
      "/tmp/ipykernel_49602/336198212.py:6: UserWarning: submission/evaluation_mask_838.tif is a low contrast image\n",
      "  io.imsave(f'submission/evaluation_mask_{id}.tif', mask)\n",
      "/tmp/ipykernel_49602/336198212.py:6: UserWarning: submission/evaluation_mask_836.tif is a low contrast image\n",
      "  io.imsave(f'submission/evaluation_mask_{id}.tif', mask)\n",
      "/tmp/ipykernel_49602/336198212.py:6: UserWarning: submission/evaluation_mask_435.tif is a low contrast image\n",
      "  io.imsave(f'submission/evaluation_mask_{id}.tif', mask)\n",
      "/tmp/ipykernel_49602/336198212.py:6: UserWarning: submission/evaluation_mask_1723.tif is a low contrast image\n",
      "  io.imsave(f'submission/evaluation_mask_{id}.tif', mask)\n",
      "/tmp/ipykernel_49602/336198212.py:6: UserWarning: submission/evaluation_mask_1983.tif is a low contrast image\n",
      "  io.imsave(f'submission/evaluation_mask_{id}.tif', mask)\n",
      "/tmp/ipykernel_49602/336198212.py:6: UserWarning: submission/evaluation_mask_1806.tif is a low contrast image\n",
      "  io.imsave(f'submission/evaluation_mask_{id}.tif', mask)\n",
      "/tmp/ipykernel_49602/336198212.py:6: UserWarning: submission/evaluation_mask_1395.tif is a low contrast image\n",
      "  io.imsave(f'submission/evaluation_mask_{id}.tif', mask)\n",
      "/tmp/ipykernel_49602/336198212.py:6: UserWarning: submission/evaluation_mask_1732.tif is a low contrast image\n",
      "  io.imsave(f'submission/evaluation_mask_{id}.tif', mask)\n",
      "/tmp/ipykernel_49602/336198212.py:6: UserWarning: submission/evaluation_mask_894.tif is a low contrast image\n",
      "  io.imsave(f'submission/evaluation_mask_{id}.tif', mask)\n",
      "/tmp/ipykernel_49602/336198212.py:6: UserWarning: submission/evaluation_mask_1996.tif is a low contrast image\n",
      "  io.imsave(f'submission/evaluation_mask_{id}.tif', mask)\n",
      "/tmp/ipykernel_49602/336198212.py:6: UserWarning: submission/evaluation_mask_1819.tif is a low contrast image\n",
      "  io.imsave(f'submission/evaluation_mask_{id}.tif', mask)\n",
      "/tmp/ipykernel_49602/336198212.py:6: UserWarning: submission/evaluation_mask_962.tif is a low contrast image\n",
      "  io.imsave(f'submission/evaluation_mask_{id}.tif', mask)\n",
      "/tmp/ipykernel_49602/336198212.py:6: UserWarning: submission/evaluation_mask_1267.tif is a low contrast image\n",
      "  io.imsave(f'submission/evaluation_mask_{id}.tif', mask)\n",
      "/tmp/ipykernel_49602/336198212.py:6: UserWarning: submission/evaluation_mask_887.tif is a low contrast image\n",
      "  io.imsave(f'submission/evaluation_mask_{id}.tif', mask)\n",
      "/tmp/ipykernel_49602/336198212.py:6: UserWarning: submission/evaluation_mask_1331.tif is a low contrast image\n",
      "  io.imsave(f'submission/evaluation_mask_{id}.tif', mask)\n",
      "/tmp/ipykernel_49602/336198212.py:6: UserWarning: submission/evaluation_mask_1975.tif is a low contrast image\n",
      "  io.imsave(f'submission/evaluation_mask_{id}.tif', mask)\n",
      "/tmp/ipykernel_49602/336198212.py:6: UserWarning: submission/evaluation_mask_494.tif is a low contrast image\n",
      "  io.imsave(f'submission/evaluation_mask_{id}.tif', mask)\n",
      "/tmp/ipykernel_49602/336198212.py:6: UserWarning: submission/evaluation_mask_439.tif is a low contrast image\n",
      "  io.imsave(f'submission/evaluation_mask_{id}.tif', mask)\n",
      "/tmp/ipykernel_49602/336198212.py:6: UserWarning: submission/evaluation_mask_903.tif is a low contrast image\n",
      "  io.imsave(f'submission/evaluation_mask_{id}.tif', mask)\n",
      "/tmp/ipykernel_49602/336198212.py:6: UserWarning: submission/evaluation_mask_1981.tif is a low contrast image\n",
      "  io.imsave(f'submission/evaluation_mask_{id}.tif', mask)\n",
      "/tmp/ipykernel_49602/336198212.py:6: UserWarning: submission/evaluation_mask_1693.tif is a low contrast image\n",
      "  io.imsave(f'submission/evaluation_mask_{id}.tif', mask)\n",
      "/tmp/ipykernel_49602/336198212.py:6: UserWarning: submission/evaluation_mask_735.tif is a low contrast image\n",
      "  io.imsave(f'submission/evaluation_mask_{id}.tif', mask)\n",
      "/tmp/ipykernel_49602/336198212.py:6: UserWarning: submission/evaluation_mask_1979.tif is a low contrast image\n",
      "  io.imsave(f'submission/evaluation_mask_{id}.tif', mask)\n",
      "/tmp/ipykernel_49602/336198212.py:6: UserWarning: submission/evaluation_mask_917.tif is a low contrast image\n",
      "  io.imsave(f'submission/evaluation_mask_{id}.tif', mask)\n",
      "/tmp/ipykernel_49602/336198212.py:6: UserWarning: submission/evaluation_mask_1010.tif is a low contrast image\n",
      "  io.imsave(f'submission/evaluation_mask_{id}.tif', mask)\n",
      " 53%|█████▎    | 1102/2066 [00:03<00:02, 324.51it/s]/tmp/ipykernel_49602/336198212.py:6: UserWarning: submission/evaluation_mask_1.tif is a low contrast image\n",
      "  io.imsave(f'submission/evaluation_mask_{id}.tif', mask)\n",
      "/tmp/ipykernel_49602/336198212.py:6: UserWarning: submission/evaluation_mask_1098.tif is a low contrast image\n",
      "  io.imsave(f'submission/evaluation_mask_{id}.tif', mask)\n",
      "/tmp/ipykernel_49602/336198212.py:6: UserWarning: submission/evaluation_mask_1357.tif is a low contrast image\n",
      "  io.imsave(f'submission/evaluation_mask_{id}.tif', mask)\n",
      "/tmp/ipykernel_49602/336198212.py:6: UserWarning: submission/evaluation_mask_130.tif is a low contrast image\n",
      "  io.imsave(f'submission/evaluation_mask_{id}.tif', mask)\n",
      "/tmp/ipykernel_49602/336198212.py:6: UserWarning: submission/evaluation_mask_1146.tif is a low contrast image\n",
      "  io.imsave(f'submission/evaluation_mask_{id}.tif', mask)\n",
      "/tmp/ipykernel_49602/336198212.py:6: UserWarning: submission/evaluation_mask_863.tif is a low contrast image\n",
      "  io.imsave(f'submission/evaluation_mask_{id}.tif', mask)\n",
      "/tmp/ipykernel_49602/336198212.py:6: UserWarning: submission/evaluation_mask_2054.tif is a low contrast image\n",
      "  io.imsave(f'submission/evaluation_mask_{id}.tif', mask)\n",
      "/tmp/ipykernel_49602/336198212.py:6: UserWarning: submission/evaluation_mask_304.tif is a low contrast image\n",
      "  io.imsave(f'submission/evaluation_mask_{id}.tif', mask)\n",
      "/tmp/ipykernel_49602/336198212.py:6: UserWarning: submission/evaluation_mask_669.tif is a low contrast image\n",
      "  io.imsave(f'submission/evaluation_mask_{id}.tif', mask)\n",
      "/tmp/ipykernel_49602/336198212.py:6: UserWarning: submission/evaluation_mask_306.tif is a low contrast image\n",
      "  io.imsave(f'submission/evaluation_mask_{id}.tif', mask)\n",
      "/tmp/ipykernel_49602/336198212.py:6: UserWarning: submission/evaluation_mask_492.tif is a low contrast image\n",
      "  io.imsave(f'submission/evaluation_mask_{id}.tif', mask)\n",
      "/tmp/ipykernel_49602/336198212.py:6: UserWarning: submission/evaluation_mask_514.tif is a low contrast image\n",
      "  io.imsave(f'submission/evaluation_mask_{id}.tif', mask)\n",
      "/tmp/ipykernel_49602/336198212.py:6: UserWarning: submission/evaluation_mask_162.tif is a low contrast image\n",
      "  io.imsave(f'submission/evaluation_mask_{id}.tif', mask)\n",
      "/tmp/ipykernel_49602/336198212.py:6: UserWarning: submission/evaluation_mask_641.tif is a low contrast image\n",
      "  io.imsave(f'submission/evaluation_mask_{id}.tif', mask)\n",
      "/tmp/ipykernel_49602/336198212.py:6: UserWarning: submission/evaluation_mask_332.tif is a low contrast image\n",
      "  io.imsave(f'submission/evaluation_mask_{id}.tif', mask)\n",
      "/tmp/ipykernel_49602/336198212.py:6: UserWarning: submission/evaluation_mask_1849.tif is a low contrast image\n",
      "  io.imsave(f'submission/evaluation_mask_{id}.tif', mask)\n",
      "/tmp/ipykernel_49602/336198212.py:6: UserWarning: submission/evaluation_mask_2005.tif is a low contrast image\n",
      "  io.imsave(f'submission/evaluation_mask_{id}.tif', mask)\n",
      "/tmp/ipykernel_49602/336198212.py:6: UserWarning: submission/evaluation_mask_861.tif is a low contrast image\n",
      "  io.imsave(f'submission/evaluation_mask_{id}.tif', mask)\n",
      "/tmp/ipykernel_49602/336198212.py:6: UserWarning: submission/evaluation_mask_740.tif is a low contrast image\n",
      "  io.imsave(f'submission/evaluation_mask_{id}.tif', mask)\n",
      "/tmp/ipykernel_49602/336198212.py:6: UserWarning: submission/evaluation_mask_1365.tif is a low contrast image\n",
      "  io.imsave(f'submission/evaluation_mask_{id}.tif', mask)\n",
      "/tmp/ipykernel_49602/336198212.py:6: UserWarning: submission/evaluation_mask_902.tif is a low contrast image\n",
      "  io.imsave(f'submission/evaluation_mask_{id}.tif', mask)\n",
      "/tmp/ipykernel_49602/336198212.py:6: UserWarning: submission/evaluation_mask_1690.tif is a low contrast image\n",
      "  io.imsave(f'submission/evaluation_mask_{id}.tif', mask)\n",
      "/tmp/ipykernel_49602/336198212.py:6: UserWarning: submission/evaluation_mask_557.tif is a low contrast image\n",
      "  io.imsave(f'submission/evaluation_mask_{id}.tif', mask)\n",
      "/tmp/ipykernel_49602/336198212.py:6: UserWarning: submission/evaluation_mask_2019.tif is a low contrast image\n",
      "  io.imsave(f'submission/evaluation_mask_{id}.tif', mask)\n",
      "/tmp/ipykernel_49602/336198212.py:6: UserWarning: submission/evaluation_mask_1235.tif is a low contrast image\n",
      "  io.imsave(f'submission/evaluation_mask_{id}.tif', mask)\n",
      "/tmp/ipykernel_49602/336198212.py:6: UserWarning: submission/evaluation_mask_813.tif is a low contrast image\n",
      "  io.imsave(f'submission/evaluation_mask_{id}.tif', mask)\n",
      "/tmp/ipykernel_49602/336198212.py:6: UserWarning: submission/evaluation_mask_1254.tif is a low contrast image\n",
      "  io.imsave(f'submission/evaluation_mask_{id}.tif', mask)\n",
      "/tmp/ipykernel_49602/336198212.py:6: UserWarning: submission/evaluation_mask_1787.tif is a low contrast image\n",
      "  io.imsave(f'submission/evaluation_mask_{id}.tif', mask)\n",
      "/tmp/ipykernel_49602/336198212.py:6: UserWarning: submission/evaluation_mask_1737.tif is a low contrast image\n",
      "  io.imsave(f'submission/evaluation_mask_{id}.tif', mask)\n",
      "/tmp/ipykernel_49602/336198212.py:6: UserWarning: submission/evaluation_mask_876.tif is a low contrast image\n",
      "  io.imsave(f'submission/evaluation_mask_{id}.tif', mask)\n",
      "/tmp/ipykernel_49602/336198212.py:6: UserWarning: submission/evaluation_mask_1605.tif is a low contrast image\n",
      "  io.imsave(f'submission/evaluation_mask_{id}.tif', mask)\n",
      "/tmp/ipykernel_49602/336198212.py:6: UserWarning: submission/evaluation_mask_1911.tif is a low contrast image\n",
      "  io.imsave(f'submission/evaluation_mask_{id}.tif', mask)\n",
      "/tmp/ipykernel_49602/336198212.py:6: UserWarning: submission/evaluation_mask_473.tif is a low contrast image\n",
      "  io.imsave(f'submission/evaluation_mask_{id}.tif', mask)\n",
      " 55%|█████▍    | 1135/2066 [00:03<00:02, 323.54it/s]/tmp/ipykernel_49602/336198212.py:6: UserWarning: submission/evaluation_mask_393.tif is a low contrast image\n",
      "  io.imsave(f'submission/evaluation_mask_{id}.tif', mask)\n",
      "/tmp/ipykernel_49602/336198212.py:6: UserWarning: submission/evaluation_mask_1519.tif is a low contrast image\n",
      "  io.imsave(f'submission/evaluation_mask_{id}.tif', mask)\n",
      "/tmp/ipykernel_49602/336198212.py:6: UserWarning: submission/evaluation_mask_795.tif is a low contrast image\n",
      "  io.imsave(f'submission/evaluation_mask_{id}.tif', mask)\n",
      "/tmp/ipykernel_49602/336198212.py:6: UserWarning: submission/evaluation_mask_1547.tif is a low contrast image\n",
      "  io.imsave(f'submission/evaluation_mask_{id}.tif', mask)\n",
      "/tmp/ipykernel_49602/336198212.py:6: UserWarning: submission/evaluation_mask_314.tif is a low contrast image\n",
      "  io.imsave(f'submission/evaluation_mask_{id}.tif', mask)\n",
      "/tmp/ipykernel_49602/336198212.py:6: UserWarning: submission/evaluation_mask_1038.tif is a low contrast image\n",
      "  io.imsave(f'submission/evaluation_mask_{id}.tif', mask)\n",
      "/tmp/ipykernel_49602/336198212.py:6: UserWarning: submission/evaluation_mask_483.tif is a low contrast image\n",
      "  io.imsave(f'submission/evaluation_mask_{id}.tif', mask)\n",
      "/tmp/ipykernel_49602/336198212.py:6: UserWarning: submission/evaluation_mask_1832.tif is a low contrast image\n",
      "  io.imsave(f'submission/evaluation_mask_{id}.tif', mask)\n",
      "/tmp/ipykernel_49602/336198212.py:6: UserWarning: submission/evaluation_mask_1551.tif is a low contrast image\n",
      "  io.imsave(f'submission/evaluation_mask_{id}.tif', mask)\n",
      "/tmp/ipykernel_49602/336198212.py:6: UserWarning: submission/evaluation_mask_54.tif is a low contrast image\n",
      "  io.imsave(f'submission/evaluation_mask_{id}.tif', mask)\n",
      "/tmp/ipykernel_49602/336198212.py:6: UserWarning: submission/evaluation_mask_1833.tif is a low contrast image\n",
      "  io.imsave(f'submission/evaluation_mask_{id}.tif', mask)\n",
      "/tmp/ipykernel_49602/336198212.py:6: UserWarning: submission/evaluation_mask_1381.tif is a low contrast image\n",
      "  io.imsave(f'submission/evaluation_mask_{id}.tif', mask)\n",
      "/tmp/ipykernel_49602/336198212.py:6: UserWarning: submission/evaluation_mask_176.tif is a low contrast image\n",
      "  io.imsave(f'submission/evaluation_mask_{id}.tif', mask)\n",
      "/tmp/ipykernel_49602/336198212.py:6: UserWarning: submission/evaluation_mask_403.tif is a low contrast image\n",
      "  io.imsave(f'submission/evaluation_mask_{id}.tif', mask)\n",
      "/tmp/ipykernel_49602/336198212.py:6: UserWarning: submission/evaluation_mask_73.tif is a low contrast image\n",
      "  io.imsave(f'submission/evaluation_mask_{id}.tif', mask)\n",
      "/tmp/ipykernel_49602/336198212.py:6: UserWarning: submission/evaluation_mask_991.tif is a low contrast image\n",
      "  io.imsave(f'submission/evaluation_mask_{id}.tif', mask)\n",
      "/tmp/ipykernel_49602/336198212.py:6: UserWarning: submission/evaluation_mask_1088.tif is a low contrast image\n",
      "  io.imsave(f'submission/evaluation_mask_{id}.tif', mask)\n",
      "/tmp/ipykernel_49602/336198212.py:6: UserWarning: submission/evaluation_mask_1070.tif is a low contrast image\n",
      "  io.imsave(f'submission/evaluation_mask_{id}.tif', mask)\n",
      "/tmp/ipykernel_49602/336198212.py:6: UserWarning: submission/evaluation_mask_724.tif is a low contrast image\n",
      "  io.imsave(f'submission/evaluation_mask_{id}.tif', mask)\n",
      "/tmp/ipykernel_49602/336198212.py:6: UserWarning: submission/evaluation_mask_1120.tif is a low contrast image\n",
      "  io.imsave(f'submission/evaluation_mask_{id}.tif', mask)\n",
      "/tmp/ipykernel_49602/336198212.py:6: UserWarning: submission/evaluation_mask_1874.tif is a low contrast image\n",
      "  io.imsave(f'submission/evaluation_mask_{id}.tif', mask)\n",
      "/tmp/ipykernel_49602/336198212.py:6: UserWarning: submission/evaluation_mask_199.tif is a low contrast image\n",
      "  io.imsave(f'submission/evaluation_mask_{id}.tif', mask)\n",
      "/tmp/ipykernel_49602/336198212.py:6: UserWarning: submission/evaluation_mask_1710.tif is a low contrast image\n",
      "  io.imsave(f'submission/evaluation_mask_{id}.tif', mask)\n",
      "/tmp/ipykernel_49602/336198212.py:6: UserWarning: submission/evaluation_mask_139.tif is a low contrast image\n",
      "  io.imsave(f'submission/evaluation_mask_{id}.tif', mask)\n",
      "/tmp/ipykernel_49602/336198212.py:6: UserWarning: submission/evaluation_mask_1900.tif is a low contrast image\n",
      "  io.imsave(f'submission/evaluation_mask_{id}.tif', mask)\n",
      "/tmp/ipykernel_49602/336198212.py:6: UserWarning: submission/evaluation_mask_780.tif is a low contrast image\n",
      "  io.imsave(f'submission/evaluation_mask_{id}.tif', mask)\n",
      "/tmp/ipykernel_49602/336198212.py:6: UserWarning: submission/evaluation_mask_1930.tif is a low contrast image\n",
      "  io.imsave(f'submission/evaluation_mask_{id}.tif', mask)\n",
      "/tmp/ipykernel_49602/336198212.py:6: UserWarning: submission/evaluation_mask_1270.tif is a low contrast image\n",
      "  io.imsave(f'submission/evaluation_mask_{id}.tif', mask)\n",
      "/tmp/ipykernel_49602/336198212.py:6: UserWarning: submission/evaluation_mask_0.tif is a low contrast image\n",
      "  io.imsave(f'submission/evaluation_mask_{id}.tif', mask)\n",
      "/tmp/ipykernel_49602/336198212.py:6: UserWarning: submission/evaluation_mask_786.tif is a low contrast image\n",
      "  io.imsave(f'submission/evaluation_mask_{id}.tif', mask)\n",
      "/tmp/ipykernel_49602/336198212.py:6: UserWarning: submission/evaluation_mask_638.tif is a low contrast image\n",
      "  io.imsave(f'submission/evaluation_mask_{id}.tif', mask)\n",
      "/tmp/ipykernel_49602/336198212.py:6: UserWarning: submission/evaluation_mask_534.tif is a low contrast image\n",
      "  io.imsave(f'submission/evaluation_mask_{id}.tif', mask)\n",
      "/tmp/ipykernel_49602/336198212.py:6: UserWarning: submission/evaluation_mask_181.tif is a low contrast image\n",
      "  io.imsave(f'submission/evaluation_mask_{id}.tif', mask)\n",
      "/tmp/ipykernel_49602/336198212.py:6: UserWarning: submission/evaluation_mask_1128.tif is a low contrast image\n",
      "  io.imsave(f'submission/evaluation_mask_{id}.tif', mask)\n",
      " 57%|█████▋    | 1169/2066 [00:03<00:02, 325.84it/s]/tmp/ipykernel_49602/336198212.py:6: UserWarning: submission/evaluation_mask_1793.tif is a low contrast image\n",
      "  io.imsave(f'submission/evaluation_mask_{id}.tif', mask)\n",
      "/tmp/ipykernel_49602/336198212.py:6: UserWarning: submission/evaluation_mask_235.tif is a low contrast image\n",
      "  io.imsave(f'submission/evaluation_mask_{id}.tif', mask)\n",
      "/tmp/ipykernel_49602/336198212.py:6: UserWarning: submission/evaluation_mask_1491.tif is a low contrast image\n",
      "  io.imsave(f'submission/evaluation_mask_{id}.tif', mask)\n",
      "/tmp/ipykernel_49602/336198212.py:6: UserWarning: submission/evaluation_mask_945.tif is a low contrast image\n",
      "  io.imsave(f'submission/evaluation_mask_{id}.tif', mask)\n",
      "/tmp/ipykernel_49602/336198212.py:6: UserWarning: submission/evaluation_mask_1037.tif is a low contrast image\n",
      "  io.imsave(f'submission/evaluation_mask_{id}.tif', mask)\n",
      "/tmp/ipykernel_49602/336198212.py:6: UserWarning: submission/evaluation_mask_1952.tif is a low contrast image\n",
      "  io.imsave(f'submission/evaluation_mask_{id}.tif', mask)\n",
      "/tmp/ipykernel_49602/336198212.py:6: UserWarning: submission/evaluation_mask_982.tif is a low contrast image\n",
      "  io.imsave(f'submission/evaluation_mask_{id}.tif', mask)\n",
      "/tmp/ipykernel_49602/336198212.py:6: UserWarning: submission/evaluation_mask_1220.tif is a low contrast image\n",
      "  io.imsave(f'submission/evaluation_mask_{id}.tif', mask)\n",
      "/tmp/ipykernel_49602/336198212.py:6: UserWarning: submission/evaluation_mask_1844.tif is a low contrast image\n",
      "  io.imsave(f'submission/evaluation_mask_{id}.tif', mask)\n",
      "/tmp/ipykernel_49602/336198212.py:6: UserWarning: submission/evaluation_mask_1880.tif is a low contrast image\n",
      "  io.imsave(f'submission/evaluation_mask_{id}.tif', mask)\n",
      "/tmp/ipykernel_49602/336198212.py:6: UserWarning: submission/evaluation_mask_305.tif is a low contrast image\n",
      "  io.imsave(f'submission/evaluation_mask_{id}.tif', mask)\n",
      "/tmp/ipykernel_49602/336198212.py:6: UserWarning: submission/evaluation_mask_327.tif is a low contrast image\n",
      "  io.imsave(f'submission/evaluation_mask_{id}.tif', mask)\n",
      "/tmp/ipykernel_49602/336198212.py:6: UserWarning: submission/evaluation_mask_1191.tif is a low contrast image\n",
      "  io.imsave(f'submission/evaluation_mask_{id}.tif', mask)\n",
      "/tmp/ipykernel_49602/336198212.py:6: UserWarning: submission/evaluation_mask_1757.tif is a low contrast image\n",
      "  io.imsave(f'submission/evaluation_mask_{id}.tif', mask)\n",
      "/tmp/ipykernel_49602/336198212.py:6: UserWarning: submission/evaluation_mask_796.tif is a low contrast image\n",
      "  io.imsave(f'submission/evaluation_mask_{id}.tif', mask)\n",
      "/tmp/ipykernel_49602/336198212.py:6: UserWarning: submission/evaluation_mask_269.tif is a low contrast image\n",
      "  io.imsave(f'submission/evaluation_mask_{id}.tif', mask)\n",
      "/tmp/ipykernel_49602/336198212.py:6: UserWarning: submission/evaluation_mask_264.tif is a low contrast image\n",
      "  io.imsave(f'submission/evaluation_mask_{id}.tif', mask)\n",
      "/tmp/ipykernel_49602/336198212.py:6: UserWarning: submission/evaluation_mask_1140.tif is a low contrast image\n",
      "  io.imsave(f'submission/evaluation_mask_{id}.tif', mask)\n",
      "/tmp/ipykernel_49602/336198212.py:6: UserWarning: submission/evaluation_mask_337.tif is a low contrast image\n",
      "  io.imsave(f'submission/evaluation_mask_{id}.tif', mask)\n",
      "/tmp/ipykernel_49602/336198212.py:6: UserWarning: submission/evaluation_mask_1475.tif is a low contrast image\n",
      "  io.imsave(f'submission/evaluation_mask_{id}.tif', mask)\n",
      "/tmp/ipykernel_49602/336198212.py:6: UserWarning: submission/evaluation_mask_937.tif is a low contrast image\n",
      "  io.imsave(f'submission/evaluation_mask_{id}.tif', mask)\n",
      "/tmp/ipykernel_49602/336198212.py:6: UserWarning: submission/evaluation_mask_2022.tif is a low contrast image\n",
      "  io.imsave(f'submission/evaluation_mask_{id}.tif', mask)\n",
      "/tmp/ipykernel_49602/336198212.py:6: UserWarning: submission/evaluation_mask_840.tif is a low contrast image\n",
      "  io.imsave(f'submission/evaluation_mask_{id}.tif', mask)\n",
      "/tmp/ipykernel_49602/336198212.py:6: UserWarning: submission/evaluation_mask_983.tif is a low contrast image\n",
      "  io.imsave(f'submission/evaluation_mask_{id}.tif', mask)\n",
      "/tmp/ipykernel_49602/336198212.py:6: UserWarning: submission/evaluation_mask_844.tif is a low contrast image\n",
      "  io.imsave(f'submission/evaluation_mask_{id}.tif', mask)\n",
      "/tmp/ipykernel_49602/336198212.py:6: UserWarning: submission/evaluation_mask_1918.tif is a low contrast image\n",
      "  io.imsave(f'submission/evaluation_mask_{id}.tif', mask)\n",
      "/tmp/ipykernel_49602/336198212.py:6: UserWarning: submission/evaluation_mask_412.tif is a low contrast image\n",
      "  io.imsave(f'submission/evaluation_mask_{id}.tif', mask)\n",
      "/tmp/ipykernel_49602/336198212.py:6: UserWarning: submission/evaluation_mask_544.tif is a low contrast image\n",
      "  io.imsave(f'submission/evaluation_mask_{id}.tif', mask)\n",
      "/tmp/ipykernel_49602/336198212.py:6: UserWarning: submission/evaluation_mask_1993.tif is a low contrast image\n",
      "  io.imsave(f'submission/evaluation_mask_{id}.tif', mask)\n",
      "/tmp/ipykernel_49602/336198212.py:6: UserWarning: submission/evaluation_mask_1008.tif is a low contrast image\n",
      "  io.imsave(f'submission/evaluation_mask_{id}.tif', mask)\n",
      "/tmp/ipykernel_49602/336198212.py:6: UserWarning: submission/evaluation_mask_1697.tif is a low contrast image\n",
      "  io.imsave(f'submission/evaluation_mask_{id}.tif', mask)\n",
      "/tmp/ipykernel_49602/336198212.py:6: UserWarning: submission/evaluation_mask_1187.tif is a low contrast image\n",
      "  io.imsave(f'submission/evaluation_mask_{id}.tif', mask)\n",
      "/tmp/ipykernel_49602/336198212.py:6: UserWarning: submission/evaluation_mask_1938.tif is a low contrast image\n",
      "  io.imsave(f'submission/evaluation_mask_{id}.tif', mask)\n",
      "/tmp/ipykernel_49602/336198212.py:6: UserWarning: submission/evaluation_mask_1814.tif is a low contrast image\n",
      "  io.imsave(f'submission/evaluation_mask_{id}.tif', mask)\n",
      " 58%|█████▊    | 1203/2066 [00:03<00:02, 327.84it/s]/tmp/ipykernel_49602/336198212.py:6: UserWarning: submission/evaluation_mask_2031.tif is a low contrast image\n",
      "  io.imsave(f'submission/evaluation_mask_{id}.tif', mask)\n",
      "/tmp/ipykernel_49602/336198212.py:6: UserWarning: submission/evaluation_mask_107.tif is a low contrast image\n",
      "  io.imsave(f'submission/evaluation_mask_{id}.tif', mask)\n",
      "/tmp/ipykernel_49602/336198212.py:6: UserWarning: submission/evaluation_mask_562.tif is a low contrast image\n",
      "  io.imsave(f'submission/evaluation_mask_{id}.tif', mask)\n",
      "/tmp/ipykernel_49602/336198212.py:6: UserWarning: submission/evaluation_mask_217.tif is a low contrast image\n",
      "  io.imsave(f'submission/evaluation_mask_{id}.tif', mask)\n",
      "/tmp/ipykernel_49602/336198212.py:6: UserWarning: submission/evaluation_mask_1312.tif is a low contrast image\n",
      "  io.imsave(f'submission/evaluation_mask_{id}.tif', mask)\n",
      "/tmp/ipykernel_49602/336198212.py:6: UserWarning: submission/evaluation_mask_1735.tif is a low contrast image\n",
      "  io.imsave(f'submission/evaluation_mask_{id}.tif', mask)\n",
      "/tmp/ipykernel_49602/336198212.py:6: UserWarning: submission/evaluation_mask_543.tif is a low contrast image\n",
      "  io.imsave(f'submission/evaluation_mask_{id}.tif', mask)\n",
      "/tmp/ipykernel_49602/336198212.py:6: UserWarning: submission/evaluation_mask_386.tif is a low contrast image\n",
      "  io.imsave(f'submission/evaluation_mask_{id}.tif', mask)\n",
      "/tmp/ipykernel_49602/336198212.py:6: UserWarning: submission/evaluation_mask_242.tif is a low contrast image\n",
      "  io.imsave(f'submission/evaluation_mask_{id}.tif', mask)\n",
      "/tmp/ipykernel_49602/336198212.py:6: UserWarning: submission/evaluation_mask_329.tif is a low contrast image\n",
      "  io.imsave(f'submission/evaluation_mask_{id}.tif', mask)\n",
      "/tmp/ipykernel_49602/336198212.py:6: UserWarning: submission/evaluation_mask_248.tif is a low contrast image\n",
      "  io.imsave(f'submission/evaluation_mask_{id}.tif', mask)\n",
      "/tmp/ipykernel_49602/336198212.py:6: UserWarning: submission/evaluation_mask_1733.tif is a low contrast image\n",
      "  io.imsave(f'submission/evaluation_mask_{id}.tif', mask)\n",
      "/tmp/ipykernel_49602/336198212.py:6: UserWarning: submission/evaluation_mask_764.tif is a low contrast image\n",
      "  io.imsave(f'submission/evaluation_mask_{id}.tif', mask)\n",
      "/tmp/ipykernel_49602/336198212.py:6: UserWarning: submission/evaluation_mask_1301.tif is a low contrast image\n",
      "  io.imsave(f'submission/evaluation_mask_{id}.tif', mask)\n",
      "/tmp/ipykernel_49602/336198212.py:6: UserWarning: submission/evaluation_mask_1629.tif is a low contrast image\n",
      "  io.imsave(f'submission/evaluation_mask_{id}.tif', mask)\n",
      "/tmp/ipykernel_49602/336198212.py:6: UserWarning: submission/evaluation_mask_335.tif is a low contrast image\n",
      "  io.imsave(f'submission/evaluation_mask_{id}.tif', mask)\n",
      "/tmp/ipykernel_49602/336198212.py:6: UserWarning: submission/evaluation_mask_1488.tif is a low contrast image\n",
      "  io.imsave(f'submission/evaluation_mask_{id}.tif', mask)\n",
      "/tmp/ipykernel_49602/336198212.py:6: UserWarning: submission/evaluation_mask_827.tif is a low contrast image\n",
      "  io.imsave(f'submission/evaluation_mask_{id}.tif', mask)\n",
      "/tmp/ipykernel_49602/336198212.py:6: UserWarning: submission/evaluation_mask_854.tif is a low contrast image\n",
      "  io.imsave(f'submission/evaluation_mask_{id}.tif', mask)\n",
      "/tmp/ipykernel_49602/336198212.py:6: UserWarning: submission/evaluation_mask_1919.tif is a low contrast image\n",
      "  io.imsave(f'submission/evaluation_mask_{id}.tif', mask)\n",
      "/tmp/ipykernel_49602/336198212.py:6: UserWarning: submission/evaluation_mask_1871.tif is a low contrast image\n",
      "  io.imsave(f'submission/evaluation_mask_{id}.tif', mask)\n",
      "/tmp/ipykernel_49602/336198212.py:6: UserWarning: submission/evaluation_mask_1452.tif is a low contrast image\n",
      "  io.imsave(f'submission/evaluation_mask_{id}.tif', mask)\n",
      "/tmp/ipykernel_49602/336198212.py:6: UserWarning: submission/evaluation_mask_1615.tif is a low contrast image\n",
      "  io.imsave(f'submission/evaluation_mask_{id}.tif', mask)\n",
      "/tmp/ipykernel_49602/336198212.py:6: UserWarning: submission/evaluation_mask_1111.tif is a low contrast image\n",
      "  io.imsave(f'submission/evaluation_mask_{id}.tif', mask)\n",
      "/tmp/ipykernel_49602/336198212.py:6: UserWarning: submission/evaluation_mask_1271.tif is a low contrast image\n",
      "  io.imsave(f'submission/evaluation_mask_{id}.tif', mask)\n",
      "/tmp/ipykernel_49602/336198212.py:6: UserWarning: submission/evaluation_mask_1525.tif is a low contrast image\n",
      "  io.imsave(f'submission/evaluation_mask_{id}.tif', mask)\n",
      "/tmp/ipykernel_49602/336198212.py:6: UserWarning: submission/evaluation_mask_1518.tif is a low contrast image\n",
      "  io.imsave(f'submission/evaluation_mask_{id}.tif', mask)\n",
      "/tmp/ipykernel_49602/336198212.py:6: UserWarning: submission/evaluation_mask_1073.tif is a low contrast image\n",
      "  io.imsave(f'submission/evaluation_mask_{id}.tif', mask)\n",
      "/tmp/ipykernel_49602/336198212.py:6: UserWarning: submission/evaluation_mask_1306.tif is a low contrast image\n",
      "  io.imsave(f'submission/evaluation_mask_{id}.tif', mask)\n",
      "/tmp/ipykernel_49602/336198212.py:6: UserWarning: submission/evaluation_mask_1340.tif is a low contrast image\n",
      "  io.imsave(f'submission/evaluation_mask_{id}.tif', mask)\n",
      "/tmp/ipykernel_49602/336198212.py:6: UserWarning: submission/evaluation_mask_1584.tif is a low contrast image\n",
      "  io.imsave(f'submission/evaluation_mask_{id}.tif', mask)\n",
      "/tmp/ipykernel_49602/336198212.py:6: UserWarning: submission/evaluation_mask_1317.tif is a low contrast image\n",
      "  io.imsave(f'submission/evaluation_mask_{id}.tif', mask)\n",
      "/tmp/ipykernel_49602/336198212.py:6: UserWarning: submission/evaluation_mask_240.tif is a low contrast image\n",
      "  io.imsave(f'submission/evaluation_mask_{id}.tif', mask)\n",
      "/tmp/ipykernel_49602/336198212.py:6: UserWarning: submission/evaluation_mask_4.tif is a low contrast image\n",
      "  io.imsave(f'submission/evaluation_mask_{id}.tif', mask)\n",
      " 60%|█████▉    | 1237/2066 [00:03<00:02, 328.53it/s]/tmp/ipykernel_49602/336198212.py:6: UserWarning: submission/evaluation_mask_584.tif is a low contrast image\n",
      "  io.imsave(f'submission/evaluation_mask_{id}.tif', mask)\n",
      "/tmp/ipykernel_49602/336198212.py:6: UserWarning: submission/evaluation_mask_1604.tif is a low contrast image\n",
      "  io.imsave(f'submission/evaluation_mask_{id}.tif', mask)\n",
      "/tmp/ipykernel_49602/336198212.py:6: UserWarning: submission/evaluation_mask_1961.tif is a low contrast image\n",
      "  io.imsave(f'submission/evaluation_mask_{id}.tif', mask)\n",
      "/tmp/ipykernel_49602/336198212.py:6: UserWarning: submission/evaluation_mask_1792.tif is a low contrast image\n",
      "  io.imsave(f'submission/evaluation_mask_{id}.tif', mask)\n",
      "/tmp/ipykernel_49602/336198212.py:6: UserWarning: submission/evaluation_mask_1397.tif is a low contrast image\n",
      "  io.imsave(f'submission/evaluation_mask_{id}.tif', mask)\n",
      "/tmp/ipykernel_49602/336198212.py:6: UserWarning: submission/evaluation_mask_223.tif is a low contrast image\n",
      "  io.imsave(f'submission/evaluation_mask_{id}.tif', mask)\n",
      "/tmp/ipykernel_49602/336198212.py:6: UserWarning: submission/evaluation_mask_2064.tif is a low contrast image\n",
      "  io.imsave(f'submission/evaluation_mask_{id}.tif', mask)\n",
      "/tmp/ipykernel_49602/336198212.py:6: UserWarning: submission/evaluation_mask_985.tif is a low contrast image\n",
      "  io.imsave(f'submission/evaluation_mask_{id}.tif', mask)\n",
      "/tmp/ipykernel_49602/336198212.py:6: UserWarning: submission/evaluation_mask_1780.tif is a low contrast image\n",
      "  io.imsave(f'submission/evaluation_mask_{id}.tif', mask)\n",
      "/tmp/ipykernel_49602/336198212.py:6: UserWarning: submission/evaluation_mask_2010.tif is a low contrast image\n",
      "  io.imsave(f'submission/evaluation_mask_{id}.tif', mask)\n",
      "/tmp/ipykernel_49602/336198212.py:6: UserWarning: submission/evaluation_mask_425.tif is a low contrast image\n",
      "  io.imsave(f'submission/evaluation_mask_{id}.tif', mask)\n",
      "/tmp/ipykernel_49602/336198212.py:6: UserWarning: submission/evaluation_mask_1774.tif is a low contrast image\n",
      "  io.imsave(f'submission/evaluation_mask_{id}.tif', mask)\n",
      "/tmp/ipykernel_49602/336198212.py:6: UserWarning: submission/evaluation_mask_1987.tif is a low contrast image\n",
      "  io.imsave(f'submission/evaluation_mask_{id}.tif', mask)\n",
      "/tmp/ipykernel_49602/336198212.py:6: UserWarning: submission/evaluation_mask_1581.tif is a low contrast image\n",
      "  io.imsave(f'submission/evaluation_mask_{id}.tif', mask)\n",
      "/tmp/ipykernel_49602/336198212.py:6: UserWarning: submission/evaluation_mask_239.tif is a low contrast image\n",
      "  io.imsave(f'submission/evaluation_mask_{id}.tif', mask)\n",
      "/tmp/ipykernel_49602/336198212.py:6: UserWarning: submission/evaluation_mask_241.tif is a low contrast image\n",
      "  io.imsave(f'submission/evaluation_mask_{id}.tif', mask)\n",
      "/tmp/ipykernel_49602/336198212.py:6: UserWarning: submission/evaluation_mask_654.tif is a low contrast image\n",
      "  io.imsave(f'submission/evaluation_mask_{id}.tif', mask)\n",
      "/tmp/ipykernel_49602/336198212.py:6: UserWarning: submission/evaluation_mask_1791.tif is a low contrast image\n",
      "  io.imsave(f'submission/evaluation_mask_{id}.tif', mask)\n",
      "/tmp/ipykernel_49602/336198212.py:6: UserWarning: submission/evaluation_mask_1566.tif is a low contrast image\n",
      "  io.imsave(f'submission/evaluation_mask_{id}.tif', mask)\n",
      "/tmp/ipykernel_49602/336198212.py:6: UserWarning: submission/evaluation_mask_782.tif is a low contrast image\n",
      "  io.imsave(f'submission/evaluation_mask_{id}.tif', mask)\n",
      "/tmp/ipykernel_49602/336198212.py:6: UserWarning: submission/evaluation_mask_519.tif is a low contrast image\n",
      "  io.imsave(f'submission/evaluation_mask_{id}.tif', mask)\n",
      "/tmp/ipykernel_49602/336198212.py:6: UserWarning: submission/evaluation_mask_256.tif is a low contrast image\n",
      "  io.imsave(f'submission/evaluation_mask_{id}.tif', mask)\n",
      "/tmp/ipykernel_49602/336198212.py:6: UserWarning: submission/evaluation_mask_950.tif is a low contrast image\n",
      "  io.imsave(f'submission/evaluation_mask_{id}.tif', mask)\n",
      "/tmp/ipykernel_49602/336198212.py:6: UserWarning: submission/evaluation_mask_952.tif is a low contrast image\n",
      "  io.imsave(f'submission/evaluation_mask_{id}.tif', mask)\n",
      "/tmp/ipykernel_49602/336198212.py:6: UserWarning: submission/evaluation_mask_1622.tif is a low contrast image\n",
      "  io.imsave(f'submission/evaluation_mask_{id}.tif', mask)\n",
      "/tmp/ipykernel_49602/336198212.py:6: UserWarning: submission/evaluation_mask_1751.tif is a low contrast image\n",
      "  io.imsave(f'submission/evaluation_mask_{id}.tif', mask)\n",
      "/tmp/ipykernel_49602/336198212.py:6: UserWarning: submission/evaluation_mask_252.tif is a low contrast image\n",
      "  io.imsave(f'submission/evaluation_mask_{id}.tif', mask)\n",
      "/tmp/ipykernel_49602/336198212.py:6: UserWarning: submission/evaluation_mask_2047.tif is a low contrast image\n",
      "  io.imsave(f'submission/evaluation_mask_{id}.tif', mask)\n",
      "/tmp/ipykernel_49602/336198212.py:6: UserWarning: submission/evaluation_mask_1406.tif is a low contrast image\n",
      "  io.imsave(f'submission/evaluation_mask_{id}.tif', mask)\n",
      "/tmp/ipykernel_49602/336198212.py:6: UserWarning: submission/evaluation_mask_596.tif is a low contrast image\n",
      "  io.imsave(f'submission/evaluation_mask_{id}.tif', mask)\n",
      "/tmp/ipykernel_49602/336198212.py:6: UserWarning: submission/evaluation_mask_1864.tif is a low contrast image\n",
      "  io.imsave(f'submission/evaluation_mask_{id}.tif', mask)\n",
      "/tmp/ipykernel_49602/336198212.py:6: UserWarning: submission/evaluation_mask_255.tif is a low contrast image\n",
      "  io.imsave(f'submission/evaluation_mask_{id}.tif', mask)\n",
      "/tmp/ipykernel_49602/336198212.py:6: UserWarning: submission/evaluation_mask_1885.tif is a low contrast image\n",
      "  io.imsave(f'submission/evaluation_mask_{id}.tif', mask)\n",
      " 61%|██████▏   | 1270/2066 [00:03<00:02, 324.62it/s]/tmp/ipykernel_49602/336198212.py:6: UserWarning: submission/evaluation_mask_889.tif is a low contrast image\n",
      "  io.imsave(f'submission/evaluation_mask_{id}.tif', mask)\n",
      "/tmp/ipykernel_49602/336198212.py:6: UserWarning: submission/evaluation_mask_39.tif is a low contrast image\n",
      "  io.imsave(f'submission/evaluation_mask_{id}.tif', mask)\n",
      "/tmp/ipykernel_49602/336198212.py:6: UserWarning: submission/evaluation_mask_1837.tif is a low contrast image\n",
      "  io.imsave(f'submission/evaluation_mask_{id}.tif', mask)\n",
      "/tmp/ipykernel_49602/336198212.py:6: UserWarning: submission/evaluation_mask_150.tif is a low contrast image\n",
      "  io.imsave(f'submission/evaluation_mask_{id}.tif', mask)\n",
      "/tmp/ipykernel_49602/336198212.py:6: UserWarning: submission/evaluation_mask_446.tif is a low contrast image\n",
      "  io.imsave(f'submission/evaluation_mask_{id}.tif', mask)\n",
      "/tmp/ipykernel_49602/336198212.py:6: UserWarning: submission/evaluation_mask_873.tif is a low contrast image\n",
      "  io.imsave(f'submission/evaluation_mask_{id}.tif', mask)\n",
      "/tmp/ipykernel_49602/336198212.py:6: UserWarning: submission/evaluation_mask_634.tif is a low contrast image\n",
      "  io.imsave(f'submission/evaluation_mask_{id}.tif', mask)\n",
      "/tmp/ipykernel_49602/336198212.py:6: UserWarning: submission/evaluation_mask_1354.tif is a low contrast image\n",
      "  io.imsave(f'submission/evaluation_mask_{id}.tif', mask)\n",
      "/tmp/ipykernel_49602/336198212.py:6: UserWarning: submission/evaluation_mask_1205.tif is a low contrast image\n",
      "  io.imsave(f'submission/evaluation_mask_{id}.tif', mask)\n",
      "/tmp/ipykernel_49602/336198212.py:6: UserWarning: submission/evaluation_mask_1812.tif is a low contrast image\n",
      "  io.imsave(f'submission/evaluation_mask_{id}.tif', mask)\n",
      "/tmp/ipykernel_49602/336198212.py:6: UserWarning: submission/evaluation_mask_115.tif is a low contrast image\n",
      "  io.imsave(f'submission/evaluation_mask_{id}.tif', mask)\n",
      "/tmp/ipykernel_49602/336198212.py:6: UserWarning: submission/evaluation_mask_390.tif is a low contrast image\n",
      "  io.imsave(f'submission/evaluation_mask_{id}.tif', mask)\n",
      "/tmp/ipykernel_49602/336198212.py:6: UserWarning: submission/evaluation_mask_1538.tif is a low contrast image\n",
      "  io.imsave(f'submission/evaluation_mask_{id}.tif', mask)\n",
      "/tmp/ipykernel_49602/336198212.py:6: UserWarning: submission/evaluation_mask_1796.tif is a low contrast image\n",
      "  io.imsave(f'submission/evaluation_mask_{id}.tif', mask)\n",
      "/tmp/ipykernel_49602/336198212.py:6: UserWarning: submission/evaluation_mask_976.tif is a low contrast image\n",
      "  io.imsave(f'submission/evaluation_mask_{id}.tif', mask)\n",
      "/tmp/ipykernel_49602/336198212.py:6: UserWarning: submission/evaluation_mask_1244.tif is a low contrast image\n",
      "  io.imsave(f'submission/evaluation_mask_{id}.tif', mask)\n",
      "/tmp/ipykernel_49602/336198212.py:6: UserWarning: submission/evaluation_mask_1194.tif is a low contrast image\n",
      "  io.imsave(f'submission/evaluation_mask_{id}.tif', mask)\n",
      "/tmp/ipykernel_49602/336198212.py:6: UserWarning: submission/evaluation_mask_1320.tif is a low contrast image\n",
      "  io.imsave(f'submission/evaluation_mask_{id}.tif', mask)\n",
      "/tmp/ipykernel_49602/336198212.py:6: UserWarning: submission/evaluation_mask_790.tif is a low contrast image\n",
      "  io.imsave(f'submission/evaluation_mask_{id}.tif', mask)\n",
      "/tmp/ipykernel_49602/336198212.py:6: UserWarning: submission/evaluation_mask_373.tif is a low contrast image\n",
      "  io.imsave(f'submission/evaluation_mask_{id}.tif', mask)\n",
      "/tmp/ipykernel_49602/336198212.py:6: UserWarning: submission/evaluation_mask_283.tif is a low contrast image\n",
      "  io.imsave(f'submission/evaluation_mask_{id}.tif', mask)\n",
      "/tmp/ipykernel_49602/336198212.py:6: UserWarning: submission/evaluation_mask_1576.tif is a low contrast image\n",
      "  io.imsave(f'submission/evaluation_mask_{id}.tif', mask)\n",
      "/tmp/ipykernel_49602/336198212.py:6: UserWarning: submission/evaluation_mask_453.tif is a low contrast image\n",
      "  io.imsave(f'submission/evaluation_mask_{id}.tif', mask)\n",
      "/tmp/ipykernel_49602/336198212.py:6: UserWarning: submission/evaluation_mask_1274.tif is a low contrast image\n",
      "  io.imsave(f'submission/evaluation_mask_{id}.tif', mask)\n",
      "/tmp/ipykernel_49602/336198212.py:6: UserWarning: submission/evaluation_mask_378.tif is a low contrast image\n",
      "  io.imsave(f'submission/evaluation_mask_{id}.tif', mask)\n",
      "/tmp/ipykernel_49602/336198212.py:6: UserWarning: submission/evaluation_mask_922.tif is a low contrast image\n",
      "  io.imsave(f'submission/evaluation_mask_{id}.tif', mask)\n",
      "/tmp/ipykernel_49602/336198212.py:6: UserWarning: submission/evaluation_mask_495.tif is a low contrast image\n",
      "  io.imsave(f'submission/evaluation_mask_{id}.tif', mask)\n",
      "/tmp/ipykernel_49602/336198212.py:6: UserWarning: submission/evaluation_mask_1715.tif is a low contrast image\n",
      "  io.imsave(f'submission/evaluation_mask_{id}.tif', mask)\n",
      "/tmp/ipykernel_49602/336198212.py:6: UserWarning: submission/evaluation_mask_1523.tif is a low contrast image\n",
      "  io.imsave(f'submission/evaluation_mask_{id}.tif', mask)\n",
      "/tmp/ipykernel_49602/336198212.py:6: UserWarning: submission/evaluation_mask_1069.tif is a low contrast image\n",
      "  io.imsave(f'submission/evaluation_mask_{id}.tif', mask)\n",
      "/tmp/ipykernel_49602/336198212.py:6: UserWarning: submission/evaluation_mask_1660.tif is a low contrast image\n",
      "  io.imsave(f'submission/evaluation_mask_{id}.tif', mask)\n",
      "/tmp/ipykernel_49602/336198212.py:6: UserWarning: submission/evaluation_mask_461.tif is a low contrast image\n",
      "  io.imsave(f'submission/evaluation_mask_{id}.tif', mask)\n",
      "/tmp/ipykernel_49602/336198212.py:6: UserWarning: submission/evaluation_mask_1052.tif is a low contrast image\n",
      "  io.imsave(f'submission/evaluation_mask_{id}.tif', mask)\n",
      " 63%|██████▎   | 1303/2066 [00:04<00:02, 322.21it/s]/tmp/ipykernel_49602/336198212.py:6: UserWarning: submission/evaluation_mask_1108.tif is a low contrast image\n",
      "  io.imsave(f'submission/evaluation_mask_{id}.tif', mask)\n",
      "/tmp/ipykernel_49602/336198212.py:6: UserWarning: submission/evaluation_mask_1154.tif is a low contrast image\n",
      "  io.imsave(f'submission/evaluation_mask_{id}.tif', mask)\n",
      "/tmp/ipykernel_49602/336198212.py:6: UserWarning: submission/evaluation_mask_704.tif is a low contrast image\n",
      "  io.imsave(f'submission/evaluation_mask_{id}.tif', mask)\n",
      "/tmp/ipykernel_49602/336198212.py:6: UserWarning: submission/evaluation_mask_1054.tif is a low contrast image\n",
      "  io.imsave(f'submission/evaluation_mask_{id}.tif', mask)\n",
      "/tmp/ipykernel_49602/336198212.py:6: UserWarning: submission/evaluation_mask_995.tif is a low contrast image\n",
      "  io.imsave(f'submission/evaluation_mask_{id}.tif', mask)\n",
      "/tmp/ipykernel_49602/336198212.py:6: UserWarning: submission/evaluation_mask_1000.tif is a low contrast image\n",
      "  io.imsave(f'submission/evaluation_mask_{id}.tif', mask)\n",
      "/tmp/ipykernel_49602/336198212.py:6: UserWarning: submission/evaluation_mask_1712.tif is a low contrast image\n",
      "  io.imsave(f'submission/evaluation_mask_{id}.tif', mask)\n",
      "/tmp/ipykernel_49602/336198212.py:6: UserWarning: submission/evaluation_mask_190.tif is a low contrast image\n",
      "  io.imsave(f'submission/evaluation_mask_{id}.tif', mask)\n",
      "/tmp/ipykernel_49602/336198212.py:6: UserWarning: submission/evaluation_mask_302.tif is a low contrast image\n",
      "  io.imsave(f'submission/evaluation_mask_{id}.tif', mask)\n",
      "/tmp/ipykernel_49602/336198212.py:6: UserWarning: submission/evaluation_mask_358.tif is a low contrast image\n",
      "  io.imsave(f'submission/evaluation_mask_{id}.tif', mask)\n",
      "/tmp/ipykernel_49602/336198212.py:6: UserWarning: submission/evaluation_mask_823.tif is a low contrast image\n",
      "  io.imsave(f'submission/evaluation_mask_{id}.tif', mask)\n",
      "/tmp/ipykernel_49602/336198212.py:6: UserWarning: submission/evaluation_mask_1486.tif is a low contrast image\n",
      "  io.imsave(f'submission/evaluation_mask_{id}.tif', mask)\n",
      "/tmp/ipykernel_49602/336198212.py:6: UserWarning: submission/evaluation_mask_1661.tif is a low contrast image\n",
      "  io.imsave(f'submission/evaluation_mask_{id}.tif', mask)\n",
      "/tmp/ipykernel_49602/336198212.py:6: UserWarning: submission/evaluation_mask_829.tif is a low contrast image\n",
      "  io.imsave(f'submission/evaluation_mask_{id}.tif', mask)\n",
      "/tmp/ipykernel_49602/336198212.py:6: UserWarning: submission/evaluation_mask_2015.tif is a low contrast image\n",
      "  io.imsave(f'submission/evaluation_mask_{id}.tif', mask)\n",
      "/tmp/ipykernel_49602/336198212.py:6: UserWarning: submission/evaluation_mask_1474.tif is a low contrast image\n",
      "  io.imsave(f'submission/evaluation_mask_{id}.tif', mask)\n",
      "/tmp/ipykernel_49602/336198212.py:6: UserWarning: submission/evaluation_mask_993.tif is a low contrast image\n",
      "  io.imsave(f'submission/evaluation_mask_{id}.tif', mask)\n",
      "/tmp/ipykernel_49602/336198212.py:6: UserWarning: submission/evaluation_mask_2037.tif is a low contrast image\n",
      "  io.imsave(f'submission/evaluation_mask_{id}.tif', mask)\n",
      "/tmp/ipykernel_49602/336198212.py:6: UserWarning: submission/evaluation_mask_1129.tif is a low contrast image\n",
      "  io.imsave(f'submission/evaluation_mask_{id}.tif', mask)\n",
      "/tmp/ipykernel_49602/336198212.py:6: UserWarning: submission/evaluation_mask_144.tif is a low contrast image\n",
      "  io.imsave(f'submission/evaluation_mask_{id}.tif', mask)\n",
      "/tmp/ipykernel_49602/336198212.py:6: UserWarning: submission/evaluation_mask_278.tif is a low contrast image\n",
      "  io.imsave(f'submission/evaluation_mask_{id}.tif', mask)\n",
      "/tmp/ipykernel_49602/336198212.py:6: UserWarning: submission/evaluation_mask_224.tif is a low contrast image\n",
      "  io.imsave(f'submission/evaluation_mask_{id}.tif', mask)\n",
      "/tmp/ipykernel_49602/336198212.py:6: UserWarning: submission/evaluation_mask_624.tif is a low contrast image\n",
      "  io.imsave(f'submission/evaluation_mask_{id}.tif', mask)\n",
      "/tmp/ipykernel_49602/336198212.py:6: UserWarning: submission/evaluation_mask_201.tif is a low contrast image\n",
      "  io.imsave(f'submission/evaluation_mask_{id}.tif', mask)\n",
      "/tmp/ipykernel_49602/336198212.py:6: UserWarning: submission/evaluation_mask_800.tif is a low contrast image\n",
      "  io.imsave(f'submission/evaluation_mask_{id}.tif', mask)\n",
      "/tmp/ipykernel_49602/336198212.py:6: UserWarning: submission/evaluation_mask_628.tif is a low contrast image\n",
      "  io.imsave(f'submission/evaluation_mask_{id}.tif', mask)\n",
      "/tmp/ipykernel_49602/336198212.py:6: UserWarning: submission/evaluation_mask_1388.tif is a low contrast image\n",
      "  io.imsave(f'submission/evaluation_mask_{id}.tif', mask)\n",
      "/tmp/ipykernel_49602/336198212.py:6: UserWarning: submission/evaluation_mask_232.tif is a low contrast image\n",
      "  io.imsave(f'submission/evaluation_mask_{id}.tif', mask)\n",
      "/tmp/ipykernel_49602/336198212.py:6: UserWarning: submission/evaluation_mask_1285.tif is a low contrast image\n",
      "  io.imsave(f'submission/evaluation_mask_{id}.tif', mask)\n",
      "/tmp/ipykernel_49602/336198212.py:6: UserWarning: submission/evaluation_mask_606.tif is a low contrast image\n",
      "  io.imsave(f'submission/evaluation_mask_{id}.tif', mask)\n",
      "/tmp/ipykernel_49602/336198212.py:6: UserWarning: submission/evaluation_mask_824.tif is a low contrast image\n",
      "  io.imsave(f'submission/evaluation_mask_{id}.tif', mask)\n",
      "/tmp/ipykernel_49602/336198212.py:6: UserWarning: submission/evaluation_mask_325.tif is a low contrast image\n",
      "  io.imsave(f'submission/evaluation_mask_{id}.tif', mask)\n",
      "/tmp/ipykernel_49602/336198212.py:6: UserWarning: submission/evaluation_mask_1143.tif is a low contrast image\n",
      "  io.imsave(f'submission/evaluation_mask_{id}.tif', mask)\n",
      " 65%|██████▍   | 1336/2066 [00:04<00:02, 323.01it/s]/tmp/ipykernel_49602/336198212.py:6: UserWarning: submission/evaluation_mask_1158.tif is a low contrast image\n",
      "  io.imsave(f'submission/evaluation_mask_{id}.tif', mask)\n",
      "/tmp/ipykernel_49602/336198212.py:6: UserWarning: submission/evaluation_mask_1297.tif is a low contrast image\n",
      "  io.imsave(f'submission/evaluation_mask_{id}.tif', mask)\n",
      "/tmp/ipykernel_49602/336198212.py:6: UserWarning: submission/evaluation_mask_1467.tif is a low contrast image\n",
      "  io.imsave(f'submission/evaluation_mask_{id}.tif', mask)\n",
      "/tmp/ipykernel_49602/336198212.py:6: UserWarning: submission/evaluation_mask_1087.tif is a low contrast image\n",
      "  io.imsave(f'submission/evaluation_mask_{id}.tif', mask)\n",
      "/tmp/ipykernel_49602/336198212.py:6: UserWarning: submission/evaluation_mask_8.tif is a low contrast image\n",
      "  io.imsave(f'submission/evaluation_mask_{id}.tif', mask)\n",
      "/tmp/ipykernel_49602/336198212.py:6: UserWarning: submission/evaluation_mask_133.tif is a low contrast image\n",
      "  io.imsave(f'submission/evaluation_mask_{id}.tif', mask)\n",
      "/tmp/ipykernel_49602/336198212.py:6: UserWarning: submission/evaluation_mask_460.tif is a low contrast image\n",
      "  io.imsave(f'submission/evaluation_mask_{id}.tif', mask)\n",
      "/tmp/ipykernel_49602/336198212.py:6: UserWarning: submission/evaluation_mask_1190.tif is a low contrast image\n",
      "  io.imsave(f'submission/evaluation_mask_{id}.tif', mask)\n",
      "/tmp/ipykernel_49602/336198212.py:6: UserWarning: submission/evaluation_mask_1123.tif is a low contrast image\n",
      "  io.imsave(f'submission/evaluation_mask_{id}.tif', mask)\n",
      "/tmp/ipykernel_49602/336198212.py:6: UserWarning: submission/evaluation_mask_1683.tif is a low contrast image\n",
      "  io.imsave(f'submission/evaluation_mask_{id}.tif', mask)\n",
      "/tmp/ipykernel_49602/336198212.py:6: UserWarning: submission/evaluation_mask_1596.tif is a low contrast image\n",
      "  io.imsave(f'submission/evaluation_mask_{id}.tif', mask)\n",
      "/tmp/ipykernel_49602/336198212.py:6: UserWarning: submission/evaluation_mask_1765.tif is a low contrast image\n",
      "  io.imsave(f'submission/evaluation_mask_{id}.tif', mask)\n",
      "/tmp/ipykernel_49602/336198212.py:6: UserWarning: submission/evaluation_mask_1602.tif is a low contrast image\n",
      "  io.imsave(f'submission/evaluation_mask_{id}.tif', mask)\n",
      "/tmp/ipykernel_49602/336198212.py:6: UserWarning: submission/evaluation_mask_490.tif is a low contrast image\n",
      "  io.imsave(f'submission/evaluation_mask_{id}.tif', mask)\n",
      "/tmp/ipykernel_49602/336198212.py:6: UserWarning: submission/evaluation_mask_430.tif is a low contrast image\n",
      "  io.imsave(f'submission/evaluation_mask_{id}.tif', mask)\n",
      "/tmp/ipykernel_49602/336198212.py:6: UserWarning: submission/evaluation_mask_474.tif is a low contrast image\n",
      "  io.imsave(f'submission/evaluation_mask_{id}.tif', mask)\n",
      "/tmp/ipykernel_49602/336198212.py:6: UserWarning: submission/evaluation_mask_20.tif is a low contrast image\n",
      "  io.imsave(f'submission/evaluation_mask_{id}.tif', mask)\n",
      "/tmp/ipykernel_49602/336198212.py:6: UserWarning: submission/evaluation_mask_131.tif is a low contrast image\n",
      "  io.imsave(f'submission/evaluation_mask_{id}.tif', mask)\n",
      "/tmp/ipykernel_49602/336198212.py:6: UserWarning: submission/evaluation_mask_909.tif is a low contrast image\n",
      "  io.imsave(f'submission/evaluation_mask_{id}.tif', mask)\n",
      "/tmp/ipykernel_49602/336198212.py:6: UserWarning: submission/evaluation_mask_2050.tif is a low contrast image\n",
      "  io.imsave(f'submission/evaluation_mask_{id}.tif', mask)\n",
      "/tmp/ipykernel_49602/336198212.py:6: UserWarning: submission/evaluation_mask_1006.tif is a low contrast image\n",
      "  io.imsave(f'submission/evaluation_mask_{id}.tif', mask)\n",
      "/tmp/ipykernel_49602/336198212.py:6: UserWarning: submission/evaluation_mask_1026.tif is a low contrast image\n",
      "  io.imsave(f'submission/evaluation_mask_{id}.tif', mask)\n",
      "/tmp/ipykernel_49602/336198212.py:6: UserWarning: submission/evaluation_mask_702.tif is a low contrast image\n",
      "  io.imsave(f'submission/evaluation_mask_{id}.tif', mask)\n",
      "/tmp/ipykernel_49602/336198212.py:6: UserWarning: submission/evaluation_mask_469.tif is a low contrast image\n",
      "  io.imsave(f'submission/evaluation_mask_{id}.tif', mask)\n",
      "/tmp/ipykernel_49602/336198212.py:6: UserWarning: submission/evaluation_mask_947.tif is a low contrast image\n",
      "  io.imsave(f'submission/evaluation_mask_{id}.tif', mask)\n",
      "/tmp/ipykernel_49602/336198212.py:6: UserWarning: submission/evaluation_mask_987.tif is a low contrast image\n",
      "  io.imsave(f'submission/evaluation_mask_{id}.tif', mask)\n",
      "/tmp/ipykernel_49602/336198212.py:6: UserWarning: submission/evaluation_mask_1411.tif is a low contrast image\n",
      "  io.imsave(f'submission/evaluation_mask_{id}.tif', mask)\n",
      "/tmp/ipykernel_49602/336198212.py:6: UserWarning: submission/evaluation_mask_1545.tif is a low contrast image\n",
      "  io.imsave(f'submission/evaluation_mask_{id}.tif', mask)\n",
      "/tmp/ipykernel_49602/336198212.py:6: UserWarning: submission/evaluation_mask_1741.tif is a low contrast image\n",
      "  io.imsave(f'submission/evaluation_mask_{id}.tif', mask)\n",
      "/tmp/ipykernel_49602/336198212.py:6: UserWarning: submission/evaluation_mask_1174.tif is a low contrast image\n",
      "  io.imsave(f'submission/evaluation_mask_{id}.tif', mask)\n",
      "/tmp/ipykernel_49602/336198212.py:6: UserWarning: submission/evaluation_mask_368.tif is a low contrast image\n",
      "  io.imsave(f'submission/evaluation_mask_{id}.tif', mask)\n",
      "/tmp/ipykernel_49602/336198212.py:6: UserWarning: submission/evaluation_mask_1149.tif is a low contrast image\n",
      "  io.imsave(f'submission/evaluation_mask_{id}.tif', mask)\n",
      "/tmp/ipykernel_49602/336198212.py:6: UserWarning: submission/evaluation_mask_2030.tif is a low contrast image\n",
      "  io.imsave(f'submission/evaluation_mask_{id}.tif', mask)\n",
      " 66%|██████▋   | 1369/2066 [00:04<00:02, 322.78it/s]/tmp/ipykernel_49602/336198212.py:6: UserWarning: submission/evaluation_mask_1522.tif is a low contrast image\n",
      "  io.imsave(f'submission/evaluation_mask_{id}.tif', mask)\n",
      "/tmp/ipykernel_49602/336198212.py:6: UserWarning: submission/evaluation_mask_585.tif is a low contrast image\n",
      "  io.imsave(f'submission/evaluation_mask_{id}.tif', mask)\n",
      "/tmp/ipykernel_49602/336198212.py:6: UserWarning: submission/evaluation_mask_715.tif is a low contrast image\n",
      "  io.imsave(f'submission/evaluation_mask_{id}.tif', mask)\n",
      "/tmp/ipykernel_49602/336198212.py:6: UserWarning: submission/evaluation_mask_1956.tif is a low contrast image\n",
      "  io.imsave(f'submission/evaluation_mask_{id}.tif', mask)\n",
      "/tmp/ipykernel_49602/336198212.py:6: UserWarning: submission/evaluation_mask_1229.tif is a low contrast image\n",
      "  io.imsave(f'submission/evaluation_mask_{id}.tif', mask)\n",
      "/tmp/ipykernel_49602/336198212.py:6: UserWarning: submission/evaluation_mask_183.tif is a low contrast image\n",
      "  io.imsave(f'submission/evaluation_mask_{id}.tif', mask)\n",
      "/tmp/ipykernel_49602/336198212.py:6: UserWarning: submission/evaluation_mask_733.tif is a low contrast image\n",
      "  io.imsave(f'submission/evaluation_mask_{id}.tif', mask)\n",
      "/tmp/ipykernel_49602/336198212.py:6: UserWarning: submission/evaluation_mask_493.tif is a low contrast image\n",
      "  io.imsave(f'submission/evaluation_mask_{id}.tif', mask)\n",
      "/tmp/ipykernel_49602/336198212.py:6: UserWarning: submission/evaluation_mask_1058.tif is a low contrast image\n",
      "  io.imsave(f'submission/evaluation_mask_{id}.tif', mask)\n",
      "/tmp/ipykernel_49602/336198212.py:6: UserWarning: submission/evaluation_mask_1888.tif is a low contrast image\n",
      "  io.imsave(f'submission/evaluation_mask_{id}.tif', mask)\n",
      "/tmp/ipykernel_49602/336198212.py:6: UserWarning: submission/evaluation_mask_364.tif is a low contrast image\n",
      "  io.imsave(f'submission/evaluation_mask_{id}.tif', mask)\n",
      "/tmp/ipykernel_49602/336198212.py:6: UserWarning: submission/evaluation_mask_1263.tif is a low contrast image\n",
      "  io.imsave(f'submission/evaluation_mask_{id}.tif', mask)\n",
      "/tmp/ipykernel_49602/336198212.py:6: UserWarning: submission/evaluation_mask_1057.tif is a low contrast image\n",
      "  io.imsave(f'submission/evaluation_mask_{id}.tif', mask)\n",
      "/tmp/ipykernel_49602/336198212.py:6: UserWarning: submission/evaluation_mask_1861.tif is a low contrast image\n",
      "  io.imsave(f'submission/evaluation_mask_{id}.tif', mask)\n",
      "/tmp/ipykernel_49602/336198212.py:6: UserWarning: submission/evaluation_mask_1256.tif is a low contrast image\n",
      "  io.imsave(f'submission/evaluation_mask_{id}.tif', mask)\n",
      "/tmp/ipykernel_49602/336198212.py:6: UserWarning: submission/evaluation_mask_2043.tif is a low contrast image\n",
      "  io.imsave(f'submission/evaluation_mask_{id}.tif', mask)\n",
      "/tmp/ipykernel_49602/336198212.py:6: UserWarning: submission/evaluation_mask_626.tif is a low contrast image\n",
      "  io.imsave(f'submission/evaluation_mask_{id}.tif', mask)\n",
      "/tmp/ipykernel_49602/336198212.py:6: UserWarning: submission/evaluation_mask_1131.tif is a low contrast image\n",
      "  io.imsave(f'submission/evaluation_mask_{id}.tif', mask)\n",
      "/tmp/ipykernel_49602/336198212.py:6: UserWarning: submission/evaluation_mask_438.tif is a low contrast image\n",
      "  io.imsave(f'submission/evaluation_mask_{id}.tif', mask)\n",
      "/tmp/ipykernel_49602/336198212.py:6: UserWarning: submission/evaluation_mask_423.tif is a low contrast image\n",
      "  io.imsave(f'submission/evaluation_mask_{id}.tif', mask)\n",
      "/tmp/ipykernel_49602/336198212.py:6: UserWarning: submission/evaluation_mask_445.tif is a low contrast image\n",
      "  io.imsave(f'submission/evaluation_mask_{id}.tif', mask)\n",
      "/tmp/ipykernel_49602/336198212.py:6: UserWarning: submission/evaluation_mask_1936.tif is a low contrast image\n",
      "  io.imsave(f'submission/evaluation_mask_{id}.tif', mask)\n",
      "/tmp/ipykernel_49602/336198212.py:6: UserWarning: submission/evaluation_mask_1568.tif is a low contrast image\n",
      "  io.imsave(f'submission/evaluation_mask_{id}.tif', mask)\n",
      "/tmp/ipykernel_49602/336198212.py:6: UserWarning: submission/evaluation_mask_1443.tif is a low contrast image\n",
      "  io.imsave(f'submission/evaluation_mask_{id}.tif', mask)\n",
      "/tmp/ipykernel_49602/336198212.py:6: UserWarning: submission/evaluation_mask_1217.tif is a low contrast image\n",
      "  io.imsave(f'submission/evaluation_mask_{id}.tif', mask)\n",
      "/tmp/ipykernel_49602/336198212.py:6: UserWarning: submission/evaluation_mask_1935.tif is a low contrast image\n",
      "  io.imsave(f'submission/evaluation_mask_{id}.tif', mask)\n",
      "/tmp/ipykernel_49602/336198212.py:6: UserWarning: submission/evaluation_mask_2063.tif is a low contrast image\n",
      "  io.imsave(f'submission/evaluation_mask_{id}.tif', mask)\n",
      "/tmp/ipykernel_49602/336198212.py:6: UserWarning: submission/evaluation_mask_27.tif is a low contrast image\n",
      "  io.imsave(f'submission/evaluation_mask_{id}.tif', mask)\n",
      "/tmp/ipykernel_49602/336198212.py:6: UserWarning: submission/evaluation_mask_841.tif is a low contrast image\n",
      "  io.imsave(f'submission/evaluation_mask_{id}.tif', mask)\n",
      "/tmp/ipykernel_49602/336198212.py:6: UserWarning: submission/evaluation_mask_951.tif is a low contrast image\n",
      "  io.imsave(f'submission/evaluation_mask_{id}.tif', mask)\n",
      "/tmp/ipykernel_49602/336198212.py:6: UserWarning: submission/evaluation_mask_48.tif is a low contrast image\n",
      "  io.imsave(f'submission/evaluation_mask_{id}.tif', mask)\n",
      "/tmp/ipykernel_49602/336198212.py:6: UserWarning: submission/evaluation_mask_1029.tif is a low contrast image\n",
      "  io.imsave(f'submission/evaluation_mask_{id}.tif', mask)\n",
      "/tmp/ipykernel_49602/336198212.py:6: UserWarning: submission/evaluation_mask_1781.tif is a low contrast image\n",
      "  io.imsave(f'submission/evaluation_mask_{id}.tif', mask)\n",
      " 68%|██████▊   | 1402/2066 [00:04<00:02, 323.01it/s]/tmp/ipykernel_49602/336198212.py:6: UserWarning: submission/evaluation_mask_1425.tif is a low contrast image\n",
      "  io.imsave(f'submission/evaluation_mask_{id}.tif', mask)\n",
      "/tmp/ipykernel_49602/336198212.py:6: UserWarning: submission/evaluation_mask_1024.tif is a low contrast image\n",
      "  io.imsave(f'submission/evaluation_mask_{id}.tif', mask)\n",
      "/tmp/ipykernel_49602/336198212.py:6: UserWarning: submission/evaluation_mask_487.tif is a low contrast image\n",
      "  io.imsave(f'submission/evaluation_mask_{id}.tif', mask)\n",
      "/tmp/ipykernel_49602/336198212.py:6: UserWarning: submission/evaluation_mask_367.tif is a low contrast image\n",
      "  io.imsave(f'submission/evaluation_mask_{id}.tif', mask)\n",
      "/tmp/ipykernel_49602/336198212.py:6: UserWarning: submission/evaluation_mask_1009.tif is a low contrast image\n",
      "  io.imsave(f'submission/evaluation_mask_{id}.tif', mask)\n",
      "/tmp/ipykernel_49602/336198212.py:6: UserWarning: submission/evaluation_mask_243.tif is a low contrast image\n",
      "  io.imsave(f'submission/evaluation_mask_{id}.tif', mask)\n",
      "/tmp/ipykernel_49602/336198212.py:6: UserWarning: submission/evaluation_mask_1127.tif is a low contrast image\n",
      "  io.imsave(f'submission/evaluation_mask_{id}.tif', mask)\n",
      "/tmp/ipykernel_49602/336198212.py:6: UserWarning: submission/evaluation_mask_1116.tif is a low contrast image\n",
      "  io.imsave(f'submission/evaluation_mask_{id}.tif', mask)\n",
      "/tmp/ipykernel_49602/336198212.py:6: UserWarning: submission/evaluation_mask_1221.tif is a low contrast image\n",
      "  io.imsave(f'submission/evaluation_mask_{id}.tif', mask)\n",
      "/tmp/ipykernel_49602/336198212.py:6: UserWarning: submission/evaluation_mask_1689.tif is a low contrast image\n",
      "  io.imsave(f'submission/evaluation_mask_{id}.tif', mask)\n",
      "/tmp/ipykernel_49602/336198212.py:6: UserWarning: submission/evaluation_mask_1325.tif is a low contrast image\n",
      "  io.imsave(f'submission/evaluation_mask_{id}.tif', mask)\n",
      "/tmp/ipykernel_49602/336198212.py:6: UserWarning: submission/evaluation_mask_1473.tif is a low contrast image\n",
      "  io.imsave(f'submission/evaluation_mask_{id}.tif', mask)\n",
      "/tmp/ipykernel_49602/336198212.py:6: UserWarning: submission/evaluation_mask_1445.tif is a low contrast image\n",
      "  io.imsave(f'submission/evaluation_mask_{id}.tif', mask)\n",
      "/tmp/ipykernel_49602/336198212.py:6: UserWarning: submission/evaluation_mask_1234.tif is a low contrast image\n",
      "  io.imsave(f'submission/evaluation_mask_{id}.tif', mask)\n",
      "/tmp/ipykernel_49602/336198212.py:6: UserWarning: submission/evaluation_mask_229.tif is a low contrast image\n",
      "  io.imsave(f'submission/evaluation_mask_{id}.tif', mask)\n",
      "/tmp/ipykernel_49602/336198212.py:6: UserWarning: submission/evaluation_mask_75.tif is a low contrast image\n",
      "  io.imsave(f'submission/evaluation_mask_{id}.tif', mask)\n",
      "/tmp/ipykernel_49602/336198212.py:6: UserWarning: submission/evaluation_mask_2032.tif is a low contrast image\n",
      "  io.imsave(f'submission/evaluation_mask_{id}.tif', mask)\n",
      "/tmp/ipykernel_49602/336198212.py:6: UserWarning: submission/evaluation_mask_684.tif is a low contrast image\n",
      "  io.imsave(f'submission/evaluation_mask_{id}.tif', mask)\n",
      "/tmp/ipykernel_49602/336198212.py:6: UserWarning: submission/evaluation_mask_1408.tif is a low contrast image\n",
      "  io.imsave(f'submission/evaluation_mask_{id}.tif', mask)\n",
      "/tmp/ipykernel_49602/336198212.py:6: UserWarning: submission/evaluation_mask_1639.tif is a low contrast image\n",
      "  io.imsave(f'submission/evaluation_mask_{id}.tif', mask)\n",
      "/tmp/ipykernel_49602/336198212.py:6: UserWarning: submission/evaluation_mask_644.tif is a low contrast image\n",
      "  io.imsave(f'submission/evaluation_mask_{id}.tif', mask)\n",
      "/tmp/ipykernel_49602/336198212.py:6: UserWarning: submission/evaluation_mask_1556.tif is a low contrast image\n",
      "  io.imsave(f'submission/evaluation_mask_{id}.tif', mask)\n",
      "/tmp/ipykernel_49602/336198212.py:6: UserWarning: submission/evaluation_mask_24.tif is a low contrast image\n",
      "  io.imsave(f'submission/evaluation_mask_{id}.tif', mask)\n",
      "/tmp/ipykernel_49602/336198212.py:6: UserWarning: submission/evaluation_mask_408.tif is a low contrast image\n",
      "  io.imsave(f'submission/evaluation_mask_{id}.tif', mask)\n",
      "/tmp/ipykernel_49602/336198212.py:6: UserWarning: submission/evaluation_mask_1168.tif is a low contrast image\n",
      "  io.imsave(f'submission/evaluation_mask_{id}.tif', mask)\n",
      "/tmp/ipykernel_49602/336198212.py:6: UserWarning: submission/evaluation_mask_1914.tif is a low contrast image\n",
      "  io.imsave(f'submission/evaluation_mask_{id}.tif', mask)\n",
      "/tmp/ipykernel_49602/336198212.py:6: UserWarning: submission/evaluation_mask_1308.tif is a low contrast image\n",
      "  io.imsave(f'submission/evaluation_mask_{id}.tif', mask)\n",
      "/tmp/ipykernel_49602/336198212.py:6: UserWarning: submission/evaluation_mask_1055.tif is a low contrast image\n",
      "  io.imsave(f'submission/evaluation_mask_{id}.tif', mask)\n",
      "/tmp/ipykernel_49602/336198212.py:6: UserWarning: submission/evaluation_mask_1773.tif is a low contrast image\n",
      "  io.imsave(f'submission/evaluation_mask_{id}.tif', mask)\n",
      "/tmp/ipykernel_49602/336198212.py:6: UserWarning: submission/evaluation_mask_1642.tif is a low contrast image\n",
      "  io.imsave(f'submission/evaluation_mask_{id}.tif', mask)\n",
      "/tmp/ipykernel_49602/336198212.py:6: UserWarning: submission/evaluation_mask_1653.tif is a low contrast image\n",
      "  io.imsave(f'submission/evaluation_mask_{id}.tif', mask)\n",
      "/tmp/ipykernel_49602/336198212.py:6: UserWarning: submission/evaluation_mask_120.tif is a low contrast image\n",
      "  io.imsave(f'submission/evaluation_mask_{id}.tif', mask)\n",
      "/tmp/ipykernel_49602/336198212.py:6: UserWarning: submission/evaluation_mask_1898.tif is a low contrast image\n",
      "  io.imsave(f'submission/evaluation_mask_{id}.tif', mask)\n",
      " 69%|██████▉   | 1435/2066 [00:04<00:01, 323.17it/s]/tmp/ipykernel_49602/336198212.py:6: UserWarning: submission/evaluation_mask_1005.tif is a low contrast image\n",
      "  io.imsave(f'submission/evaluation_mask_{id}.tif', mask)\n",
      "/tmp/ipykernel_49602/336198212.py:6: UserWarning: submission/evaluation_mask_101.tif is a low contrast image\n",
      "  io.imsave(f'submission/evaluation_mask_{id}.tif', mask)\n",
      "/tmp/ipykernel_49602/336198212.py:6: UserWarning: submission/evaluation_mask_834.tif is a low contrast image\n",
      "  io.imsave(f'submission/evaluation_mask_{id}.tif', mask)\n",
      "/tmp/ipykernel_49602/336198212.py:6: UserWarning: submission/evaluation_mask_1608.tif is a low contrast image\n",
      "  io.imsave(f'submission/evaluation_mask_{id}.tif', mask)\n",
      "/tmp/ipykernel_49602/336198212.py:6: UserWarning: submission/evaluation_mask_1247.tif is a low contrast image\n",
      "  io.imsave(f'submission/evaluation_mask_{id}.tif', mask)\n",
      "/tmp/ipykernel_49602/336198212.py:6: UserWarning: submission/evaluation_mask_765.tif is a low contrast image\n",
      "  io.imsave(f'submission/evaluation_mask_{id}.tif', mask)\n",
      "/tmp/ipykernel_49602/336198212.py:6: UserWarning: submission/evaluation_mask_784.tif is a low contrast image\n",
      "  io.imsave(f'submission/evaluation_mask_{id}.tif', mask)\n",
      "/tmp/ipykernel_49602/336198212.py:6: UserWarning: submission/evaluation_mask_1068.tif is a low contrast image\n",
      "  io.imsave(f'submission/evaluation_mask_{id}.tif', mask)\n",
      "/tmp/ipykernel_49602/336198212.py:6: UserWarning: submission/evaluation_mask_1373.tif is a low contrast image\n",
      "  io.imsave(f'submission/evaluation_mask_{id}.tif', mask)\n",
      "/tmp/ipykernel_49602/336198212.py:6: UserWarning: submission/evaluation_mask_588.tif is a low contrast image\n",
      "  io.imsave(f'submission/evaluation_mask_{id}.tif', mask)\n",
      "/tmp/ipykernel_49602/336198212.py:6: UserWarning: submission/evaluation_mask_1288.tif is a low contrast image\n",
      "  io.imsave(f'submission/evaluation_mask_{id}.tif', mask)\n",
      "/tmp/ipykernel_49602/336198212.py:6: UserWarning: submission/evaluation_mask_1505.tif is a low contrast image\n",
      "  io.imsave(f'submission/evaluation_mask_{id}.tif', mask)\n",
      "/tmp/ipykernel_49602/336198212.py:6: UserWarning: submission/evaluation_mask_845.tif is a low contrast image\n",
      "  io.imsave(f'submission/evaluation_mask_{id}.tif', mask)\n",
      "/tmp/ipykernel_49602/336198212.py:6: UserWarning: submission/evaluation_mask_971.tif is a low contrast image\n",
      "  io.imsave(f'submission/evaluation_mask_{id}.tif', mask)\n",
      "/tmp/ipykernel_49602/336198212.py:6: UserWarning: submission/evaluation_mask_1991.tif is a low contrast image\n",
      "  io.imsave(f'submission/evaluation_mask_{id}.tif', mask)\n",
      "/tmp/ipykernel_49602/336198212.py:6: UserWarning: submission/evaluation_mask_526.tif is a low contrast image\n",
      "  io.imsave(f'submission/evaluation_mask_{id}.tif', mask)\n",
      "/tmp/ipykernel_49602/336198212.py:6: UserWarning: submission/evaluation_mask_210.tif is a low contrast image\n",
      "  io.imsave(f'submission/evaluation_mask_{id}.tif', mask)\n",
      "/tmp/ipykernel_49602/336198212.py:6: UserWarning: submission/evaluation_mask_739.tif is a low contrast image\n",
      "  io.imsave(f'submission/evaluation_mask_{id}.tif', mask)\n",
      "/tmp/ipykernel_49602/336198212.py:6: UserWarning: submission/evaluation_mask_508.tif is a low contrast image\n",
      "  io.imsave(f'submission/evaluation_mask_{id}.tif', mask)\n",
      "/tmp/ipykernel_49602/336198212.py:6: UserWarning: submission/evaluation_mask_1510.tif is a low contrast image\n",
      "  io.imsave(f'submission/evaluation_mask_{id}.tif', mask)\n",
      "/tmp/ipykernel_49602/336198212.py:6: UserWarning: submission/evaluation_mask_375.tif is a low contrast image\n",
      "  io.imsave(f'submission/evaluation_mask_{id}.tif', mask)\n",
      "/tmp/ipykernel_49602/336198212.py:6: UserWarning: submission/evaluation_mask_1209.tif is a low contrast image\n",
      "  io.imsave(f'submission/evaluation_mask_{id}.tif', mask)\n",
      "/tmp/ipykernel_49602/336198212.py:6: UserWarning: submission/evaluation_mask_1663.tif is a low contrast image\n",
      "  io.imsave(f'submission/evaluation_mask_{id}.tif', mask)\n",
      "/tmp/ipykernel_49602/336198212.py:6: UserWarning: submission/evaluation_mask_1039.tif is a low contrast image\n",
      "  io.imsave(f'submission/evaluation_mask_{id}.tif', mask)\n",
      "/tmp/ipykernel_49602/336198212.py:6: UserWarning: submission/evaluation_mask_524.tif is a low contrast image\n",
      "  io.imsave(f'submission/evaluation_mask_{id}.tif', mask)\n",
      "/tmp/ipykernel_49602/336198212.py:6: UserWarning: submission/evaluation_mask_749.tif is a low contrast image\n",
      "  io.imsave(f'submission/evaluation_mask_{id}.tif', mask)\n",
      "/tmp/ipykernel_49602/336198212.py:6: UserWarning: submission/evaluation_mask_705.tif is a low contrast image\n",
      "  io.imsave(f'submission/evaluation_mask_{id}.tif', mask)\n",
      "/tmp/ipykernel_49602/336198212.py:6: UserWarning: submission/evaluation_mask_2016.tif is a low contrast image\n",
      "  io.imsave(f'submission/evaluation_mask_{id}.tif', mask)\n",
      "/tmp/ipykernel_49602/336198212.py:6: UserWarning: submission/evaluation_mask_1932.tif is a low contrast image\n",
      "  io.imsave(f'submission/evaluation_mask_{id}.tif', mask)\n",
      "/tmp/ipykernel_49602/336198212.py:6: UserWarning: submission/evaluation_mask_286.tif is a low contrast image\n",
      "  io.imsave(f'submission/evaluation_mask_{id}.tif', mask)\n",
      "/tmp/ipykernel_49602/336198212.py:6: UserWarning: submission/evaluation_mask_748.tif is a low contrast image\n",
      "  io.imsave(f'submission/evaluation_mask_{id}.tif', mask)\n",
      "/tmp/ipykernel_49602/336198212.py:6: UserWarning: submission/evaluation_mask_1346.tif is a low contrast image\n",
      "  io.imsave(f'submission/evaluation_mask_{id}.tif', mask)\n",
      "/tmp/ipykernel_49602/336198212.py:6: UserWarning: submission/evaluation_mask_6.tif is a low contrast image\n",
      "  io.imsave(f'submission/evaluation_mask_{id}.tif', mask)\n",
      " 71%|███████   | 1468/2066 [00:04<00:01, 319.30it/s]/tmp/ipykernel_49602/336198212.py:6: UserWarning: submission/evaluation_mask_1570.tif is a low contrast image\n",
      "  io.imsave(f'submission/evaluation_mask_{id}.tif', mask)\n",
      "/tmp/ipykernel_49602/336198212.py:6: UserWarning: submission/evaluation_mask_560.tif is a low contrast image\n",
      "  io.imsave(f'submission/evaluation_mask_{id}.tif', mask)\n",
      "/tmp/ipykernel_49602/336198212.py:6: UserWarning: submission/evaluation_mask_81.tif is a low contrast image\n",
      "  io.imsave(f'submission/evaluation_mask_{id}.tif', mask)\n",
      "/tmp/ipykernel_49602/336198212.py:6: UserWarning: submission/evaluation_mask_1494.tif is a low contrast image\n",
      "  io.imsave(f'submission/evaluation_mask_{id}.tif', mask)\n",
      "/tmp/ipykernel_49602/336198212.py:6: UserWarning: submission/evaluation_mask_1418.tif is a low contrast image\n",
      "  io.imsave(f'submission/evaluation_mask_{id}.tif', mask)\n",
      "/tmp/ipykernel_49602/336198212.py:6: UserWarning: submission/evaluation_mask_553.tif is a low contrast image\n",
      "  io.imsave(f'submission/evaluation_mask_{id}.tif', mask)\n",
      "/tmp/ipykernel_49602/336198212.py:6: UserWarning: submission/evaluation_mask_1659.tif is a low contrast image\n",
      "  io.imsave(f'submission/evaluation_mask_{id}.tif', mask)\n",
      "/tmp/ipykernel_49602/336198212.py:6: UserWarning: submission/evaluation_mask_1036.tif is a low contrast image\n",
      "  io.imsave(f'submission/evaluation_mask_{id}.tif', mask)\n",
      "/tmp/ipykernel_49602/336198212.py:6: UserWarning: submission/evaluation_mask_865.tif is a low contrast image\n",
      "  io.imsave(f'submission/evaluation_mask_{id}.tif', mask)\n",
      "/tmp/ipykernel_49602/336198212.py:6: UserWarning: submission/evaluation_mask_174.tif is a low contrast image\n",
      "  io.imsave(f'submission/evaluation_mask_{id}.tif', mask)\n",
      "/tmp/ipykernel_49602/336198212.py:6: UserWarning: submission/evaluation_mask_1504.tif is a low contrast image\n",
      "  io.imsave(f'submission/evaluation_mask_{id}.tif', mask)\n",
      "/tmp/ipykernel_49602/336198212.py:6: UserWarning: submission/evaluation_mask_402.tif is a low contrast image\n",
      "  io.imsave(f'submission/evaluation_mask_{id}.tif', mask)\n",
      "/tmp/ipykernel_49602/336198212.py:6: UserWarning: submission/evaluation_mask_351.tif is a low contrast image\n",
      "  io.imsave(f'submission/evaluation_mask_{id}.tif', mask)\n",
      "/tmp/ipykernel_49602/336198212.py:6: UserWarning: submission/evaluation_mask_1564.tif is a low contrast image\n",
      "  io.imsave(f'submission/evaluation_mask_{id}.tif', mask)\n",
      "/tmp/ipykernel_49602/336198212.py:6: UserWarning: submission/evaluation_mask_124.tif is a low contrast image\n",
      "  io.imsave(f'submission/evaluation_mask_{id}.tif', mask)\n",
      "/tmp/ipykernel_49602/336198212.py:6: UserWarning: submission/evaluation_mask_152.tif is a low contrast image\n",
      "  io.imsave(f'submission/evaluation_mask_{id}.tif', mask)\n",
      "/tmp/ipykernel_49602/336198212.py:6: UserWarning: submission/evaluation_mask_758.tif is a low contrast image\n",
      "  io.imsave(f'submission/evaluation_mask_{id}.tif', mask)\n",
      "/tmp/ipykernel_49602/336198212.py:6: UserWarning: submission/evaluation_mask_778.tif is a low contrast image\n",
      "  io.imsave(f'submission/evaluation_mask_{id}.tif', mask)\n",
      "/tmp/ipykernel_49602/336198212.py:6: UserWarning: submission/evaluation_mask_112.tif is a low contrast image\n",
      "  io.imsave(f'submission/evaluation_mask_{id}.tif', mask)\n",
      "/tmp/ipykernel_49602/336198212.py:6: UserWarning: submission/evaluation_mask_1645.tif is a low contrast image\n",
      "  io.imsave(f'submission/evaluation_mask_{id}.tif', mask)\n",
      "/tmp/ipykernel_49602/336198212.py:6: UserWarning: submission/evaluation_mask_1464.tif is a low contrast image\n",
      "  io.imsave(f'submission/evaluation_mask_{id}.tif', mask)\n",
      "/tmp/ipykernel_49602/336198212.py:6: UserWarning: submission/evaluation_mask_1399.tif is a low contrast image\n",
      "  io.imsave(f'submission/evaluation_mask_{id}.tif', mask)\n",
      "/tmp/ipykernel_49602/336198212.py:6: UserWarning: submission/evaluation_mask_464.tif is a low contrast image\n",
      "  io.imsave(f'submission/evaluation_mask_{id}.tif', mask)\n",
      "/tmp/ipykernel_49602/336198212.py:6: UserWarning: submission/evaluation_mask_1250.tif is a low contrast image\n",
      "  io.imsave(f'submission/evaluation_mask_{id}.tif', mask)\n",
      "/tmp/ipykernel_49602/336198212.py:6: UserWarning: submission/evaluation_mask_1573.tif is a low contrast image\n",
      "  io.imsave(f'submission/evaluation_mask_{id}.tif', mask)\n",
      "/tmp/ipykernel_49602/336198212.py:6: UserWarning: submission/evaluation_mask_1339.tif is a low contrast image\n",
      "  io.imsave(f'submission/evaluation_mask_{id}.tif', mask)\n",
      "/tmp/ipykernel_49602/336198212.py:6: UserWarning: submission/evaluation_mask_238.tif is a low contrast image\n",
      "  io.imsave(f'submission/evaluation_mask_{id}.tif', mask)\n",
      "/tmp/ipykernel_49602/336198212.py:6: UserWarning: submission/evaluation_mask_225.tif is a low contrast image\n",
      "  io.imsave(f'submission/evaluation_mask_{id}.tif', mask)\n",
      "/tmp/ipykernel_49602/336198212.py:6: UserWarning: submission/evaluation_mask_1376.tif is a low contrast image\n",
      "  io.imsave(f'submission/evaluation_mask_{id}.tif', mask)\n",
      "/tmp/ipykernel_49602/336198212.py:6: UserWarning: submission/evaluation_mask_1945.tif is a low contrast image\n",
      "  io.imsave(f'submission/evaluation_mask_{id}.tif', mask)\n",
      "/tmp/ipykernel_49602/336198212.py:6: UserWarning: submission/evaluation_mask_593.tif is a low contrast image\n",
      "  io.imsave(f'submission/evaluation_mask_{id}.tif', mask)\n",
      "/tmp/ipykernel_49602/336198212.py:6: UserWarning: submission/evaluation_mask_1807.tif is a low contrast image\n",
      "  io.imsave(f'submission/evaluation_mask_{id}.tif', mask)\n",
      " 73%|███████▎  | 1500/2066 [00:04<00:01, 318.27it/s]/tmp/ipykernel_49602/336198212.py:6: UserWarning: submission/evaluation_mask_60.tif is a low contrast image\n",
      "  io.imsave(f'submission/evaluation_mask_{id}.tif', mask)\n",
      "/tmp/ipykernel_49602/336198212.py:6: UserWarning: submission/evaluation_mask_186.tif is a low contrast image\n",
      "  io.imsave(f'submission/evaluation_mask_{id}.tif', mask)\n",
      "/tmp/ipykernel_49602/336198212.py:6: UserWarning: submission/evaluation_mask_1892.tif is a low contrast image\n",
      "  io.imsave(f'submission/evaluation_mask_{id}.tif', mask)\n",
      "/tmp/ipykernel_49602/336198212.py:6: UserWarning: submission/evaluation_mask_1925.tif is a low contrast image\n",
      "  io.imsave(f'submission/evaluation_mask_{id}.tif', mask)\n",
      "/tmp/ipykernel_49602/336198212.py:6: UserWarning: submission/evaluation_mask_111.tif is a low contrast image\n",
      "  io.imsave(f'submission/evaluation_mask_{id}.tif', mask)\n",
      "/tmp/ipykernel_49602/336198212.py:6: UserWarning: submission/evaluation_mask_1316.tif is a low contrast image\n",
      "  io.imsave(f'submission/evaluation_mask_{id}.tif', mask)\n",
      "/tmp/ipykernel_49602/336198212.py:6: UserWarning: submission/evaluation_mask_1364.tif is a low contrast image\n",
      "  io.imsave(f'submission/evaluation_mask_{id}.tif', mask)\n",
      "/tmp/ipykernel_49602/336198212.py:6: UserWarning: submission/evaluation_mask_1034.tif is a low contrast image\n",
      "  io.imsave(f'submission/evaluation_mask_{id}.tif', mask)\n",
      "/tmp/ipykernel_49602/336198212.py:6: UserWarning: submission/evaluation_mask_1377.tif is a low contrast image\n",
      "  io.imsave(f'submission/evaluation_mask_{id}.tif', mask)\n",
      "/tmp/ipykernel_49602/336198212.py:6: UserWarning: submission/evaluation_mask_1280.tif is a low contrast image\n",
      "  io.imsave(f'submission/evaluation_mask_{id}.tif', mask)\n",
      "/tmp/ipykernel_49602/336198212.py:6: UserWarning: submission/evaluation_mask_1823.tif is a low contrast image\n",
      "  io.imsave(f'submission/evaluation_mask_{id}.tif', mask)\n",
      "/tmp/ipykernel_49602/336198212.py:6: UserWarning: submission/evaluation_mask_914.tif is a low contrast image\n",
      "  io.imsave(f'submission/evaluation_mask_{id}.tif', mask)\n",
      "/tmp/ipykernel_49602/336198212.py:6: UserWarning: submission/evaluation_mask_1293.tif is a low contrast image\n",
      "  io.imsave(f'submission/evaluation_mask_{id}.tif', mask)\n",
      "/tmp/ipykernel_49602/336198212.py:6: UserWarning: submission/evaluation_mask_1707.tif is a low contrast image\n",
      "  io.imsave(f'submission/evaluation_mask_{id}.tif', mask)\n",
      "/tmp/ipykernel_49602/336198212.py:6: UserWarning: submission/evaluation_mask_1416.tif is a low contrast image\n",
      "  io.imsave(f'submission/evaluation_mask_{id}.tif', mask)\n",
      "/tmp/ipykernel_49602/336198212.py:6: UserWarning: submission/evaluation_mask_1869.tif is a low contrast image\n",
      "  io.imsave(f'submission/evaluation_mask_{id}.tif', mask)\n",
      "/tmp/ipykernel_49602/336198212.py:6: UserWarning: submission/evaluation_mask_1811.tif is a low contrast image\n",
      "  io.imsave(f'submission/evaluation_mask_{id}.tif', mask)\n",
      "/tmp/ipykernel_49602/336198212.py:6: UserWarning: submission/evaluation_mask_1084.tif is a low contrast image\n",
      "  io.imsave(f'submission/evaluation_mask_{id}.tif', mask)\n",
      "/tmp/ipykernel_49602/336198212.py:6: UserWarning: submission/evaluation_mask_1374.tif is a low contrast image\n",
      "  io.imsave(f'submission/evaluation_mask_{id}.tif', mask)\n",
      "/tmp/ipykernel_49602/336198212.py:6: UserWarning: submission/evaluation_mask_1905.tif is a low contrast image\n",
      "  io.imsave(f'submission/evaluation_mask_{id}.tif', mask)\n",
      "/tmp/ipykernel_49602/336198212.py:6: UserWarning: submission/evaluation_mask_675.tif is a low contrast image\n",
      "  io.imsave(f'submission/evaluation_mask_{id}.tif', mask)\n",
      "/tmp/ipykernel_49602/336198212.py:6: UserWarning: submission/evaluation_mask_932.tif is a low contrast image\n",
      "  io.imsave(f'submission/evaluation_mask_{id}.tif', mask)\n",
      "/tmp/ipykernel_49602/336198212.py:6: UserWarning: submission/evaluation_mask_1879.tif is a low contrast image\n",
      "  io.imsave(f'submission/evaluation_mask_{id}.tif', mask)\n",
      "/tmp/ipykernel_49602/336198212.py:6: UserWarning: submission/evaluation_mask_759.tif is a low contrast image\n",
      "  io.imsave(f'submission/evaluation_mask_{id}.tif', mask)\n",
      "/tmp/ipykernel_49602/336198212.py:6: UserWarning: submission/evaluation_mask_1347.tif is a low contrast image\n",
      "  io.imsave(f'submission/evaluation_mask_{id}.tif', mask)\n",
      "/tmp/ipykernel_49602/336198212.py:6: UserWarning: submission/evaluation_mask_1500.tif is a low contrast image\n",
      "  io.imsave(f'submission/evaluation_mask_{id}.tif', mask)\n",
      "/tmp/ipykernel_49602/336198212.py:6: UserWarning: submission/evaluation_mask_969.tif is a low contrast image\n",
      "  io.imsave(f'submission/evaluation_mask_{id}.tif', mask)\n",
      "/tmp/ipykernel_49602/336198212.py:6: UserWarning: submission/evaluation_mask_1924.tif is a low contrast image\n",
      "  io.imsave(f'submission/evaluation_mask_{id}.tif', mask)\n",
      "/tmp/ipykernel_49602/336198212.py:6: UserWarning: submission/evaluation_mask_1968.tif is a low contrast image\n",
      "  io.imsave(f'submission/evaluation_mask_{id}.tif', mask)\n",
      "/tmp/ipykernel_49602/336198212.py:6: UserWarning: submission/evaluation_mask_1681.tif is a low contrast image\n",
      "  io.imsave(f'submission/evaluation_mask_{id}.tif', mask)\n",
      "/tmp/ipykernel_49602/336198212.py:6: UserWarning: submission/evaluation_mask_177.tif is a low contrast image\n",
      "  io.imsave(f'submission/evaluation_mask_{id}.tif', mask)\n",
      "/tmp/ipykernel_49602/336198212.py:6: UserWarning: submission/evaluation_mask_530.tif is a low contrast image\n",
      "  io.imsave(f'submission/evaluation_mask_{id}.tif', mask)\n",
      " 74%|███████▍  | 1532/2066 [00:04<00:01, 315.13it/s]/tmp/ipykernel_49602/336198212.py:6: UserWarning: submission/evaluation_mask_207.tif is a low contrast image\n",
      "  io.imsave(f'submission/evaluation_mask_{id}.tif', mask)\n",
      "/tmp/ipykernel_49602/336198212.py:6: UserWarning: submission/evaluation_mask_482.tif is a low contrast image\n",
      "  io.imsave(f'submission/evaluation_mask_{id}.tif', mask)\n",
      "/tmp/ipykernel_49602/336198212.py:6: UserWarning: submission/evaluation_mask_475.tif is a low contrast image\n",
      "  io.imsave(f'submission/evaluation_mask_{id}.tif', mask)\n",
      "/tmp/ipykernel_49602/336198212.py:6: UserWarning: submission/evaluation_mask_415.tif is a low contrast image\n",
      "  io.imsave(f'submission/evaluation_mask_{id}.tif', mask)\n",
      "/tmp/ipykernel_49602/336198212.py:6: UserWarning: submission/evaluation_mask_505.tif is a low contrast image\n",
      "  io.imsave(f'submission/evaluation_mask_{id}.tif', mask)\n",
      "/tmp/ipykernel_49602/336198212.py:6: UserWarning: submission/evaluation_mask_1668.tif is a low contrast image\n",
      "  io.imsave(f'submission/evaluation_mask_{id}.tif', mask)\n",
      "/tmp/ipykernel_49602/336198212.py:6: UserWarning: submission/evaluation_mask_1160.tif is a low contrast image\n",
      "  io.imsave(f'submission/evaluation_mask_{id}.tif', mask)\n",
      "/tmp/ipykernel_49602/336198212.py:6: UserWarning: submission/evaluation_mask_2033.tif is a low contrast image\n",
      "  io.imsave(f'submission/evaluation_mask_{id}.tif', mask)\n",
      "/tmp/ipykernel_49602/336198212.py:6: UserWarning: submission/evaluation_mask_441.tif is a low contrast image\n",
      "  io.imsave(f'submission/evaluation_mask_{id}.tif', mask)\n",
      "/tmp/ipykernel_49602/336198212.py:6: UserWarning: submission/evaluation_mask_1028.tif is a low contrast image\n",
      "  io.imsave(f'submission/evaluation_mask_{id}.tif', mask)\n",
      "/tmp/ipykernel_49602/336198212.py:6: UserWarning: submission/evaluation_mask_1559.tif is a low contrast image\n",
      "  io.imsave(f'submission/evaluation_mask_{id}.tif', mask)\n",
      "/tmp/ipykernel_49602/336198212.py:6: UserWarning: submission/evaluation_mask_1847.tif is a low contrast image\n",
      "  io.imsave(f'submission/evaluation_mask_{id}.tif', mask)\n",
      "/tmp/ipykernel_49602/336198212.py:6: UserWarning: submission/evaluation_mask_698.tif is a low contrast image\n",
      "  io.imsave(f'submission/evaluation_mask_{id}.tif', mask)\n",
      "/tmp/ipykernel_49602/336198212.py:6: UserWarning: submission/evaluation_mask_1283.tif is a low contrast image\n",
      "  io.imsave(f'submission/evaluation_mask_{id}.tif', mask)\n",
      "/tmp/ipykernel_49602/336198212.py:6: UserWarning: submission/evaluation_mask_1964.tif is a low contrast image\n",
      "  io.imsave(f'submission/evaluation_mask_{id}.tif', mask)\n",
      "/tmp/ipykernel_49602/336198212.py:6: UserWarning: submission/evaluation_mask_40.tif is a low contrast image\n",
      "  io.imsave(f'submission/evaluation_mask_{id}.tif', mask)\n",
      "/tmp/ipykernel_49602/336198212.py:6: UserWarning: submission/evaluation_mask_1064.tif is a low contrast image\n",
      "  io.imsave(f'submission/evaluation_mask_{id}.tif', mask)\n",
      "/tmp/ipykernel_49602/336198212.py:6: UserWarning: submission/evaluation_mask_331.tif is a low contrast image\n",
      "  io.imsave(f'submission/evaluation_mask_{id}.tif', mask)\n",
      "/tmp/ipykernel_49602/336198212.py:6: UserWarning: submission/evaluation_mask_1118.tif is a low contrast image\n",
      "  io.imsave(f'submission/evaluation_mask_{id}.tif', mask)\n",
      "/tmp/ipykernel_49602/336198212.py:6: UserWarning: submission/evaluation_mask_1382.tif is a low contrast image\n",
      "  io.imsave(f'submission/evaluation_mask_{id}.tif', mask)\n",
      "/tmp/ipykernel_49602/336198212.py:6: UserWarning: submission/evaluation_mask_1834.tif is a low contrast image\n",
      "  io.imsave(f'submission/evaluation_mask_{id}.tif', mask)\n",
      "/tmp/ipykernel_49602/336198212.py:6: UserWarning: submission/evaluation_mask_723.tif is a low contrast image\n",
      "  io.imsave(f'submission/evaluation_mask_{id}.tif', mask)\n",
      "/tmp/ipykernel_49602/336198212.py:6: UserWarning: submission/evaluation_mask_860.tif is a low contrast image\n",
      "  io.imsave(f'submission/evaluation_mask_{id}.tif', mask)\n",
      "/tmp/ipykernel_49602/336198212.py:6: UserWarning: submission/evaluation_mask_2003.tif is a low contrast image\n",
      "  io.imsave(f'submission/evaluation_mask_{id}.tif', mask)\n",
      "/tmp/ipykernel_49602/336198212.py:6: UserWarning: submission/evaluation_mask_432.tif is a low contrast image\n",
      "  io.imsave(f'submission/evaluation_mask_{id}.tif', mask)\n",
      "/tmp/ipykernel_49602/336198212.py:6: UserWarning: submission/evaluation_mask_1531.tif is a low contrast image\n",
      "  io.imsave(f'submission/evaluation_mask_{id}.tif', mask)\n",
      "/tmp/ipykernel_49602/336198212.py:6: UserWarning: submission/evaluation_mask_799.tif is a low contrast image\n",
      "  io.imsave(f'submission/evaluation_mask_{id}.tif', mask)\n",
      "/tmp/ipykernel_49602/336198212.py:6: UserWarning: submission/evaluation_mask_509.tif is a low contrast image\n",
      "  io.imsave(f'submission/evaluation_mask_{id}.tif', mask)\n",
      "/tmp/ipykernel_49602/336198212.py:6: UserWarning: submission/evaluation_mask_1436.tif is a low contrast image\n",
      "  io.imsave(f'submission/evaluation_mask_{id}.tif', mask)\n",
      "/tmp/ipykernel_49602/336198212.py:6: UserWarning: submission/evaluation_mask_1923.tif is a low contrast image\n",
      "  io.imsave(f'submission/evaluation_mask_{id}.tif', mask)\n",
      "/tmp/ipykernel_49602/336198212.py:6: UserWarning: submission/evaluation_mask_1493.tif is a low contrast image\n",
      "  io.imsave(f'submission/evaluation_mask_{id}.tif', mask)\n",
      "/tmp/ipykernel_49602/336198212.py:6: UserWarning: submission/evaluation_mask_688.tif is a low contrast image\n",
      "  io.imsave(f'submission/evaluation_mask_{id}.tif', mask)\n",
      "/tmp/ipykernel_49602/336198212.py:6: UserWarning: submission/evaluation_mask_96.tif is a low contrast image\n",
      "  io.imsave(f'submission/evaluation_mask_{id}.tif', mask)\n",
      " 76%|███████▌  | 1565/2066 [00:04<00:01, 316.92it/s]/tmp/ipykernel_49602/336198212.py:6: UserWarning: submission/evaluation_mask_933.tif is a low contrast image\n",
      "  io.imsave(f'submission/evaluation_mask_{id}.tif', mask)\n",
      "/tmp/ipykernel_49602/336198212.py:6: UserWarning: submission/evaluation_mask_1336.tif is a low contrast image\n",
      "  io.imsave(f'submission/evaluation_mask_{id}.tif', mask)\n",
      "/tmp/ipykernel_49602/336198212.py:6: UserWarning: submission/evaluation_mask_1969.tif is a low contrast image\n",
      "  io.imsave(f'submission/evaluation_mask_{id}.tif', mask)\n",
      "/tmp/ipykernel_49602/336198212.py:6: UserWarning: submission/evaluation_mask_2055.tif is a low contrast image\n",
      "  io.imsave(f'submission/evaluation_mask_{id}.tif', mask)\n",
      "/tmp/ipykernel_49602/336198212.py:6: UserWarning: submission/evaluation_mask_172.tif is a low contrast image\n",
      "  io.imsave(f'submission/evaluation_mask_{id}.tif', mask)\n",
      "/tmp/ipykernel_49602/336198212.py:6: UserWarning: submission/evaluation_mask_882.tif is a low contrast image\n",
      "  io.imsave(f'submission/evaluation_mask_{id}.tif', mask)\n",
      "/tmp/ipykernel_49602/336198212.py:6: UserWarning: submission/evaluation_mask_388.tif is a low contrast image\n",
      "  io.imsave(f'submission/evaluation_mask_{id}.tif', mask)\n",
      "/tmp/ipykernel_49602/336198212.py:6: UserWarning: submission/evaluation_mask_237.tif is a low contrast image\n",
      "  io.imsave(f'submission/evaluation_mask_{id}.tif', mask)\n",
      "/tmp/ipykernel_49602/336198212.py:6: UserWarning: submission/evaluation_mask_1635.tif is a low contrast image\n",
      "  io.imsave(f'submission/evaluation_mask_{id}.tif', mask)\n",
      "/tmp/ipykernel_49602/336198212.py:6: UserWarning: submission/evaluation_mask_361.tif is a low contrast image\n",
      "  io.imsave(f'submission/evaluation_mask_{id}.tif', mask)\n",
      "/tmp/ipykernel_49602/336198212.py:6: UserWarning: submission/evaluation_mask_1816.tif is a low contrast image\n",
      "  io.imsave(f'submission/evaluation_mask_{id}.tif', mask)\n",
      "/tmp/ipykernel_49602/336198212.py:6: UserWarning: submission/evaluation_mask_1984.tif is a low contrast image\n",
      "  io.imsave(f'submission/evaluation_mask_{id}.tif', mask)\n",
      "/tmp/ipykernel_49602/336198212.py:6: UserWarning: submission/evaluation_mask_608.tif is a low contrast image\n",
      "  io.imsave(f'submission/evaluation_mask_{id}.tif', mask)\n",
      "/tmp/ipykernel_49602/336198212.py:6: UserWarning: submission/evaluation_mask_875.tif is a low contrast image\n",
      "  io.imsave(f'submission/evaluation_mask_{id}.tif', mask)\n",
      "/tmp/ipykernel_49602/336198212.py:6: UserWarning: submission/evaluation_mask_1959.tif is a low contrast image\n",
      "  io.imsave(f'submission/evaluation_mask_{id}.tif', mask)\n",
      "/tmp/ipykernel_49602/336198212.py:6: UserWarning: submission/evaluation_mask_320.tif is a low contrast image\n",
      "  io.imsave(f'submission/evaluation_mask_{id}.tif', mask)\n",
      "/tmp/ipykernel_49602/336198212.py:6: UserWarning: submission/evaluation_mask_1096.tif is a low contrast image\n",
      "  io.imsave(f'submission/evaluation_mask_{id}.tif', mask)\n",
      "/tmp/ipykernel_49602/336198212.py:6: UserWarning: submission/evaluation_mask_986.tif is a low contrast image\n",
      "  io.imsave(f'submission/evaluation_mask_{id}.tif', mask)\n",
      "/tmp/ipykernel_49602/336198212.py:6: UserWarning: submission/evaluation_mask_69.tif is a low contrast image\n",
      "  io.imsave(f'submission/evaluation_mask_{id}.tif', mask)\n",
      "/tmp/ipykernel_49602/336198212.py:6: UserWarning: submission/evaluation_mask_1546.tif is a low contrast image\n",
      "  io.imsave(f'submission/evaluation_mask_{id}.tif', mask)\n",
      "/tmp/ipykernel_49602/336198212.py:6: UserWarning: submission/evaluation_mask_690.tif is a low contrast image\n",
      "  io.imsave(f'submission/evaluation_mask_{id}.tif', mask)\n",
      "/tmp/ipykernel_49602/336198212.py:6: UserWarning: submission/evaluation_mask_1215.tif is a low contrast image\n",
      "  io.imsave(f'submission/evaluation_mask_{id}.tif', mask)\n",
      "/tmp/ipykernel_49602/336198212.py:6: UserWarning: submission/evaluation_mask_504.tif is a low contrast image\n",
      "  io.imsave(f'submission/evaluation_mask_{id}.tif', mask)\n",
      "/tmp/ipykernel_49602/336198212.py:6: UserWarning: submission/evaluation_mask_401.tif is a low contrast image\n",
      "  io.imsave(f'submission/evaluation_mask_{id}.tif', mask)\n",
      "/tmp/ipykernel_49602/336198212.py:6: UserWarning: submission/evaluation_mask_270.tif is a low contrast image\n",
      "  io.imsave(f'submission/evaluation_mask_{id}.tif', mask)\n",
      "/tmp/ipykernel_49602/336198212.py:6: UserWarning: submission/evaluation_mask_103.tif is a low contrast image\n",
      "  io.imsave(f'submission/evaluation_mask_{id}.tif', mask)\n",
      "/tmp/ipykernel_49602/336198212.py:6: UserWarning: submission/evaluation_mask_930.tif is a low contrast image\n",
      "  io.imsave(f'submission/evaluation_mask_{id}.tif', mask)\n",
      "/tmp/ipykernel_49602/336198212.py:6: UserWarning: submission/evaluation_mask_912.tif is a low contrast image\n",
      "  io.imsave(f'submission/evaluation_mask_{id}.tif', mask)\n",
      "/tmp/ipykernel_49602/336198212.py:6: UserWarning: submission/evaluation_mask_259.tif is a low contrast image\n",
      "  io.imsave(f'submission/evaluation_mask_{id}.tif', mask)\n",
      "/tmp/ipykernel_49602/336198212.py:6: UserWarning: submission/evaluation_mask_1725.tif is a low contrast image\n",
      "  io.imsave(f'submission/evaluation_mask_{id}.tif', mask)\n",
      "/tmp/ipykernel_49602/336198212.py:6: UserWarning: submission/evaluation_mask_1081.tif is a low contrast image\n",
      "  io.imsave(f'submission/evaluation_mask_{id}.tif', mask)\n",
      "/tmp/ipykernel_49602/336198212.py:6: UserWarning: submission/evaluation_mask_949.tif is a low contrast image\n",
      "  io.imsave(f'submission/evaluation_mask_{id}.tif', mask)\n",
      " 77%|███████▋  | 1597/2066 [00:04<00:01, 316.76it/s]/tmp/ipykernel_49602/336198212.py:6: UserWarning: submission/evaluation_mask_1062.tif is a low contrast image\n",
      "  io.imsave(f'submission/evaluation_mask_{id}.tif', mask)\n",
      "/tmp/ipykernel_49602/336198212.py:6: UserWarning: submission/evaluation_mask_1075.tif is a low contrast image\n",
      "  io.imsave(f'submission/evaluation_mask_{id}.tif', mask)\n",
      "/tmp/ipykernel_49602/336198212.py:6: UserWarning: submission/evaluation_mask_1417.tif is a low contrast image\n",
      "  io.imsave(f'submission/evaluation_mask_{id}.tif', mask)\n",
      "/tmp/ipykernel_49602/336198212.py:6: UserWarning: submission/evaluation_mask_1413.tif is a low contrast image\n",
      "  io.imsave(f'submission/evaluation_mask_{id}.tif', mask)\n",
      "/tmp/ipykernel_49602/336198212.py:6: UserWarning: submission/evaluation_mask_581.tif is a low contrast image\n",
      "  io.imsave(f'submission/evaluation_mask_{id}.tif', mask)\n",
      "/tmp/ipykernel_49602/336198212.py:6: UserWarning: submission/evaluation_mask_1636.tif is a low contrast image\n",
      "  io.imsave(f'submission/evaluation_mask_{id}.tif', mask)\n",
      "/tmp/ipykernel_49602/336198212.py:6: UserWarning: submission/evaluation_mask_218.tif is a low contrast image\n",
      "  io.imsave(f'submission/evaluation_mask_{id}.tif', mask)\n",
      "/tmp/ipykernel_49602/336198212.py:6: UserWarning: submission/evaluation_mask_678.tif is a low contrast image\n",
      "  io.imsave(f'submission/evaluation_mask_{id}.tif', mask)\n",
      "/tmp/ipykernel_49602/336198212.py:6: UserWarning: submission/evaluation_mask_545.tif is a low contrast image\n",
      "  io.imsave(f'submission/evaluation_mask_{id}.tif', mask)\n",
      "/tmp/ipykernel_49602/336198212.py:6: UserWarning: submission/evaluation_mask_135.tif is a low contrast image\n",
      "  io.imsave(f'submission/evaluation_mask_{id}.tif', mask)\n",
      "/tmp/ipykernel_49602/336198212.py:6: UserWarning: submission/evaluation_mask_1240.tif is a low contrast image\n",
      "  io.imsave(f'submission/evaluation_mask_{id}.tif', mask)\n",
      "/tmp/ipykernel_49602/336198212.py:6: UserWarning: submission/evaluation_mask_1949.tif is a low contrast image\n",
      "  io.imsave(f'submission/evaluation_mask_{id}.tif', mask)\n",
      "/tmp/ipykernel_49602/336198212.py:6: UserWarning: submission/evaluation_mask_173.tif is a low contrast image\n",
      "  io.imsave(f'submission/evaluation_mask_{id}.tif', mask)\n",
      "/tmp/ipykernel_49602/336198212.py:6: UserWarning: submission/evaluation_mask_1126.tif is a low contrast image\n",
      "  io.imsave(f'submission/evaluation_mask_{id}.tif', mask)\n",
      "/tmp/ipykernel_49602/336198212.py:6: UserWarning: submission/evaluation_mask_419.tif is a low contrast image\n",
      "  io.imsave(f'submission/evaluation_mask_{id}.tif', mask)\n",
      "/tmp/ipykernel_49602/336198212.py:6: UserWarning: submission/evaluation_mask_1838.tif is a low contrast image\n",
      "  io.imsave(f'submission/evaluation_mask_{id}.tif', mask)\n",
      "/tmp/ipykernel_49602/336198212.py:6: UserWarning: submission/evaluation_mask_1092.tif is a low contrast image\n",
      "  io.imsave(f'submission/evaluation_mask_{id}.tif', mask)\n",
      "/tmp/ipykernel_49602/336198212.py:6: UserWarning: submission/evaluation_mask_476.tif is a low contrast image\n",
      "  io.imsave(f'submission/evaluation_mask_{id}.tif', mask)\n",
      "/tmp/ipykernel_49602/336198212.py:6: UserWarning: submission/evaluation_mask_1742.tif is a low contrast image\n",
      "  io.imsave(f'submission/evaluation_mask_{id}.tif', mask)\n",
      "/tmp/ipykernel_49602/336198212.py:6: UserWarning: submission/evaluation_mask_602.tif is a low contrast image\n",
      "  io.imsave(f'submission/evaluation_mask_{id}.tif', mask)\n",
      "/tmp/ipykernel_49602/336198212.py:6: UserWarning: submission/evaluation_mask_1228.tif is a low contrast image\n",
      "  io.imsave(f'submission/evaluation_mask_{id}.tif', mask)\n",
      "/tmp/ipykernel_49602/336198212.py:6: UserWarning: submission/evaluation_mask_1180.tif is a low contrast image\n",
      "  io.imsave(f'submission/evaluation_mask_{id}.tif', mask)\n",
      "/tmp/ipykernel_49602/336198212.py:6: UserWarning: submission/evaluation_mask_671.tif is a low contrast image\n",
      "  io.imsave(f'submission/evaluation_mask_{id}.tif', mask)\n",
      "/tmp/ipykernel_49602/336198212.py:6: UserWarning: submission/evaluation_mask_956.tif is a low contrast image\n",
      "  io.imsave(f'submission/evaluation_mask_{id}.tif', mask)\n",
      "/tmp/ipykernel_49602/336198212.py:6: UserWarning: submission/evaluation_mask_582.tif is a low contrast image\n",
      "  io.imsave(f'submission/evaluation_mask_{id}.tif', mask)\n",
      "/tmp/ipykernel_49602/336198212.py:6: UserWarning: submission/evaluation_mask_1147.tif is a low contrast image\n",
      "  io.imsave(f'submission/evaluation_mask_{id}.tif', mask)\n",
      "/tmp/ipykernel_49602/336198212.py:6: UserWarning: submission/evaluation_mask_561.tif is a low contrast image\n",
      "  io.imsave(f'submission/evaluation_mask_{id}.tif', mask)\n",
      "/tmp/ipykernel_49602/336198212.py:6: UserWarning: submission/evaluation_mask_762.tif is a low contrast image\n",
      "  io.imsave(f'submission/evaluation_mask_{id}.tif', mask)\n",
      "/tmp/ipykernel_49602/336198212.py:6: UserWarning: submission/evaluation_mask_209.tif is a low contrast image\n",
      "  io.imsave(f'submission/evaluation_mask_{id}.tif', mask)\n",
      "/tmp/ipykernel_49602/336198212.py:6: UserWarning: submission/evaluation_mask_862.tif is a low contrast image\n",
      "  io.imsave(f'submission/evaluation_mask_{id}.tif', mask)\n",
      "/tmp/ipykernel_49602/336198212.py:6: UserWarning: submission/evaluation_mask_1825.tif is a low contrast image\n",
      "  io.imsave(f'submission/evaluation_mask_{id}.tif', mask)\n",
      "/tmp/ipykernel_49602/336198212.py:6: UserWarning: submission/evaluation_mask_974.tif is a low contrast image\n",
      "  io.imsave(f'submission/evaluation_mask_{id}.tif', mask)\n",
      "/tmp/ipykernel_49602/336198212.py:6: UserWarning: submission/evaluation_mask_663.tif is a low contrast image\n",
      "  io.imsave(f'submission/evaluation_mask_{id}.tif', mask)\n",
      " 79%|███████▉  | 1630/2066 [00:05<00:01, 319.19it/s]/tmp/ipykernel_49602/336198212.py:6: UserWarning: submission/evaluation_mask_1179.tif is a low contrast image\n",
      "  io.imsave(f'submission/evaluation_mask_{id}.tif', mask)\n",
      "/tmp/ipykernel_49602/336198212.py:6: UserWarning: submission/evaluation_mask_165.tif is a low contrast image\n",
      "  io.imsave(f'submission/evaluation_mask_{id}.tif', mask)\n",
      "/tmp/ipykernel_49602/336198212.py:6: UserWarning: submission/evaluation_mask_1237.tif is a low contrast image\n",
      "  io.imsave(f'submission/evaluation_mask_{id}.tif', mask)\n",
      "/tmp/ipykernel_49602/336198212.py:6: UserWarning: submission/evaluation_mask_1554.tif is a low contrast image\n",
      "  io.imsave(f'submission/evaluation_mask_{id}.tif', mask)\n",
      "/tmp/ipykernel_49602/336198212.py:6: UserWarning: submission/evaluation_mask_1480.tif is a low contrast image\n",
      "  io.imsave(f'submission/evaluation_mask_{id}.tif', mask)\n",
      "/tmp/ipykernel_49602/336198212.py:6: UserWarning: submission/evaluation_mask_467.tif is a low contrast image\n",
      "  io.imsave(f'submission/evaluation_mask_{id}.tif', mask)\n",
      "/tmp/ipykernel_49602/336198212.py:6: UserWarning: submission/evaluation_mask_2018.tif is a low contrast image\n",
      "  io.imsave(f'submission/evaluation_mask_{id}.tif', mask)\n",
      "/tmp/ipykernel_49602/336198212.py:6: UserWarning: submission/evaluation_mask_98.tif is a low contrast image\n",
      "  io.imsave(f'submission/evaluation_mask_{id}.tif', mask)\n",
      "/tmp/ipykernel_49602/336198212.py:6: UserWarning: submission/evaluation_mask_1703.tif is a low contrast image\n",
      "  io.imsave(f'submission/evaluation_mask_{id}.tif', mask)\n",
      "/tmp/ipykernel_49602/336198212.py:6: UserWarning: submission/evaluation_mask_442.tif is a low contrast image\n",
      "  io.imsave(f'submission/evaluation_mask_{id}.tif', mask)\n",
      "/tmp/ipykernel_49602/336198212.py:6: UserWarning: submission/evaluation_mask_1003.tif is a low contrast image\n",
      "  io.imsave(f'submission/evaluation_mask_{id}.tif', mask)\n",
      "/tmp/ipykernel_49602/336198212.py:6: UserWarning: submission/evaluation_mask_1974.tif is a low contrast image\n",
      "  io.imsave(f'submission/evaluation_mask_{id}.tif', mask)\n",
      "/tmp/ipykernel_49602/336198212.py:6: UserWarning: submission/evaluation_mask_1750.tif is a low contrast image\n",
      "  io.imsave(f'submission/evaluation_mask_{id}.tif', mask)\n",
      "/tmp/ipykernel_49602/336198212.py:6: UserWarning: submission/evaluation_mask_1157.tif is a low contrast image\n",
      "  io.imsave(f'submission/evaluation_mask_{id}.tif', mask)\n",
      "/tmp/ipykernel_49602/336198212.py:6: UserWarning: submission/evaluation_mask_1937.tif is a low contrast image\n",
      "  io.imsave(f'submission/evaluation_mask_{id}.tif', mask)\n",
      "/tmp/ipykernel_49602/336198212.py:6: UserWarning: submission/evaluation_mask_1107.tif is a low contrast image\n",
      "  io.imsave(f'submission/evaluation_mask_{id}.tif', mask)\n",
      "/tmp/ipykernel_49602/336198212.py:6: UserWarning: submission/evaluation_mask_298.tif is a low contrast image\n",
      "  io.imsave(f'submission/evaluation_mask_{id}.tif', mask)\n",
      "/tmp/ipykernel_49602/336198212.py:6: UserWarning: submission/evaluation_mask_1427.tif is a low contrast image\n",
      "  io.imsave(f'submission/evaluation_mask_{id}.tif', mask)\n",
      "/tmp/ipykernel_49602/336198212.py:6: UserWarning: submission/evaluation_mask_126.tif is a low contrast image\n",
      "  io.imsave(f'submission/evaluation_mask_{id}.tif', mask)\n",
      "/tmp/ipykernel_49602/336198212.py:6: UserWarning: submission/evaluation_mask_1016.tif is a low contrast image\n",
      "  io.imsave(f'submission/evaluation_mask_{id}.tif', mask)\n",
      "/tmp/ipykernel_49602/336198212.py:6: UserWarning: submission/evaluation_mask_1227.tif is a low contrast image\n",
      "  io.imsave(f'submission/evaluation_mask_{id}.tif', mask)\n",
      "/tmp/ipykernel_49602/336198212.py:6: UserWarning: submission/evaluation_mask_1355.tif is a low contrast image\n",
      "  io.imsave(f'submission/evaluation_mask_{id}.tif', mask)\n",
      "/tmp/ipykernel_49602/336198212.py:6: UserWarning: submission/evaluation_mask_9.tif is a low contrast image\n",
      "  io.imsave(f'submission/evaluation_mask_{id}.tif', mask)\n",
      "/tmp/ipykernel_49602/336198212.py:6: UserWarning: submission/evaluation_mask_290.tif is a low contrast image\n",
      "  io.imsave(f'submission/evaluation_mask_{id}.tif', mask)\n",
      "/tmp/ipykernel_49602/336198212.py:6: UserWarning: submission/evaluation_mask_520.tif is a low contrast image\n",
      "  io.imsave(f'submission/evaluation_mask_{id}.tif', mask)\n",
      "/tmp/ipykernel_49602/336198212.py:6: UserWarning: submission/evaluation_mask_1151.tif is a low contrast image\n",
      "  io.imsave(f'submission/evaluation_mask_{id}.tif', mask)\n",
      "/tmp/ipykernel_49602/336198212.py:6: UserWarning: submission/evaluation_mask_156.tif is a low contrast image\n",
      "  io.imsave(f'submission/evaluation_mask_{id}.tif', mask)\n",
      "/tmp/ipykernel_49602/336198212.py:6: UserWarning: submission/evaluation_mask_257.tif is a low contrast image\n",
      "  io.imsave(f'submission/evaluation_mask_{id}.tif', mask)\n",
      "/tmp/ipykernel_49602/336198212.py:6: UserWarning: submission/evaluation_mask_89.tif is a low contrast image\n",
      "  io.imsave(f'submission/evaluation_mask_{id}.tif', mask)\n",
      "/tmp/ipykernel_49602/336198212.py:6: UserWarning: submission/evaluation_mask_921.tif is a low contrast image\n",
      "  io.imsave(f'submission/evaluation_mask_{id}.tif', mask)\n",
      "/tmp/ipykernel_49602/336198212.py:6: UserWarning: submission/evaluation_mask_1651.tif is a low contrast image\n",
      "  io.imsave(f'submission/evaluation_mask_{id}.tif', mask)\n",
      "/tmp/ipykernel_49602/336198212.py:6: UserWarning: submission/evaluation_mask_1313.tif is a low contrast image\n",
      "  io.imsave(f'submission/evaluation_mask_{id}.tif', mask)\n",
      " 80%|████████  | 1662/2066 [00:05<00:01, 319.31it/s]/tmp/ipykernel_49602/336198212.py:6: UserWarning: submission/evaluation_mask_1007.tif is a low contrast image\n",
      "  io.imsave(f'submission/evaluation_mask_{id}.tif', mask)\n",
      "/tmp/ipykernel_49602/336198212.py:6: UserWarning: submission/evaluation_mask_746.tif is a low contrast image\n",
      "  io.imsave(f'submission/evaluation_mask_{id}.tif', mask)\n",
      "/tmp/ipykernel_49602/336198212.py:6: UserWarning: submission/evaluation_mask_1041.tif is a low contrast image\n",
      "  io.imsave(f'submission/evaluation_mask_{id}.tif', mask)\n",
      "/tmp/ipykernel_49602/336198212.py:6: UserWarning: submission/evaluation_mask_1784.tif is a low contrast image\n",
      "  io.imsave(f'submission/evaluation_mask_{id}.tif', mask)\n",
      "/tmp/ipykernel_49602/336198212.py:6: UserWarning: submission/evaluation_mask_689.tif is a low contrast image\n",
      "  io.imsave(f'submission/evaluation_mask_{id}.tif', mask)\n",
      "/tmp/ipykernel_49602/336198212.py:6: UserWarning: submission/evaluation_mask_222.tif is a low contrast image\n",
      "  io.imsave(f'submission/evaluation_mask_{id}.tif', mask)\n",
      "/tmp/ipykernel_49602/336198212.py:6: UserWarning: submission/evaluation_mask_489.tif is a low contrast image\n",
      "  io.imsave(f'submission/evaluation_mask_{id}.tif', mask)\n",
      "/tmp/ipykernel_49602/336198212.py:6: UserWarning: submission/evaluation_mask_618.tif is a low contrast image\n",
      "  io.imsave(f'submission/evaluation_mask_{id}.tif', mask)\n",
      "/tmp/ipykernel_49602/336198212.py:6: UserWarning: submission/evaluation_mask_1117.tif is a low contrast image\n",
      "  io.imsave(f'submission/evaluation_mask_{id}.tif', mask)\n",
      "/tmp/ipykernel_49602/336198212.py:6: UserWarning: submission/evaluation_mask_377.tif is a low contrast image\n",
      "  io.imsave(f'submission/evaluation_mask_{id}.tif', mask)\n",
      "/tmp/ipykernel_49602/336198212.py:6: UserWarning: submission/evaluation_mask_616.tif is a low contrast image\n",
      "  io.imsave(f'submission/evaluation_mask_{id}.tif', mask)\n",
      "/tmp/ipykernel_49602/336198212.py:6: UserWarning: submission/evaluation_mask_512.tif is a low contrast image\n",
      "  io.imsave(f'submission/evaluation_mask_{id}.tif', mask)\n",
      "/tmp/ipykernel_49602/336198212.py:6: UserWarning: submission/evaluation_mask_53.tif is a low contrast image\n",
      "  io.imsave(f'submission/evaluation_mask_{id}.tif', mask)\n",
      "/tmp/ipykernel_49602/336198212.py:6: UserWarning: submission/evaluation_mask_1747.tif is a low contrast image\n",
      "  io.imsave(f'submission/evaluation_mask_{id}.tif', mask)\n",
      "/tmp/ipykernel_49602/336198212.py:6: UserWarning: submission/evaluation_mask_450.tif is a low contrast image\n",
      "  io.imsave(f'submission/evaluation_mask_{id}.tif', mask)\n",
      "/tmp/ipykernel_49602/336198212.py:6: UserWarning: submission/evaluation_mask_814.tif is a low contrast image\n",
      "  io.imsave(f'submission/evaluation_mask_{id}.tif', mask)\n",
      "/tmp/ipykernel_49602/336198212.py:6: UserWarning: submission/evaluation_mask_1597.tif is a low contrast image\n",
      "  io.imsave(f'submission/evaluation_mask_{id}.tif', mask)\n",
      "/tmp/ipykernel_49602/336198212.py:6: UserWarning: submission/evaluation_mask_338.tif is a low contrast image\n",
      "  io.imsave(f'submission/evaluation_mask_{id}.tif', mask)\n",
      "/tmp/ipykernel_49602/336198212.py:6: UserWarning: submission/evaluation_mask_1414.tif is a low contrast image\n",
      "  io.imsave(f'submission/evaluation_mask_{id}.tif', mask)\n",
      "/tmp/ipykernel_49602/336198212.py:6: UserWarning: submission/evaluation_mask_1667.tif is a low contrast image\n",
      "  io.imsave(f'submission/evaluation_mask_{id}.tif', mask)\n",
      "/tmp/ipykernel_49602/336198212.py:6: UserWarning: submission/evaluation_mask_292.tif is a low contrast image\n",
      "  io.imsave(f'submission/evaluation_mask_{id}.tif', mask)\n",
      "/tmp/ipykernel_49602/336198212.py:6: UserWarning: submission/evaluation_mask_944.tif is a low contrast image\n",
      "  io.imsave(f'submission/evaluation_mask_{id}.tif', mask)\n",
      "/tmp/ipykernel_49602/336198212.py:6: UserWarning: submission/evaluation_mask_1243.tif is a low contrast image\n",
      "  io.imsave(f'submission/evaluation_mask_{id}.tif', mask)\n",
      "/tmp/ipykernel_49602/336198212.py:6: UserWarning: submission/evaluation_mask_538.tif is a low contrast image\n",
      "  io.imsave(f'submission/evaluation_mask_{id}.tif', mask)\n",
      "/tmp/ipykernel_49602/336198212.py:6: UserWarning: submission/evaluation_mask_47.tif is a low contrast image\n",
      "  io.imsave(f'submission/evaluation_mask_{id}.tif', mask)\n",
      "/tmp/ipykernel_49602/336198212.py:6: UserWarning: submission/evaluation_mask_535.tif is a low contrast image\n",
      "  io.imsave(f'submission/evaluation_mask_{id}.tif', mask)\n",
      "/tmp/ipykernel_49602/336198212.py:6: UserWarning: submission/evaluation_mask_1465.tif is a low contrast image\n",
      "  io.imsave(f'submission/evaluation_mask_{id}.tif', mask)\n",
      "/tmp/ipykernel_49602/336198212.py:6: UserWarning: submission/evaluation_mask_1665.tif is a low contrast image\n",
      "  io.imsave(f'submission/evaluation_mask_{id}.tif', mask)\n",
      "/tmp/ipykernel_49602/336198212.py:6: UserWarning: submission/evaluation_mask_1182.tif is a low contrast image\n",
      "  io.imsave(f'submission/evaluation_mask_{id}.tif', mask)\n",
      "/tmp/ipykernel_49602/336198212.py:6: UserWarning: submission/evaluation_mask_1139.tif is a low contrast image\n",
      "  io.imsave(f'submission/evaluation_mask_{id}.tif', mask)\n",
      "/tmp/ipykernel_49602/336198212.py:6: UserWarning: submission/evaluation_mask_1410.tif is a low contrast image\n",
      "  io.imsave(f'submission/evaluation_mask_{id}.tif', mask)\n",
      "/tmp/ipykernel_49602/336198212.py:6: UserWarning: submission/evaluation_mask_2052.tif is a low contrast image\n",
      "  io.imsave(f'submission/evaluation_mask_{id}.tif', mask)\n",
      " 82%|████████▏ | 1694/2066 [00:05<00:01, 314.94it/s]/tmp/ipykernel_49602/336198212.py:6: UserWarning: submission/evaluation_mask_751.tif is a low contrast image\n",
      "  io.imsave(f'submission/evaluation_mask_{id}.tif', mask)\n",
      "/tmp/ipykernel_49602/336198212.py:6: UserWarning: submission/evaluation_mask_1056.tif is a low contrast image\n",
      "  io.imsave(f'submission/evaluation_mask_{id}.tif', mask)\n",
      "/tmp/ipykernel_49602/336198212.py:6: UserWarning: submission/evaluation_mask_1601.tif is a low contrast image\n",
      "  io.imsave(f'submission/evaluation_mask_{id}.tif', mask)\n",
      "/tmp/ipykernel_49602/336198212.py:6: UserWarning: submission/evaluation_mask_1870.tif is a low contrast image\n",
      "  io.imsave(f'submission/evaluation_mask_{id}.tif', mask)\n",
      "/tmp/ipykernel_49602/336198212.py:6: UserWarning: submission/evaluation_mask_892.tif is a low contrast image\n",
      "  io.imsave(f'submission/evaluation_mask_{id}.tif', mask)\n",
      "/tmp/ipykernel_49602/336198212.py:6: UserWarning: submission/evaluation_mask_1598.tif is a low contrast image\n",
      "  io.imsave(f'submission/evaluation_mask_{id}.tif', mask)\n",
      "/tmp/ipykernel_49602/336198212.py:6: UserWarning: submission/evaluation_mask_1074.tif is a low contrast image\n",
      "  io.imsave(f'submission/evaluation_mask_{id}.tif', mask)\n",
      "/tmp/ipykernel_49602/336198212.py:6: UserWarning: submission/evaluation_mask_629.tif is a low contrast image\n",
      "  io.imsave(f'submission/evaluation_mask_{id}.tif', mask)\n",
      "/tmp/ipykernel_49602/336198212.py:6: UserWarning: submission/evaluation_mask_1694.tif is a low contrast image\n",
      "  io.imsave(f'submission/evaluation_mask_{id}.tif', mask)\n",
      "/tmp/ipykernel_49602/336198212.py:6: UserWarning: submission/evaluation_mask_1740.tif is a low contrast image\n",
      "  io.imsave(f'submission/evaluation_mask_{id}.tif', mask)\n",
      "/tmp/ipykernel_49602/336198212.py:6: UserWarning: submission/evaluation_mask_798.tif is a low contrast image\n",
      "  io.imsave(f'submission/evaluation_mask_{id}.tif', mask)\n",
      "/tmp/ipykernel_49602/336198212.py:6: UserWarning: submission/evaluation_mask_91.tif is a low contrast image\n",
      "  io.imsave(f'submission/evaluation_mask_{id}.tif', mask)\n",
      "/tmp/ipykernel_49602/336198212.py:6: UserWarning: submission/evaluation_mask_1296.tif is a low contrast image\n",
      "  io.imsave(f'submission/evaluation_mask_{id}.tif', mask)\n",
      "/tmp/ipykernel_49602/336198212.py:6: UserWarning: submission/evaluation_mask_754.tif is a low contrast image\n",
      "  io.imsave(f'submission/evaluation_mask_{id}.tif', mask)\n",
      "/tmp/ipykernel_49602/336198212.py:6: UserWarning: submission/evaluation_mask_586.tif is a low contrast image\n",
      "  io.imsave(f'submission/evaluation_mask_{id}.tif', mask)\n",
      "/tmp/ipykernel_49602/336198212.py:6: UserWarning: submission/evaluation_mask_1469.tif is a low contrast image\n",
      "  io.imsave(f'submission/evaluation_mask_{id}.tif', mask)\n",
      "/tmp/ipykernel_49602/336198212.py:6: UserWarning: submission/evaluation_mask_1453.tif is a low contrast image\n",
      "  io.imsave(f'submission/evaluation_mask_{id}.tif', mask)\n",
      "/tmp/ipykernel_49602/336198212.py:6: UserWarning: submission/evaluation_mask_65.tif is a low contrast image\n",
      "  io.imsave(f'submission/evaluation_mask_{id}.tif', mask)\n",
      "/tmp/ipykernel_49602/336198212.py:6: UserWarning: submission/evaluation_mask_1817.tif is a low contrast image\n",
      "  io.imsave(f'submission/evaluation_mask_{id}.tif', mask)\n",
      "/tmp/ipykernel_49602/336198212.py:6: UserWarning: submission/evaluation_mask_1130.tif is a low contrast image\n",
      "  io.imsave(f'submission/evaluation_mask_{id}.tif', mask)\n",
      "/tmp/ipykernel_49602/336198212.py:6: UserWarning: submission/evaluation_mask_1132.tif is a low contrast image\n",
      "  io.imsave(f'submission/evaluation_mask_{id}.tif', mask)\n",
      "/tmp/ipykernel_49602/336198212.py:6: UserWarning: submission/evaluation_mask_1258.tif is a low contrast image\n",
      "  io.imsave(f'submission/evaluation_mask_{id}.tif', mask)\n",
      "/tmp/ipykernel_49602/336198212.py:6: UserWarning: submission/evaluation_mask_1072.tif is a low contrast image\n",
      "  io.imsave(f'submission/evaluation_mask_{id}.tif', mask)\n",
      "/tmp/ipykernel_49602/336198212.py:6: UserWarning: submission/evaluation_mask_693.tif is a low contrast image\n",
      "  io.imsave(f'submission/evaluation_mask_{id}.tif', mask)\n",
      "/tmp/ipykernel_49602/336198212.py:6: UserWarning: submission/evaluation_mask_768.tif is a low contrast image\n",
      "  io.imsave(f'submission/evaluation_mask_{id}.tif', mask)\n",
      "/tmp/ipykernel_49602/336198212.py:6: UserWarning: submission/evaluation_mask_288.tif is a low contrast image\n",
      "  io.imsave(f'submission/evaluation_mask_{id}.tif', mask)\n",
      "/tmp/ipykernel_49602/336198212.py:6: UserWarning: submission/evaluation_mask_659.tif is a low contrast image\n",
      "  io.imsave(f'submission/evaluation_mask_{id}.tif', mask)\n",
      "/tmp/ipykernel_49602/336198212.py:6: UserWarning: submission/evaluation_mask_853.tif is a low contrast image\n",
      "  io.imsave(f'submission/evaluation_mask_{id}.tif', mask)\n",
      "/tmp/ipykernel_49602/336198212.py:6: UserWarning: submission/evaluation_mask_68.tif is a low contrast image\n",
      "  io.imsave(f'submission/evaluation_mask_{id}.tif', mask)\n",
      "/tmp/ipykernel_49602/336198212.py:6: UserWarning: submission/evaluation_mask_448.tif is a low contrast image\n",
      "  io.imsave(f'submission/evaluation_mask_{id}.tif', mask)\n",
      "/tmp/ipykernel_49602/336198212.py:6: UserWarning: submission/evaluation_mask_1995.tif is a low contrast image\n",
      "  io.imsave(f'submission/evaluation_mask_{id}.tif', mask)\n",
      "/tmp/ipykernel_49602/336198212.py:6: UserWarning: submission/evaluation_mask_148.tif is a low contrast image\n",
      "  io.imsave(f'submission/evaluation_mask_{id}.tif', mask)\n",
      " 84%|████████▎ | 1726/2066 [00:05<00:01, 315.78it/s]/tmp/ipykernel_49602/336198212.py:6: UserWarning: submission/evaluation_mask_145.tif is a low contrast image\n",
      "  io.imsave(f'submission/evaluation_mask_{id}.tif', mask)\n",
      "/tmp/ipykernel_49602/336198212.py:6: UserWarning: submission/evaluation_mask_1941.tif is a low contrast image\n",
      "  io.imsave(f'submission/evaluation_mask_{id}.tif', mask)\n",
      "/tmp/ipykernel_49602/336198212.py:6: UserWarning: submission/evaluation_mask_231.tif is a low contrast image\n",
      "  io.imsave(f'submission/evaluation_mask_{id}.tif', mask)\n",
      "/tmp/ipykernel_49602/336198212.py:6: UserWarning: submission/evaluation_mask_1895.tif is a low contrast image\n",
      "  io.imsave(f'submission/evaluation_mask_{id}.tif', mask)\n",
      "/tmp/ipykernel_49602/336198212.py:6: UserWarning: submission/evaluation_mask_169.tif is a low contrast image\n",
      "  io.imsave(f'submission/evaluation_mask_{id}.tif', mask)\n",
      "/tmp/ipykernel_49602/336198212.py:6: UserWarning: submission/evaluation_mask_1894.tif is a low contrast image\n",
      "  io.imsave(f'submission/evaluation_mask_{id}.tif', mask)\n",
      "/tmp/ipykernel_49602/336198212.py:6: UserWarning: submission/evaluation_mask_717.tif is a low contrast image\n",
      "  io.imsave(f'submission/evaluation_mask_{id}.tif', mask)\n",
      "/tmp/ipykernel_49602/336198212.py:6: UserWarning: submission/evaluation_mask_1363.tif is a low contrast image\n",
      "  io.imsave(f'submission/evaluation_mask_{id}.tif', mask)\n",
      "/tmp/ipykernel_49602/336198212.py:6: UserWarning: submission/evaluation_mask_479.tif is a low contrast image\n",
      "  io.imsave(f'submission/evaluation_mask_{id}.tif', mask)\n",
      "/tmp/ipykernel_49602/336198212.py:6: UserWarning: submission/evaluation_mask_23.tif is a low contrast image\n",
      "  io.imsave(f'submission/evaluation_mask_{id}.tif', mask)\n",
      "/tmp/ipykernel_49602/336198212.py:6: UserWarning: submission/evaluation_mask_1515.tif is a low contrast image\n",
      "  io.imsave(f'submission/evaluation_mask_{id}.tif', mask)\n",
      "/tmp/ipykernel_49602/336198212.py:6: UserWarning: submission/evaluation_mask_999.tif is a low contrast image\n",
      "  io.imsave(f'submission/evaluation_mask_{id}.tif', mask)\n",
      "/tmp/ipykernel_49602/336198212.py:6: UserWarning: submission/evaluation_mask_457.tif is a low contrast image\n",
      "  io.imsave(f'submission/evaluation_mask_{id}.tif', mask)\n",
      "/tmp/ipykernel_49602/336198212.py:6: UserWarning: submission/evaluation_mask_360.tif is a low contrast image\n",
      "  io.imsave(f'submission/evaluation_mask_{id}.tif', mask)\n",
      "/tmp/ipykernel_49602/336198212.py:6: UserWarning: submission/evaluation_mask_14.tif is a low contrast image\n",
      "  io.imsave(f'submission/evaluation_mask_{id}.tif', mask)\n",
      "/tmp/ipykernel_49602/336198212.py:6: UserWarning: submission/evaluation_mask_878.tif is a low contrast image\n",
      "  io.imsave(f'submission/evaluation_mask_{id}.tif', mask)\n",
      "/tmp/ipykernel_49602/336198212.py:6: UserWarning: submission/evaluation_mask_1407.tif is a low contrast image\n",
      "  io.imsave(f'submission/evaluation_mask_{id}.tif', mask)\n",
      "/tmp/ipykernel_49602/336198212.py:6: UserWarning: submission/evaluation_mask_1986.tif is a low contrast image\n",
      "  io.imsave(f'submission/evaluation_mask_{id}.tif', mask)\n",
      "/tmp/ipykernel_49602/336198212.py:6: UserWarning: submission/evaluation_mask_1085.tif is a low contrast image\n",
      "  io.imsave(f'submission/evaluation_mask_{id}.tif', mask)\n",
      "/tmp/ipykernel_49602/336198212.py:6: UserWarning: submission/evaluation_mask_1484.tif is a low contrast image\n",
      "  io.imsave(f'submission/evaluation_mask_{id}.tif', mask)\n",
      "/tmp/ipykernel_49602/336198212.py:6: UserWarning: submission/evaluation_mask_261.tif is a low contrast image\n",
      "  io.imsave(f'submission/evaluation_mask_{id}.tif', mask)\n",
      "/tmp/ipykernel_49602/336198212.py:6: UserWarning: submission/evaluation_mask_296.tif is a low contrast image\n",
      "  io.imsave(f'submission/evaluation_mask_{id}.tif', mask)\n",
      "/tmp/ipykernel_49602/336198212.py:6: UserWarning: submission/evaluation_mask_349.tif is a low contrast image\n",
      "  io.imsave(f'submission/evaluation_mask_{id}.tif', mask)\n",
      "/tmp/ipykernel_49602/336198212.py:6: UserWarning: submission/evaluation_mask_1218.tif is a low contrast image\n",
      "  io.imsave(f'submission/evaluation_mask_{id}.tif', mask)\n",
      "/tmp/ipykernel_49602/336198212.py:6: UserWarning: submission/evaluation_mask_1862.tif is a low contrast image\n",
      "  io.imsave(f'submission/evaluation_mask_{id}.tif', mask)\n",
      "/tmp/ipykernel_49602/336198212.py:6: UserWarning: submission/evaluation_mask_1942.tif is a low contrast image\n",
      "  io.imsave(f'submission/evaluation_mask_{id}.tif', mask)\n",
      "/tmp/ipykernel_49602/336198212.py:6: UserWarning: submission/evaluation_mask_885.tif is a low contrast image\n",
      "  io.imsave(f'submission/evaluation_mask_{id}.tif', mask)\n",
      "/tmp/ipykernel_49602/336198212.py:6: UserWarning: submission/evaluation_mask_477.tif is a low contrast image\n",
      "  io.imsave(f'submission/evaluation_mask_{id}.tif', mask)\n",
      "/tmp/ipykernel_49602/336198212.py:6: UserWarning: submission/evaluation_mask_1761.tif is a low contrast image\n",
      "  io.imsave(f'submission/evaluation_mask_{id}.tif', mask)\n",
      "/tmp/ipykernel_49602/336198212.py:6: UserWarning: submission/evaluation_mask_964.tif is a low contrast image\n",
      "  io.imsave(f'submission/evaluation_mask_{id}.tif', mask)\n",
      "/tmp/ipykernel_49602/336198212.py:6: UserWarning: submission/evaluation_mask_1433.tif is a low contrast image\n",
      "  io.imsave(f'submission/evaluation_mask_{id}.tif', mask)\n",
      "/tmp/ipykernel_49602/336198212.py:6: UserWarning: submission/evaluation_mask_46.tif is a low contrast image\n",
      "  io.imsave(f'submission/evaluation_mask_{id}.tif', mask)\n",
      " 85%|████████▌ | 1758/2066 [00:05<00:00, 316.99it/s]/tmp/ipykernel_49602/336198212.py:6: UserWarning: submission/evaluation_mask_1858.tif is a low contrast image\n",
      "  io.imsave(f'submission/evaluation_mask_{id}.tif', mask)\n",
      "/tmp/ipykernel_49602/336198212.py:6: UserWarning: submission/evaluation_mask_346.tif is a low contrast image\n",
      "  io.imsave(f'submission/evaluation_mask_{id}.tif', mask)\n",
      "/tmp/ipykernel_49602/336198212.py:6: UserWarning: submission/evaluation_mask_571.tif is a low contrast image\n",
      "  io.imsave(f'submission/evaluation_mask_{id}.tif', mask)\n",
      "/tmp/ipykernel_49602/336198212.py:6: UserWarning: submission/evaluation_mask_568.tif is a low contrast image\n",
      "  io.imsave(f'submission/evaluation_mask_{id}.tif', mask)\n",
      "/tmp/ipykernel_49602/336198212.py:6: UserWarning: submission/evaluation_mask_1360.tif is a low contrast image\n",
      "  io.imsave(f'submission/evaluation_mask_{id}.tif', mask)\n",
      "/tmp/ipykernel_49602/336198212.py:6: UserWarning: submission/evaluation_mask_90.tif is a low contrast image\n",
      "  io.imsave(f'submission/evaluation_mask_{id}.tif', mask)\n",
      "/tmp/ipykernel_49602/336198212.py:6: UserWarning: submission/evaluation_mask_1754.tif is a low contrast image\n",
      "  io.imsave(f'submission/evaluation_mask_{id}.tif', mask)\n",
      "/tmp/ipykernel_49602/336198212.py:6: UserWarning: submission/evaluation_mask_1105.tif is a low contrast image\n",
      "  io.imsave(f'submission/evaluation_mask_{id}.tif', mask)\n",
      "/tmp/ipykernel_49602/336198212.py:6: UserWarning: submission/evaluation_mask_1444.tif is a low contrast image\n",
      "  io.imsave(f'submission/evaluation_mask_{id}.tif', mask)\n",
      "/tmp/ipykernel_49602/336198212.py:6: UserWarning: submission/evaluation_mask_1185.tif is a low contrast image\n",
      "  io.imsave(f'submission/evaluation_mask_{id}.tif', mask)\n",
      "/tmp/ipykernel_49602/336198212.py:6: UserWarning: submission/evaluation_mask_33.tif is a low contrast image\n",
      "  io.imsave(f'submission/evaluation_mask_{id}.tif', mask)\n",
      "/tmp/ipykernel_49602/336198212.py:6: UserWarning: submission/evaluation_mask_1326.tif is a low contrast image\n",
      "  io.imsave(f'submission/evaluation_mask_{id}.tif', mask)\n",
      "/tmp/ipykernel_49602/336198212.py:6: UserWarning: submission/evaluation_mask_1767.tif is a low contrast image\n",
      "  io.imsave(f'submission/evaluation_mask_{id}.tif', mask)\n",
      "/tmp/ipykernel_49602/336198212.py:6: UserWarning: submission/evaluation_mask_1477.tif is a low contrast image\n",
      "  io.imsave(f'submission/evaluation_mask_{id}.tif', mask)\n",
      "/tmp/ipykernel_49602/336198212.py:6: UserWarning: submission/evaluation_mask_1962.tif is a low contrast image\n",
      "  io.imsave(f'submission/evaluation_mask_{id}.tif', mask)\n",
      "/tmp/ipykernel_49602/336198212.py:6: UserWarning: submission/evaluation_mask_41.tif is a low contrast image\n",
      "  io.imsave(f'submission/evaluation_mask_{id}.tif', mask)\n",
      "/tmp/ipykernel_49602/336198212.py:6: UserWarning: submission/evaluation_mask_1269.tif is a low contrast image\n",
      "  io.imsave(f'submission/evaluation_mask_{id}.tif', mask)\n",
      "/tmp/ipykernel_49602/336198212.py:6: UserWarning: submission/evaluation_mask_1403.tif is a low contrast image\n",
      "  io.imsave(f'submission/evaluation_mask_{id}.tif', mask)\n",
      "/tmp/ipykernel_49602/336198212.py:6: UserWarning: submission/evaluation_mask_99.tif is a low contrast image\n",
      "  io.imsave(f'submission/evaluation_mask_{id}.tif', mask)\n",
      "/tmp/ipykernel_49602/336198212.py:6: UserWarning: submission/evaluation_mask_2062.tif is a low contrast image\n",
      "  io.imsave(f'submission/evaluation_mask_{id}.tif', mask)\n",
      "/tmp/ipykernel_49602/336198212.py:6: UserWarning: submission/evaluation_mask_577.tif is a low contrast image\n",
      "  io.imsave(f'submission/evaluation_mask_{id}.tif', mask)\n",
      "/tmp/ipykernel_49602/336198212.py:6: UserWarning: submission/evaluation_mask_488.tif is a low contrast image\n",
      "  io.imsave(f'submission/evaluation_mask_{id}.tif', mask)\n",
      "/tmp/ipykernel_49602/336198212.py:6: UserWarning: submission/evaluation_mask_898.tif is a low contrast image\n",
      "  io.imsave(f'submission/evaluation_mask_{id}.tif', mask)\n",
      "/tmp/ipykernel_49602/336198212.py:6: UserWarning: submission/evaluation_mask_1591.tif is a low contrast image\n",
      "  io.imsave(f'submission/evaluation_mask_{id}.tif', mask)\n",
      "/tmp/ipykernel_49602/336198212.py:6: UserWarning: submission/evaluation_mask_1517.tif is a low contrast image\n",
      "  io.imsave(f'submission/evaluation_mask_{id}.tif', mask)\n",
      "/tmp/ipykernel_49602/336198212.py:6: UserWarning: submission/evaluation_mask_712.tif is a low contrast image\n",
      "  io.imsave(f'submission/evaluation_mask_{id}.tif', mask)\n",
      "/tmp/ipykernel_49602/336198212.py:6: UserWarning: submission/evaluation_mask_510.tif is a low contrast image\n",
      "  io.imsave(f'submission/evaluation_mask_{id}.tif', mask)\n",
      "/tmp/ipykernel_49602/336198212.py:6: UserWarning: submission/evaluation_mask_1758.tif is a low contrast image\n",
      "  io.imsave(f'submission/evaluation_mask_{id}.tif', mask)\n",
      "/tmp/ipykernel_49602/336198212.py:6: UserWarning: submission/evaluation_mask_968.tif is a low contrast image\n",
      "  io.imsave(f'submission/evaluation_mask_{id}.tif', mask)\n",
      "/tmp/ipykernel_49602/336198212.py:6: UserWarning: submission/evaluation_mask_1535.tif is a low contrast image\n",
      "  io.imsave(f'submission/evaluation_mask_{id}.tif', mask)\n",
      "/tmp/ipykernel_49602/336198212.py:6: UserWarning: submission/evaluation_mask_770.tif is a low contrast image\n",
      "  io.imsave(f'submission/evaluation_mask_{id}.tif', mask)\n",
      "/tmp/ipykernel_49602/336198212.py:6: UserWarning: submission/evaluation_mask_529.tif is a low contrast image\n",
      "  io.imsave(f'submission/evaluation_mask_{id}.tif', mask)\n",
      " 87%|████████▋ | 1790/2066 [00:05<00:00, 317.17it/s]/tmp/ipykernel_49602/336198212.py:6: UserWarning: submission/evaluation_mask_1027.tif is a low contrast image\n",
      "  io.imsave(f'submission/evaluation_mask_{id}.tif', mask)\n",
      "/tmp/ipykernel_49602/336198212.py:6: UserWarning: submission/evaluation_mask_1032.tif is a low contrast image\n",
      "  io.imsave(f'submission/evaluation_mask_{id}.tif', mask)\n",
      "/tmp/ipykernel_49602/336198212.py:6: UserWarning: submission/evaluation_mask_307.tif is a low contrast image\n",
      "  io.imsave(f'submission/evaluation_mask_{id}.tif', mask)\n",
      "/tmp/ipykernel_49602/336198212.py:6: UserWarning: submission/evaluation_mask_1230.tif is a low contrast image\n",
      "  io.imsave(f'submission/evaluation_mask_{id}.tif', mask)\n",
      "/tmp/ipykernel_49602/336198212.py:6: UserWarning: submission/evaluation_mask_1186.tif is a low contrast image\n",
      "  io.imsave(f'submission/evaluation_mask_{id}.tif', mask)\n",
      "/tmp/ipykernel_49602/336198212.py:6: UserWarning: submission/evaluation_mask_1095.tif is a low contrast image\n",
      "  io.imsave(f'submission/evaluation_mask_{id}.tif', mask)\n",
      "/tmp/ipykernel_49602/336198212.py:6: UserWarning: submission/evaluation_mask_891.tif is a low contrast image\n",
      "  io.imsave(f'submission/evaluation_mask_{id}.tif', mask)\n",
      "/tmp/ipykernel_49602/336198212.py:6: UserWarning: submission/evaluation_mask_552.tif is a low contrast image\n",
      "  io.imsave(f'submission/evaluation_mask_{id}.tif', mask)\n",
      "/tmp/ipykernel_49602/336198212.py:6: UserWarning: submission/evaluation_mask_1272.tif is a low contrast image\n",
      "  io.imsave(f'submission/evaluation_mask_{id}.tif', mask)\n",
      "/tmp/ipykernel_49602/336198212.py:6: UserWarning: submission/evaluation_mask_129.tif is a low contrast image\n",
      "  io.imsave(f'submission/evaluation_mask_{id}.tif', mask)\n",
      "/tmp/ipykernel_49602/336198212.py:6: UserWarning: submission/evaluation_mask_1948.tif is a low contrast image\n",
      "  io.imsave(f'submission/evaluation_mask_{id}.tif', mask)\n",
      "/tmp/ipykernel_49602/336198212.py:6: UserWarning: submission/evaluation_mask_1684.tif is a low contrast image\n",
      "  io.imsave(f'submission/evaluation_mask_{id}.tif', mask)\n",
      "/tmp/ipykernel_49602/336198212.py:6: UserWarning: submission/evaluation_mask_725.tif is a low contrast image\n",
      "  io.imsave(f'submission/evaluation_mask_{id}.tif', mask)\n",
      "/tmp/ipykernel_49602/336198212.py:6: UserWarning: submission/evaluation_mask_1198.tif is a low contrast image\n",
      "  io.imsave(f'submission/evaluation_mask_{id}.tif', mask)\n",
      "/tmp/ipykernel_49602/336198212.py:6: UserWarning: submission/evaluation_mask_1985.tif is a low contrast image\n",
      "  io.imsave(f'submission/evaluation_mask_{id}.tif', mask)\n",
      "/tmp/ipykernel_49602/336198212.py:6: UserWarning: submission/evaluation_mask_1655.tif is a low contrast image\n",
      "  io.imsave(f'submission/evaluation_mask_{id}.tif', mask)\n",
      "/tmp/ipykernel_49602/336198212.py:6: UserWarning: submission/evaluation_mask_63.tif is a low contrast image\n",
      "  io.imsave(f'submission/evaluation_mask_{id}.tif', mask)\n",
      "/tmp/ipykernel_49602/336198212.py:6: UserWarning: submission/evaluation_mask_1045.tif is a low contrast image\n",
      "  io.imsave(f'submission/evaluation_mask_{id}.tif', mask)\n",
      "/tmp/ipykernel_49602/336198212.py:6: UserWarning: submission/evaluation_mask_1611.tif is a low contrast image\n",
      "  io.imsave(f'submission/evaluation_mask_{id}.tif', mask)\n",
      "/tmp/ipykernel_49602/336198212.py:6: UserWarning: submission/evaluation_mask_468.tif is a low contrast image\n",
      "  io.imsave(f'submission/evaluation_mask_{id}.tif', mask)\n",
      "/tmp/ipykernel_49602/336198212.py:6: UserWarning: submission/evaluation_mask_989.tif is a low contrast image\n",
      "  io.imsave(f'submission/evaluation_mask_{id}.tif', mask)\n",
      "/tmp/ipykernel_49602/336198212.py:6: UserWarning: submission/evaluation_mask_1224.tif is a low contrast image\n",
      "  io.imsave(f'submission/evaluation_mask_{id}.tif', mask)\n",
      "/tmp/ipykernel_49602/336198212.py:6: UserWarning: submission/evaluation_mask_1764.tif is a low contrast image\n",
      "  io.imsave(f'submission/evaluation_mask_{id}.tif', mask)\n",
      "/tmp/ipykernel_49602/336198212.py:6: UserWarning: submission/evaluation_mask_1850.tif is a low contrast image\n",
      "  io.imsave(f'submission/evaluation_mask_{id}.tif', mask)\n",
      "/tmp/ipykernel_49602/336198212.py:6: UserWarning: submission/evaluation_mask_1434.tif is a low contrast image\n",
      "  io.imsave(f'submission/evaluation_mask_{id}.tif', mask)\n",
      "/tmp/ipykernel_49602/336198212.py:6: UserWarning: submission/evaluation_mask_1922.tif is a low contrast image\n",
      "  io.imsave(f'submission/evaluation_mask_{id}.tif', mask)\n",
      "/tmp/ipykernel_49602/336198212.py:6: UserWarning: submission/evaluation_mask_79.tif is a low contrast image\n",
      "  io.imsave(f'submission/evaluation_mask_{id}.tif', mask)\n",
      "/tmp/ipykernel_49602/336198212.py:6: UserWarning: submission/evaluation_mask_268.tif is a low contrast image\n",
      "  io.imsave(f'submission/evaluation_mask_{id}.tif', mask)\n",
      "/tmp/ipykernel_49602/336198212.py:6: UserWarning: submission/evaluation_mask_511.tif is a low contrast image\n",
      "  io.imsave(f'submission/evaluation_mask_{id}.tif', mask)\n",
      "/tmp/ipykernel_49602/336198212.py:6: UserWarning: submission/evaluation_mask_178.tif is a low contrast image\n",
      "  io.imsave(f'submission/evaluation_mask_{id}.tif', mask)\n",
      "/tmp/ipykernel_49602/336198212.py:6: UserWarning: submission/evaluation_mask_17.tif is a low contrast image\n",
      "  io.imsave(f'submission/evaluation_mask_{id}.tif', mask)\n",
      "/tmp/ipykernel_49602/336198212.py:6: UserWarning: submission/evaluation_mask_843.tif is a low contrast image\n",
      "  io.imsave(f'submission/evaluation_mask_{id}.tif', mask)\n",
      " 88%|████████▊ | 1822/2066 [00:05<00:00, 317.40it/s]/tmp/ipykernel_49602/336198212.py:6: UserWarning: submission/evaluation_mask_1183.tif is a low contrast image\n",
      "  io.imsave(f'submission/evaluation_mask_{id}.tif', mask)\n",
      "/tmp/ipykernel_49602/336198212.py:6: UserWarning: submission/evaluation_mask_1746.tif is a low contrast image\n",
      "  io.imsave(f'submission/evaluation_mask_{id}.tif', mask)\n",
      "/tmp/ipykernel_49602/336198212.py:6: UserWarning: submission/evaluation_mask_1192.tif is a low contrast image\n",
      "  io.imsave(f'submission/evaluation_mask_{id}.tif', mask)\n",
      "/tmp/ipykernel_49602/336198212.py:6: UserWarning: submission/evaluation_mask_1939.tif is a low contrast image\n",
      "  io.imsave(f'submission/evaluation_mask_{id}.tif', mask)\n",
      "/tmp/ipykernel_49602/336198212.py:6: UserWarning: submission/evaluation_mask_1881.tif is a low contrast image\n",
      "  io.imsave(f'submission/evaluation_mask_{id}.tif', mask)\n",
      "/tmp/ipykernel_49602/336198212.py:6: UserWarning: submission/evaluation_mask_1101.tif is a low contrast image\n",
      "  io.imsave(f'submission/evaluation_mask_{id}.tif', mask)\n",
      "/tmp/ipykernel_49602/336198212.py:6: UserWarning: submission/evaluation_mask_319.tif is a low contrast image\n",
      "  io.imsave(f'submission/evaluation_mask_{id}.tif', mask)\n",
      "/tmp/ipykernel_49602/336198212.py:6: UserWarning: submission/evaluation_mask_36.tif is a low contrast image\n",
      "  io.imsave(f'submission/evaluation_mask_{id}.tif', mask)\n",
      "/tmp/ipykernel_49602/336198212.py:6: UserWarning: submission/evaluation_mask_265.tif is a low contrast image\n",
      "  io.imsave(f'submission/evaluation_mask_{id}.tif', mask)\n",
      "/tmp/ipykernel_49602/336198212.py:6: UserWarning: submission/evaluation_mask_732.tif is a low contrast image\n",
      "  io.imsave(f'submission/evaluation_mask_{id}.tif', mask)\n",
      "/tmp/ipykernel_49602/336198212.py:6: UserWarning: submission/evaluation_mask_1846.tif is a low contrast image\n",
      "  io.imsave(f'submission/evaluation_mask_{id}.tif', mask)\n",
      "/tmp/ipykernel_49602/336198212.py:6: UserWarning: submission/evaluation_mask_1908.tif is a low contrast image\n",
      "  io.imsave(f'submission/evaluation_mask_{id}.tif', mask)\n",
      "/tmp/ipykernel_49602/336198212.py:6: UserWarning: submission/evaluation_mask_994.tif is a low contrast image\n",
      "  io.imsave(f'submission/evaluation_mask_{id}.tif', mask)\n",
      "/tmp/ipykernel_49602/336198212.py:6: UserWarning: submission/evaluation_mask_612.tif is a low contrast image\n",
      "  io.imsave(f'submission/evaluation_mask_{id}.tif', mask)\n",
      "/tmp/ipykernel_49602/336198212.py:6: UserWarning: submission/evaluation_mask_682.tif is a low contrast image\n",
      "  io.imsave(f'submission/evaluation_mask_{id}.tif', mask)\n",
      "/tmp/ipykernel_49602/336198212.py:6: UserWarning: submission/evaluation_mask_572.tif is a low contrast image\n",
      "  io.imsave(f'submission/evaluation_mask_{id}.tif', mask)\n",
      "/tmp/ipykernel_49602/336198212.py:6: UserWarning: submission/evaluation_mask_308.tif is a low contrast image\n",
      "  io.imsave(f'submission/evaluation_mask_{id}.tif', mask)\n",
      "/tmp/ipykernel_49602/336198212.py:6: UserWarning: submission/evaluation_mask_484.tif is a low contrast image\n",
      "  io.imsave(f'submission/evaluation_mask_{id}.tif', mask)\n",
      "/tmp/ipykernel_49602/336198212.py:6: UserWarning: submission/evaluation_mask_1592.tif is a low contrast image\n",
      "  io.imsave(f'submission/evaluation_mask_{id}.tif', mask)\n",
      "/tmp/ipykernel_49602/336198212.py:6: UserWarning: submission/evaluation_mask_2051.tif is a low contrast image\n",
      "  io.imsave(f'submission/evaluation_mask_{id}.tif', mask)\n",
      "/tmp/ipykernel_49602/336198212.py:6: UserWarning: submission/evaluation_mask_941.tif is a low contrast image\n",
      "  io.imsave(f'submission/evaluation_mask_{id}.tif', mask)\n",
      "/tmp/ipykernel_49602/336198212.py:6: UserWarning: submission/evaluation_mask_2061.tif is a low contrast image\n",
      "  io.imsave(f'submission/evaluation_mask_{id}.tif', mask)\n",
      "/tmp/ipykernel_49602/336198212.py:6: UserWarning: submission/evaluation_mask_92.tif is a low contrast image\n",
      "  io.imsave(f'submission/evaluation_mask_{id}.tif', mask)\n",
      "/tmp/ipykernel_49602/336198212.py:6: UserWarning: submission/evaluation_mask_1020.tif is a low contrast image\n",
      "  io.imsave(f'submission/evaluation_mask_{id}.tif', mask)\n",
      "/tmp/ipykernel_49602/336198212.py:6: UserWarning: submission/evaluation_mask_1899.tif is a low contrast image\n",
      "  io.imsave(f'submission/evaluation_mask_{id}.tif', mask)\n",
      "/tmp/ipykernel_49602/336198212.py:6: UserWarning: submission/evaluation_mask_879.tif is a low contrast image\n",
      "  io.imsave(f'submission/evaluation_mask_{id}.tif', mask)\n",
      "/tmp/ipykernel_49602/336198212.py:6: UserWarning: submission/evaluation_mask_119.tif is a low contrast image\n",
      "  io.imsave(f'submission/evaluation_mask_{id}.tif', mask)\n",
      "/tmp/ipykernel_49602/336198212.py:6: UserWarning: submission/evaluation_mask_1630.tif is a low contrast image\n",
      "  io.imsave(f'submission/evaluation_mask_{id}.tif', mask)\n",
      "/tmp/ipykernel_49602/336198212.py:6: UserWarning: submission/evaluation_mask_127.tif is a low contrast image\n",
      "  io.imsave(f'submission/evaluation_mask_{id}.tif', mask)\n",
      "/tmp/ipykernel_49602/336198212.py:6: UserWarning: submission/evaluation_mask_88.tif is a low contrast image\n",
      "  io.imsave(f'submission/evaluation_mask_{id}.tif', mask)\n",
      "/tmp/ipykernel_49602/336198212.py:6: UserWarning: submission/evaluation_mask_1110.tif is a low contrast image\n",
      "  io.imsave(f'submission/evaluation_mask_{id}.tif', mask)\n",
      "/tmp/ipykernel_49602/336198212.py:6: UserWarning: submission/evaluation_mask_1965.tif is a low contrast image\n",
      "  io.imsave(f'submission/evaluation_mask_{id}.tif', mask)\n",
      " 90%|████████▉ | 1854/2066 [00:05<00:00, 311.97it/s]/tmp/ipykernel_49602/336198212.py:6: UserWarning: submission/evaluation_mask_591.tif is a low contrast image\n",
      "  io.imsave(f'submission/evaluation_mask_{id}.tif', mask)\n",
      "/tmp/ipykernel_49602/336198212.py:6: UserWarning: submission/evaluation_mask_1402.tif is a low contrast image\n",
      "  io.imsave(f'submission/evaluation_mask_{id}.tif', mask)\n",
      "/tmp/ipykernel_49602/336198212.py:6: UserWarning: submission/evaluation_mask_1771.tif is a low contrast image\n",
      "  io.imsave(f'submission/evaluation_mask_{id}.tif', mask)\n",
      "/tmp/ipykernel_49602/336198212.py:6: UserWarning: submission/evaluation_mask_1314.tif is a low contrast image\n",
      "  io.imsave(f'submission/evaluation_mask_{id}.tif', mask)\n",
      "/tmp/ipykernel_49602/336198212.py:6: UserWarning: submission/evaluation_mask_1582.tif is a low contrast image\n",
      "  io.imsave(f'submission/evaluation_mask_{id}.tif', mask)\n",
      "/tmp/ipykernel_49602/336198212.py:6: UserWarning: submission/evaluation_mask_525.tif is a low contrast image\n",
      "  io.imsave(f'submission/evaluation_mask_{id}.tif', mask)\n",
      "/tmp/ipykernel_49602/336198212.py:6: UserWarning: submission/evaluation_mask_424.tif is a low contrast image\n",
      "  io.imsave(f'submission/evaluation_mask_{id}.tif', mask)\n",
      "/tmp/ipykernel_49602/336198212.py:6: UserWarning: submission/evaluation_mask_1498.tif is a low contrast image\n",
      "  io.imsave(f'submission/evaluation_mask_{id}.tif', mask)\n",
      "/tmp/ipykernel_49602/336198212.py:6: UserWarning: submission/evaluation_mask_756.tif is a low contrast image\n",
      "  io.imsave(f'submission/evaluation_mask_{id}.tif', mask)\n",
      "/tmp/ipykernel_49602/336198212.py:6: UserWarning: submission/evaluation_mask_146.tif is a low contrast image\n",
      "  io.imsave(f'submission/evaluation_mask_{id}.tif', mask)\n",
      "/tmp/ipykernel_49602/336198212.py:6: UserWarning: submission/evaluation_mask_1854.tif is a low contrast image\n",
      "  io.imsave(f'submission/evaluation_mask_{id}.tif', mask)\n",
      "/tmp/ipykernel_49602/336198212.py:6: UserWarning: submission/evaluation_mask_785.tif is a low contrast image\n",
      "  io.imsave(f'submission/evaluation_mask_{id}.tif', mask)\n",
      "/tmp/ipykernel_49602/336198212.py:6: UserWarning: submission/evaluation_mask_1696.tif is a low contrast image\n",
      "  io.imsave(f'submission/evaluation_mask_{id}.tif', mask)\n",
      "/tmp/ipykernel_49602/336198212.py:6: UserWarning: submission/evaluation_mask_975.tif is a low contrast image\n",
      "  io.imsave(f'submission/evaluation_mask_{id}.tif', mask)\n",
      "/tmp/ipykernel_49602/336198212.py:6: UserWarning: submission/evaluation_mask_777.tif is a low contrast image\n",
      "  io.imsave(f'submission/evaluation_mask_{id}.tif', mask)\n",
      "/tmp/ipykernel_49602/336198212.py:6: UserWarning: submission/evaluation_mask_1951.tif is a low contrast image\n",
      "  io.imsave(f'submission/evaluation_mask_{id}.tif', mask)\n",
      "/tmp/ipykernel_49602/336198212.py:6: UserWarning: submission/evaluation_mask_1514.tif is a low contrast image\n",
      "  io.imsave(f'submission/evaluation_mask_{id}.tif', mask)\n",
      "/tmp/ipykernel_49602/336198212.py:6: UserWarning: submission/evaluation_mask_396.tif is a low contrast image\n",
      "  io.imsave(f'submission/evaluation_mask_{id}.tif', mask)\n",
      "/tmp/ipykernel_49602/336198212.py:6: UserWarning: submission/evaluation_mask_418.tif is a low contrast image\n",
      "  io.imsave(f'submission/evaluation_mask_{id}.tif', mask)\n",
      "/tmp/ipykernel_49602/336198212.py:6: UserWarning: submission/evaluation_mask_1677.tif is a low contrast image\n",
      "  io.imsave(f'submission/evaluation_mask_{id}.tif', mask)\n",
      "/tmp/ipykernel_49602/336198212.py:6: UserWarning: submission/evaluation_mask_1971.tif is a low contrast image\n",
      "  io.imsave(f'submission/evaluation_mask_{id}.tif', mask)\n",
      "/tmp/ipykernel_49602/336198212.py:6: UserWarning: submission/evaluation_mask_398.tif is a low contrast image\n",
      "  io.imsave(f'submission/evaluation_mask_{id}.tif', mask)\n",
      "/tmp/ipykernel_49602/336198212.py:6: UserWarning: submission/evaluation_mask_1083.tif is a low contrast image\n",
      "  io.imsave(f'submission/evaluation_mask_{id}.tif', mask)\n",
      "/tmp/ipykernel_49602/336198212.py:6: UserWarning: submission/evaluation_mask_1292.tif is a low contrast image\n",
      "  io.imsave(f'submission/evaluation_mask_{id}.tif', mask)\n",
      "/tmp/ipykernel_49602/336198212.py:6: UserWarning: submission/evaluation_mask_1790.tif is a low contrast image\n",
      "  io.imsave(f'submission/evaluation_mask_{id}.tif', mask)\n",
      "/tmp/ipykernel_49602/336198212.py:6: UserWarning: submission/evaluation_mask_623.tif is a low contrast image\n",
      "  io.imsave(f'submission/evaluation_mask_{id}.tif', mask)\n",
      "/tmp/ipykernel_49602/336198212.py:6: UserWarning: submission/evaluation_mask_1813.tif is a low contrast image\n",
      "  io.imsave(f'submission/evaluation_mask_{id}.tif', mask)\n",
      "/tmp/ipykernel_49602/336198212.py:6: UserWarning: submission/evaluation_mask_1530.tif is a low contrast image\n",
      "  io.imsave(f'submission/evaluation_mask_{id}.tif', mask)\n",
      "/tmp/ipykernel_49602/336198212.py:6: UserWarning: submission/evaluation_mask_1722.tif is a low contrast image\n",
      "  io.imsave(f'submission/evaluation_mask_{id}.tif', mask)\n",
      "/tmp/ipykernel_49602/336198212.py:6: UserWarning: submission/evaluation_mask_1512.tif is a low contrast image\n",
      "  io.imsave(f'submission/evaluation_mask_{id}.tif', mask)\n",
      "/tmp/ipykernel_49602/336198212.py:6: UserWarning: submission/evaluation_mask_185.tif is a low contrast image\n",
      "  io.imsave(f'submission/evaluation_mask_{id}.tif', mask)\n",
      "/tmp/ipykernel_49602/336198212.py:6: UserWarning: submission/evaluation_mask_246.tif is a low contrast image\n",
      "  io.imsave(f'submission/evaluation_mask_{id}.tif', mask)\n",
      "/tmp/ipykernel_49602/336198212.py:6: UserWarning: submission/evaluation_mask_1843.tif is a low contrast image\n",
      "  io.imsave(f'submission/evaluation_mask_{id}.tif', mask)\n",
      " 91%|█████████▏| 1887/2066 [00:05<00:00, 314.74it/s]/tmp/ipykernel_49602/336198212.py:6: UserWarning: submission/evaluation_mask_434.tif is a low contrast image\n",
      "  io.imsave(f'submission/evaluation_mask_{id}.tif', mask)\n",
      "/tmp/ipykernel_49602/336198212.py:6: UserWarning: submission/evaluation_mask_462.tif is a low contrast image\n",
      "  io.imsave(f'submission/evaluation_mask_{id}.tif', mask)\n",
      "/tmp/ipykernel_49602/336198212.py:6: UserWarning: submission/evaluation_mask_1196.tif is a low contrast image\n",
      "  io.imsave(f'submission/evaluation_mask_{id}.tif', mask)\n",
      "/tmp/ipykernel_49602/336198212.py:6: UserWarning: submission/evaluation_mask_253.tif is a low contrast image\n",
      "  io.imsave(f'submission/evaluation_mask_{id}.tif', mask)\n",
      "/tmp/ipykernel_49602/336198212.py:6: UserWarning: submission/evaluation_mask_761.tif is a low contrast image\n",
      "  io.imsave(f'submission/evaluation_mask_{id}.tif', mask)\n",
      "/tmp/ipykernel_49602/336198212.py:6: UserWarning: submission/evaluation_mask_297.tif is a low contrast image\n",
      "  io.imsave(f'submission/evaluation_mask_{id}.tif', mask)\n",
      "/tmp/ipykernel_49602/336198212.py:6: UserWarning: submission/evaluation_mask_74.tif is a low contrast image\n",
      "  io.imsave(f'submission/evaluation_mask_{id}.tif', mask)\n",
      "/tmp/ipykernel_49602/336198212.py:6: UserWarning: submission/evaluation_mask_2039.tif is a low contrast image\n",
      "  io.imsave(f'submission/evaluation_mask_{id}.tif', mask)\n",
      "/tmp/ipykernel_49602/336198212.py:6: UserWarning: submission/evaluation_mask_1086.tif is a low contrast image\n",
      "  io.imsave(f'submission/evaluation_mask_{id}.tif', mask)\n",
      "/tmp/ipykernel_49602/336198212.py:6: UserWarning: submission/evaluation_mask_1066.tif is a low contrast image\n",
      "  io.imsave(f'submission/evaluation_mask_{id}.tif', mask)\n",
      "/tmp/ipykernel_49602/336198212.py:6: UserWarning: submission/evaluation_mask_757.tif is a low contrast image\n",
      "  io.imsave(f'submission/evaluation_mask_{id}.tif', mask)\n",
      "/tmp/ipykernel_49602/336198212.py:6: UserWarning: submission/evaluation_mask_677.tif is a low contrast image\n",
      "  io.imsave(f'submission/evaluation_mask_{id}.tif', mask)\n",
      "/tmp/ipykernel_49602/336198212.py:6: UserWarning: submission/evaluation_mask_729.tif is a low contrast image\n",
      "  io.imsave(f'submission/evaluation_mask_{id}.tif', mask)\n",
      "/tmp/ipykernel_49602/336198212.py:6: UserWarning: submission/evaluation_mask_503.tif is a low contrast image\n",
      "  io.imsave(f'submission/evaluation_mask_{id}.tif', mask)\n",
      "/tmp/ipykernel_49602/336198212.py:6: UserWarning: submission/evaluation_mask_1212.tif is a low contrast image\n",
      "  io.imsave(f'submission/evaluation_mask_{id}.tif', mask)\n",
      "/tmp/ipykernel_49602/336198212.py:6: UserWarning: submission/evaluation_mask_1137.tif is a low contrast image\n",
      "  io.imsave(f'submission/evaluation_mask_{id}.tif', mask)\n",
      "/tmp/ipykernel_49602/336198212.py:6: UserWarning: submission/evaluation_mask_779.tif is a low contrast image\n",
      "  io.imsave(f'submission/evaluation_mask_{id}.tif', mask)\n",
      "/tmp/ipykernel_49602/336198212.py:6: UserWarning: submission/evaluation_mask_2056.tif is a low contrast image\n",
      "  io.imsave(f'submission/evaluation_mask_{id}.tif', mask)\n",
      "/tmp/ipykernel_49602/336198212.py:6: UserWarning: submission/evaluation_mask_1509.tif is a low contrast image\n",
      "  io.imsave(f'submission/evaluation_mask_{id}.tif', mask)\n",
      "/tmp/ipykernel_49602/336198212.py:6: UserWarning: submission/evaluation_mask_1824.tif is a low contrast image\n",
      "  io.imsave(f'submission/evaluation_mask_{id}.tif', mask)\n",
      "/tmp/ipykernel_49602/336198212.py:6: UserWarning: submission/evaluation_mask_1989.tif is a low contrast image\n",
      "  io.imsave(f'submission/evaluation_mask_{id}.tif', mask)\n",
      "/tmp/ipykernel_49602/336198212.py:6: UserWarning: submission/evaluation_mask_1672.tif is a low contrast image\n",
      "  io.imsave(f'submission/evaluation_mask_{id}.tif', mask)\n",
      "/tmp/ipykernel_49602/336198212.py:6: UserWarning: submission/evaluation_mask_1953.tif is a low contrast image\n",
      "  io.imsave(f'submission/evaluation_mask_{id}.tif', mask)\n",
      "/tmp/ipykernel_49602/336198212.py:6: UserWarning: submission/evaluation_mask_196.tif is a low contrast image\n",
      "  io.imsave(f'submission/evaluation_mask_{id}.tif', mask)\n",
      "/tmp/ipykernel_49602/336198212.py:6: UserWarning: submission/evaluation_mask_1679.tif is a low contrast image\n",
      "  io.imsave(f'submission/evaluation_mask_{id}.tif', mask)\n",
      "/tmp/ipykernel_49602/336198212.py:6: UserWarning: submission/evaluation_mask_701.tif is a low contrast image\n",
      "  io.imsave(f'submission/evaluation_mask_{id}.tif', mask)\n",
      "/tmp/ipykernel_49602/336198212.py:6: UserWarning: submission/evaluation_mask_198.tif is a low contrast image\n",
      "  io.imsave(f'submission/evaluation_mask_{id}.tif', mask)\n",
      "/tmp/ipykernel_49602/336198212.py:6: UserWarning: submission/evaluation_mask_1259.tif is a low contrast image\n",
      "  io.imsave(f'submission/evaluation_mask_{id}.tif', mask)\n",
      "/tmp/ipykernel_49602/336198212.py:6: UserWarning: submission/evaluation_mask_537.tif is a low contrast image\n",
      "  io.imsave(f'submission/evaluation_mask_{id}.tif', mask)\n",
      "/tmp/ipykernel_49602/336198212.py:6: UserWarning: submission/evaluation_mask_1442.tif is a low contrast image\n",
      "  io.imsave(f'submission/evaluation_mask_{id}.tif', mask)\n",
      "/tmp/ipykernel_49602/336198212.py:6: UserWarning: submission/evaluation_mask_411.tif is a low contrast image\n",
      "  io.imsave(f'submission/evaluation_mask_{id}.tif', mask)\n",
      "/tmp/ipykernel_49602/336198212.py:6: UserWarning: submission/evaluation_mask_1851.tif is a low contrast image\n",
      "  io.imsave(f'submission/evaluation_mask_{id}.tif', mask)\n",
      " 93%|█████████▎| 1919/2066 [00:05<00:00, 311.75it/s]/tmp/ipykernel_49602/336198212.py:6: UserWarning: submission/evaluation_mask_400.tif is a low contrast image\n",
      "  io.imsave(f'submission/evaluation_mask_{id}.tif', mask)\n",
      "/tmp/ipykernel_49602/336198212.py:6: UserWarning: submission/evaluation_mask_1119.tif is a low contrast image\n",
      "  io.imsave(f'submission/evaluation_mask_{id}.tif', mask)\n",
      "/tmp/ipykernel_49602/336198212.py:6: UserWarning: submission/evaluation_mask_1855.tif is a low contrast image\n",
      "  io.imsave(f'submission/evaluation_mask_{id}.tif', mask)\n",
      "/tmp/ipykernel_49602/336198212.py:6: UserWarning: submission/evaluation_mask_216.tif is a low contrast image\n",
      "  io.imsave(f'submission/evaluation_mask_{id}.tif', mask)\n",
      "/tmp/ipykernel_49602/336198212.py:6: UserWarning: submission/evaluation_mask_1080.tif is a low contrast image\n",
      "  io.imsave(f'submission/evaluation_mask_{id}.tif', mask)\n",
      "/tmp/ipykernel_49602/336198212.py:6: UserWarning: submission/evaluation_mask_567.tif is a low contrast image\n",
      "  io.imsave(f'submission/evaluation_mask_{id}.tif', mask)\n",
      "/tmp/ipykernel_49602/336198212.py:6: UserWarning: submission/evaluation_mask_1167.tif is a low contrast image\n",
      "  io.imsave(f'submission/evaluation_mask_{id}.tif', mask)\n",
      "/tmp/ipykernel_49602/336198212.py:6: UserWarning: submission/evaluation_mask_868.tif is a low contrast image\n",
      "  io.imsave(f'submission/evaluation_mask_{id}.tif', mask)\n",
      "/tmp/ipykernel_49602/336198212.py:6: UserWarning: submission/evaluation_mask_312.tif is a low contrast image\n",
      "  io.imsave(f'submission/evaluation_mask_{id}.tif', mask)\n",
      "/tmp/ipykernel_49602/336198212.py:6: UserWarning: submission/evaluation_mask_741.tif is a low contrast image\n",
      "  io.imsave(f'submission/evaluation_mask_{id}.tif', mask)\n",
      "/tmp/ipykernel_49602/336198212.py:6: UserWarning: submission/evaluation_mask_37.tif is a low contrast image\n",
      "  io.imsave(f'submission/evaluation_mask_{id}.tif', mask)\n",
      "/tmp/ipykernel_49602/336198212.py:6: UserWarning: submission/evaluation_mask_563.tif is a low contrast image\n",
      "  io.imsave(f'submission/evaluation_mask_{id}.tif', mask)\n",
      "/tmp/ipykernel_49602/336198212.py:6: UserWarning: submission/evaluation_mask_929.tif is a low contrast image\n",
      "  io.imsave(f'submission/evaluation_mask_{id}.tif', mask)\n",
      "/tmp/ipykernel_49602/336198212.py:6: UserWarning: submission/evaluation_mask_1988.tif is a low contrast image\n",
      "  io.imsave(f'submission/evaluation_mask_{id}.tif', mask)\n",
      "/tmp/ipykernel_49602/336198212.py:6: UserWarning: submission/evaluation_mask_32.tif is a low contrast image\n",
      "  io.imsave(f'submission/evaluation_mask_{id}.tif', mask)\n",
      "/tmp/ipykernel_49602/336198212.py:6: UserWarning: submission/evaluation_mask_1282.tif is a low contrast image\n",
      "  io.imsave(f'submission/evaluation_mask_{id}.tif', mask)\n",
      "/tmp/ipykernel_49602/336198212.py:6: UserWarning: submission/evaluation_mask_1967.tif is a low contrast image\n",
      "  io.imsave(f'submission/evaluation_mask_{id}.tif', mask)\n",
      "/tmp/ipykernel_49602/336198212.py:6: UserWarning: submission/evaluation_mask_1578.tif is a low contrast image\n",
      "  io.imsave(f'submission/evaluation_mask_{id}.tif', mask)\n",
      "/tmp/ipykernel_49602/336198212.py:6: UserWarning: submission/evaluation_mask_137.tif is a low contrast image\n",
      "  io.imsave(f'submission/evaluation_mask_{id}.tif', mask)\n",
      "/tmp/ipykernel_49602/336198212.py:6: UserWarning: submission/evaluation_mask_267.tif is a low contrast image\n",
      "  io.imsave(f'submission/evaluation_mask_{id}.tif', mask)\n",
      "/tmp/ipykernel_49602/336198212.py:6: UserWarning: submission/evaluation_mask_527.tif is a low contrast image\n",
      "  io.imsave(f'submission/evaluation_mask_{id}.tif', mask)\n",
      "/tmp/ipykernel_49602/336198212.py:6: UserWarning: submission/evaluation_mask_1928.tif is a low contrast image\n",
      "  io.imsave(f'submission/evaluation_mask_{id}.tif', mask)\n",
      "/tmp/ipykernel_49602/336198212.py:6: UserWarning: submission/evaluation_mask_1199.tif is a low contrast image\n",
      "  io.imsave(f'submission/evaluation_mask_{id}.tif', mask)\n",
      "/tmp/ipykernel_49602/336198212.py:6: UserWarning: submission/evaluation_mask_1319.tif is a low contrast image\n",
      "  io.imsave(f'submission/evaluation_mask_{id}.tif', mask)\n",
      "/tmp/ipykernel_49602/336198212.py:6: UserWarning: submission/evaluation_mask_1013.tif is a low contrast image\n",
      "  io.imsave(f'submission/evaluation_mask_{id}.tif', mask)\n",
      "/tmp/ipykernel_49602/336198212.py:6: UserWarning: submission/evaluation_mask_1687.tif is a low contrast image\n",
      "  io.imsave(f'submission/evaluation_mask_{id}.tif', mask)\n",
      "/tmp/ipykernel_49602/336198212.py:6: UserWarning: submission/evaluation_mask_1071.tif is a low contrast image\n",
      "  io.imsave(f'submission/evaluation_mask_{id}.tif', mask)\n",
      "/tmp/ipykernel_49602/336198212.py:6: UserWarning: submission/evaluation_mask_1666.tif is a low contrast image\n",
      "  io.imsave(f'submission/evaluation_mask_{id}.tif', mask)\n",
      "/tmp/ipykernel_49602/336198212.py:6: UserWarning: submission/evaluation_mask_540.tif is a low contrast image\n",
      "  io.imsave(f'submission/evaluation_mask_{id}.tif', mask)\n",
      "/tmp/ipykernel_49602/336198212.py:6: UserWarning: submission/evaluation_mask_1826.tif is a low contrast image\n",
      "  io.imsave(f'submission/evaluation_mask_{id}.tif', mask)\n",
      "/tmp/ipykernel_49602/336198212.py:6: UserWarning: submission/evaluation_mask_141.tif is a low contrast image\n",
      "  io.imsave(f'submission/evaluation_mask_{id}.tif', mask)\n",
      "/tmp/ipykernel_49602/336198212.py:6: UserWarning: submission/evaluation_mask_1001.tif is a low contrast image\n",
      "  io.imsave(f'submission/evaluation_mask_{id}.tif', mask)\n",
      " 94%|█████████▍| 1951/2066 [00:06<00:00, 309.92it/s]/tmp/ipykernel_49602/336198212.py:6: UserWarning: submission/evaluation_mask_599.tif is a low contrast image\n",
      "  io.imsave(f'submission/evaluation_mask_{id}.tif', mask)\n",
      "/tmp/ipykernel_49602/336198212.py:6: UserWarning: submission/evaluation_mask_251.tif is a low contrast image\n",
      "  io.imsave(f'submission/evaluation_mask_{id}.tif', mask)\n",
      "/tmp/ipykernel_49602/336198212.py:6: UserWarning: submission/evaluation_mask_374.tif is a low contrast image\n",
      "  io.imsave(f'submission/evaluation_mask_{id}.tif', mask)\n",
      "/tmp/ipykernel_49602/336198212.py:6: UserWarning: submission/evaluation_mask_818.tif is a low contrast image\n",
      "  io.imsave(f'submission/evaluation_mask_{id}.tif', mask)\n",
      "/tmp/ipykernel_49602/336198212.py:6: UserWarning: submission/evaluation_mask_931.tif is a low contrast image\n",
      "  io.imsave(f'submission/evaluation_mask_{id}.tif', mask)\n",
      "/tmp/ipykernel_49602/336198212.py:6: UserWarning: submission/evaluation_mask_208.tif is a low contrast image\n",
      "  io.imsave(f'submission/evaluation_mask_{id}.tif', mask)\n",
      "/tmp/ipykernel_49602/336198212.py:6: UserWarning: submission/evaluation_mask_970.tif is a low contrast image\n",
      "  io.imsave(f'submission/evaluation_mask_{id}.tif', mask)\n",
      "/tmp/ipykernel_49602/336198212.py:6: UserWarning: submission/evaluation_mask_670.tif is a low contrast image\n",
      "  io.imsave(f'submission/evaluation_mask_{id}.tif', mask)\n",
      "/tmp/ipykernel_49602/336198212.py:6: UserWarning: submission/evaluation_mask_1561.tif is a low contrast image\n",
      "  io.imsave(f'submission/evaluation_mask_{id}.tif', mask)\n",
      "/tmp/ipykernel_49602/336198212.py:6: UserWarning: submission/evaluation_mask_1907.tif is a low contrast image\n",
      "  io.imsave(f'submission/evaluation_mask_{id}.tif', mask)\n",
      "/tmp/ipykernel_49602/336198212.py:6: UserWarning: submission/evaluation_mask_416.tif is a low contrast image\n",
      "  io.imsave(f'submission/evaluation_mask_{id}.tif', mask)\n",
      "/tmp/ipykernel_49602/336198212.py:6: UserWarning: submission/evaluation_mask_554.tif is a low contrast image\n",
      "  io.imsave(f'submission/evaluation_mask_{id}.tif', mask)\n",
      "/tmp/ipykernel_49602/336198212.py:6: UserWarning: submission/evaluation_mask_610.tif is a low contrast image\n",
      "  io.imsave(f'submission/evaluation_mask_{id}.tif', mask)\n",
      "/tmp/ipykernel_49602/336198212.py:6: UserWarning: submission/evaluation_mask_869.tif is a low contrast image\n",
      "  io.imsave(f'submission/evaluation_mask_{id}.tif', mask)\n",
      "/tmp/ipykernel_49602/336198212.py:6: UserWarning: submission/evaluation_mask_1358.tif is a low contrast image\n",
      "  io.imsave(f'submission/evaluation_mask_{id}.tif', mask)\n",
      "/tmp/ipykernel_49602/336198212.py:6: UserWarning: submission/evaluation_mask_1593.tif is a low contrast image\n",
      "  io.imsave(f'submission/evaluation_mask_{id}.tif', mask)\n",
      "/tmp/ipykernel_49602/336198212.py:6: UserWarning: submission/evaluation_mask_1954.tif is a low contrast image\n",
      "  io.imsave(f'submission/evaluation_mask_{id}.tif', mask)\n",
      "/tmp/ipykernel_49602/336198212.py:6: UserWarning: submission/evaluation_mask_1188.tif is a low contrast image\n",
      "  io.imsave(f'submission/evaluation_mask_{id}.tif', mask)\n",
      "/tmp/ipykernel_49602/336198212.py:6: UserWarning: submission/evaluation_mask_590.tif is a low contrast image\n",
      "  io.imsave(f'submission/evaluation_mask_{id}.tif', mask)\n",
      "/tmp/ipykernel_49602/336198212.py:6: UserWarning: submission/evaluation_mask_2065.tif is a low contrast image\n",
      "  io.imsave(f'submission/evaluation_mask_{id}.tif', mask)\n",
      "/tmp/ipykernel_49602/336198212.py:6: UserWarning: submission/evaluation_mask_1421.tif is a low contrast image\n",
      "  io.imsave(f'submission/evaluation_mask_{id}.tif', mask)\n",
      "/tmp/ipykernel_49602/336198212.py:6: UserWarning: submission/evaluation_mask_405.tif is a low contrast image\n",
      "  io.imsave(f'submission/evaluation_mask_{id}.tif', mask)\n",
      "/tmp/ipykernel_49602/336198212.py:6: UserWarning: submission/evaluation_mask_1656.tif is a low contrast image\n",
      "  io.imsave(f'submission/evaluation_mask_{id}.tif', mask)\n",
      "/tmp/ipykernel_49602/336198212.py:6: UserWarning: submission/evaluation_mask_2008.tif is a low contrast image\n",
      "  io.imsave(f'submission/evaluation_mask_{id}.tif', mask)\n",
      "/tmp/ipykernel_49602/336198212.py:6: UserWarning: submission/evaluation_mask_1574.tif is a low contrast image\n",
      "  io.imsave(f'submission/evaluation_mask_{id}.tif', mask)\n",
      "/tmp/ipykernel_49602/336198212.py:6: UserWarning: submission/evaluation_mask_1897.tif is a low contrast image\n",
      "  io.imsave(f'submission/evaluation_mask_{id}.tif', mask)\n",
      "/tmp/ipykernel_49602/336198212.py:6: UserWarning: submission/evaluation_mask_1172.tif is a low contrast image\n",
      "  io.imsave(f'submission/evaluation_mask_{id}.tif', mask)\n",
      "/tmp/ipykernel_49602/336198212.py:6: UserWarning: submission/evaluation_mask_413.tif is a low contrast image\n",
      "  io.imsave(f'submission/evaluation_mask_{id}.tif', mask)\n",
      "/tmp/ipykernel_49602/336198212.py:6: UserWarning: submission/evaluation_mask_1973.tif is a low contrast image\n",
      "  io.imsave(f'submission/evaluation_mask_{id}.tif', mask)\n",
      "/tmp/ipykernel_49602/336198212.py:6: UserWarning: submission/evaluation_mask_905.tif is a low contrast image\n",
      "  io.imsave(f'submission/evaluation_mask_{id}.tif', mask)\n",
      "/tmp/ipykernel_49602/336198212.py:6: UserWarning: submission/evaluation_mask_1830.tif is a low contrast image\n",
      "  io.imsave(f'submission/evaluation_mask_{id}.tif', mask)\n",
      "/tmp/ipykernel_49602/336198212.py:6: UserWarning: submission/evaluation_mask_1176.tif is a low contrast image\n",
      "  io.imsave(f'submission/evaluation_mask_{id}.tif', mask)\n",
      " 96%|█████████▌| 1983/2066 [00:06<00:00, 305.42it/s]/tmp/ipykernel_49602/336198212.py:6: UserWarning: submission/evaluation_mask_478.tif is a low contrast image\n",
      "  io.imsave(f'submission/evaluation_mask_{id}.tif', mask)\n",
      "/tmp/ipykernel_49602/336198212.py:6: UserWarning: submission/evaluation_mask_1396.tif is a low contrast image\n",
      "  io.imsave(f'submission/evaluation_mask_{id}.tif', mask)\n",
      "/tmp/ipykernel_49602/336198212.py:6: UserWarning: submission/evaluation_mask_1082.tif is a low contrast image\n",
      "  io.imsave(f'submission/evaluation_mask_{id}.tif', mask)\n",
      "/tmp/ipykernel_49602/336198212.py:6: UserWarning: submission/evaluation_mask_1246.tif is a low contrast image\n",
      "  io.imsave(f'submission/evaluation_mask_{id}.tif', mask)\n",
      "/tmp/ipykernel_49602/336198212.py:6: UserWarning: submission/evaluation_mask_1200.tif is a low contrast image\n",
      "  io.imsave(f'submission/evaluation_mask_{id}.tif', mask)\n",
      "/tmp/ipykernel_49602/336198212.py:6: UserWarning: submission/evaluation_mask_1845.tif is a low contrast image\n",
      "  io.imsave(f'submission/evaluation_mask_{id}.tif', mask)\n",
      "/tmp/ipykernel_49602/336198212.py:6: UserWarning: submission/evaluation_mask_703.tif is a low contrast image\n",
      "  io.imsave(f'submission/evaluation_mask_{id}.tif', mask)\n",
      "/tmp/ipykernel_49602/336198212.py:6: UserWarning: submission/evaluation_mask_1375.tif is a low contrast image\n",
      "  io.imsave(f'submission/evaluation_mask_{id}.tif', mask)\n",
      "/tmp/ipykernel_49602/336198212.py:6: UserWarning: submission/evaluation_mask_313.tif is a low contrast image\n",
      "  io.imsave(f'submission/evaluation_mask_{id}.tif', mask)\n",
      "/tmp/ipykernel_49602/336198212.py:6: UserWarning: submission/evaluation_mask_1998.tif is a low contrast image\n",
      "  io.imsave(f'submission/evaluation_mask_{id}.tif', mask)\n",
      "/tmp/ipykernel_49602/336198212.py:6: UserWarning: submission/evaluation_mask_1248.tif is a low contrast image\n",
      "  io.imsave(f'submission/evaluation_mask_{id}.tif', mask)\n",
      "/tmp/ipykernel_49602/336198212.py:6: UserWarning: submission/evaluation_mask_621.tif is a low contrast image\n",
      "  io.imsave(f'submission/evaluation_mask_{id}.tif', mask)\n",
      "/tmp/ipykernel_49602/336198212.py:6: UserWarning: submission/evaluation_mask_1236.tif is a low contrast image\n",
      "  io.imsave(f'submission/evaluation_mask_{id}.tif', mask)\n",
      "/tmp/ipykernel_49602/336198212.py:6: UserWarning: submission/evaluation_mask_1023.tif is a low contrast image\n",
      "  io.imsave(f'submission/evaluation_mask_{id}.tif', mask)\n",
      "/tmp/ipykernel_49602/336198212.py:6: UserWarning: submission/evaluation_mask_220.tif is a low contrast image\n",
      "  io.imsave(f'submission/evaluation_mask_{id}.tif', mask)\n",
      "/tmp/ipykernel_49602/336198212.py:6: UserWarning: submission/evaluation_mask_1624.tif is a low contrast image\n",
      "  io.imsave(f'submission/evaluation_mask_{id}.tif', mask)\n",
      "/tmp/ipykernel_49602/336198212.py:6: UserWarning: submission/evaluation_mask_1960.tif is a low contrast image\n",
      "  io.imsave(f'submission/evaluation_mask_{id}.tif', mask)\n",
      "/tmp/ipykernel_49602/336198212.py:6: UserWarning: submission/evaluation_mask_1775.tif is a low contrast image\n",
      "  io.imsave(f'submission/evaluation_mask_{id}.tif', mask)\n",
      "/tmp/ipykernel_49602/336198212.py:6: UserWarning: submission/evaluation_mask_1842.tif is a low contrast image\n",
      "  io.imsave(f'submission/evaluation_mask_{id}.tif', mask)\n",
      "/tmp/ipykernel_49602/336198212.py:6: UserWarning: submission/evaluation_mask_1674.tif is a low contrast image\n",
      "  io.imsave(f'submission/evaluation_mask_{id}.tif', mask)\n",
      "/tmp/ipykernel_49602/336198212.py:6: UserWarning: submission/evaluation_mask_93.tif is a low contrast image\n",
      "  io.imsave(f'submission/evaluation_mask_{id}.tif', mask)\n",
      "/tmp/ipykernel_49602/336198212.py:6: UserWarning: submission/evaluation_mask_1165.tif is a low contrast image\n",
      "  io.imsave(f'submission/evaluation_mask_{id}.tif', mask)\n",
      "/tmp/ipykernel_49602/336198212.py:6: UserWarning: submission/evaluation_mask_1763.tif is a low contrast image\n",
      "  io.imsave(f'submission/evaluation_mask_{id}.tif', mask)\n",
      "/tmp/ipykernel_49602/336198212.py:6: UserWarning: submission/evaluation_mask_1089.tif is a low contrast image\n",
      "  io.imsave(f'submission/evaluation_mask_{id}.tif', mask)\n",
      "/tmp/ipykernel_49602/336198212.py:6: UserWarning: submission/evaluation_mask_94.tif is a low contrast image\n",
      "  io.imsave(f'submission/evaluation_mask_{id}.tif', mask)\n",
      "/tmp/ipykernel_49602/336198212.py:6: UserWarning: submission/evaluation_mask_233.tif is a low contrast image\n",
      "  io.imsave(f'submission/evaluation_mask_{id}.tif', mask)\n",
      "/tmp/ipykernel_49602/336198212.py:6: UserWarning: submission/evaluation_mask_936.tif is a low contrast image\n",
      "  io.imsave(f'submission/evaluation_mask_{id}.tif', mask)\n",
      "/tmp/ipykernel_49602/336198212.py:6: UserWarning: submission/evaluation_mask_180.tif is a low contrast image\n",
      "  io.imsave(f'submission/evaluation_mask_{id}.tif', mask)\n",
      "/tmp/ipykernel_49602/336198212.py:6: UserWarning: submission/evaluation_mask_1999.tif is a low contrast image\n",
      "  io.imsave(f'submission/evaluation_mask_{id}.tif', mask)\n",
      "/tmp/ipykernel_49602/336198212.py:6: UserWarning: submission/evaluation_mask_692.tif is a low contrast image\n",
      "  io.imsave(f'submission/evaluation_mask_{id}.tif', mask)\n",
      "/tmp/ipykernel_49602/336198212.py:6: UserWarning: submission/evaluation_mask_1067.tif is a low contrast image\n",
      "  io.imsave(f'submission/evaluation_mask_{id}.tif', mask)\n",
      "/tmp/ipykernel_49602/336198212.py:6: UserWarning: submission/evaluation_mask_1770.tif is a low contrast image\n",
      "  io.imsave(f'submission/evaluation_mask_{id}.tif', mask)\n",
      " 98%|█████████▊| 2015/2066 [00:06<00:00, 307.76it/s]/tmp/ipykernel_49602/336198212.py:6: UserWarning: submission/evaluation_mask_1432.tif is a low contrast image\n",
      "  io.imsave(f'submission/evaluation_mask_{id}.tif', mask)\n",
      "/tmp/ipykernel_49602/336198212.py:6: UserWarning: submission/evaluation_mask_272.tif is a low contrast image\n",
      "  io.imsave(f'submission/evaluation_mask_{id}.tif', mask)\n",
      "/tmp/ipykernel_49602/336198212.py:6: UserWarning: submission/evaluation_mask_1053.tif is a low contrast image\n",
      "  io.imsave(f'submission/evaluation_mask_{id}.tif', mask)\n",
      "/tmp/ipykernel_49602/336198212.py:6: UserWarning: submission/evaluation_mask_280.tif is a low contrast image\n",
      "  io.imsave(f'submission/evaluation_mask_{id}.tif', mask)\n",
      "/tmp/ipykernel_49602/336198212.py:6: UserWarning: submission/evaluation_mask_1295.tif is a low contrast image\n",
      "  io.imsave(f'submission/evaluation_mask_{id}.tif', mask)\n",
      "/tmp/ipykernel_49602/336198212.py:6: UserWarning: submission/evaluation_mask_1420.tif is a low contrast image\n",
      "  io.imsave(f'submission/evaluation_mask_{id}.tif', mask)\n",
      "/tmp/ipykernel_49602/336198212.py:6: UserWarning: submission/evaluation_mask_1387.tif is a low contrast image\n",
      "  io.imsave(f'submission/evaluation_mask_{id}.tif', mask)\n",
      "/tmp/ipykernel_49602/336198212.py:6: UserWarning: submission/evaluation_mask_276.tif is a low contrast image\n",
      "  io.imsave(f'submission/evaluation_mask_{id}.tif', mask)\n",
      "/tmp/ipykernel_49602/336198212.py:6: UserWarning: submission/evaluation_mask_1865.tif is a low contrast image\n",
      "  io.imsave(f'submission/evaluation_mask_{id}.tif', mask)\n",
      "/tmp/ipykernel_49602/336198212.py:6: UserWarning: submission/evaluation_mask_1040.tif is a low contrast image\n",
      "  io.imsave(f'submission/evaluation_mask_{id}.tif', mask)\n",
      "/tmp/ipykernel_49602/336198212.py:6: UserWarning: submission/evaluation_mask_134.tif is a low contrast image\n",
      "  io.imsave(f'submission/evaluation_mask_{id}.tif', mask)\n",
      "/tmp/ipykernel_49602/336198212.py:6: UserWarning: submission/evaluation_mask_97.tif is a low contrast image\n",
      "  io.imsave(f'submission/evaluation_mask_{id}.tif', mask)\n",
      "/tmp/ipykernel_49602/336198212.py:6: UserWarning: submission/evaluation_mask_1893.tif is a low contrast image\n",
      "  io.imsave(f'submission/evaluation_mask_{id}.tif', mask)\n",
      "/tmp/ipykernel_49602/336198212.py:6: UserWarning: submission/evaluation_mask_1284.tif is a low contrast image\n",
      "  io.imsave(f'submission/evaluation_mask_{id}.tif', mask)\n",
      "/tmp/ipykernel_49602/336198212.py:6: UserWarning: submission/evaluation_mask_801.tif is a low contrast image\n",
      "  io.imsave(f'submission/evaluation_mask_{id}.tif', mask)\n",
      "/tmp/ipykernel_49602/336198212.py:6: UserWarning: submission/evaluation_mask_601.tif is a low contrast image\n",
      "  io.imsave(f'submission/evaluation_mask_{id}.tif', mask)\n",
      "/tmp/ipykernel_49602/336198212.py:6: UserWarning: submission/evaluation_mask_11.tif is a low contrast image\n",
      "  io.imsave(f'submission/evaluation_mask_{id}.tif', mask)\n",
      "/tmp/ipykernel_49602/336198212.py:6: UserWarning: submission/evaluation_mask_179.tif is a low contrast image\n",
      "  io.imsave(f'submission/evaluation_mask_{id}.tif', mask)\n",
      "/tmp/ipykernel_49602/336198212.py:6: UserWarning: submission/evaluation_mask_1368.tif is a low contrast image\n",
      "  io.imsave(f'submission/evaluation_mask_{id}.tif', mask)\n",
      "/tmp/ipykernel_49602/336198212.py:6: UserWarning: submission/evaluation_mask_321.tif is a low contrast image\n",
      "  io.imsave(f'submission/evaluation_mask_{id}.tif', mask)\n",
      "/tmp/ipykernel_49602/336198212.py:6: UserWarning: submission/evaluation_mask_456.tif is a low contrast image\n",
      "  io.imsave(f'submission/evaluation_mask_{id}.tif', mask)\n",
      "/tmp/ipykernel_49602/336198212.py:6: UserWarning: submission/evaluation_mask_16.tif is a low contrast image\n",
      "  io.imsave(f'submission/evaluation_mask_{id}.tif', mask)\n",
      "/tmp/ipykernel_49602/336198212.py:6: UserWarning: submission/evaluation_mask_635.tif is a low contrast image\n",
      "  io.imsave(f'submission/evaluation_mask_{id}.tif', mask)\n",
      "/tmp/ipykernel_49602/336198212.py:6: UserWarning: submission/evaluation_mask_541.tif is a low contrast image\n",
      "  io.imsave(f'submission/evaluation_mask_{id}.tif', mask)\n",
      "/tmp/ipykernel_49602/336198212.py:6: UserWarning: submission/evaluation_mask_775.tif is a low contrast image\n",
      "  io.imsave(f'submission/evaluation_mask_{id}.tif', mask)\n",
      "/tmp/ipykernel_49602/336198212.py:6: UserWarning: submission/evaluation_mask_1768.tif is a low contrast image\n",
      "  io.imsave(f'submission/evaluation_mask_{id}.tif', mask)\n",
      "/tmp/ipykernel_49602/336198212.py:6: UserWarning: submission/evaluation_mask_498.tif is a low contrast image\n",
      "  io.imsave(f'submission/evaluation_mask_{id}.tif', mask)\n",
      "/tmp/ipykernel_49602/336198212.py:6: UserWarning: submission/evaluation_mask_1159.tif is a low contrast image\n",
      "  io.imsave(f'submission/evaluation_mask_{id}.tif', mask)\n",
      "/tmp/ipykernel_49602/336198212.py:6: UserWarning: submission/evaluation_mask_1202.tif is a low contrast image\n",
      "  io.imsave(f'submission/evaluation_mask_{id}.tif', mask)\n",
      "/tmp/ipykernel_49602/336198212.py:6: UserWarning: submission/evaluation_mask_1309.tif is a low contrast image\n",
      "  io.imsave(f'submission/evaluation_mask_{id}.tif', mask)\n",
      "/tmp/ipykernel_49602/336198212.py:6: UserWarning: submission/evaluation_mask_1393.tif is a low contrast image\n",
      "  io.imsave(f'submission/evaluation_mask_{id}.tif', mask)\n",
      "/tmp/ipykernel_49602/336198212.py:6: UserWarning: submission/evaluation_mask_1776.tif is a low contrast image\n",
      "  io.imsave(f'submission/evaluation_mask_{id}.tif', mask)\n",
      " 99%|█████████▉| 2047/2066 [00:06<00:00, 309.44it/s]/tmp/ipykernel_49602/336198212.py:6: UserWarning: submission/evaluation_mask_410.tif is a low contrast image\n",
      "  io.imsave(f'submission/evaluation_mask_{id}.tif', mask)\n",
      "/tmp/ipykernel_49602/336198212.py:6: UserWarning: submission/evaluation_mask_1241.tif is a low contrast image\n",
      "  io.imsave(f'submission/evaluation_mask_{id}.tif', mask)\n",
      "/tmp/ipykernel_49602/336198212.py:6: UserWarning: submission/evaluation_mask_1277.tif is a low contrast image\n",
      "  io.imsave(f'submission/evaluation_mask_{id}.tif', mask)\n",
      "/tmp/ipykernel_49602/336198212.py:6: UserWarning: submission/evaluation_mask_1542.tif is a low contrast image\n",
      "  io.imsave(f'submission/evaluation_mask_{id}.tif', mask)\n",
      "/tmp/ipykernel_49602/336198212.py:6: UserWarning: submission/evaluation_mask_52.tif is a low contrast image\n",
      "  io.imsave(f'submission/evaluation_mask_{id}.tif', mask)\n",
      "/tmp/ipykernel_49602/336198212.py:6: UserWarning: submission/evaluation_mask_1992.tif is a low contrast image\n",
      "  io.imsave(f'submission/evaluation_mask_{id}.tif', mask)\n",
      "/tmp/ipykernel_49602/336198212.py:6: UserWarning: submission/evaluation_mask_1203.tif is a low contrast image\n",
      "  io.imsave(f'submission/evaluation_mask_{id}.tif', mask)\n",
      "/tmp/ipykernel_49602/336198212.py:6: UserWarning: submission/evaluation_mask_1324.tif is a low contrast image\n",
      "  io.imsave(f'submission/evaluation_mask_{id}.tif', mask)\n",
      "/tmp/ipykernel_49602/336198212.py:6: UserWarning: submission/evaluation_mask_345.tif is a low contrast image\n",
      "  io.imsave(f'submission/evaluation_mask_{id}.tif', mask)\n",
      "/tmp/ipykernel_49602/336198212.py:6: UserWarning: submission/evaluation_mask_939.tif is a low contrast image\n",
      "  io.imsave(f'submission/evaluation_mask_{id}.tif', mask)\n",
      "/tmp/ipykernel_49602/336198212.py:6: UserWarning: submission/evaluation_mask_686.tif is a low contrast image\n",
      "  io.imsave(f'submission/evaluation_mask_{id}.tif', mask)\n",
      "/tmp/ipykernel_49602/336198212.py:6: UserWarning: submission/evaluation_mask_1273.tif is a low contrast image\n",
      "  io.imsave(f'submission/evaluation_mask_{id}.tif', mask)\n",
      "/tmp/ipykernel_49602/336198212.py:6: UserWarning: submission/evaluation_mask_661.tif is a low contrast image\n",
      "  io.imsave(f'submission/evaluation_mask_{id}.tif', mask)\n",
      "/tmp/ipykernel_49602/336198212.py:6: UserWarning: submission/evaluation_mask_1867.tif is a low contrast image\n",
      "  io.imsave(f'submission/evaluation_mask_{id}.tif', mask)\n",
      "/tmp/ipykernel_49602/336198212.py:6: UserWarning: submission/evaluation_mask_1691.tif is a low contrast image\n",
      "  io.imsave(f'submission/evaluation_mask_{id}.tif', mask)\n",
      "/tmp/ipykernel_49602/336198212.py:6: UserWarning: submission/evaluation_mask_2029.tif is a low contrast image\n",
      "  io.imsave(f'submission/evaluation_mask_{id}.tif', mask)\n",
      "/tmp/ipykernel_49602/336198212.py:6: UserWarning: submission/evaluation_mask_1278.tif is a low contrast image\n",
      "  io.imsave(f'submission/evaluation_mask_{id}.tif', mask)\n",
      "/tmp/ipykernel_49602/336198212.py:6: UserWarning: submission/evaluation_mask_1451.tif is a low contrast image\n",
      "  io.imsave(f'submission/evaluation_mask_{id}.tif', mask)\n",
      "/tmp/ipykernel_49602/336198212.py:6: UserWarning: submission/evaluation_mask_1933.tif is a low contrast image\n",
      "  io.imsave(f'submission/evaluation_mask_{id}.tif', mask)\n",
      "100%|██████████| 2066/2066 [00:06<00:00, 321.60it/s]\n"
     ]
    }
   ],
   "source": [
    "from tqdm import tqdm\n",
    "\n",
    "for row in tqdm(ds.test_df.iterrows(), total=len(ds.test_df)):\n",
    "    image, id = row[1]\n",
    "    mask = generatre_mask(image)\n",
    "    io.imsave(f'submission/evaluation_mask_{id}.tif', mask)\n"
   ]
  },
  {
   "cell_type": "code",
   "execution_count": 49,
   "metadata": {},
   "outputs": [
    {
     "data": {
      "image/png": "[encoded data removed]",
      "text/plain": [
       "<Figure size 1000x500 with 10 Axes>"
      ]
     },
     "metadata": {},
     "output_type": "display_data"
    }
   ],
   "source": [
    "import matplotlib.pyplot as plt\n",
    "import rasterio as rio \n",
    "import random\n",
    "\n",
    "cols = 5\n",
    "fig = plt.figure(figsize=(cols*2, 5))\n",
    "for col in range(cols):\n",
    "\timage_path, image_id = ds.test_df.sample().iloc[0]\n",
    "\tax1 = fig.add_subplot(2, cols, col+1)\n",
    "\trgb = rio.open(image_path).read((4,3,2)) / 4000 \n",
    "\tax1.imshow(rgb.transpose(1,2,0))\n",
    "\tax1.axis('off')\n",
    "\tax1.set_title(rgb.shape)\n",
    "\tax2 = fig.add_subplot(2, cols, col+cols+1)\n",
    "\tmask_path = f'submission/evaluation_mask_{image_id}.tif'\n",
    "\tmask = rio.open(mask_path).read(1)\n",
    "\tax2.imshow(mask)\n",
    "\tax2.axis('off')\n",
    "\tax2.set_title(mask.shape)\n",
    "plt.tight_layout()\n",
    "plt.show()"
   ]
  },
  {
   "cell_type": "code",
   "execution_count": 50,
   "metadata": {},
   "outputs": [],
   "source": [
    "assert len(os.listdir('submission')) == 2066, 'number of test images must be 2066'"
   ]
  },
  {
   "cell_type": "markdown",
   "metadata": {},
   "source": [
    "I hope you like the library, we are planning to include more datasets and tasks in the future. If you find it useful please get in touch !!!"
   ]
  }
 ],
 "metadata": {
  "kernelspec": {
   "display_name": "Python 3.8.12 ('pt1.8')",
   "language": "python",
   "name": "python3"
  },
  "language_info": {
   "codemirror_mode": {
    "name": "ipython",
    "version": 3
   },
   "file_extension": ".py",
   "mimetype": "text/x-python",
   "name": "python",
   "nbconvert_exporter": "python",
   "pygments_lexer": "ipython3",
   "version": "3.10.12"
  },
  "orig_nbformat": 4,
  "vscode": {
   "interpreter": {
    "hash": "b46e3afca42a3b3be4ae018853393267b45e4917629b3d44839f883f978526cf"
   }
  }
 },
 "nbformat": 4,
 "nbformat_minor": 2
}
